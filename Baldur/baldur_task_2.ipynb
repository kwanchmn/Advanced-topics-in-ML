{
 "cells": [
  {
   "cell_type": "code",
   "execution_count": 1,
   "metadata": {},
   "outputs": [],
   "source": [
    "import pandas as pd\n",
    "import numpy as np\n",
    "import re\n",
    "import jellyfish\n",
    "from tabulate import tabulate"
   ]
  },
  {
   "cell_type": "markdown",
   "metadata": {},
   "source": [
    "# Task 2: Consultancy for opening a restaurant in the city of Philadelphia\n",
    "\n",
    "<!-- Task 2 is more open in nature as there is no specific target. We don’t expect you to analyse all aspects of the problem. You can decide yourself on which approaches, summary statistics or analysis procedures you focus on. Grading will be based on scientific correctness, originality and presentation. -->\n",
    "\n",
    "## Introduction\n",
    "\n",
    "The goal of this report is to analyse customer review data to better understand the regional market so that the business is more likely to achieve success for the opening of their restaurant in Philadelphia. In particular, we aim to answer the following questions:\n",
    "\n",
    "1. An insight on what restaurant consumers generally seem to like (for example in terms of food, service, location, etc…).\n",
    "2. An analysis of the evolution of food trends in the area over time, in terms of consumer preferences. Do the preferences evolve over time, or do they seem stable?\n",
    "3. Imagine you have to present your findings to the business owner and his investors. What advice would you give to the new business, based on your findings?\n",
    "\n",
    "Given the nature of the task, we'll focus on customer reviews which concern restaurants located in the city of Philadelphia. First, let's take a look at the data to see how we can approach this task."
   ]
  },
  {
   "cell_type": "markdown",
   "metadata": {},
   "source": [
    "## Extracting restaurant reviews in Philadelphia\n",
    "Before starting the analysis, we'll have to obtain the relevant review data. Let's start by importing the data and then inspecting their structures. It is worth mentioning that the reviews in the test data (`ATML2024_reviews_test.csv`) are NOT used in this analysis, since they don't contain the ratings by customers for the businesses which will hinder our ability to know the preferences of restaurants in Philadelphia."
   ]
  },
  {
   "cell_type": "code",
   "execution_count": 2,
   "metadata": {},
   "outputs": [
    {
     "name": "stderr",
     "output_type": "stream",
     "text": [
      "<>:4: SyntaxWarning: invalid escape sequence '\\A'\n",
      "<>:4: SyntaxWarning: invalid escape sequence '\\A'\n",
      "C:\\Users\\kenji\\AppData\\Local\\Temp\\ipykernel_36484\\1332961578.py:4: SyntaxWarning: invalid escape sequence '\\A'\n",
      "  business_df = pd.read_csv(\"datasets\\ATML2024_businesses.csv\")\n"
     ]
    }
   ],
   "source": [
    "# Importing the dataset\n",
    "reviews_df = pd.read_csv(\"datasets/ATML2024_reviews_train.csv\")\n",
    "users_df = pd.read_csv(\"datasets/ATML2024_users.csv\")\n",
    "business_df = pd.read_csv(\"datasets\\ATML2024_businesses.csv\")"
   ]
  },
  {
   "cell_type": "markdown",
   "metadata": {},
   "source": [
    "### Glimpsing at the data\n",
    "Below cells show the data types of the columns as well as the first 5 rows of each dataset. Based on the output, in order to extract reviews about restaurants in Philadelphia, we can first filter out businesses who are based in Philadelphia under the `city` column, and then look at those whose categories include restaurants. One crucial thing to note that, however, is that due to the textual nature of the data, there's no guarantee that the `city` column is free of typos or has standardised how Philadelphia is referred to. For example, the city is sometimes referred to as Philly. We shall inspect this column more in detail to ensure that we include all the restaurant reviews in Philadelphia (or at least we don't miss out too much because of typos).\n",
    "\n",
    "We can also notice that some columns aren't in the correct data types and will need to be changed if they're to be used in the following analysis. For instance, the date-related columns (`date` in `reviews_df` and `user_since` in `users_df`) are wrongly marked as `object`, and the `premium_account` column is just a string of years concatenated together which might pose some troubles if we'd like to look like the number of premium users by year. But for now let's focus on filtering restaurant reviews in Philadelphia."
   ]
  },
  {
   "cell_type": "code",
   "execution_count": 3,
   "metadata": {},
   "outputs": [
    {
     "name": "stdout",
     "output_type": "stream",
     "text": [
      "<class 'pandas.core.frame.DataFrame'>\n",
      "RangeIndex: 1050000 entries, 0 to 1049999\n",
      "Data columns (total 9 columns):\n",
      " #   Column       Non-Null Count    Dtype \n",
      "---  ------       --------------    ----- \n",
      " 0   id           1050000 non-null  int64 \n",
      " 1   user_id      1050000 non-null  object\n",
      " 2   business_id  1050000 non-null  object\n",
      " 3   rating       1050000 non-null  int64 \n",
      " 4   useful       1050000 non-null  int64 \n",
      " 5   funny        1050000 non-null  int64 \n",
      " 6   cool         1050000 non-null  int64 \n",
      " 7   text         1050000 non-null  object\n",
      " 8   date         1050000 non-null  object\n",
      "dtypes: int64(5), object(4)\n",
      "memory usage: 72.1+ MB\n",
      "None\n"
     ]
    }
   ],
   "source": [
    "print(reviews_df.info())"
   ]
  },
  {
   "cell_type": "code",
   "execution_count": 4,
   "metadata": {},
   "outputs": [
    {
     "name": "stdout",
     "output_type": "stream",
     "text": [
      "|   id | user_id                | business_id            |   rating |   useful |   funny |   cool | text                                                                                                                                                                                                                                                                                                                                                                                                                                                                                                                                                                                                                                                                                                                                                                                                                                                                                                                      | date                |\n",
      "|------+------------------------+------------------------+----------+----------+---------+--------+---------------------------------------------------------------------------------------------------------------------------------------------------------------------------------------------------------------------------------------------------------------------------------------------------------------------------------------------------------------------------------------------------------------------------------------------------------------------------------------------------------------------------------------------------------------------------------------------------------------------------------------------------------------------------------------------------------------------------------------------------------------------------------------------------------------------------------------------------------------------------------------------------------------------------+---------------------|\n",
      "|    0 | gRWsscMiClFGIh2YUjNInT | Ab1ejQzv4eJRLgAlj7tzKT |        5 |        1 |       0 |      0 | Sometimes you just want a cup of coffee, in a quiet place, with no conversation, loud music, BS, etc. and Portland Brew is it.  I would normally go to Frothy, but it's normally so freaking loud and full of  Belmont kids, Portland is now my default.  I also appreciate that most of the time, when i get my normal iced coffee with soy, that I'm given the soy to pour my preferred amount.  It's the little things, i guess.                                                                                                                                                                                                                                                                                                                                                                                                                                                                                       | 2013-12-22 23:45:01 |\n",
      "|      |                        |                        |          |          |         |        |                                                                                                                                                                                                                                                                                                                                                                                                                                                                                                                                                                                                                                                                                                                                                                                                                                                                                                                           |                     |\n",
      "|      |                        |                        |          |          |         |        | Thumbs up.                                                                                                                                                                                                                                                                                                                                                                                                                                                                                                                                                                                                                                                                                                                                                                                                                                                                                                                |                     |\n",
      "|    1 | Q3RXWVFtLo4I7MC85ELPh7 | QkRhOowLAGVZC5gn4RLkjH |        5 |        1 |       0 |      0 | Mr. Clyde stopped at our house and asked us if we had any tree removal work for him. We said that we had a huge, dying/dead palm tree and needed it removed. Clyde and Sons Tree Service was working at a neighbor's house, so we saw that they were legitimate. They came back to our house the next week with their equipment and performed the job at the time and price we negotiated. He climbed up the tree and did an excellent, careful job and removed the 4500 lb.tree which was quite close to our house. They also ground up the tree stump, which was double in size, because half of the tree was already cut down in years past, and the old stump was left next to the present tree. We felt his price was very reasonable for the extent of the job.  I would not hesitate to call Clyde and Sons Tree Service for removal of any tree and stump. Very competent, hardworking gentlemen. Thank you guys! | 2020-02-11 01:00:32 |\n",
      "|    2 | AD2z6qhmVcRJkywa1KsEFG | ADWVkizi8gKjj07mn8NiMe |        4 |        0 |       0 |      0 | One of my favorite places to grab a quick bit to eat. I have only been to locations in the airport and stadiums.                                                                                                                                                                                                                                                                                                                                                                                                                                                                                                                                                                                                                                                                                                                                                                                                          | 2014-05-28 19:05:26 |\n",
      "|      |                        |                        |          |          |         |        |                                                                                                                                                                                                                                                                                                                                                                                                                                                                                                                                                                                                                                                                                                                                                                                                                                                                                                                           |                     |\n",
      "|      |                        |                        |          |          |         |        | The crab fries are one of the most amazing things you will ever try. The wiz is litteraly liquid gold (be sure to buy an extra one).                                                                                                                                                                                                                                                                                                                                                                                                                                                                                                                                                                                                                                                                                                                                                                                      |                     |\n",
      "|      |                        |                        |          |          |         |        |                                                                                                                                                                                                                                                                                                                                                                                                                                                                                                                                                                                                                                                                                                                                                                                                                                                                                                                           |                     |\n",
      "|      |                        |                        |          |          |         |        | Beware of the other food on the menu... it is typically just greasy bar food. Stick to the crab fries and you will be golden!                                                                                                                                                                                                                                                                                                                                                                                                                                                                                                                                                                                                                                                                                                                                                                                             |                     |\n",
      "|    3 | A8HQot2boCpoPIThfHV5iy | wkk30dWY49cSiDU3FKg8FH |        5 |        0 |       1 |      0 | Wow, this place is huge! Life size aquarium and Ferris wheel.                                                                                                                                                                                                                                                                                                                                                                                                                                                                                                                                                                                                                                                                                                                                                                                                                                                             | 2014-01-20 23:42:44 |\n",
      "|      |                        |                        |          |          |         |        |                                                                                                                                                                                                                                                                                                                                                                                                                                                                                                                                                                                                                                                                                                                                                                                                                                                                                                                           |                     |\n",
      "|      |                        |                        |          |          |         |        | Also all the sports departments are individualized and the customer service is great.  Was asked three different times for help when looking at golf balls.                                                                                                                                                                                                                                                                                                                                                                                                                                                                                                                                                                                                                                                                                                                                                               |                     |\n",
      "|      |                        |                        |          |          |         |        |                                                                                                                                                                                                                                                                                                                                                                                                                                                                                                                                                                                                                                                                                                                                                                                                                                                                                                                           |                     |\n",
      "|      |                        |                        |          |          |         |        | This is the place for sports, not to mention all the guns they have.                                                                                                                                                                                                                                                                                                                                                                                                                                                                                                                                                                                                                                                                                                                                                                                                                                                      |                     |\n",
      "|    4 | Q7UzjD01YnimUOsvAEQ7JK | wUjnssL0bJIEqdqJs8M0GV |        5 |        0 |       0 |      0 | I ordered 3 large pizzas and  wings for my family. The pizzas were HUGE and cooked to perfection. Best New York style pizza I've had in a long time. The mild and parmesan garlic wings were fantastic, lightly crisp with the right amount of sauce. My only disappointment was that I thought for sure we would have a ton of left overs but it was so delicious we ate almost everything. I can't wait for my next order!                                                                                                                                                                                                                                                                                                                                                                                                                                                                                              | 2020-01-29 00:20:34 |\n"
     ]
    }
   ],
   "source": [
    "print(tabulate(reviews_df.head(), headers = \"keys\", tablefmt='orgtbl', showindex=False))"
   ]
  },
  {
   "cell_type": "code",
   "execution_count": 5,
   "metadata": {},
   "outputs": [
    {
     "name": "stdout",
     "output_type": "stream",
     "text": [
      "<class 'pandas.core.frame.DataFrame'>\n",
      "RangeIndex: 747468 entries, 0 to 747467\n",
      "Data columns (total 19 columns):\n",
      " #   Column              Non-Null Count   Dtype  \n",
      "---  ------              --------------   -----  \n",
      " 0   user_id             747468 non-null  object \n",
      " 1   name                747457 non-null  object \n",
      " 2   user_since          747468 non-null  object \n",
      " 3   useful              747468 non-null  float64\n",
      " 4   funny               747468 non-null  float64\n",
      " 5   cool                747468 non-null  float64\n",
      " 6   premium_account     57420 non-null   object \n",
      " 7   friends             747468 non-null  float64\n",
      " 8   fans                747468 non-null  float64\n",
      " 9   compliment_hot      747468 non-null  float64\n",
      " 10  compliment_more     747468 non-null  float64\n",
      " 11  compliment_profile  747468 non-null  float64\n",
      " 12  compliment_cute     747468 non-null  float64\n",
      " 13  compliment_list     747468 non-null  float64\n",
      " 14  compliment_note     747468 non-null  float64\n",
      " 15  compliment_plain    747468 non-null  float64\n",
      " 16  compliment_cool     747468 non-null  float64\n",
      " 17  compliment_funny    747468 non-null  float64\n",
      " 18  compliment_writer   747468 non-null  float64\n",
      "dtypes: float64(15), object(4)\n",
      "memory usage: 108.4+ MB\n",
      "None\n"
     ]
    }
   ],
   "source": [
    "print(users_df.info())"
   ]
  },
  {
   "cell_type": "code",
   "execution_count": 6,
   "metadata": {},
   "outputs": [
    {
     "name": "stdout",
     "output_type": "stream",
     "text": [
      "| user_id                | name   | user_since          |   useful |   funny |   cool | premium_account                                                   |   friends |   fans |   compliment_hot |   compliment_more |   compliment_profile |   compliment_cute |   compliment_list |   compliment_note |   compliment_plain |   compliment_cool |   compliment_funny |   compliment_writer |\n",
      "|------------------------+--------+---------------------+----------+---------+--------+-------------------------------------------------------------------+-----------+--------+------------------+-------------------+----------------------+-------------------+-------------------+-------------------+--------------------+-------------------+--------------------+---------------------|\n",
      "| w7IdXgBVXKjZS5UYDO8cVq | Walker | 2007-01-25 16:47:26 |     7217 |    1259 |   5994 | 2007                                                              |     14995 |    267 |              250 |                65 |                   55 |                56 |                18 |               232 |                844 |               467 |                467 |                 239 |\n",
      "| gJrXd1wa1EZ2-_UoRgW41j | Daniel | 2009-01-25 04:35:42 |    43091 |   13066 |  27281 | 2009,2010,2011,2012,2013,2014,2015,2016,2017,2018,2019,20,20,2021 |      4646 |   3138 |             1145 |               264 |                  184 |               157 |               251 |              1847 |               7054 |              3131 |               3131 |                1521 |\n",
      "| gvz2VtPxToEXh0KFQYXnW2 | Steph  | 2008-07-25 10:41:00 |     2086 |    1010 |   1003 | 2009,2010,2011,2012,2013                                          |       381 |     52 |               89 |                13 |                   10 |                17 |                 3 |                66 |                 96 |               119 |                119 |                  35 |\n",
      "| AIdshsLNMm50o7qXSAeDZS | Gwen   | 2005-11-29 04:38:33 |      512 |     330 |    299 | 2009,2010,2011                                                    |       131 |     28 |               24 |                 4 |                    1 |                 6 |                 2 |                12 |                 16 |                26 |                 26 |                  10 |\n",
      "| QGFh-RoJ4HscnnE-yMl5Ah | Karen  | 2007-01-05 19:40:59 |       29 |      15 |      7 | nan                                                               |        27 |      1 |                1 |                 1 |                    0 |                 0 |                 0 |                 1 |                  1 |                 0 |                  0 |                   0 |\n"
     ]
    }
   ],
   "source": [
    "print(tabulate(users_df.head(), headers='keys', tablefmt='orgtbl', showindex=False))"
   ]
  },
  {
   "cell_type": "code",
   "execution_count": 7,
   "metadata": {},
   "outputs": [
    {
     "name": "stdout",
     "output_type": "stream",
     "text": [
      "<class 'pandas.core.frame.DataFrame'>\n",
      "RangeIndex: 138210 entries, 0 to 138209\n",
      "Data columns (total 11 columns):\n",
      " #   Column       Non-Null Count   Dtype  \n",
      "---  ------       --------------   -----  \n",
      " 0   business_id  138210 non-null  object \n",
      " 1   name         138210 non-null  object \n",
      " 2   address      133772 non-null  object \n",
      " 3   city         138210 non-null  object \n",
      " 4   state        138210 non-null  object \n",
      " 5   postal_code  138145 non-null  object \n",
      " 6   latitude     138210 non-null  float64\n",
      " 7   longitude    138210 non-null  float64\n",
      " 8   attributes   126589 non-null  object \n",
      " 9   categories   138136 non-null  object \n",
      " 10  hours        117852 non-null  object \n",
      "dtypes: float64(2), object(9)\n",
      "memory usage: 11.6+ MB\n",
      "None\n"
     ]
    }
   ],
   "source": [
    "print(business_df.info())"
   ]
  },
  {
   "cell_type": "code",
   "execution_count": 8,
   "metadata": {},
   "outputs": [
    {
     "name": "stdout",
     "output_type": "stream",
     "text": [
      "| business_id            | name                     | address                         | city         | state   |   postal_code |   latitude |   longitude | attributes                                                                                                                                                                                                                                                                                                                                                                                                                                                                                                                                                                                                                                 | categories                                                                         | hours                                                                                                                                                              |\n",
      "|------------------------+--------------------------+---------------------------------+--------------+---------+---------------+------------+-------------+--------------------------------------------------------------------------------------------------------------------------------------------------------------------------------------------------------------------------------------------------------------------------------------------------------------------------------------------------------------------------------------------------------------------------------------------------------------------------------------------------------------------------------------------------------------------------------------------------------------------------------------------+------------------------------------------------------------------------------------+--------------------------------------------------------------------------------------------------------------------------------------------------------------------|\n",
      "| wPYArZCy3AETdTjB-x3fpm | The UPS Store            | 87 Grasso Plaza Shopping Center | Affton       | MO      |         63123 |    38.5511 |    -90.3357 | {'BusinessAcceptsCreditCards': 'True'}                                                                                                                                                                                                                                                                                                                                                                                                                                                                                                                                                                                                     | Shipping Centers, Local Services, Notaries, Mailbox Centers, Printing Services     | {'Monday': '0:0-0:0', 'Tuesday': '8:0-18:30', 'Wednesday': '8:0-18:30', 'Thursday': '8:0-18:30', 'Friday': '8:0-18:30', 'Saturday': '8:0-14:0'}                    |\n",
      "| QQNIWVsnAT_iKiKriWrFUt | Target                   | 5255 E Broadway Blvd            | Tucson       | AZ      |         85711 |    32.2232 |   -110.88   | {'BikeParking': 'True', 'BusinessAcceptsCreditCards': 'True', 'RestaurantsPriceRange2': '2', 'CoatCheck': 'False', 'RestaurantsTakeOut': 'False', 'RestaurantsDelivery': 'False', 'Caters': 'False', 'WiFi': \"u'no'\", 'BusinessParking': \"{'garage': False, 'street': False, 'validated': False, 'lot': True, 'valet': False}\", 'WheelchairAccessible': 'True', 'HappyHour': 'False', 'OutdoorSeating': 'False', 'HasTV': 'False', 'RestaurantsReservations': 'False', 'DogsAllowed': 'False', 'ByAppointmentOnly': 'False'}                                                                                                               | Department Stores, Shopping, Fashion, Home & Garden, Electronics, Furniture Stores | {'Monday': '8:0-22:0', 'Tuesday': '8:0-22:0', 'Wednesday': '8:0-22:0', 'Thursday': '8:0-22:0', 'Friday': '8:0-23:0', 'Saturday': '8:0-23:0', 'Sunday': '8:0-22:0'} |\n",
      "| wm9eoqjytVbC7dQcM4WSTM | St Honore Pastries       | 935 Race St                     | Philadelphia | PA      |         19107 |    39.9555 |    -75.1556 | {'RestaurantsDelivery': 'False', 'OutdoorSeating': 'False', 'BusinessAcceptsCreditCards': 'False', 'BusinessParking': \"{'garage': False, 'street': True, 'validated': False, 'lot': False, 'valet': False}\", 'BikeParking': 'True', 'RestaurantsPriceRange2': '1', 'RestaurantsTakeOut': 'True', 'ByAppointmentOnly': 'False', 'WiFi': \"u'free'\", 'Alcohol': \"u'none'\", 'Caters': 'True'}                                                                                                                                                                                                                                                  | Restaurants, Food, Bubble Tea, Coffee & Tea, Bakeries                              | {'Monday': '7:0-20:0', 'Tuesday': '7:0-20:0', 'Wednesday': '7:0-20:0', 'Thursday': '7:0-20:0', 'Friday': '7:0-21:0', 'Saturday': '7:0-21:0', 'Sunday': '7:0-21:0'} |\n",
      "| AfVDXGIKBUE0EdTw_6cMWm | Perkiomen Valley Brewery | 101 Walnut St                   | Green Lane   | PA      |         18054 |    40.3382 |    -75.4717 | {'BusinessAcceptsCreditCards': 'True', 'WheelchairAccessible': 'True', 'RestaurantsTakeOut': 'True', 'BusinessParking': \"{'garage': None, 'street': None, 'validated': None, 'lot': True, 'valet': False}\", 'BikeParking': 'True', 'GoodForKids': 'True', 'Caters': 'False'}                                                                                                                                                                                                                                                                                                                                                               | Brewpubs, Breweries, Food                                                          | {'Wednesday': '14:0-22:0', 'Thursday': '16:0-22:0', 'Friday': '12:0-22:0', 'Saturday': '12:0-22:0', 'Sunday': '12:0-18:0'}                                         |\n",
      "| QjvanH64QUduo6E-8F33FC | Sonic Drive-In           | 615 S Main St                   | Ashland City | TN      |         37015 |    36.2696 |    -87.0589 | {'BusinessParking': 'None', 'BusinessAcceptsCreditCards': 'True', 'RestaurantsAttire': \"u'casual'\", 'OutdoorSeating': 'True', 'RestaurantsReservations': 'False', 'Caters': 'False', 'RestaurantsTakeOut': 'True', 'Alcohol': \"u'none'\", 'Ambience': 'None', 'GoodForKids': 'True', 'RestaurantsPriceRange2': '1', 'ByAppointmentOnly': 'False', 'CoatCheck': 'False', 'DogsAllowed': 'False', 'RestaurantsTableService': 'False', 'RestaurantsGoodForGroups': 'True', 'RestaurantsDelivery': 'True', 'WiFi': \"u'no'\", 'WheelchairAccessible': 'True', 'HasTV': 'True', 'HappyHour': 'False', 'DriveThru': 'True', 'BikeParking': 'False'} | Burgers, Fast Food, Sandwiches, Food, Ice Cream & Frozen Yogurt, Restaurants       | {'Monday': '0:0-0:0', 'Tuesday': '6:0-22:0', 'Wednesday': '6:0-22:0', 'Thursday': '6:0-22:0', 'Friday': '9:0-0:0', 'Saturday': '9:0-22:0', 'Sunday': '8:0-22:0'}   |\n"
     ]
    }
   ],
   "source": [
    "print(tabulate(business_df.head(), headers = \"keys\", tablefmt='orgtbl', showindex = False))"
   ]
  },
  {
   "cell_type": "markdown",
   "metadata": {},
   "source": [
    "### Is it Philadelphia, or ...?\n",
    "We now take a closer look to how Philadelphia might be referred to in the dataset. From the regex search result below, even just by using the full name of the city, there already exist 6 ways to which the city is referred. Moreover, the below list doesn't include typos nor or nicknames of the city. Therefore, we'll need to normalise the different ways Philadelphia is called in the `business_df` dataset, and we need a way to deal with a non-exhaustive list of alias of Philadelphia. "
   ]
  },
  {
   "cell_type": "code",
   "execution_count": 9,
   "metadata": {},
   "outputs": [
    {
     "name": "stdout",
     "output_type": "stream",
     "text": [
      "['philadelphia' 'southwest philadelphia' 'philadelphia pa'\n",
      " 'west philadelphia' 'philadelphia (northeast philly)' 'philadelphia ']\n"
     ]
    }
   ],
   "source": [
    "# Checking how Philadelphia might be referred to\n",
    "business_pa = business_df.query(\"state == 'PA'\")  # Since Philadelphia is located in the state of Pennsylvania\n",
    "business_pa.loc[:, 'city'] = business_pa['city'].str.lower()\n",
    "unique_cities = business_pa['city'].unique()  # Avoid case-sensitivity issues in string matching later\n",
    "philly_matches = [re.search(r\"philadelphia\", city) is not None for city in unique_cities]\n",
    "print(unique_cities[philly_matches])"
   ]
  },
  {
   "cell_type": "markdown",
   "metadata": {},
   "source": [
    "To compare similarities between some strings and \"Philadelphia\", we can use the Jaro similarity which ranges from 0 (totally dissimilar) to 1 (exact match) between two strings. Mathematically, Jaro similarity $sim_j$ between two strings $s_1 \\; \\text{and} \\; s_2$ is defined as below (a more detailed discussion of the Jaro similairty and its variants can be found [here](https://en.wikipedia.org/wiki/Jaro%E2%80%93Winkler_distance)):\n",
    "\n",
    "\\begin{align}\n",
    "sim_j = \n",
    "\\begin{cases}\n",
    "0 \\quad &\\text{if} \\; m = 0 \\\\\n",
    "\\frac{1}{3}(\\frac{m}{|s_1|} + \\frac{m}{|s_2|} + \\frac{m-t}{m}) \\; &\\text{otherwise}\n",
    "\\end{cases},\n",
    "\\end{align}\n",
    "\n",
    "where $|s_i|$ is the length of the string $s_i$, $m$ is the number of matching characters (characters in $s_1 \\; \\text{and} \\; s_2$ are matching only if they're at most $[\\frac{\\text{max}(|s_1|, |s_2|)}{2}] - 1$ characters apart), and $t$ is the number of transpositions (i.e. swapping the positions of two characters) which is calculated as number of matching characters not being in the correct order divided by two.\n",
    "\n",
    "Admittedly, there exist other string distance measures such as the Levenshtein distance as briefly mentioned in class. Nevertheless, we will use Jaro similarity because its output always ranges from 0 to 1 no matter the lengths of the two strings under comparison which makes thresholding easier. Moreover, Jaro similarity satisfies the mathematical definition of a distance metric, whereas its variant Jaro-Winkler similarity violates the triangle inequality."
   ]
  },
  {
   "cell_type": "markdown",
   "metadata": {},
   "source": [
    "We now move on to testing how many cities will be replaced by \"philadelphia\" depending on the threshold of Jaro similarity score. The python package `jellyfish` has already implemented a function for calculating Jaro similarity between two strings, and we shall define a function for replacing city names in the dataset based on this. Note that we've converted the unique city names in the dataset to be in lowercases since the implementation in `jellyfish` is case-sensitive, i.e. same character in different cases will not be counted as matching characters."
   ]
  },
  {
   "cell_type": "code",
   "execution_count": 10,
   "metadata": {},
   "outputs": [],
   "source": [
    "# Replacing the city name to Philadelphia\n",
    "def replace_city_name(old_name, threshold, new_name = \"philadelphia\", return_score = False):\n",
    "    \n",
    "    jaro_score = jellyfish.jaro_similarity(old_name, new_name)\n",
    "    name = old_name\n",
    "    \n",
    "    # Replace old name with new one if similarity score is above or equal to the threshold.\n",
    "    if jaro_score >= threshold:\n",
    "        name = new_name\n",
    "    \n",
    "    # Optional return of the Jaro score\n",
    "    if return_score == True:\n",
    "        return name, jaro_score\n",
    "    return name"
   ]
  },
  {
   "cell_type": "markdown",
   "metadata": {},
   "source": [
    "Starting with an arbitrary threshold of 0.6, we notice that matches with scores lower than 0.7 are wrongly replaced with 'philadelphia' while in reality they are genuinely referring to another locale in the state of Pennsylvania. We therefore should not include these matches in our final dataset. On the other hand, the algorithm manages to capture the 11 different alias of Philadelphia and replace them accordingly once the Jaro score is at least 0.7. Indeed, all the matching results seem to be about the city of Philadelphia, whether it be typos or nicknames of the city."
   ]
  },
  {
   "cell_type": "code",
   "execution_count": 11,
   "metadata": {},
   "outputs": [
    {
     "name": "stdout",
     "output_type": "stream",
     "text": [
      "philadelphia -> philadelphia, score: 1.00\n",
      "philadelphia  -> philadelphia, score: 0.97\n",
      "philiadelphia -> philadelphia, score: 0.97\n",
      "philadephia -> philadelphia, score: 0.97\n",
      "philadelphila  -> philadelphia, score: 0.95\n",
      "philadelphia pa -> philadelphia, score: 0.93\n",
      "philiidelphia -> philadelphia, score: 0.83\n",
      "west philadelphia -> philadelphia, score: 0.82\n",
      "phila -> philadelphia, score: 0.81\n",
      "philadelphia (northeast philly) -> philadelphia, score: 0.80\n",
      "philly -> philadelphia, score: 0.75\n",
      "southwest philadelphia -> philadelphia, score: 0.71\n",
      "phonixville -> philadelphia, score: 0.69\n",
      "upland -> philadelphia, score: 0.67\n",
      "pineville -> philadelphia, score: 0.67\n",
      "landsdale -> philadelphia, score: 0.67\n",
      "silverdale -> philadelphia, score: 0.64\n",
      "holland -> philadelphia, score: 0.64\n",
      "red hill -> philadelphia, score: 0.64\n",
      "hatfield -> philadelphia, score: 0.64\n",
      "ivyland -> philadelphia, score: 0.63\n",
      "paoli -> philadelphia, score: 0.63\n",
      "pipersville -> philadelphia, score: 0.63\n",
      "springfield -> philadelphia, score: 0.63\n",
      "lansdale -> philadelphia, score: 0.61\n",
      "parkside -> philadelphia, score: 0.61\n",
      "lederach -> philadelphia, score: 0.61\n",
      "landsale -> philadelphia, score: 0.61\n",
      "pennsylvania -> philadelphia, score: 0.61\n",
      "rushland -> philadelphia, score: 0.61\n",
      "hilltown -> philadelphia, score: 0.61\n",
      "gladwyne -> philadelphia, score: 0.61\n"
     ]
    }
   ],
   "source": [
    "# Checking what city names get replaced with a given threshold for the Jaro similarity score\n",
    "cities_replaced = []\n",
    "city_scores = []\n",
    "threshold = 0.6\n",
    "\n",
    "for city in unique_cities:\n",
    "    old_name, score = replace_city_name(city, threshold, return_score=True)\n",
    "    cities_replaced.append(old_name)\n",
    "    city_scores.append(score)\n",
    "\n",
    "# Sorting the replacement from the highest Jaro score to the lowest\n",
    "score_sort_idx = np.argsort(city_scores)[::-1]\n",
    "cities_replaced = np.array(cities_replaced)\n",
    "city_scores = np.array(city_scores)\n",
    "\n",
    "# Printing the city names before and after replacement\n",
    "for old_name, city, score in zip(unique_cities[score_sort_idx], cities_replaced[score_sort_idx], city_scores[score_sort_idx]):\n",
    "    if score > threshold:\n",
    "        print(f\"{old_name} -> {city}, score: {score:.2f}\")"
   ]
  },
  {
   "cell_type": "markdown",
   "metadata": {},
   "source": [
    "Let's use 0.7 as a threshold for the Jaro score to replace different alias of Philadelphia for filtering the business dataset later. It seems that the algorithm worked correctly judging from the fact that the `assert` statement did not return any errors. "
   ]
  },
  {
   "cell_type": "code",
   "execution_count": 12,
   "metadata": {},
   "outputs": [],
   "source": [
    "# Replacing the alias of Philadelphia in the dataset\n",
    "old_unique_cities_len = len(unique_cities)\n",
    "business_pa.loc[:, \"city\"] = business_pa['city'].apply(replace_city_name, threshold = 0.7)\n",
    "new_unique_cities_len = len(business_pa['city'].unique())\n",
    "\n",
    "# Checking we've normalised Philadelphia correctly\n",
    "assert old_unique_cities_len - new_unique_cities_len == 11  # There were 11 alias for Philadelphia in the original business dataset"
   ]
  },
  {
   "cell_type": "markdown",
   "metadata": {},
   "source": [
    "### Pre-processing business categories \n",
    "We shall also pre-process the `categories` column to ensure that we do not miss out restaurant reviews due to typos."
   ]
  },
  {
   "cell_type": "code",
   "execution_count": 13,
   "metadata": {},
   "outputs": [
    {
     "ename": "TypeError",
     "evalue": "'float' object is not iterable",
     "output_type": "error",
     "traceback": [
      "\u001b[1;31m---------------------------------------------------------------------------\u001b[0m",
      "\u001b[1;31mTypeError\u001b[0m                                 Traceback (most recent call last)",
      "Cell \u001b[1;32mIn[13], line 6\u001b[0m\n\u001b[0;32m      3\u001b[0m unique_categories \u001b[38;5;241m=\u001b[39m \u001b[38;5;28mset\u001b[39m()\n\u001b[0;32m      5\u001b[0m \u001b[38;5;28;01mfor\u001b[39;00m cat_list \u001b[38;5;129;01min\u001b[39;00m categories_split:\n\u001b[1;32m----> 6\u001b[0m \u001b[43m    \u001b[49m\u001b[38;5;28;43;01mfor\u001b[39;49;00m\u001b[43m \u001b[49m\u001b[43mcat\u001b[49m\u001b[43m \u001b[49m\u001b[38;5;129;43;01min\u001b[39;49;00m\u001b[43m \u001b[49m\u001b[43mcat_list\u001b[49m\u001b[43m:\u001b[49m\n\u001b[0;32m      7\u001b[0m \u001b[43m        \u001b[49m\u001b[43munique_categories\u001b[49m\u001b[38;5;241;43m.\u001b[39;49m\u001b[43madd\u001b[49m\u001b[43m(\u001b[49m\u001b[43mcat\u001b[49m\u001b[43m)\u001b[49m\n\u001b[0;32m      9\u001b[0m \u001b[38;5;28mprint\u001b[39m(unique_categories)\n",
      "\u001b[1;31mTypeError\u001b[0m: 'float' object is not iterable"
     ]
    }
   ],
   "source": [
    "categories_split = business_df[\"categories\"].str.split(r\",\\s+\", regex=True)\n",
    "\n",
    "unique_categories = set()\n",
    "\n",
    "for cat_list in categories_split:\n",
    "    for cat in cat_list:\n",
    "        unique_categories.add(cat)\n",
    "        \n",
    "print(unique_categories)\n",
    "# unique_categories = np.unique(categories_split.values.flatten()).astype(\"U32\")\n",
    "# resto_mathces = [re.search(r\"Rest.*\", cat) is not None for cat in unique_categories]\n",
    "# unique_categories[resto_mathces]"
   ]
  },
  {
   "cell_type": "markdown",
   "metadata": {},
   "source": [
    "### Combining everything together"
   ]
  }
 ],
 "metadata": {
  "kernelspec": {
   "display_name": "base",
   "language": "python",
   "name": "python3"
  },
  "language_info": {
   "codemirror_mode": {
    "name": "ipython",
    "version": 3
   },
   "file_extension": ".py",
   "mimetype": "text/x-python",
   "name": "python",
   "nbconvert_exporter": "python",
   "pygments_lexer": "ipython3",
   "version": "3.12.3"
  }
 },
 "nbformat": 4,
 "nbformat_minor": 2
}
