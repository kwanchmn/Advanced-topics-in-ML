{
 "cells": [
  {
   "cell_type": "markdown",
   "metadata": {},
   "source": [
    "# Task 2: Analysis of the regional market of restaurants in the city of Philadelphia\n",
    "\n",
    "Team name: La Team\n",
    "\n",
    "Team members: ALOUF Fares, KWAN Baldur Chin Man, MBELOSON Riana Valera, WANG Dingjia\n",
    "\n",
    "<!-- Task 2 is more open in nature as there is no specific target. We don’t expect you to analyse all aspects of the problem. You can decide yourself on which approaches, summary statistics or analysis procedures you focus on. Grading will be based on scientific correctness, originality and presentation. -->\n",
    "\n",
    "## Introduction\n",
    "\n",
    "The goal of this report is to analyse customer review data to better understand the regional market so that the business owner is more likely to achieve success for the opening of his restaurant in Philadelphia. In particular, we aim to investigate the following questions:\n",
    "\n",
    "1. An insight on what restaurant consumers generally seem to like (for example in terms of food, service, location, etc…).\n",
    "2. An analysis of the evolution of food trends in the area over time, in terms of consumer preferences. Do the preferences evolve over time, or do they seem stable?\n",
    "3. What advice would you give to the new business, based on the findings above?\n",
    "\n",
    "Given the nature of the task, we will focus on analysing customer reviews about restaurants located in Philadelphia."
   ]
  },
  {
   "cell_type": "code",
   "execution_count": 1,
   "metadata": {},
   "outputs": [],
   "source": [
    "# Importing packages\n",
    "import pandas as pd\n",
    "import numpy as np\n",
    "import plotly.express as px\n",
    "import plotly.graph_objects as go\n",
    "import os\n",
    "from tabulate import tabulate\n",
    "import warnings\n",
    "warnings.filterwarnings(\"ignore\")\n",
    "from task2_funcs import *"
   ]
  },
  {
   "cell_type": "markdown",
   "metadata": {},
   "source": [
    "## Extracting restaurant reviews in Philadelphia\n",
    "Before starting the analysis, we will have to obtain the relevant review data. Let's start by importing the data and then inspecting their structures. It is worth mentioning that the reviews in the test data (`ATML2024_reviews_test.csv`) are NOT used in this analysis, since they don't contain the ratings by customers for the businesses which will hinder our ability to know the preferences of restaurants in Philadelphia."
   ]
  },
  {
   "cell_type": "code",
   "execution_count": 2,
   "metadata": {},
   "outputs": [],
   "source": [
    "# Importing the dataset\n",
    "reviews_df = pd.read_csv(\"datasets/ATML2024_reviews_train.csv\")\n",
    "users_df = pd.read_csv(\"datasets/ATML2024_users.csv\")\n",
    "business_df = pd.read_csv(\"datasets/ATML2024_businesses.csv\")"
   ]
  },
  {
   "cell_type": "markdown",
   "metadata": {},
   "source": [
    "### Glimpsing at the data\n",
    "Below cells show the data types of the columns as well as the first 5 rows of each dataset. Based on the output, in order to extract reviews about restaurants in Philadelphia, we can first filter out businesses who are based in Philadelphia under the `city` column, and then look at those whose categories include restaurants. One crucial thing to note that, however, is that due to the textual nature of the data, there's no guarantee that the `city` column is free of typos or has standardised how Philadelphia is referred to. For example, the city is sometimes referred to as Philly. We shall inspect this column more in detail to ensure that we include the restaurant reviews in different regions of Philadelphia.\n",
    "\n",
    "We can also notice that some columns aren't in the correct data types and will need to be changed if they're to be used in the following analysis. For instance, the date-related columns (`date` in `reviews_df` and `user_since` in `users_df`) are wrongly marked as `object`, and the `premium_account` column is just a string of years concatenated together which might pose some troubles if we'd like to look like the number of premium users by year. But for now let's focus on filtering restaurant reviews in Philadelphia."
   ]
  },
  {
   "cell_type": "code",
   "execution_count": 3,
   "metadata": {},
   "outputs": [
    {
     "name": "stdout",
     "output_type": "stream",
     "text": [
      "<class 'pandas.core.frame.DataFrame'>\n",
      "RangeIndex: 1050000 entries, 0 to 1049999\n",
      "Data columns (total 9 columns):\n",
      " #   Column       Non-Null Count    Dtype \n",
      "---  ------       --------------    ----- \n",
      " 0   id           1050000 non-null  int64 \n",
      " 1   user_id      1050000 non-null  object\n",
      " 2   business_id  1050000 non-null  object\n",
      " 3   rating       1050000 non-null  int64 \n",
      " 4   useful       1050000 non-null  int64 \n",
      " 5   funny        1050000 non-null  int64 \n",
      " 6   cool         1050000 non-null  int64 \n",
      " 7   text         1050000 non-null  object\n",
      " 8   date         1050000 non-null  object\n",
      "dtypes: int64(5), object(4)\n",
      "memory usage: 72.1+ MB\n",
      "None\n"
     ]
    }
   ],
   "source": [
    "print(reviews_df.info())"
   ]
  },
  {
   "cell_type": "code",
   "execution_count": 4,
   "metadata": {},
   "outputs": [
    {
     "name": "stdout",
     "output_type": "stream",
     "text": [
      "|   id | user_id                | business_id            |   rating |   useful |   funny |   cool | text                                                                                                                                                                                                                                                                                                                                                                                                                                                                                                                                                                                                                                                                                                                                                                                                                                                                                                                      | date                |\n",
      "|------+------------------------+------------------------+----------+----------+---------+--------+---------------------------------------------------------------------------------------------------------------------------------------------------------------------------------------------------------------------------------------------------------------------------------------------------------------------------------------------------------------------------------------------------------------------------------------------------------------------------------------------------------------------------------------------------------------------------------------------------------------------------------------------------------------------------------------------------------------------------------------------------------------------------------------------------------------------------------------------------------------------------------------------------------------------------+---------------------|\n",
      "|    0 | gRWsscMiClFGIh2YUjNInT | Ab1ejQzv4eJRLgAlj7tzKT |        5 |        1 |       0 |      0 | Sometimes you just want a cup of coffee, in a quiet place, with no conversation, loud music, BS, etc. and Portland Brew is it.  I would normally go to Frothy, but it's normally so freaking loud and full of  Belmont kids, Portland is now my default.  I also appreciate that most of the time, when i get my normal iced coffee with soy, that I'm given the soy to pour my preferred amount.  It's the little things, i guess.                                                                                                                                                                                                                                                                                                                                                                                                                                                                                       | 2013-12-22 23:45:01 |\n",
      "|      |                        |                        |          |          |         |        |                                                                                                                                                                                                                                                                                                                                                                                                                                                                                                                                                                                                                                                                                                                                                                                                                                                                                                                           |                     |\n",
      "|      |                        |                        |          |          |         |        | Thumbs up.                                                                                                                                                                                                                                                                                                                                                                                                                                                                                                                                                                                                                                                                                                                                                                                                                                                                                                                |                     |\n",
      "|    1 | Q3RXWVFtLo4I7MC85ELPh7 | QkRhOowLAGVZC5gn4RLkjH |        5 |        1 |       0 |      0 | Mr. Clyde stopped at our house and asked us if we had any tree removal work for him. We said that we had a huge, dying/dead palm tree and needed it removed. Clyde and Sons Tree Service was working at a neighbor's house, so we saw that they were legitimate. They came back to our house the next week with their equipment and performed the job at the time and price we negotiated. He climbed up the tree and did an excellent, careful job and removed the 4500 lb.tree which was quite close to our house. They also ground up the tree stump, which was double in size, because half of the tree was already cut down in years past, and the old stump was left next to the present tree. We felt his price was very reasonable for the extent of the job.  I would not hesitate to call Clyde and Sons Tree Service for removal of any tree and stump. Very competent, hardworking gentlemen. Thank you guys! | 2020-02-11 01:00:32 |\n",
      "|    2 | AD2z6qhmVcRJkywa1KsEFG | ADWVkizi8gKjj07mn8NiMe |        4 |        0 |       0 |      0 | One of my favorite places to grab a quick bit to eat. I have only been to locations in the airport and stadiums.                                                                                                                                                                                                                                                                                                                                                                                                                                                                                                                                                                                                                                                                                                                                                                                                          | 2014-05-28 19:05:26 |\n",
      "|      |                        |                        |          |          |         |        |                                                                                                                                                                                                                                                                                                                                                                                                                                                                                                                                                                                                                                                                                                                                                                                                                                                                                                                           |                     |\n",
      "|      |                        |                        |          |          |         |        | The crab fries are one of the most amazing things you will ever try. The wiz is litteraly liquid gold (be sure to buy an extra one).                                                                                                                                                                                                                                                                                                                                                                                                                                                                                                                                                                                                                                                                                                                                                                                      |                     |\n",
      "|      |                        |                        |          |          |         |        |                                                                                                                                                                                                                                                                                                                                                                                                                                                                                                                                                                                                                                                                                                                                                                                                                                                                                                                           |                     |\n",
      "|      |                        |                        |          |          |         |        | Beware of the other food on the menu... it is typically just greasy bar food. Stick to the crab fries and you will be golden!                                                                                                                                                                                                                                                                                                                                                                                                                                                                                                                                                                                                                                                                                                                                                                                             |                     |\n",
      "|    3 | A8HQot2boCpoPIThfHV5iy | wkk30dWY49cSiDU3FKg8FH |        5 |        0 |       1 |      0 | Wow, this place is huge! Life size aquarium and Ferris wheel.                                                                                                                                                                                                                                                                                                                                                                                                                                                                                                                                                                                                                                                                                                                                                                                                                                                             | 2014-01-20 23:42:44 |\n",
      "|      |                        |                        |          |          |         |        |                                                                                                                                                                                                                                                                                                                                                                                                                                                                                                                                                                                                                                                                                                                                                                                                                                                                                                                           |                     |\n",
      "|      |                        |                        |          |          |         |        | Also all the sports departments are individualized and the customer service is great.  Was asked three different times for help when looking at golf balls.                                                                                                                                                                                                                                                                                                                                                                                                                                                                                                                                                                                                                                                                                                                                                               |                     |\n",
      "|      |                        |                        |          |          |         |        |                                                                                                                                                                                                                                                                                                                                                                                                                                                                                                                                                                                                                                                                                                                                                                                                                                                                                                                           |                     |\n",
      "|      |                        |                        |          |          |         |        | This is the place for sports, not to mention all the guns they have.                                                                                                                                                                                                                                                                                                                                                                                                                                                                                                                                                                                                                                                                                                                                                                                                                                                      |                     |\n",
      "|    4 | Q7UzjD01YnimUOsvAEQ7JK | wUjnssL0bJIEqdqJs8M0GV |        5 |        0 |       0 |      0 | I ordered 3 large pizzas and  wings for my family. The pizzas were HUGE and cooked to perfection. Best New York style pizza I've had in a long time. The mild and parmesan garlic wings were fantastic, lightly crisp with the right amount of sauce. My only disappointment was that I thought for sure we would have a ton of left overs but it was so delicious we ate almost everything. I can't wait for my next order!                                                                                                                                                                                                                                                                                                                                                                                                                                                                                              | 2020-01-29 00:20:34 |\n"
     ]
    }
   ],
   "source": [
    "print(tabulate(reviews_df.head(), headers = \"keys\", tablefmt='orgtbl', showindex=False))"
   ]
  },
  {
   "cell_type": "code",
   "execution_count": 5,
   "metadata": {},
   "outputs": [
    {
     "name": "stdout",
     "output_type": "stream",
     "text": [
      "<class 'pandas.core.frame.DataFrame'>\n",
      "RangeIndex: 747468 entries, 0 to 747467\n",
      "Data columns (total 19 columns):\n",
      " #   Column              Non-Null Count   Dtype  \n",
      "---  ------              --------------   -----  \n",
      " 0   user_id             747468 non-null  object \n",
      " 1   name                747457 non-null  object \n",
      " 2   user_since          747468 non-null  object \n",
      " 3   useful              747468 non-null  float64\n",
      " 4   funny               747468 non-null  float64\n",
      " 5   cool                747468 non-null  float64\n",
      " 6   premium_account     57420 non-null   object \n",
      " 7   friends             747468 non-null  float64\n",
      " 8   fans                747468 non-null  float64\n",
      " 9   compliment_hot      747468 non-null  float64\n",
      " 10  compliment_more     747468 non-null  float64\n",
      " 11  compliment_profile  747468 non-null  float64\n",
      " 12  compliment_cute     747468 non-null  float64\n",
      " 13  compliment_list     747468 non-null  float64\n",
      " 14  compliment_note     747468 non-null  float64\n",
      " 15  compliment_plain    747468 non-null  float64\n",
      " 16  compliment_cool     747468 non-null  float64\n",
      " 17  compliment_funny    747468 non-null  float64\n",
      " 18  compliment_writer   747468 non-null  float64\n",
      "dtypes: float64(15), object(4)\n",
      "memory usage: 108.4+ MB\n",
      "None\n"
     ]
    }
   ],
   "source": [
    "print(users_df.info())"
   ]
  },
  {
   "cell_type": "code",
   "execution_count": 6,
   "metadata": {},
   "outputs": [
    {
     "name": "stdout",
     "output_type": "stream",
     "text": [
      "| user_id                | name   | user_since          |   useful |   funny |   cool | premium_account                                                   |   friends |   fans |   compliment_hot |   compliment_more |   compliment_profile |   compliment_cute |   compliment_list |   compliment_note |   compliment_plain |   compliment_cool |   compliment_funny |   compliment_writer |\n",
      "|------------------------+--------+---------------------+----------+---------+--------+-------------------------------------------------------------------+-----------+--------+------------------+-------------------+----------------------+-------------------+-------------------+-------------------+--------------------+-------------------+--------------------+---------------------|\n",
      "| w7IdXgBVXKjZS5UYDO8cVq | Walker | 2007-01-25 16:47:26 |     7217 |    1259 |   5994 | 2007                                                              |     14995 |    267 |              250 |                65 |                   55 |                56 |                18 |               232 |                844 |               467 |                467 |                 239 |\n",
      "| gJrXd1wa1EZ2-_UoRgW41j | Daniel | 2009-01-25 04:35:42 |    43091 |   13066 |  27281 | 2009,2010,2011,2012,2013,2014,2015,2016,2017,2018,2019,20,20,2021 |      4646 |   3138 |             1145 |               264 |                  184 |               157 |               251 |              1847 |               7054 |              3131 |               3131 |                1521 |\n",
      "| gvz2VtPxToEXh0KFQYXnW2 | Steph  | 2008-07-25 10:41:00 |     2086 |    1010 |   1003 | 2009,2010,2011,2012,2013                                          |       381 |     52 |               89 |                13 |                   10 |                17 |                 3 |                66 |                 96 |               119 |                119 |                  35 |\n",
      "| AIdshsLNMm50o7qXSAeDZS | Gwen   | 2005-11-29 04:38:33 |      512 |     330 |    299 | 2009,2010,2011                                                    |       131 |     28 |               24 |                 4 |                    1 |                 6 |                 2 |                12 |                 16 |                26 |                 26 |                  10 |\n",
      "| QGFh-RoJ4HscnnE-yMl5Ah | Karen  | 2007-01-05 19:40:59 |       29 |      15 |      7 | nan                                                               |        27 |      1 |                1 |                 1 |                    0 |                 0 |                 0 |                 1 |                  1 |                 0 |                  0 |                   0 |\n"
     ]
    }
   ],
   "source": [
    "print(tabulate(users_df.head(), headers='keys', tablefmt='orgtbl', showindex=False))"
   ]
  },
  {
   "cell_type": "code",
   "execution_count": 7,
   "metadata": {},
   "outputs": [
    {
     "name": "stdout",
     "output_type": "stream",
     "text": [
      "<class 'pandas.core.frame.DataFrame'>\n",
      "RangeIndex: 138210 entries, 0 to 138209\n",
      "Data columns (total 11 columns):\n",
      " #   Column       Non-Null Count   Dtype  \n",
      "---  ------       --------------   -----  \n",
      " 0   business_id  138210 non-null  object \n",
      " 1   name         138210 non-null  object \n",
      " 2   address      133772 non-null  object \n",
      " 3   city         138210 non-null  object \n",
      " 4   state        138210 non-null  object \n",
      " 5   postal_code  138145 non-null  object \n",
      " 6   latitude     138210 non-null  float64\n",
      " 7   longitude    138210 non-null  float64\n",
      " 8   attributes   126589 non-null  object \n",
      " 9   categories   138136 non-null  object \n",
      " 10  hours        117852 non-null  object \n",
      "dtypes: float64(2), object(9)\n",
      "memory usage: 11.6+ MB\n",
      "None\n"
     ]
    }
   ],
   "source": [
    "print(business_df.info())"
   ]
  },
  {
   "cell_type": "code",
   "execution_count": 8,
   "metadata": {},
   "outputs": [
    {
     "name": "stdout",
     "output_type": "stream",
     "text": [
      "| business_id            | name                     | address                         | city         | state   |   postal_code |   latitude |   longitude | attributes                                                                                                                                                                                                                                                                                                                                                                                                                                                                                                                                                                                                                                 | categories                                                                         | hours                                                                                                                                                              |\n",
      "|------------------------+--------------------------+---------------------------------+--------------+---------+---------------+------------+-------------+--------------------------------------------------------------------------------------------------------------------------------------------------------------------------------------------------------------------------------------------------------------------------------------------------------------------------------------------------------------------------------------------------------------------------------------------------------------------------------------------------------------------------------------------------------------------------------------------------------------------------------------------+------------------------------------------------------------------------------------+--------------------------------------------------------------------------------------------------------------------------------------------------------------------|\n",
      "| wPYArZCy3AETdTjB-x3fpm | The UPS Store            | 87 Grasso Plaza Shopping Center | Affton       | MO      |         63123 |    38.5511 |    -90.3357 | {'BusinessAcceptsCreditCards': 'True'}                                                                                                                                                                                                                                                                                                                                                                                                                                                                                                                                                                                                     | Shipping Centers, Local Services, Notaries, Mailbox Centers, Printing Services     | {'Monday': '0:0-0:0', 'Tuesday': '8:0-18:30', 'Wednesday': '8:0-18:30', 'Thursday': '8:0-18:30', 'Friday': '8:0-18:30', 'Saturday': '8:0-14:0'}                    |\n",
      "| QQNIWVsnAT_iKiKriWrFUt | Target                   | 5255 E Broadway Blvd            | Tucson       | AZ      |         85711 |    32.2232 |   -110.88   | {'BikeParking': 'True', 'BusinessAcceptsCreditCards': 'True', 'RestaurantsPriceRange2': '2', 'CoatCheck': 'False', 'RestaurantsTakeOut': 'False', 'RestaurantsDelivery': 'False', 'Caters': 'False', 'WiFi': \"u'no'\", 'BusinessParking': \"{'garage': False, 'street': False, 'validated': False, 'lot': True, 'valet': False}\", 'WheelchairAccessible': 'True', 'HappyHour': 'False', 'OutdoorSeating': 'False', 'HasTV': 'False', 'RestaurantsReservations': 'False', 'DogsAllowed': 'False', 'ByAppointmentOnly': 'False'}                                                                                                               | Department Stores, Shopping, Fashion, Home & Garden, Electronics, Furniture Stores | {'Monday': '8:0-22:0', 'Tuesday': '8:0-22:0', 'Wednesday': '8:0-22:0', 'Thursday': '8:0-22:0', 'Friday': '8:0-23:0', 'Saturday': '8:0-23:0', 'Sunday': '8:0-22:0'} |\n",
      "| wm9eoqjytVbC7dQcM4WSTM | St Honore Pastries       | 935 Race St                     | Philadelphia | PA      |         19107 |    39.9555 |    -75.1556 | {'RestaurantsDelivery': 'False', 'OutdoorSeating': 'False', 'BusinessAcceptsCreditCards': 'False', 'BusinessParking': \"{'garage': False, 'street': True, 'validated': False, 'lot': False, 'valet': False}\", 'BikeParking': 'True', 'RestaurantsPriceRange2': '1', 'RestaurantsTakeOut': 'True', 'ByAppointmentOnly': 'False', 'WiFi': \"u'free'\", 'Alcohol': \"u'none'\", 'Caters': 'True'}                                                                                                                                                                                                                                                  | Restaurants, Food, Bubble Tea, Coffee & Tea, Bakeries                              | {'Monday': '7:0-20:0', 'Tuesday': '7:0-20:0', 'Wednesday': '7:0-20:0', 'Thursday': '7:0-20:0', 'Friday': '7:0-21:0', 'Saturday': '7:0-21:0', 'Sunday': '7:0-21:0'} |\n",
      "| AfVDXGIKBUE0EdTw_6cMWm | Perkiomen Valley Brewery | 101 Walnut St                   | Green Lane   | PA      |         18054 |    40.3382 |    -75.4717 | {'BusinessAcceptsCreditCards': 'True', 'WheelchairAccessible': 'True', 'RestaurantsTakeOut': 'True', 'BusinessParking': \"{'garage': None, 'street': None, 'validated': None, 'lot': True, 'valet': False}\", 'BikeParking': 'True', 'GoodForKids': 'True', 'Caters': 'False'}                                                                                                                                                                                                                                                                                                                                                               | Brewpubs, Breweries, Food                                                          | {'Wednesday': '14:0-22:0', 'Thursday': '16:0-22:0', 'Friday': '12:0-22:0', 'Saturday': '12:0-22:0', 'Sunday': '12:0-18:0'}                                         |\n",
      "| QjvanH64QUduo6E-8F33FC | Sonic Drive-In           | 615 S Main St                   | Ashland City | TN      |         37015 |    36.2696 |    -87.0589 | {'BusinessParking': 'None', 'BusinessAcceptsCreditCards': 'True', 'RestaurantsAttire': \"u'casual'\", 'OutdoorSeating': 'True', 'RestaurantsReservations': 'False', 'Caters': 'False', 'RestaurantsTakeOut': 'True', 'Alcohol': \"u'none'\", 'Ambience': 'None', 'GoodForKids': 'True', 'RestaurantsPriceRange2': '1', 'ByAppointmentOnly': 'False', 'CoatCheck': 'False', 'DogsAllowed': 'False', 'RestaurantsTableService': 'False', 'RestaurantsGoodForGroups': 'True', 'RestaurantsDelivery': 'True', 'WiFi': \"u'no'\", 'WheelchairAccessible': 'True', 'HasTV': 'True', 'HappyHour': 'False', 'DriveThru': 'True', 'BikeParking': 'False'} | Burgers, Fast Food, Sandwiches, Food, Ice Cream & Frozen Yogurt, Restaurants       | {'Monday': '0:0-0:0', 'Tuesday': '6:0-22:0', 'Wednesday': '6:0-22:0', 'Thursday': '6:0-22:0', 'Friday': '9:0-0:0', 'Saturday': '9:0-22:0', 'Sunday': '8:0-22:0'}   |\n"
     ]
    }
   ],
   "source": [
    "print(tabulate(business_df.head(), headers = \"keys\", tablefmt='orgtbl', showindex = False))"
   ]
  },
  {
   "cell_type": "markdown",
   "metadata": {},
   "source": [
    "### Extracting businesses located in Philadelphia\n",
    "This [Wikipedia page](https://en.wikipedia.org/wiki/List_of_Philadelphia_neighborhoods) shows that many names of neighbourhoods and districts in the city do not necessarily contain \"Philadelphia\" (and the code output below shows that the city names are not free of typos...), so simply matching the `city` column with literal strings will probably miss out a considerable amount of businesses. Therefore, we will resort to using ZIP codes to extract businesses located in the city of Philadelphia (credits to [ZipDataMaps](https://www.zipdatamaps.com/en/us/zip-maps/pa/city/borders/philadelphia-zip-code-map) for the full list of ZIP codes used in Philly). "
   ]
  },
  {
   "cell_type": "code",
   "execution_count": 9,
   "metadata": {},
   "outputs": [
    {
     "name": "stdout",
     "output_type": "stream",
     "text": [
      "['Philadelphia' 'Philadephia' 'PHILA' 'Southwest Philadelphia' 'Phila'\n",
      " 'Philadelphia PA' 'Philadelphila ' 'PHILADELPHIA' 'West Philadelphia'\n",
      " 'philadelphia' 'Philiidelphia' 'Philly' 'Philadelphia (Northeast Philly)'\n",
      " 'Philadelphia ' 'Philiadelphia']\n"
     ]
    }
   ],
   "source": [
    "# Checking how Philadelphia might be referred to\n",
    "import re\n",
    "unique_cities = business_df['city'].unique()  \n",
    "philly_matches = [re.search(r\"phi.*\", city, flags=re.IGNORECASE) is not None for city in unique_cities]\n",
    "print(unique_cities[philly_matches])  # Typos..."
   ]
  },
  {
   "cell_type": "code",
   "execution_count": 10,
   "metadata": {},
   "outputs": [
    {
     "data": {
      "text/html": [
       "<div>\n",
       "<style scoped>\n",
       "    .dataframe tbody tr th:only-of-type {\n",
       "        vertical-align: middle;\n",
       "    }\n",
       "\n",
       "    .dataframe tbody tr th {\n",
       "        vertical-align: top;\n",
       "    }\n",
       "\n",
       "    .dataframe thead th {\n",
       "        text-align: right;\n",
       "    }\n",
       "</style>\n",
       "<table border=\"1\" class=\"dataframe\">\n",
       "  <thead>\n",
       "    <tr style=\"text-align: right;\">\n",
       "      <th></th>\n",
       "      <th>business_id</th>\n",
       "      <th>name</th>\n",
       "      <th>address</th>\n",
       "      <th>city</th>\n",
       "      <th>state</th>\n",
       "      <th>postal_code</th>\n",
       "      <th>latitude</th>\n",
       "      <th>longitude</th>\n",
       "      <th>attributes</th>\n",
       "      <th>categories</th>\n",
       "      <th>hours</th>\n",
       "    </tr>\n",
       "  </thead>\n",
       "  <tbody>\n",
       "    <tr>\n",
       "      <th>2</th>\n",
       "      <td>wm9eoqjytVbC7dQcM4WSTM</td>\n",
       "      <td>St Honore Pastries</td>\n",
       "      <td>935 Race St</td>\n",
       "      <td>Philadelphia</td>\n",
       "      <td>PA</td>\n",
       "      <td>19107</td>\n",
       "      <td>39.955505</td>\n",
       "      <td>-75.155564</td>\n",
       "      <td>{'RestaurantsDelivery': 'False', 'OutdoorSeati...</td>\n",
       "      <td>Restaurants, Food, Bubble Tea, Coffee &amp; Tea, B...</td>\n",
       "      <td>{'Monday': '7:0-20:0', 'Tuesday': '7:0-20:0', ...</td>\n",
       "    </tr>\n",
       "    <tr>\n",
       "      <th>13</th>\n",
       "      <td>AeNmR681lBdMyqu8eqTTUM</td>\n",
       "      <td>Tuna Bar</td>\n",
       "      <td>205 Race St</td>\n",
       "      <td>Philadelphia</td>\n",
       "      <td>PA</td>\n",
       "      <td>19106</td>\n",
       "      <td>39.953949</td>\n",
       "      <td>-75.143226</td>\n",
       "      <td>{'RestaurantsReservations': 'True', 'Restauran...</td>\n",
       "      <td>Sushi Bars, Restaurants, Japanese</td>\n",
       "      <td>{'Tuesday': '13:30-22:0', 'Wednesday': '13:30-...</td>\n",
       "    </tr>\n",
       "    <tr>\n",
       "      <th>17</th>\n",
       "      <td>gCT6F7gqR50heBwQJcaeOR</td>\n",
       "      <td>BAP</td>\n",
       "      <td>1224 South St</td>\n",
       "      <td>Philadelphia</td>\n",
       "      <td>PA</td>\n",
       "      <td>19147</td>\n",
       "      <td>39.943223</td>\n",
       "      <td>-75.162568</td>\n",
       "      <td>{'NoiseLevel': \"u'quiet'\", 'GoodForMeal': \"{'d...</td>\n",
       "      <td>Korean, Restaurants</td>\n",
       "      <td>{'Monday': '11:30-20:30', 'Tuesday': '11:30-20...</td>\n",
       "    </tr>\n",
       "    <tr>\n",
       "      <th>26</th>\n",
       "      <td>g7r5IhhJGdpyFyoWB27NdQ</td>\n",
       "      <td>Bar One</td>\n",
       "      <td>767 S 9th St</td>\n",
       "      <td>Philadelphia</td>\n",
       "      <td>PA</td>\n",
       "      <td>19147</td>\n",
       "      <td>39.939825</td>\n",
       "      <td>-75.157447</td>\n",
       "      <td>{'Smoking': \"u'no'\", 'NoiseLevel': \"u'average'...</td>\n",
       "      <td>Cocktail Bars, Bars, Italian, Nightlife, Resta...</td>\n",
       "      <td>{'Monday': '16:0-0:0', 'Tuesday': '16:0-0:0', ...</td>\n",
       "    </tr>\n",
       "    <tr>\n",
       "      <th>29</th>\n",
       "      <td>Q_dELKJOieBlN9M42zobjM</td>\n",
       "      <td>DeSandro on Main</td>\n",
       "      <td>4105 Main St</td>\n",
       "      <td>Philadelphia</td>\n",
       "      <td>PA</td>\n",
       "      <td>19127</td>\n",
       "      <td>40.022466</td>\n",
       "      <td>-75.218314</td>\n",
       "      <td>{'RestaurantsReservations': 'False', 'Caters':...</td>\n",
       "      <td>Pizza, Restaurants, Salad, Soup</td>\n",
       "      <td>{'Tuesday': '17:0-21:30', 'Wednesday': '17:0-1...</td>\n",
       "    </tr>\n",
       "  </tbody>\n",
       "</table>\n",
       "</div>"
      ],
      "text/plain": [
       "               business_id                name        address          city  \\\n",
       "2   wm9eoqjytVbC7dQcM4WSTM  St Honore Pastries    935 Race St  Philadelphia   \n",
       "13  AeNmR681lBdMyqu8eqTTUM            Tuna Bar    205 Race St  Philadelphia   \n",
       "17  gCT6F7gqR50heBwQJcaeOR                 BAP  1224 South St  Philadelphia   \n",
       "26  g7r5IhhJGdpyFyoWB27NdQ             Bar One   767 S 9th St  Philadelphia   \n",
       "29  Q_dELKJOieBlN9M42zobjM    DeSandro on Main   4105 Main St  Philadelphia   \n",
       "\n",
       "   state postal_code   latitude  longitude  \\\n",
       "2     PA       19107  39.955505 -75.155564   \n",
       "13    PA       19106  39.953949 -75.143226   \n",
       "17    PA       19147  39.943223 -75.162568   \n",
       "26    PA       19147  39.939825 -75.157447   \n",
       "29    PA       19127  40.022466 -75.218314   \n",
       "\n",
       "                                           attributes  \\\n",
       "2   {'RestaurantsDelivery': 'False', 'OutdoorSeati...   \n",
       "13  {'RestaurantsReservations': 'True', 'Restauran...   \n",
       "17  {'NoiseLevel': \"u'quiet'\", 'GoodForMeal': \"{'d...   \n",
       "26  {'Smoking': \"u'no'\", 'NoiseLevel': \"u'average'...   \n",
       "29  {'RestaurantsReservations': 'False', 'Caters':...   \n",
       "\n",
       "                                           categories  \\\n",
       "2   Restaurants, Food, Bubble Tea, Coffee & Tea, B...   \n",
       "13                  Sushi Bars, Restaurants, Japanese   \n",
       "17                                Korean, Restaurants   \n",
       "26  Cocktail Bars, Bars, Italian, Nightlife, Resta...   \n",
       "29                    Pizza, Restaurants, Salad, Soup   \n",
       "\n",
       "                                                hours  \n",
       "2   {'Monday': '7:0-20:0', 'Tuesday': '7:0-20:0', ...  \n",
       "13  {'Tuesday': '13:30-22:0', 'Wednesday': '13:30-...  \n",
       "17  {'Monday': '11:30-20:30', 'Tuesday': '11:30-20...  \n",
       "26  {'Monday': '16:0-0:0', 'Tuesday': '16:0-0:0', ...  \n",
       "29  {'Tuesday': '17:0-21:30', 'Wednesday': '17:0-1...  "
      ]
     },
     "execution_count": 10,
     "metadata": {},
     "output_type": "execute_result"
    }
   ],
   "source": [
    "# Getting the zip codes of Philadelphia to filter businesses in the city\n",
    "zip_code_philly = pd.read_excel(\"datasets/PHILADELPHIA.xlsx\")\n",
    "zip_code_philly[\"ZIP Code 5\"] = zip_code_philly[\"ZIP Code 5\"].astype('string')\n",
    "\n",
    "# Getting businesses in Philly based on zip codes\n",
    "zip_code_list = zip_code_philly[\"ZIP Code 5\"].to_list()\n",
    "business_philly = business_df.query(\"postal_code in @zip_code_list\")\n",
    "business_philly.head()"
   ]
  },
  {
   "cell_type": "markdown",
   "metadata": {},
   "source": [
    "### Checking Restaurant-related Businesses\n",
    "We shall also pre-process the `categories` column to ensure that we do not miss out restaurant-related reviews due to typos. Using regex to look for words containing part of the spelling of restaurants (namely \"Rest\"), we see that more than one result were returned, of which 3 contain the term 'restaurant.' "
   ]
  },
  {
   "cell_type": "code",
   "execution_count": 11,
   "metadata": {},
   "outputs": [
    {
     "data": {
      "text/plain": [
       "array(['pop-up restaurants', 'damage restoration', 'art restoration',\n",
       "       'rest stops', 'restaurants', 'restaurant supplies'], dtype='<U36')"
      ]
     },
     "execution_count": 11,
     "metadata": {},
     "output_type": "execute_result"
    }
   ],
   "source": [
    "from itertools import chain\n",
    "\n",
    "# Getting all the distinct business categories \n",
    "business_df.loc[:, \"categories\"] = business_df[\"categories\"].str.lower()\n",
    "categories_split = chain(*list(business_df[\"categories\"].dropna().str.split(r\",\\s+\", regex=True)))\n",
    "unique_categories = list(set(categories_split))\n",
    "\n",
    "# Checking which categories might contain part of the spelling of the word restaurant\n",
    "resto_matches = [re.search(r\"Rest.*\", cat, flags = re.IGNORECASE) is not None for cat in unique_categories]\n",
    "np.array(unique_categories)[resto_matches]"
   ]
  },
  {
   "cell_type": "markdown",
   "metadata": {},
   "source": [
    "Unlike the case of city names where we can resort to zip codes as reference, we need another way to avoid missing out restaurant-related businesses in the dataset. Here, we can use Jaro similarity to check whether restaurants are referred to with similar ways. Mathematically, Jaro similarity $sim_j$ between two strings $s_1 \\; \\text{and} \\; s_2$ is defined as below (a more detailed discussion of the Jaro similairty and its variants can be found [here](https://en.wikipedia.org/wiki/Jaro%E2%80%93Winkler_distance)):\n",
    "\n",
    "\\begin{align}\n",
    "sim_j = \n",
    "\\begin{cases}\n",
    "0 \\quad &\\text{if} \\; m = 0 \\\\\n",
    "\\frac{1}{3}(\\frac{m}{|s_1|} + \\frac{m}{|s_2|} + \\frac{m-t}{m}) \\; &\\text{otherwise}\n",
    "\\end{cases},\n",
    "\\end{align}\n",
    "\n",
    "where $|s_i|$ is the length of the string $s_i$, $m$ is the number of matching characters (characters in $s_1 \\; \\text{and} \\; s_2$ are matching only if they're at most $[\\frac{\\text{max}(|s_1|, |s_2|)}{2}] - 1$ characters apart), and $t$ is the number of transpositions (i.e. swapping the positions of two characters) which is calculated as number of matching characters not being in the correct order divided by two.\n",
    "\n",
    "Admittedly, there exist other string distance measures such as the Levenshtein distance as briefly mentioned in class. Nevertheless, we will use Jaro similarity because its output always ranges from 0 to 1 no matter the lengths of the two strings under comparison which makes thresholding easier. Moreover, Jaro similarity satisfies the mathematical definition of a distance metric, whereas its variant Jaro-Winkler similarity violates the triangle inequality.\n",
    "\n",
    "If we use a threshold of 0.7 for the Jaro score to match the categories, only the top 3 results have their spellings containing the word 'restaurant.' Indeed, only the categories of *restaurants* and *pop-up restaurants* will be relevant for helping the business owners understand the customer preferences of the regional market, as `restaurant supplies` is more about the operation of a restaurant per se rather than on the customer's side. Therefore, we can just extract businesses whose categories are under `restaurants` or `pop-up restaurants` in `business_df`. "
   ]
  },
  {
   "cell_type": "code",
   "execution_count": 12,
   "metadata": {},
   "outputs": [
    {
     "name": "stdout",
     "output_type": "stream",
     "text": [
      "restaurants -> restaurants, score: 1.00\n",
      "restaurant supplies -> restaurants, score: 0.86\n",
      "pop-up restaurants -> restaurants, score: 0.78\n",
      "resorts -> restaurants, score: 0.75\n",
      "austrian -> restaurants, score: 0.74\n",
      "arts & crafts -> restaurants, score: 0.74\n",
      "art space rentals -> restaurants, score: 0.73\n",
      "party bus rentals -> restaurants, score: 0.73\n",
      "vegetarian -> restaurants, score: 0.72\n",
      "rest stops -> restaurants, score: 0.72\n",
      "aerial tours -> restaurants, score: 0.71\n",
      "real estate -> restaurants, score: 0.71\n",
      "race tracks -> restaurants, score: 0.71\n",
      "southern -> restaurants, score: 0.71\n",
      "shutters -> restaurants, score: 0.71\n",
      "fire departments -> restaurants, score: 0.70\n",
      "attraction farms -> restaurants, score: 0.70\n"
     ]
    }
   ],
   "source": [
    "# Checking how many categories can be considered as variants of restaurant-related businesses\n",
    "jaro_replace_names(unique_categories, \"restaurants\", threshold = 0.7)"
   ]
  },
  {
   "cell_type": "code",
   "execution_count": 13,
   "metadata": {},
   "outputs": [
    {
     "data": {
      "text/html": [
       "<div>\n",
       "<style scoped>\n",
       "    .dataframe tbody tr th:only-of-type {\n",
       "        vertical-align: middle;\n",
       "    }\n",
       "\n",
       "    .dataframe tbody tr th {\n",
       "        vertical-align: top;\n",
       "    }\n",
       "\n",
       "    .dataframe thead th {\n",
       "        text-align: right;\n",
       "    }\n",
       "</style>\n",
       "<table border=\"1\" class=\"dataframe\">\n",
       "  <thead>\n",
       "    <tr style=\"text-align: right;\">\n",
       "      <th></th>\n",
       "      <th>business_id</th>\n",
       "      <th>name</th>\n",
       "      <th>address</th>\n",
       "      <th>city</th>\n",
       "      <th>state</th>\n",
       "      <th>postal_code</th>\n",
       "      <th>latitude</th>\n",
       "      <th>longitude</th>\n",
       "      <th>attributes</th>\n",
       "      <th>categories</th>\n",
       "      <th>hours</th>\n",
       "    </tr>\n",
       "  </thead>\n",
       "  <tbody>\n",
       "    <tr>\n",
       "      <th>2</th>\n",
       "      <td>wm9eoqjytVbC7dQcM4WSTM</td>\n",
       "      <td>St Honore Pastries</td>\n",
       "      <td>935 Race St</td>\n",
       "      <td>Philadelphia</td>\n",
       "      <td>PA</td>\n",
       "      <td>19107</td>\n",
       "      <td>39.955505</td>\n",
       "      <td>-75.155564</td>\n",
       "      <td>{'RestaurantsDelivery': 'False', 'OutdoorSeati...</td>\n",
       "      <td>restaurants, food, bubble tea, coffee &amp; tea, b...</td>\n",
       "      <td>{'Monday': '7:0-20:0', 'Tuesday': '7:0-20:0', ...</td>\n",
       "    </tr>\n",
       "    <tr>\n",
       "      <th>13</th>\n",
       "      <td>AeNmR681lBdMyqu8eqTTUM</td>\n",
       "      <td>Tuna Bar</td>\n",
       "      <td>205 Race St</td>\n",
       "      <td>Philadelphia</td>\n",
       "      <td>PA</td>\n",
       "      <td>19106</td>\n",
       "      <td>39.953949</td>\n",
       "      <td>-75.143226</td>\n",
       "      <td>{'RestaurantsReservations': 'True', 'Restauran...</td>\n",
       "      <td>sushi bars, restaurants, japanese</td>\n",
       "      <td>{'Tuesday': '13:30-22:0', 'Wednesday': '13:30-...</td>\n",
       "    </tr>\n",
       "    <tr>\n",
       "      <th>17</th>\n",
       "      <td>gCT6F7gqR50heBwQJcaeOR</td>\n",
       "      <td>BAP</td>\n",
       "      <td>1224 South St</td>\n",
       "      <td>Philadelphia</td>\n",
       "      <td>PA</td>\n",
       "      <td>19147</td>\n",
       "      <td>39.943223</td>\n",
       "      <td>-75.162568</td>\n",
       "      <td>{'NoiseLevel': \"u'quiet'\", 'GoodForMeal': \"{'d...</td>\n",
       "      <td>korean, restaurants</td>\n",
       "      <td>{'Monday': '11:30-20:30', 'Tuesday': '11:30-20...</td>\n",
       "    </tr>\n",
       "    <tr>\n",
       "      <th>26</th>\n",
       "      <td>g7r5IhhJGdpyFyoWB27NdQ</td>\n",
       "      <td>Bar One</td>\n",
       "      <td>767 S 9th St</td>\n",
       "      <td>Philadelphia</td>\n",
       "      <td>PA</td>\n",
       "      <td>19147</td>\n",
       "      <td>39.939825</td>\n",
       "      <td>-75.157447</td>\n",
       "      <td>{'Smoking': \"u'no'\", 'NoiseLevel': \"u'average'...</td>\n",
       "      <td>cocktail bars, bars, italian, nightlife, resta...</td>\n",
       "      <td>{'Monday': '16:0-0:0', 'Tuesday': '16:0-0:0', ...</td>\n",
       "    </tr>\n",
       "    <tr>\n",
       "      <th>29</th>\n",
       "      <td>Q_dELKJOieBlN9M42zobjM</td>\n",
       "      <td>DeSandro on Main</td>\n",
       "      <td>4105 Main St</td>\n",
       "      <td>Philadelphia</td>\n",
       "      <td>PA</td>\n",
       "      <td>19127</td>\n",
       "      <td>40.022466</td>\n",
       "      <td>-75.218314</td>\n",
       "      <td>{'RestaurantsReservations': 'False', 'Caters':...</td>\n",
       "      <td>pizza, restaurants, salad, soup</td>\n",
       "      <td>{'Tuesday': '17:0-21:30', 'Wednesday': '17:0-1...</td>\n",
       "    </tr>\n",
       "  </tbody>\n",
       "</table>\n",
       "</div>"
      ],
      "text/plain": [
       "               business_id                name        address          city  \\\n",
       "2   wm9eoqjytVbC7dQcM4WSTM  St Honore Pastries    935 Race St  Philadelphia   \n",
       "13  AeNmR681lBdMyqu8eqTTUM            Tuna Bar    205 Race St  Philadelphia   \n",
       "17  gCT6F7gqR50heBwQJcaeOR                 BAP  1224 South St  Philadelphia   \n",
       "26  g7r5IhhJGdpyFyoWB27NdQ             Bar One   767 S 9th St  Philadelphia   \n",
       "29  Q_dELKJOieBlN9M42zobjM    DeSandro on Main   4105 Main St  Philadelphia   \n",
       "\n",
       "   state postal_code   latitude  longitude  \\\n",
       "2     PA       19107  39.955505 -75.155564   \n",
       "13    PA       19106  39.953949 -75.143226   \n",
       "17    PA       19147  39.943223 -75.162568   \n",
       "26    PA       19147  39.939825 -75.157447   \n",
       "29    PA       19127  40.022466 -75.218314   \n",
       "\n",
       "                                           attributes  \\\n",
       "2   {'RestaurantsDelivery': 'False', 'OutdoorSeati...   \n",
       "13  {'RestaurantsReservations': 'True', 'Restauran...   \n",
       "17  {'NoiseLevel': \"u'quiet'\", 'GoodForMeal': \"{'d...   \n",
       "26  {'Smoking': \"u'no'\", 'NoiseLevel': \"u'average'...   \n",
       "29  {'RestaurantsReservations': 'False', 'Caters':...   \n",
       "\n",
       "                                           categories  \\\n",
       "2   restaurants, food, bubble tea, coffee & tea, b...   \n",
       "13                  sushi bars, restaurants, japanese   \n",
       "17                                korean, restaurants   \n",
       "26  cocktail bars, bars, italian, nightlife, resta...   \n",
       "29                    pizza, restaurants, salad, soup   \n",
       "\n",
       "                                                hours  \n",
       "2   {'Monday': '7:0-20:0', 'Tuesday': '7:0-20:0', ...  \n",
       "13  {'Tuesday': '13:30-22:0', 'Wednesday': '13:30-...  \n",
       "17  {'Monday': '11:30-20:30', 'Tuesday': '11:30-20...  \n",
       "26  {'Monday': '16:0-0:0', 'Tuesday': '16:0-0:0', ...  \n",
       "29  {'Tuesday': '17:0-21:30', 'Wednesday': '17:0-1...  "
      ]
     },
     "execution_count": 13,
     "metadata": {},
     "output_type": "execute_result"
    }
   ],
   "source": [
    "# Getting only restaurant businesses in Philadelphia\n",
    "business_philly.loc[:, 'categories'] = business_philly['categories'].str.lower()\n",
    "restaurant_masks = business_philly[\"categories\"].str.contains(\"restaurants\") | business_philly[\"categories\"].str.contains(\"pop-up restaurants\")\n",
    "resto_philly = business_philly.loc[restaurant_masks, :]\n",
    "resto_philly.head()"
   ]
  },
  {
   "cell_type": "markdown",
   "metadata": {},
   "source": [
    "### Getting restaurant review data in Philly\n",
    "We can finally merge the `reviews_df` with `resto_philly` to extract reviews (particularly the ratings) of restaurants located in the city of Philadelphia while also combining the restaurants' information into one table."
   ]
  },
  {
   "cell_type": "code",
   "execution_count": 14,
   "metadata": {},
   "outputs": [],
   "source": [
    "# Finally, joining user reviews with restaurant information\n",
    "resto_reviews_philly = reviews_df.merge(resto_philly, how = \"inner\", on = \"business_id\")\n",
    "\n",
    "# Dropping redundant columns\n",
    "resto_reviews_philly.drop(columns=['id', 'state'], inplace=True)"
   ]
  },
  {
   "cell_type": "markdown",
   "metadata": {},
   "source": [
    "We now inspect the restaurant review data to see if more cleaning needs to be done. The data type of the `date` column is defined as `object` which will hinder our ability to analyse changes in customer preferences over time later, so let's convert it into `datetime` type object. By looking at the first few rows of the data, we also notice that the `attributes` column is in json format. It will be good to convert them into something easier to use for subsequent analysis if needed, namely by removing the symbols specific to json format with regex.\n",
    "\n",
    "Missing values are also present in some columns of our data, and this is relatively the most serious for `hours`. Given the primary task is to make sense of customer preferences for restaurants in Philadelphia, opening hours are likely to be less informative than food style and service for deciding the optimal business strategy to open a new restaurant in the city. Accordingly, we will simply drop the `hours` column first, and then check how many rows will be omitted if we only include rows which contain non-null values in all the other columns."
   ]
  },
  {
   "cell_type": "code",
   "execution_count": 15,
   "metadata": {},
   "outputs": [
    {
     "name": "stdout",
     "output_type": "stream",
     "text": [
      "<class 'pandas.core.frame.DataFrame'>\n",
      "RangeIndex: 103290 entries, 0 to 103289\n",
      "Data columns (total 17 columns):\n",
      " #   Column       Non-Null Count   Dtype  \n",
      "---  ------       --------------   -----  \n",
      " 0   user_id      103290 non-null  object \n",
      " 1   business_id  103290 non-null  object \n",
      " 2   rating       103290 non-null  int64  \n",
      " 3   useful       103290 non-null  int64  \n",
      " 4   funny        103290 non-null  int64  \n",
      " 5   cool         103290 non-null  int64  \n",
      " 6   text         103290 non-null  object \n",
      " 7   date         103290 non-null  object \n",
      " 8   name         103290 non-null  object \n",
      " 9   address      103162 non-null  object \n",
      " 10  city         103290 non-null  object \n",
      " 11  postal_code  103290 non-null  object \n",
      " 12  latitude     103290 non-null  float64\n",
      " 13  longitude    103290 non-null  float64\n",
      " 14  attributes   103227 non-null  object \n",
      " 15  categories   103290 non-null  object \n",
      " 16  hours        99578 non-null   object \n",
      "dtypes: float64(2), int64(4), object(11)\n",
      "memory usage: 13.4+ MB\n",
      "None\n"
     ]
    },
    {
     "data": {
      "text/html": [
       "<div>\n",
       "<style scoped>\n",
       "    .dataframe tbody tr th:only-of-type {\n",
       "        vertical-align: middle;\n",
       "    }\n",
       "\n",
       "    .dataframe tbody tr th {\n",
       "        vertical-align: top;\n",
       "    }\n",
       "\n",
       "    .dataframe thead th {\n",
       "        text-align: right;\n",
       "    }\n",
       "</style>\n",
       "<table border=\"1\" class=\"dataframe\">\n",
       "  <thead>\n",
       "    <tr style=\"text-align: right;\">\n",
       "      <th></th>\n",
       "      <th>user_id</th>\n",
       "      <th>business_id</th>\n",
       "      <th>rating</th>\n",
       "      <th>useful</th>\n",
       "      <th>funny</th>\n",
       "      <th>cool</th>\n",
       "      <th>text</th>\n",
       "      <th>date</th>\n",
       "      <th>name</th>\n",
       "      <th>address</th>\n",
       "      <th>city</th>\n",
       "      <th>postal_code</th>\n",
       "      <th>latitude</th>\n",
       "      <th>longitude</th>\n",
       "      <th>attributes</th>\n",
       "      <th>categories</th>\n",
       "      <th>hours</th>\n",
       "    </tr>\n",
       "  </thead>\n",
       "  <tbody>\n",
       "    <tr>\n",
       "      <th>0</th>\n",
       "      <td>AD2z6qhmVcRJkywa1KsEFG</td>\n",
       "      <td>ADWVkizi8gKjj07mn8NiMe</td>\n",
       "      <td>4</td>\n",
       "      <td>0</td>\n",
       "      <td>0</td>\n",
       "      <td>0</td>\n",
       "      <td>One of my favorite places to grab a quick bit ...</td>\n",
       "      <td>2014-05-28 19:05:26</td>\n",
       "      <td>Chickie's &amp; Pete's</td>\n",
       "      <td>1526 Packer Ave</td>\n",
       "      <td>Philadelphia</td>\n",
       "      <td>19145</td>\n",
       "      <td>39.911417</td>\n",
       "      <td>-75.174511</td>\n",
       "      <td>{'GoodForKids': 'True', 'Corkage': 'False', 'H...</td>\n",
       "      <td>seafood, nightlife, sports bars, bars, restaur...</td>\n",
       "      <td>{'Monday': '11:0-2:0', 'Tuesday': '11:0-2:0', ...</td>\n",
       "    </tr>\n",
       "    <tr>\n",
       "      <th>1</th>\n",
       "      <td>AS4QOGiUvdbD-ad_SP9cz3</td>\n",
       "      <td>Q1YEMPTZ4GWqzgnMBuaDp1</td>\n",
       "      <td>5</td>\n",
       "      <td>0</td>\n",
       "      <td>0</td>\n",
       "      <td>0</td>\n",
       "      <td>I love this place! There's nothing like authen...</td>\n",
       "      <td>2013-05-28 16:52:23</td>\n",
       "      <td>Guacamole Mex-Grill</td>\n",
       "      <td>4612 Woodland Ave</td>\n",
       "      <td>Philadelphia</td>\n",
       "      <td>19143</td>\n",
       "      <td>39.943971</td>\n",
       "      <td>-75.209914</td>\n",
       "      <td>{'Caters': 'False', 'RestaurantsAttire': \"u'ca...</td>\n",
       "      <td>mexican, restaurants, specialty food, ethnic f...</td>\n",
       "      <td>{'Monday': '11:0-20:0', 'Tuesday': '11:0-20:0'...</td>\n",
       "    </tr>\n",
       "    <tr>\n",
       "      <th>2</th>\n",
       "      <td>gtRX7g45kDNE6yB4edac7X</td>\n",
       "      <td>gvQz67eUW_EkC1yQC3n0qb</td>\n",
       "      <td>4</td>\n",
       "      <td>2</td>\n",
       "      <td>0</td>\n",
       "      <td>0</td>\n",
       "      <td>Situated on Race street away from the main str...</td>\n",
       "      <td>2014-12-21 15:03:49</td>\n",
       "      <td>Shiao Lan Kung</td>\n",
       "      <td>930 Race St</td>\n",
       "      <td>Philadelphia</td>\n",
       "      <td>19107</td>\n",
       "      <td>39.955247</td>\n",
       "      <td>-75.155409</td>\n",
       "      <td>{'RestaurantsGoodForGroups': 'True', 'Restaura...</td>\n",
       "      <td>noodles, seafood, restaurants, chinese</td>\n",
       "      <td>{'Tuesday': '15:0-2:0', 'Wednesday': '15:0-2:0...</td>\n",
       "    </tr>\n",
       "    <tr>\n",
       "      <th>3</th>\n",
       "      <td>gHupK3rVLqp_blY_NN9DDM</td>\n",
       "      <td>wbS9zhxRwOxyBd1fWJ5FRI</td>\n",
       "      <td>5</td>\n",
       "      <td>0</td>\n",
       "      <td>0</td>\n",
       "      <td>0</td>\n",
       "      <td>Outstanding venue, great band, and the food is...</td>\n",
       "      <td>2015-10-17 01:07:26</td>\n",
       "      <td>Amari's Restaurant</td>\n",
       "      <td>5037 Baltimore Ave</td>\n",
       "      <td>Philadelphia</td>\n",
       "      <td>19143</td>\n",
       "      <td>39.947985</td>\n",
       "      <td>-75.224744</td>\n",
       "      <td>{'HasTV': 'True', 'RestaurantsAttire': \"u'casu...</td>\n",
       "      <td>soul food, american (new), breakfast &amp; brunch,...</td>\n",
       "      <td>{'Wednesday': '7:30-15:0', 'Thursday': '7:30-1...</td>\n",
       "    </tr>\n",
       "    <tr>\n",
       "      <th>4</th>\n",
       "      <td>QZONht3dlg7nCFi1wpoZeU</td>\n",
       "      <td>wRMfTwxM7aFS-MkUnaGQjA</td>\n",
       "      <td>5</td>\n",
       "      <td>4</td>\n",
       "      <td>0</td>\n",
       "      <td>2</td>\n",
       "      <td>We loved our experience at Elwood.\\n\\nWhen you...</td>\n",
       "      <td>2019-05-04 12:24:05</td>\n",
       "      <td>Elwood</td>\n",
       "      <td>1007 Frankford Ave</td>\n",
       "      <td>Philadelphia</td>\n",
       "      <td>19125</td>\n",
       "      <td>39.966404</td>\n",
       "      <td>-75.134227</td>\n",
       "      <td>{'RestaurantsReservations': 'True', 'OutdoorSe...</td>\n",
       "      <td>american (traditional), american (new), food, ...</td>\n",
       "      <td>{'Thursday': '17:0-22:0', 'Friday': '17:0-22:0...</td>\n",
       "    </tr>\n",
       "  </tbody>\n",
       "</table>\n",
       "</div>"
      ],
      "text/plain": [
       "                  user_id             business_id  rating  useful  funny  \\\n",
       "0  AD2z6qhmVcRJkywa1KsEFG  ADWVkizi8gKjj07mn8NiMe       4       0      0   \n",
       "1  AS4QOGiUvdbD-ad_SP9cz3  Q1YEMPTZ4GWqzgnMBuaDp1       5       0      0   \n",
       "2  gtRX7g45kDNE6yB4edac7X  gvQz67eUW_EkC1yQC3n0qb       4       2      0   \n",
       "3  gHupK3rVLqp_blY_NN9DDM  wbS9zhxRwOxyBd1fWJ5FRI       5       0      0   \n",
       "4  QZONht3dlg7nCFi1wpoZeU  wRMfTwxM7aFS-MkUnaGQjA       5       4      0   \n",
       "\n",
       "   cool                                               text  \\\n",
       "0     0  One of my favorite places to grab a quick bit ...   \n",
       "1     0  I love this place! There's nothing like authen...   \n",
       "2     0  Situated on Race street away from the main str...   \n",
       "3     0  Outstanding venue, great band, and the food is...   \n",
       "4     2  We loved our experience at Elwood.\\n\\nWhen you...   \n",
       "\n",
       "                  date                 name             address          city  \\\n",
       "0  2014-05-28 19:05:26   Chickie's & Pete's     1526 Packer Ave  Philadelphia   \n",
       "1  2013-05-28 16:52:23  Guacamole Mex-Grill   4612 Woodland Ave  Philadelphia   \n",
       "2  2014-12-21 15:03:49       Shiao Lan Kung         930 Race St  Philadelphia   \n",
       "3  2015-10-17 01:07:26   Amari's Restaurant  5037 Baltimore Ave  Philadelphia   \n",
       "4  2019-05-04 12:24:05               Elwood  1007 Frankford Ave  Philadelphia   \n",
       "\n",
       "  postal_code   latitude  longitude  \\\n",
       "0       19145  39.911417 -75.174511   \n",
       "1       19143  39.943971 -75.209914   \n",
       "2       19107  39.955247 -75.155409   \n",
       "3       19143  39.947985 -75.224744   \n",
       "4       19125  39.966404 -75.134227   \n",
       "\n",
       "                                          attributes  \\\n",
       "0  {'GoodForKids': 'True', 'Corkage': 'False', 'H...   \n",
       "1  {'Caters': 'False', 'RestaurantsAttire': \"u'ca...   \n",
       "2  {'RestaurantsGoodForGroups': 'True', 'Restaura...   \n",
       "3  {'HasTV': 'True', 'RestaurantsAttire': \"u'casu...   \n",
       "4  {'RestaurantsReservations': 'True', 'OutdoorSe...   \n",
       "\n",
       "                                          categories  \\\n",
       "0  seafood, nightlife, sports bars, bars, restaur...   \n",
       "1  mexican, restaurants, specialty food, ethnic f...   \n",
       "2             noodles, seafood, restaurants, chinese   \n",
       "3  soul food, american (new), breakfast & brunch,...   \n",
       "4  american (traditional), american (new), food, ...   \n",
       "\n",
       "                                               hours  \n",
       "0  {'Monday': '11:0-2:0', 'Tuesday': '11:0-2:0', ...  \n",
       "1  {'Monday': '11:0-20:0', 'Tuesday': '11:0-20:0'...  \n",
       "2  {'Tuesday': '15:0-2:0', 'Wednesday': '15:0-2:0...  \n",
       "3  {'Wednesday': '7:30-15:0', 'Thursday': '7:30-1...  \n",
       "4  {'Thursday': '17:0-22:0', 'Friday': '17:0-22:0...  "
      ]
     },
     "execution_count": 15,
     "metadata": {},
     "output_type": "execute_result"
    }
   ],
   "source": [
    "# Inspecting the data types of the columns\n",
    "print(resto_reviews_philly.info())\n",
    "resto_reviews_philly.head()"
   ]
  },
  {
   "cell_type": "code",
   "execution_count": 16,
   "metadata": {},
   "outputs": [
    {
     "data": {
      "text/plain": [
       "['GoodForKids: True',\n",
       " 'Corkage: False',\n",
       " 'HasTV: True',\n",
       " 'RestaurantsAttire: casual',\n",
       " 'RestaurantsTakeOut: True']"
      ]
     },
     "execution_count": 16,
     "metadata": {},
     "output_type": "execute_result"
    }
   ],
   "source": [
    "# Converting the date column into datetime data type for easier manipulation\n",
    "resto_reviews_philly[\"date\"] = pd.to_datetime(resto_reviews_philly['date']).dt.normalize()\n",
    "\n",
    "# Cleaning attributes\n",
    "resto_reviews_philly[\"attributes\"] = resto_reviews_philly[\"attributes\"].str.replace(r\"\\{|\\}|'|\\\"|\\bu\", \"\", regex=True)\n",
    "resto_reviews_philly[\"attributes\"] = resto_reviews_philly[\"attributes\"].str.split(\", \")\n",
    "resto_reviews_philly[\"attributes\"][0][:5]  # I'll leave it like this for now but do further pre-processing if you need to"
   ]
  },
  {
   "cell_type": "markdown",
   "metadata": {},
   "source": [
    "If we look at the shape of the `resto_review_philly` dataset after firsting dropping the `hours` columns and then the rows containing any null values, the decrease in the number of observations is only less than 200 which is minimal, so we will just proceed with dropping observations with missing values."
   ]
  },
  {
   "cell_type": "code",
   "execution_count": 17,
   "metadata": {},
   "outputs": [
    {
     "name": "stdout",
     "output_type": "stream",
     "text": [
      "<class 'pandas.core.frame.DataFrame'>\n",
      "Index: 103099 entries, 0 to 103289\n",
      "Data columns (total 16 columns):\n",
      " #   Column       Non-Null Count   Dtype         \n",
      "---  ------       --------------   -----         \n",
      " 0   user_id      103099 non-null  object        \n",
      " 1   business_id  103099 non-null  object        \n",
      " 2   rating       103099 non-null  int64         \n",
      " 3   useful       103099 non-null  int64         \n",
      " 4   funny        103099 non-null  int64         \n",
      " 5   cool         103099 non-null  int64         \n",
      " 6   text         103099 non-null  object        \n",
      " 7   date         103099 non-null  datetime64[ns]\n",
      " 8   name         103099 non-null  object        \n",
      " 9   address      103099 non-null  object        \n",
      " 10  city         103099 non-null  object        \n",
      " 11  postal_code  103099 non-null  object        \n",
      " 12  latitude     103099 non-null  float64       \n",
      " 13  longitude    103099 non-null  float64       \n",
      " 14  attributes   103099 non-null  object        \n",
      " 15  categories   103099 non-null  object        \n",
      "dtypes: datetime64[ns](1), float64(2), int64(4), object(9)\n",
      "memory usage: 13.4+ MB\n"
     ]
    }
   ],
   "source": [
    "# Dropping the hours column \n",
    "resto_reviews_philly.drop(columns=['hours'], inplace = True)\n",
    "\n",
    "# Checking how many obs we'll lose by dropping rows which contain missing values in any of the columns\n",
    "resto_reviews_philly.dropna(inplace = True)  \n",
    "resto_reviews_philly.info()  # The loss in observation is fewer than 200 rows which is minimal "
   ]
  },
  {
   "cell_type": "markdown",
   "metadata": {},
   "source": [
    "Looking again at the `info()` of the dataset, every columns now has the correct data type, and the missing values are removed. The first 5 rows of the dataset below also shows that our pre-processing steps seemed to work as intended. However, if we would like to use classical machine learning techniques on textual data (namely, `text`, `categories` and potentially `attributes`), then we will need a way to convert them into numerical embeddings which can be understood by computers. "
   ]
  },
  {
   "cell_type": "code",
   "execution_count": 18,
   "metadata": {},
   "outputs": [
    {
     "data": {
      "text/html": [
       "<div>\n",
       "<style scoped>\n",
       "    .dataframe tbody tr th:only-of-type {\n",
       "        vertical-align: middle;\n",
       "    }\n",
       "\n",
       "    .dataframe tbody tr th {\n",
       "        vertical-align: top;\n",
       "    }\n",
       "\n",
       "    .dataframe thead th {\n",
       "        text-align: right;\n",
       "    }\n",
       "</style>\n",
       "<table border=\"1\" class=\"dataframe\">\n",
       "  <thead>\n",
       "    <tr style=\"text-align: right;\">\n",
       "      <th></th>\n",
       "      <th>user_id</th>\n",
       "      <th>business_id</th>\n",
       "      <th>rating</th>\n",
       "      <th>useful</th>\n",
       "      <th>funny</th>\n",
       "      <th>cool</th>\n",
       "      <th>text</th>\n",
       "      <th>date</th>\n",
       "      <th>name</th>\n",
       "      <th>address</th>\n",
       "      <th>city</th>\n",
       "      <th>postal_code</th>\n",
       "      <th>latitude</th>\n",
       "      <th>longitude</th>\n",
       "      <th>attributes</th>\n",
       "      <th>categories</th>\n",
       "    </tr>\n",
       "  </thead>\n",
       "  <tbody>\n",
       "    <tr>\n",
       "      <th>0</th>\n",
       "      <td>AD2z6qhmVcRJkywa1KsEFG</td>\n",
       "      <td>ADWVkizi8gKjj07mn8NiMe</td>\n",
       "      <td>4</td>\n",
       "      <td>0</td>\n",
       "      <td>0</td>\n",
       "      <td>0</td>\n",
       "      <td>One of my favorite places to grab a quick bit ...</td>\n",
       "      <td>2014-05-28</td>\n",
       "      <td>Chickie's &amp; Pete's</td>\n",
       "      <td>1526 Packer Ave</td>\n",
       "      <td>Philadelphia</td>\n",
       "      <td>19145</td>\n",
       "      <td>39.911417</td>\n",
       "      <td>-75.174511</td>\n",
       "      <td>[GoodForKids: True, Corkage: False, HasTV: Tru...</td>\n",
       "      <td>seafood, nightlife, sports bars, bars, restaur...</td>\n",
       "    </tr>\n",
       "    <tr>\n",
       "      <th>1</th>\n",
       "      <td>AS4QOGiUvdbD-ad_SP9cz3</td>\n",
       "      <td>Q1YEMPTZ4GWqzgnMBuaDp1</td>\n",
       "      <td>5</td>\n",
       "      <td>0</td>\n",
       "      <td>0</td>\n",
       "      <td>0</td>\n",
       "      <td>I love this place! There's nothing like authen...</td>\n",
       "      <td>2013-05-28</td>\n",
       "      <td>Guacamole Mex-Grill</td>\n",
       "      <td>4612 Woodland Ave</td>\n",
       "      <td>Philadelphia</td>\n",
       "      <td>19143</td>\n",
       "      <td>39.943971</td>\n",
       "      <td>-75.209914</td>\n",
       "      <td>[Caters: False, RestaurantsAttire: casual, Noi...</td>\n",
       "      <td>mexican, restaurants, specialty food, ethnic f...</td>\n",
       "    </tr>\n",
       "    <tr>\n",
       "      <th>2</th>\n",
       "      <td>gtRX7g45kDNE6yB4edac7X</td>\n",
       "      <td>gvQz67eUW_EkC1yQC3n0qb</td>\n",
       "      <td>4</td>\n",
       "      <td>2</td>\n",
       "      <td>0</td>\n",
       "      <td>0</td>\n",
       "      <td>Situated on Race street away from the main str...</td>\n",
       "      <td>2014-12-21</td>\n",
       "      <td>Shiao Lan Kung</td>\n",
       "      <td>930 Race St</td>\n",
       "      <td>Philadelphia</td>\n",
       "      <td>19107</td>\n",
       "      <td>39.955247</td>\n",
       "      <td>-75.155409</td>\n",
       "      <td>[RestaurantsGoodForGroups: True, RestaurantsTa...</td>\n",
       "      <td>noodles, seafood, restaurants, chinese</td>\n",
       "    </tr>\n",
       "    <tr>\n",
       "      <th>3</th>\n",
       "      <td>gHupK3rVLqp_blY_NN9DDM</td>\n",
       "      <td>wbS9zhxRwOxyBd1fWJ5FRI</td>\n",
       "      <td>5</td>\n",
       "      <td>0</td>\n",
       "      <td>0</td>\n",
       "      <td>0</td>\n",
       "      <td>Outstanding venue, great band, and the food is...</td>\n",
       "      <td>2015-10-17</td>\n",
       "      <td>Amari's Restaurant</td>\n",
       "      <td>5037 Baltimore Ave</td>\n",
       "      <td>Philadelphia</td>\n",
       "      <td>19143</td>\n",
       "      <td>39.947985</td>\n",
       "      <td>-75.224744</td>\n",
       "      <td>[HasTV: True, RestaurantsAttire: casual, DogsA...</td>\n",
       "      <td>soul food, american (new), breakfast &amp; brunch,...</td>\n",
       "    </tr>\n",
       "    <tr>\n",
       "      <th>4</th>\n",
       "      <td>QZONht3dlg7nCFi1wpoZeU</td>\n",
       "      <td>wRMfTwxM7aFS-MkUnaGQjA</td>\n",
       "      <td>5</td>\n",
       "      <td>4</td>\n",
       "      <td>0</td>\n",
       "      <td>2</td>\n",
       "      <td>We loved our experience at Elwood.\\n\\nWhen you...</td>\n",
       "      <td>2019-05-04</td>\n",
       "      <td>Elwood</td>\n",
       "      <td>1007 Frankford Ave</td>\n",
       "      <td>Philadelphia</td>\n",
       "      <td>19125</td>\n",
       "      <td>39.966404</td>\n",
       "      <td>-75.134227</td>\n",
       "      <td>[RestaurantsReservations: True, OutdoorSeating...</td>\n",
       "      <td>american (traditional), american (new), food, ...</td>\n",
       "    </tr>\n",
       "  </tbody>\n",
       "</table>\n",
       "</div>"
      ],
      "text/plain": [
       "                  user_id             business_id  rating  useful  funny  \\\n",
       "0  AD2z6qhmVcRJkywa1KsEFG  ADWVkizi8gKjj07mn8NiMe       4       0      0   \n",
       "1  AS4QOGiUvdbD-ad_SP9cz3  Q1YEMPTZ4GWqzgnMBuaDp1       5       0      0   \n",
       "2  gtRX7g45kDNE6yB4edac7X  gvQz67eUW_EkC1yQC3n0qb       4       2      0   \n",
       "3  gHupK3rVLqp_blY_NN9DDM  wbS9zhxRwOxyBd1fWJ5FRI       5       0      0   \n",
       "4  QZONht3dlg7nCFi1wpoZeU  wRMfTwxM7aFS-MkUnaGQjA       5       4      0   \n",
       "\n",
       "   cool                                               text       date  \\\n",
       "0     0  One of my favorite places to grab a quick bit ... 2014-05-28   \n",
       "1     0  I love this place! There's nothing like authen... 2013-05-28   \n",
       "2     0  Situated on Race street away from the main str... 2014-12-21   \n",
       "3     0  Outstanding venue, great band, and the food is... 2015-10-17   \n",
       "4     2  We loved our experience at Elwood.\\n\\nWhen you... 2019-05-04   \n",
       "\n",
       "                  name             address          city postal_code  \\\n",
       "0   Chickie's & Pete's     1526 Packer Ave  Philadelphia       19145   \n",
       "1  Guacamole Mex-Grill   4612 Woodland Ave  Philadelphia       19143   \n",
       "2       Shiao Lan Kung         930 Race St  Philadelphia       19107   \n",
       "3   Amari's Restaurant  5037 Baltimore Ave  Philadelphia       19143   \n",
       "4               Elwood  1007 Frankford Ave  Philadelphia       19125   \n",
       "\n",
       "    latitude  longitude                                         attributes  \\\n",
       "0  39.911417 -75.174511  [GoodForKids: True, Corkage: False, HasTV: Tru...   \n",
       "1  39.943971 -75.209914  [Caters: False, RestaurantsAttire: casual, Noi...   \n",
       "2  39.955247 -75.155409  [RestaurantsGoodForGroups: True, RestaurantsTa...   \n",
       "3  39.947985 -75.224744  [HasTV: True, RestaurantsAttire: casual, DogsA...   \n",
       "4  39.966404 -75.134227  [RestaurantsReservations: True, OutdoorSeating...   \n",
       "\n",
       "                                          categories  \n",
       "0  seafood, nightlife, sports bars, bars, restaur...  \n",
       "1  mexican, restaurants, specialty food, ethnic f...  \n",
       "2             noodles, seafood, restaurants, chinese  \n",
       "3  soul food, american (new), breakfast & brunch,...  \n",
       "4  american (traditional), american (new), food, ...  "
      ]
     },
     "execution_count": 18,
     "metadata": {},
     "output_type": "execute_result"
    }
   ],
   "source": [
    "# Format-wise the data look good\n",
    "resto_reviews_philly.head()"
   ]
  },
  {
   "cell_type": "code",
   "execution_count": 19,
   "metadata": {},
   "outputs": [
    {
     "data": {
      "text/html": [
       "<div>\n",
       "<style scoped>\n",
       "    .dataframe tbody tr th:only-of-type {\n",
       "        vertical-align: middle;\n",
       "    }\n",
       "\n",
       "    .dataframe tbody tr th {\n",
       "        vertical-align: top;\n",
       "    }\n",
       "\n",
       "    .dataframe thead th {\n",
       "        text-align: right;\n",
       "    }\n",
       "</style>\n",
       "<table border=\"1\" class=\"dataframe\">\n",
       "  <thead>\n",
       "    <tr style=\"text-align: right;\">\n",
       "      <th></th>\n",
       "      <th>rating</th>\n",
       "      <th>useful</th>\n",
       "      <th>funny</th>\n",
       "      <th>cool</th>\n",
       "      <th>date</th>\n",
       "      <th>latitude</th>\n",
       "      <th>longitude</th>\n",
       "    </tr>\n",
       "  </thead>\n",
       "  <tbody>\n",
       "    <tr>\n",
       "      <th>count</th>\n",
       "      <td>103099.000000</td>\n",
       "      <td>103099.000000</td>\n",
       "      <td>103099.000000</td>\n",
       "      <td>103099.000000</td>\n",
       "      <td>103099</td>\n",
       "      <td>103099.000000</td>\n",
       "      <td>103099.000000</td>\n",
       "    </tr>\n",
       "    <tr>\n",
       "      <th>mean</th>\n",
       "      <td>3.813296</td>\n",
       "      <td>1.096102</td>\n",
       "      <td>0.368364</td>\n",
       "      <td>0.544205</td>\n",
       "      <td>2015-12-05 20:18:41.423098368</td>\n",
       "      <td>39.961504</td>\n",
       "      <td>-75.160255</td>\n",
       "    </tr>\n",
       "    <tr>\n",
       "      <th>min</th>\n",
       "      <td>1.000000</td>\n",
       "      <td>0.000000</td>\n",
       "      <td>0.000000</td>\n",
       "      <td>0.000000</td>\n",
       "      <td>2005-05-26 00:00:00</td>\n",
       "      <td>39.865466</td>\n",
       "      <td>-75.325000</td>\n",
       "    </tr>\n",
       "    <tr>\n",
       "      <th>25%</th>\n",
       "      <td>3.000000</td>\n",
       "      <td>0.000000</td>\n",
       "      <td>0.000000</td>\n",
       "      <td>0.000000</td>\n",
       "      <td>2013-06-18 00:00:00</td>\n",
       "      <td>39.947631</td>\n",
       "      <td>-75.171570</td>\n",
       "    </tr>\n",
       "    <tr>\n",
       "      <th>50%</th>\n",
       "      <td>4.000000</td>\n",
       "      <td>0.000000</td>\n",
       "      <td>0.000000</td>\n",
       "      <td>0.000000</td>\n",
       "      <td>2016-03-22 00:00:00</td>\n",
       "      <td>39.950956</td>\n",
       "      <td>-75.161770</td>\n",
       "    </tr>\n",
       "    <tr>\n",
       "      <th>75%</th>\n",
       "      <td>5.000000</td>\n",
       "      <td>1.000000</td>\n",
       "      <td>0.000000</td>\n",
       "      <td>1.000000</td>\n",
       "      <td>2018-08-19 00:00:00</td>\n",
       "      <td>39.961327</td>\n",
       "      <td>-75.150251</td>\n",
       "    </tr>\n",
       "    <tr>\n",
       "      <th>max</th>\n",
       "      <td>5.000000</td>\n",
       "      <td>115.000000</td>\n",
       "      <td>82.000000</td>\n",
       "      <td>112.000000</td>\n",
       "      <td>2022-01-19 00:00:00</td>\n",
       "      <td>40.141488</td>\n",
       "      <td>-74.940729</td>\n",
       "    </tr>\n",
       "    <tr>\n",
       "      <th>std</th>\n",
       "      <td>1.303016</td>\n",
       "      <td>2.475243</td>\n",
       "      <td>1.378088</td>\n",
       "      <td>1.794338</td>\n",
       "      <td>NaN</td>\n",
       "      <td>0.035732</td>\n",
       "      <td>0.035684</td>\n",
       "    </tr>\n",
       "  </tbody>\n",
       "</table>\n",
       "</div>"
      ],
      "text/plain": [
       "              rating         useful          funny           cool  \\\n",
       "count  103099.000000  103099.000000  103099.000000  103099.000000   \n",
       "mean        3.813296       1.096102       0.368364       0.544205   \n",
       "min         1.000000       0.000000       0.000000       0.000000   \n",
       "25%         3.000000       0.000000       0.000000       0.000000   \n",
       "50%         4.000000       0.000000       0.000000       0.000000   \n",
       "75%         5.000000       1.000000       0.000000       1.000000   \n",
       "max         5.000000     115.000000      82.000000     112.000000   \n",
       "std         1.303016       2.475243       1.378088       1.794338   \n",
       "\n",
       "                                date       latitude      longitude  \n",
       "count                         103099  103099.000000  103099.000000  \n",
       "mean   2015-12-05 20:18:41.423098368      39.961504     -75.160255  \n",
       "min              2005-05-26 00:00:00      39.865466     -75.325000  \n",
       "25%              2013-06-18 00:00:00      39.947631     -75.171570  \n",
       "50%              2016-03-22 00:00:00      39.950956     -75.161770  \n",
       "75%              2018-08-19 00:00:00      39.961327     -75.150251  \n",
       "max              2022-01-19 00:00:00      40.141488     -74.940729  \n",
       "std                              NaN       0.035732       0.035684  "
      ]
     },
     "execution_count": 19,
     "metadata": {},
     "output_type": "execute_result"
    }
   ],
   "source": [
    "resto_reviews_philly.describe()"
   ]
  },
  {
   "cell_type": "markdown",
   "metadata": {},
   "source": [
    "## Exploring the restaurant reviews data\n",
    "\n",
    "Now that we have extracted the restaurant review data in Philadelphia, let's start by some exploratory data analysis (EDA) to make sense of the data and (hopefully) find some inspirations of what advice can be given to the business owner. \n",
    "\n",
    "### How often are restaurants reviewed by customers?\n",
    "\n",
    "To begin with, how often is each restaurant reviewed by customers in Philly? The histogram below indicates that only a very small proportion of restaurants have received 100 or more reviews. Indeed, the distribution of the number of reviews per restaurant is remarkably right-skewed. \n",
    "\n",
    "<!-- Some EDAs\n",
    "1. Distribution of the count of reviews per resto\n",
    "2. \n",
    "-->\n",
    "\n",
    "<!-- Some ideas of the analysis: \n",
    "1. Use embeddings on reviews and categories and then run LSA to summarise them as \"themes\" (e.g., what is a review about in terms of food, service etc.? How can we group many categories into one based on their similarity?) \n",
    "2. Analyse how the themes are related to rating to understand what customers like/ don't like about\n",
    "-->"
   ]
  },
  {
   "cell_type": "code",
   "execution_count": 20,
   "metadata": {},
   "outputs": [
    {
     "data": {
      "application/vnd.plotly.v1+json": {
       "config": {
        "plotlyServerURL": "https://plot.ly"
       },
       "data": [
        {
         "alignmentgroup": "True",
         "bingroup": "x",
         "hovertemplate": "variable=count<br>value=%{x}<br>count=%{y}<extra></extra>",
         "legendgroup": "count",
         "marker": {
          "color": "#636efa",
          "pattern": {
           "shape": ""
          }
         },
         "name": "count",
         "offsetgroup": "count",
         "orientation": "v",
         "showlegend": true,
         "type": "histogram",
         "x": [
          888,
          624,
          560,
          530,
          523,
          511,
          505,
          440,
          439,
          426,
          417,
          414,
          395,
          389,
          384,
          351,
          343,
          324,
          323,
          305,
          303,
          299,
          281,
          272,
          268,
          264,
          243,
          242,
          237,
          234,
          225,
          224,
          222,
          221,
          217,
          214,
          214,
          214,
          213,
          211,
          209,
          205,
          199,
          199,
          198,
          194,
          194,
          192,
          188,
          187,
          184,
          183,
          182,
          181,
          181,
          178,
          176,
          174,
          174,
          172,
          170,
          168,
          167,
          165,
          163,
          163,
          162,
          161,
          160,
          159,
          159,
          158,
          158,
          157,
          157,
          156,
          155,
          155,
          155,
          149,
          149,
          149,
          147,
          147,
          144,
          143,
          143,
          143,
          142,
          142,
          140,
          138,
          137,
          137,
          136,
          135,
          133,
          133,
          133,
          133,
          133,
          132,
          132,
          131,
          130,
          130,
          130,
          129,
          129,
          128,
          128,
          128,
          127,
          126,
          125,
          124,
          124,
          123,
          122,
          122,
          121,
          120,
          120,
          120,
          119,
          119,
          119,
          119,
          119,
          118,
          118,
          117,
          117,
          116,
          116,
          115,
          115,
          115,
          114,
          114,
          114,
          114,
          114,
          114,
          114,
          113,
          112,
          111,
          110,
          110,
          110,
          109,
          109,
          109,
          109,
          108,
          108,
          108,
          108,
          107,
          107,
          106,
          106,
          106,
          105,
          105,
          105,
          105,
          105,
          104,
          104,
          104,
          103,
          103,
          103,
          102,
          102,
          101,
          101,
          101,
          101,
          100,
          100,
          100,
          99,
          99,
          98,
          98,
          98,
          98,
          97,
          96,
          96,
          95,
          95,
          95,
          95,
          95,
          95,
          95,
          95,
          95,
          94,
          93,
          93,
          93,
          92,
          92,
          91,
          91,
          91,
          91,
          91,
          91,
          90,
          90,
          90,
          90,
          90,
          89,
          89,
          89,
          89,
          89,
          89,
          89,
          89,
          89,
          88,
          88,
          88,
          87,
          87,
          86,
          86,
          85,
          85,
          85,
          85,
          85,
          85,
          84,
          84,
          84,
          84,
          84,
          84,
          84,
          84,
          84,
          83,
          83,
          83,
          83,
          83,
          83,
          82,
          82,
          82,
          82,
          81,
          81,
          81,
          81,
          81,
          80,
          80,
          80,
          79,
          79,
          79,
          79,
          79,
          78,
          78,
          78,
          78,
          77,
          77,
          77,
          77,
          76,
          76,
          76,
          76,
          76,
          75,
          75,
          75,
          75,
          75,
          75,
          75,
          75,
          75,
          75,
          74,
          74,
          74,
          74,
          74,
          74,
          74,
          74,
          73,
          73,
          73,
          73,
          73,
          73,
          72,
          72,
          72,
          72,
          72,
          72,
          72,
          72,
          72,
          71,
          71,
          71,
          70,
          70,
          70,
          70,
          70,
          70,
          70,
          70,
          70,
          69,
          69,
          69,
          69,
          69,
          69,
          69,
          68,
          68,
          68,
          68,
          68,
          67,
          67,
          67,
          67,
          67,
          67,
          66,
          66,
          66,
          66,
          66,
          66,
          65,
          65,
          65,
          65,
          65,
          65,
          65,
          65,
          65,
          64,
          64,
          64,
          64,
          64,
          64,
          64,
          64,
          64,
          63,
          63,
          63,
          63,
          63,
          63,
          63,
          63,
          63,
          62,
          62,
          62,
          62,
          62,
          62,
          62,
          62,
          61,
          61,
          61,
          60,
          60,
          60,
          60,
          60,
          60,
          60,
          60,
          60,
          59,
          59,
          59,
          59,
          59,
          59,
          59,
          59,
          59,
          58,
          58,
          58,
          58,
          58,
          58,
          58,
          58,
          58,
          58,
          58,
          58,
          58,
          58,
          57,
          57,
          57,
          57,
          57,
          57,
          57,
          57,
          57,
          56,
          56,
          56,
          56,
          56,
          56,
          56,
          55,
          55,
          55,
          55,
          55,
          55,
          55,
          55,
          55,
          55,
          54,
          54,
          54,
          54,
          54,
          54,
          54,
          54,
          54,
          54,
          54,
          54,
          53,
          53,
          53,
          53,
          53,
          53,
          53,
          53,
          53,
          53,
          53,
          53,
          53,
          53,
          53,
          52,
          52,
          52,
          52,
          52,
          52,
          52,
          52,
          52,
          52,
          52,
          51,
          51,
          51,
          51,
          51,
          51,
          51,
          51,
          51,
          51,
          51,
          51,
          51,
          51,
          50,
          50,
          50,
          50,
          50,
          50,
          50,
          50,
          50,
          50,
          50,
          50,
          50,
          50,
          50,
          50,
          50,
          50,
          49,
          49,
          49,
          49,
          49,
          49,
          49,
          49,
          49,
          49,
          49,
          49,
          49,
          49,
          49,
          48,
          48,
          48,
          48,
          48,
          48,
          48,
          48,
          48,
          48,
          48,
          48,
          48,
          48,
          47,
          47,
          47,
          47,
          47,
          47,
          47,
          47,
          47,
          47,
          47,
          47,
          47,
          47,
          47,
          47,
          47,
          47,
          46,
          46,
          46,
          46,
          46,
          46,
          46,
          46,
          46,
          46,
          46,
          46,
          46,
          46,
          46,
          46,
          46,
          45,
          45,
          45,
          45,
          45,
          45,
          45,
          45,
          45,
          45,
          45,
          45,
          45,
          45,
          45,
          45,
          44,
          44,
          44,
          44,
          44,
          44,
          44,
          44,
          44,
          44,
          44,
          44,
          43,
          43,
          43,
          43,
          43,
          43,
          43,
          43,
          43,
          43,
          43,
          43,
          43,
          43,
          43,
          43,
          43,
          43,
          43,
          43,
          43,
          43,
          43,
          42,
          42,
          42,
          42,
          42,
          42,
          42,
          42,
          42,
          42,
          42,
          42,
          42,
          42,
          42,
          42,
          42,
          42,
          42,
          42,
          42,
          42,
          42,
          42,
          42,
          42,
          42,
          42,
          42,
          42,
          41,
          41,
          41,
          41,
          41,
          41,
          41,
          41,
          41,
          41,
          41,
          41,
          41,
          41,
          41,
          41,
          41,
          41,
          41,
          41,
          40,
          40,
          40,
          40,
          40,
          40,
          40,
          40,
          40,
          40,
          40,
          40,
          39,
          39,
          39,
          39,
          39,
          39,
          39,
          39,
          39,
          39,
          39,
          39,
          39,
          39,
          39,
          39,
          39,
          39,
          38,
          38,
          38,
          38,
          38,
          38,
          38,
          38,
          38,
          38,
          38,
          38,
          38,
          38,
          38,
          38,
          38,
          38,
          38,
          38,
          38,
          37,
          37,
          37,
          37,
          37,
          37,
          37,
          37,
          37,
          37,
          37,
          37,
          37,
          36,
          36,
          36,
          36,
          36,
          36,
          36,
          36,
          36,
          36,
          36,
          36,
          36,
          36,
          36,
          36,
          36,
          36,
          36,
          36,
          36,
          36,
          36,
          36,
          36,
          36,
          36,
          36,
          36,
          36,
          36,
          36,
          36,
          36,
          36,
          35,
          35,
          35,
          35,
          35,
          35,
          35,
          35,
          35,
          35,
          35,
          35,
          35,
          35,
          35,
          35,
          35,
          35,
          35,
          35,
          35,
          35,
          35,
          34,
          34,
          34,
          34,
          34,
          34,
          34,
          34,
          34,
          34,
          34,
          34,
          34,
          34,
          34,
          34,
          34,
          34,
          34,
          34,
          34,
          34,
          34,
          34,
          34,
          34,
          34,
          34,
          34,
          34,
          34,
          33,
          33,
          33,
          33,
          33,
          33,
          33,
          33,
          33,
          33,
          33,
          33,
          33,
          33,
          33,
          33,
          33,
          33,
          33,
          33,
          33,
          33,
          32,
          32,
          32,
          32,
          32,
          32,
          32,
          32,
          32,
          32,
          32,
          32,
          32,
          32,
          32,
          32,
          32,
          32,
          32,
          32,
          32,
          32,
          32,
          32,
          32,
          32,
          32,
          32,
          31,
          31,
          31,
          31,
          31,
          31,
          31,
          31,
          31,
          31,
          31,
          31,
          31,
          31,
          31,
          31,
          31,
          31,
          31,
          31,
          31,
          30,
          30,
          30,
          30,
          30,
          30,
          30,
          30,
          30,
          30,
          30,
          30,
          30,
          30,
          30,
          30,
          30,
          30,
          30,
          30,
          30,
          30,
          30,
          30,
          30,
          30,
          30,
          30,
          30,
          30,
          30,
          30,
          30,
          30,
          29,
          29,
          29,
          29,
          29,
          29,
          29,
          29,
          29,
          29,
          29,
          29,
          29,
          29,
          29,
          29,
          29,
          29,
          29,
          29,
          29,
          29,
          29,
          29,
          29,
          29,
          29,
          29,
          29,
          29,
          29,
          29,
          29,
          29,
          29,
          29,
          29,
          29,
          29,
          29,
          28,
          28,
          28,
          28,
          28,
          28,
          28,
          28,
          28,
          28,
          28,
          28,
          28,
          28,
          28,
          28,
          28,
          28,
          28,
          28,
          28,
          28,
          28,
          28,
          28,
          28,
          28,
          28,
          28,
          28,
          28,
          28,
          28,
          28,
          28,
          28,
          28,
          28,
          28,
          28,
          27,
          27,
          27,
          27,
          27,
          27,
          27,
          27,
          27,
          27,
          27,
          27,
          27,
          27,
          27,
          27,
          27,
          27,
          27,
          27,
          27,
          27,
          27,
          27,
          27,
          27,
          27,
          27,
          27,
          27,
          27,
          27,
          27,
          27,
          27,
          27,
          26,
          26,
          26,
          26,
          26,
          26,
          26,
          26,
          26,
          26,
          26,
          26,
          26,
          26,
          26,
          26,
          26,
          26,
          26,
          26,
          26,
          26,
          26,
          26,
          26,
          26,
          26,
          25,
          25,
          25,
          25,
          25,
          25,
          25,
          25,
          25,
          25,
          25,
          25,
          25,
          25,
          25,
          25,
          25,
          25,
          25,
          25,
          25,
          25,
          25,
          25,
          25,
          25,
          25,
          25,
          25,
          25,
          25,
          25,
          25,
          25,
          25,
          25,
          25,
          25,
          24,
          24,
          24,
          24,
          24,
          24,
          24,
          24,
          24,
          24,
          24,
          24,
          24,
          24,
          24,
          24,
          24,
          24,
          24,
          24,
          24,
          24,
          24,
          24,
          24,
          24,
          24,
          24,
          24,
          24,
          24,
          24,
          24,
          24,
          24,
          24,
          24,
          24,
          24,
          23,
          23,
          23,
          23,
          23,
          23,
          23,
          23,
          23,
          23,
          23,
          23,
          23,
          23,
          23,
          23,
          23,
          23,
          23,
          23,
          23,
          23,
          23,
          23,
          23,
          23,
          23,
          23,
          23,
          23,
          23,
          23,
          23,
          23,
          23,
          23,
          22,
          22,
          22,
          22,
          22,
          22,
          22,
          22,
          22,
          22,
          22,
          22,
          22,
          22,
          22,
          22,
          22,
          22,
          22,
          22,
          22,
          22,
          22,
          22,
          22,
          22,
          22,
          22,
          22,
          22,
          22,
          22,
          22,
          22,
          22,
          22,
          22,
          22,
          22,
          22,
          22,
          22,
          22,
          22,
          22,
          22,
          22,
          22,
          22,
          22,
          21,
          21,
          21,
          21,
          21,
          21,
          21,
          21,
          21,
          21,
          21,
          21,
          21,
          21,
          21,
          21,
          21,
          21,
          21,
          21,
          21,
          21,
          21,
          21,
          21,
          21,
          21,
          21,
          21,
          21,
          21,
          21,
          21,
          21,
          21,
          21,
          20,
          20,
          20,
          20,
          20,
          20,
          20,
          20,
          20,
          20,
          20,
          20,
          20,
          20,
          20,
          20,
          20,
          20,
          20,
          20,
          20,
          20,
          20,
          20,
          20,
          20,
          20,
          20,
          20,
          20,
          20,
          20,
          20,
          20,
          20,
          20,
          20,
          20,
          20,
          20,
          20,
          20,
          20,
          20,
          20,
          19,
          19,
          19,
          19,
          19,
          19,
          19,
          19,
          19,
          19,
          19,
          19,
          19,
          19,
          19,
          19,
          19,
          19,
          19,
          19,
          19,
          19,
          19,
          19,
          19,
          19,
          19,
          19,
          19,
          19,
          19,
          19,
          19,
          19,
          19,
          19,
          19,
          19,
          19,
          19,
          19,
          19,
          19,
          19,
          19,
          19,
          19,
          19,
          19,
          19,
          19,
          19,
          19,
          19,
          18,
          18,
          18,
          18,
          18,
          18,
          18,
          18,
          18,
          18,
          18,
          18,
          18,
          18,
          18,
          18,
          18,
          18,
          18,
          18,
          18,
          18,
          18,
          18,
          18,
          18,
          18,
          18,
          18,
          18,
          18,
          18,
          18,
          18,
          18,
          18,
          18,
          18,
          18,
          18,
          18,
          18,
          18,
          18,
          18,
          18,
          18,
          18,
          18,
          18,
          18,
          18,
          18,
          18,
          18,
          18,
          18,
          18,
          18,
          18,
          17,
          17,
          17,
          17,
          17,
          17,
          17,
          17,
          17,
          17,
          17,
          17,
          17,
          17,
          17,
          17,
          17,
          17,
          17,
          17,
          17,
          17,
          17,
          17,
          17,
          17,
          17,
          17,
          17,
          17,
          17,
          17,
          17,
          17,
          17,
          17,
          17,
          17,
          17,
          17,
          17,
          17,
          17,
          17,
          17,
          17,
          17,
          17,
          17,
          17,
          17,
          17,
          17,
          17,
          17,
          17,
          17,
          17,
          17,
          16,
          16,
          16,
          16,
          16,
          16,
          16,
          16,
          16,
          16,
          16,
          16,
          16,
          16,
          16,
          16,
          16,
          16,
          16,
          16,
          16,
          16,
          16,
          16,
          16,
          16,
          16,
          16,
          16,
          16,
          16,
          16,
          16,
          16,
          16,
          16,
          16,
          16,
          16,
          16,
          16,
          16,
          16,
          16,
          16,
          16,
          16,
          16,
          16,
          16,
          16,
          16,
          16,
          16,
          16,
          16,
          16,
          16,
          16,
          16,
          16,
          16,
          16,
          16,
          16,
          16,
          16,
          15,
          15,
          15,
          15,
          15,
          15,
          15,
          15,
          15,
          15,
          15,
          15,
          15,
          15,
          15,
          15,
          15,
          15,
          15,
          15,
          15,
          15,
          15,
          15,
          15,
          15,
          15,
          15,
          15,
          15,
          15,
          15,
          15,
          15,
          15,
          15,
          15,
          15,
          15,
          15,
          15,
          15,
          15,
          15,
          15,
          15,
          15,
          15,
          15,
          15,
          15,
          15,
          15,
          15,
          15,
          15,
          15,
          15,
          15,
          15,
          15,
          15,
          15,
          15,
          15,
          15,
          15,
          15,
          15,
          15,
          15,
          15,
          15,
          15,
          15,
          15,
          14,
          14,
          14,
          14,
          14,
          14,
          14,
          14,
          14,
          14,
          14,
          14,
          14,
          14,
          14,
          14,
          14,
          14,
          14,
          14,
          14,
          14,
          14,
          14,
          14,
          14,
          14,
          14,
          14,
          14,
          14,
          14,
          14,
          14,
          14,
          14,
          14,
          14,
          14,
          14,
          14,
          14,
          14,
          14,
          14,
          14,
          14,
          14,
          14,
          14,
          14,
          14,
          14,
          14,
          14,
          14,
          14,
          14,
          14,
          14,
          14,
          14,
          14,
          14,
          14,
          14,
          14,
          14,
          14,
          14,
          14,
          14,
          14,
          14,
          14,
          14,
          14,
          14,
          14,
          14,
          14,
          14,
          13,
          13,
          13,
          13,
          13,
          13,
          13,
          13,
          13,
          13,
          13,
          13,
          13,
          13,
          13,
          13,
          13,
          13,
          13,
          13,
          13,
          13,
          13,
          13,
          13,
          13,
          13,
          13,
          13,
          13,
          13,
          13,
          13,
          13,
          13,
          13,
          13,
          13,
          13,
          13,
          13,
          13,
          13,
          13,
          13,
          13,
          13,
          13,
          13,
          13,
          13,
          13,
          13,
          13,
          13,
          13,
          13,
          13,
          13,
          13,
          13,
          13,
          13,
          13,
          13,
          13,
          13,
          13,
          13,
          13,
          13,
          13,
          13,
          13,
          13,
          13,
          13,
          13,
          13,
          13,
          13,
          13,
          13,
          13,
          13,
          13,
          13,
          13,
          13,
          13,
          13,
          12,
          12,
          12,
          12,
          12,
          12,
          12,
          12,
          12,
          12,
          12,
          12,
          12,
          12,
          12,
          12,
          12,
          12,
          12,
          12,
          12,
          12,
          12,
          12,
          12,
          12,
          12,
          12,
          12,
          12,
          12,
          12,
          12,
          12,
          12,
          12,
          12,
          12,
          12,
          12,
          12,
          12,
          12,
          12,
          12,
          12,
          12,
          12,
          12,
          12,
          12,
          12,
          12,
          12,
          12,
          12,
          12,
          12,
          12,
          12,
          12,
          12,
          12,
          12,
          12,
          12,
          12,
          12,
          12,
          12,
          12,
          12,
          12,
          12,
          12,
          12,
          12,
          12,
          12,
          12,
          12,
          12,
          12,
          12,
          12,
          12,
          12,
          12,
          12,
          12,
          12,
          12,
          12,
          12,
          12,
          11,
          11,
          11,
          11,
          11,
          11,
          11,
          11,
          11,
          11,
          11,
          11,
          11,
          11,
          11,
          11,
          11,
          11,
          11,
          11,
          11,
          11,
          11,
          11,
          11,
          11,
          11,
          11,
          11,
          11,
          11,
          11,
          11,
          11,
          11,
          11,
          11,
          11,
          11,
          11,
          11,
          11,
          11,
          11,
          11,
          11,
          11,
          11,
          11,
          11,
          11,
          11,
          11,
          11,
          11,
          11,
          11,
          11,
          11,
          11,
          11,
          11,
          11,
          11,
          11,
          11,
          11,
          11,
          11,
          11,
          11,
          11,
          11,
          11,
          11,
          11,
          11,
          11,
          11,
          11,
          11,
          11,
          11,
          11,
          11,
          11,
          11,
          11,
          11,
          11,
          11,
          11,
          11,
          11,
          11,
          11,
          11,
          11,
          11,
          11,
          11,
          11,
          11,
          11,
          11,
          11,
          11,
          11,
          11,
          10,
          10,
          10,
          10,
          10,
          10,
          10,
          10,
          10,
          10,
          10,
          10,
          10,
          10,
          10,
          10,
          10,
          10,
          10,
          10,
          10,
          10,
          10,
          10,
          10,
          10,
          10,
          10,
          10,
          10,
          10,
          10,
          10,
          10,
          10,
          10,
          10,
          10,
          10,
          10,
          10,
          10,
          10,
          10,
          10,
          10,
          10,
          10,
          10,
          10,
          10,
          10,
          10,
          10,
          10,
          10,
          10,
          10,
          10,
          10,
          10,
          10,
          10,
          10,
          10,
          10,
          10,
          10,
          10,
          10,
          10,
          10,
          10,
          10,
          10,
          10,
          10,
          10,
          10,
          10,
          10,
          10,
          10,
          10,
          10,
          10,
          10,
          10,
          10,
          10,
          10,
          10,
          10,
          10,
          10,
          10,
          10,
          10,
          10,
          10,
          10,
          10,
          10,
          10,
          10,
          10,
          10,
          10,
          10,
          10,
          10,
          10,
          10,
          10,
          10,
          10,
          10,
          10,
          10,
          10,
          10,
          10,
          10,
          10,
          10,
          10,
          10,
          10,
          10,
          10,
          9,
          9,
          9,
          9,
          9,
          9,
          9,
          9,
          9,
          9,
          9,
          9,
          9,
          9,
          9,
          9,
          9,
          9,
          9,
          9,
          9,
          9,
          9,
          9,
          9,
          9,
          9,
          9,
          9,
          9,
          9,
          9,
          9,
          9,
          9,
          9,
          9,
          9,
          9,
          9,
          9,
          9,
          9,
          9,
          9,
          9,
          9,
          9,
          9,
          9,
          9,
          9,
          9,
          9,
          9,
          9,
          9,
          9,
          9,
          9,
          9,
          9,
          9,
          9,
          9,
          9,
          9,
          9,
          9,
          9,
          9,
          9,
          9,
          9,
          9,
          9,
          9,
          9,
          9,
          9,
          9,
          9,
          9,
          9,
          9,
          9,
          9,
          9,
          9,
          9,
          9,
          9,
          9,
          9,
          9,
          9,
          9,
          9,
          9,
          9,
          9,
          9,
          9,
          9,
          9,
          9,
          9,
          9,
          9,
          9,
          9,
          9,
          9,
          9,
          9,
          9,
          9,
          9,
          9,
          9,
          9,
          9,
          9,
          9,
          9,
          9,
          9,
          9,
          9,
          9,
          9,
          9,
          9,
          9,
          9,
          9,
          9,
          9,
          9,
          9,
          9,
          9,
          9,
          9,
          9,
          9,
          9,
          9,
          9,
          9,
          9,
          9,
          9,
          8,
          8,
          8,
          8,
          8,
          8,
          8,
          8,
          8,
          8,
          8,
          8,
          8,
          8,
          8,
          8,
          8,
          8,
          8,
          8,
          8,
          8,
          8,
          8,
          8,
          8,
          8,
          8,
          8,
          8,
          8,
          8,
          8,
          8,
          8,
          8,
          8,
          8,
          8,
          8,
          8,
          8,
          8,
          8,
          8,
          8,
          8,
          8,
          8,
          8,
          8,
          8,
          8,
          8,
          8,
          8,
          8,
          8,
          8,
          8,
          8,
          8,
          8,
          8,
          8,
          8,
          8,
          8,
          8,
          8,
          8,
          8,
          8,
          8,
          8,
          8,
          8,
          8,
          8,
          8,
          8,
          8,
          8,
          8,
          8,
          8,
          8,
          8,
          8,
          8,
          8,
          8,
          8,
          8,
          8,
          8,
          8,
          8,
          8,
          8,
          8,
          8,
          8,
          8,
          8,
          8,
          8,
          8,
          8,
          8,
          8,
          8,
          8,
          8,
          8,
          8,
          8,
          8,
          8,
          8,
          8,
          8,
          8,
          8,
          8,
          8,
          8,
          8,
          8,
          8,
          8,
          8,
          8,
          8,
          8,
          7,
          7,
          7,
          7,
          7,
          7,
          7,
          7,
          7,
          7,
          7,
          7,
          7,
          7,
          7,
          7,
          7,
          7,
          7,
          7,
          7,
          7,
          7,
          7,
          7,
          7,
          7,
          7,
          7,
          7,
          7,
          7,
          7,
          7,
          7,
          7,
          7,
          7,
          7,
          7,
          7,
          7,
          7,
          7,
          7,
          7,
          7,
          7,
          7,
          7,
          7,
          7,
          7,
          7,
          7,
          7,
          7,
          7,
          7,
          7,
          7,
          7,
          7,
          7,
          7,
          7,
          7,
          7,
          7,
          7,
          7,
          7,
          7,
          7,
          7,
          7,
          7,
          7,
          7,
          7,
          7,
          7,
          7,
          7,
          7,
          7,
          7,
          7,
          7,
          7,
          7,
          7,
          7,
          7,
          7,
          7,
          7,
          7,
          7,
          7,
          7,
          7,
          7,
          7,
          7,
          7,
          7,
          7,
          7,
          7,
          7,
          7,
          7,
          7,
          7,
          7,
          7,
          7,
          7,
          7,
          7,
          7,
          7,
          7,
          7,
          7,
          7,
          7,
          7,
          7,
          7,
          7,
          7,
          7,
          7,
          7,
          7,
          7,
          7,
          7,
          7,
          7,
          7,
          7,
          7,
          7,
          7,
          7,
          7,
          7,
          7,
          7,
          7,
          7,
          7,
          7,
          7,
          7,
          7,
          7,
          7,
          7,
          7,
          7,
          7,
          7,
          7,
          7,
          7,
          7,
          7,
          6,
          6,
          6,
          6,
          6,
          6,
          6,
          6,
          6,
          6,
          6,
          6,
          6,
          6,
          6,
          6,
          6,
          6,
          6,
          6,
          6,
          6,
          6,
          6,
          6,
          6,
          6,
          6,
          6,
          6,
          6,
          6,
          6,
          6,
          6,
          6,
          6,
          6,
          6,
          6,
          6,
          6,
          6,
          6,
          6,
          6,
          6,
          6,
          6,
          6,
          6,
          6,
          6,
          6,
          6,
          6,
          6,
          6,
          6,
          6,
          6,
          6,
          6,
          6,
          6,
          6,
          6,
          6,
          6,
          6,
          6,
          6,
          6,
          6,
          6,
          6,
          6,
          6,
          6,
          6,
          6,
          6,
          6,
          6,
          6,
          6,
          6,
          6,
          6,
          6,
          6,
          6,
          6,
          6,
          6,
          6,
          6,
          6,
          6,
          6,
          6,
          6,
          6,
          6,
          6,
          6,
          6,
          6,
          6,
          6,
          6,
          6,
          6,
          6,
          6,
          6,
          6,
          6,
          6,
          6,
          6,
          6,
          6,
          6,
          6,
          6,
          6,
          6,
          6,
          6,
          6,
          6,
          6,
          6,
          6,
          6,
          6,
          6,
          6,
          6,
          6,
          6,
          6,
          6,
          6,
          6,
          6,
          6,
          6,
          6,
          6,
          6,
          6,
          6,
          6,
          6,
          6,
          6,
          6,
          6,
          6,
          6,
          6,
          6,
          6,
          6,
          6,
          6,
          6,
          6,
          6,
          6,
          6,
          6,
          6,
          6,
          6,
          6,
          6,
          6,
          6,
          6,
          6,
          6,
          6,
          6,
          6,
          6,
          6,
          6,
          6,
          6,
          6,
          6,
          6,
          6,
          6,
          6,
          6,
          6,
          6,
          6,
          6,
          6,
          6,
          6,
          6,
          6,
          6,
          6,
          6,
          6,
          6,
          5,
          5,
          5,
          5,
          5,
          5,
          5,
          5,
          5,
          5,
          5,
          5,
          5,
          5,
          5,
          5,
          5,
          5,
          5,
          5,
          5,
          5,
          5,
          5,
          5,
          5,
          5,
          5,
          5,
          5,
          5,
          5,
          5,
          5,
          5,
          5,
          5,
          5,
          5,
          5,
          5,
          5,
          5,
          5,
          5,
          5,
          5,
          5,
          5,
          5,
          5,
          5,
          5,
          5,
          5,
          5,
          5,
          5,
          5,
          5,
          5,
          5,
          5,
          5,
          5,
          5,
          5,
          5,
          5,
          5,
          5,
          5,
          5,
          5,
          5,
          5,
          5,
          5,
          5,
          5,
          5,
          5,
          5,
          5,
          5,
          5,
          5,
          5,
          5,
          5,
          5,
          5,
          5,
          5,
          5,
          5,
          5,
          5,
          5,
          5,
          5,
          5,
          5,
          5,
          5,
          5,
          5,
          5,
          5,
          5,
          5,
          5,
          5,
          5,
          5,
          5,
          5,
          5,
          5,
          5,
          5,
          5,
          5,
          5,
          5,
          5,
          5,
          5,
          5,
          5,
          5,
          5,
          5,
          5,
          5,
          5,
          5,
          5,
          5,
          5,
          5,
          5,
          5,
          5,
          5,
          5,
          5,
          5,
          5,
          5,
          5,
          5,
          5,
          5,
          5,
          5,
          5,
          5,
          5,
          5,
          5,
          5,
          5,
          5,
          5,
          5,
          5,
          5,
          5,
          5,
          5,
          5,
          5,
          5,
          5,
          5,
          5,
          5,
          5,
          5,
          5,
          5,
          5,
          5,
          5,
          5,
          5,
          5,
          5,
          5,
          5,
          5,
          5,
          5,
          5,
          5,
          5,
          5,
          5,
          5,
          5,
          5,
          5,
          5,
          5,
          5,
          5,
          5,
          5,
          5,
          5,
          5,
          5,
          5,
          5,
          5,
          5,
          5,
          5,
          5,
          5,
          5,
          5,
          5,
          5,
          5,
          5,
          5,
          5,
          5,
          5,
          5,
          5,
          5,
          5,
          4,
          4,
          4,
          4,
          4,
          4,
          4,
          4,
          4,
          4,
          4,
          4,
          4,
          4,
          4,
          4,
          4,
          4,
          4,
          4,
          4,
          4,
          4,
          4,
          4,
          4,
          4,
          4,
          4,
          4,
          4,
          4,
          4,
          4,
          4,
          4,
          4,
          4,
          4,
          4,
          4,
          4,
          4,
          4,
          4,
          4,
          4,
          4,
          4,
          4,
          4,
          4,
          4,
          4,
          4,
          4,
          4,
          4,
          4,
          4,
          4,
          4,
          4,
          4,
          4,
          4,
          4,
          4,
          4,
          4,
          4,
          4,
          4,
          4,
          4,
          4,
          4,
          4,
          4,
          4,
          4,
          4,
          4,
          4,
          4,
          4,
          4,
          4,
          4,
          4,
          4,
          4,
          4,
          4,
          4,
          4,
          4,
          4,
          4,
          4,
          4,
          4,
          4,
          4,
          4,
          4,
          4,
          4,
          4,
          4,
          4,
          4,
          4,
          4,
          4,
          4,
          4,
          4,
          4,
          4,
          4,
          4,
          4,
          4,
          4,
          4,
          4,
          4,
          4,
          4,
          4,
          4,
          4,
          4,
          4,
          4,
          4,
          4,
          4,
          4,
          4,
          4,
          4,
          4,
          4,
          4,
          4,
          4,
          4,
          4,
          4,
          4,
          4,
          4,
          4,
          4,
          4,
          4,
          4,
          4,
          4,
          4,
          4,
          4,
          4,
          4,
          4,
          4,
          4,
          4,
          4,
          4,
          4,
          4,
          4,
          4,
          4,
          4,
          4,
          4,
          4,
          4,
          4,
          4,
          4,
          4,
          4,
          4,
          4,
          4,
          4,
          4,
          4,
          4,
          4,
          4,
          4,
          4,
          4,
          4,
          4,
          4,
          4,
          4,
          4,
          4,
          4,
          4,
          4,
          4,
          4,
          4,
          4,
          4,
          4,
          4,
          4,
          4,
          4,
          4,
          4,
          4,
          4,
          4,
          4,
          4,
          4,
          4,
          4,
          4,
          4,
          4,
          4,
          4,
          4,
          4,
          4,
          4,
          4,
          4,
          4,
          4,
          4,
          4,
          4,
          4,
          4,
          4,
          4,
          4,
          4,
          4,
          4,
          4,
          4,
          4,
          4,
          4,
          4,
          4,
          4,
          4,
          4,
          4,
          4,
          4,
          4,
          4,
          4,
          4,
          4,
          4,
          4,
          4,
          4,
          4,
          4,
          4,
          4,
          4,
          4,
          4,
          4,
          4,
          4,
          4,
          4,
          4,
          4,
          4,
          4,
          4,
          4,
          4,
          4,
          4,
          4,
          4,
          4,
          3,
          3,
          3,
          3,
          3,
          3,
          3,
          3,
          3,
          3,
          3,
          3,
          3,
          3,
          3,
          3,
          3,
          3,
          3,
          3,
          3,
          3,
          3,
          3,
          3,
          3,
          3,
          3,
          3,
          3,
          3,
          3,
          3,
          3,
          3,
          3,
          3,
          3,
          3,
          3,
          3,
          3,
          3,
          3,
          3,
          3,
          3,
          3,
          3,
          3,
          3,
          3,
          3,
          3,
          3,
          3,
          3,
          3,
          3,
          3,
          3,
          3,
          3,
          3,
          3,
          3,
          3,
          3,
          3,
          3,
          3,
          3,
          3,
          3,
          3,
          3,
          3,
          3,
          3,
          3,
          3,
          3,
          3,
          3,
          3,
          3,
          3,
          3,
          3,
          3,
          3,
          3,
          3,
          3,
          3,
          3,
          3,
          3,
          3,
          3,
          3,
          3,
          3,
          3,
          3,
          3,
          3,
          3,
          3,
          3,
          3,
          3,
          3,
          3,
          3,
          3,
          3,
          3,
          3,
          3,
          3,
          3,
          3,
          3,
          3,
          3,
          3,
          3,
          3,
          3,
          3,
          3,
          3,
          3,
          3,
          3,
          3,
          3,
          3,
          3,
          3,
          3,
          3,
          3,
          3,
          3,
          3,
          3,
          3,
          3,
          3,
          3,
          3,
          3,
          3,
          3,
          3,
          3,
          3,
          3,
          3,
          3,
          3,
          3,
          3,
          3,
          3,
          3,
          3,
          3,
          3,
          3,
          3,
          3,
          3,
          3,
          3,
          3,
          3,
          3,
          3,
          3,
          3,
          3,
          3,
          3,
          3,
          3,
          3,
          3,
          3,
          3,
          3,
          3,
          3,
          3,
          3,
          3,
          3,
          3,
          3,
          3,
          3,
          3,
          3,
          3,
          3,
          3,
          3,
          3,
          3,
          3,
          3,
          3,
          3,
          3,
          3,
          3,
          3,
          3,
          3,
          3,
          3,
          3,
          3,
          3,
          3,
          3,
          3,
          3,
          3,
          3,
          3,
          3,
          3,
          3,
          3,
          3,
          3,
          3,
          3,
          3,
          3,
          3,
          3,
          3,
          3,
          3,
          3,
          3,
          3,
          3,
          3,
          3,
          3,
          3,
          3,
          3,
          3,
          3,
          3,
          3,
          3,
          3,
          3,
          3,
          3,
          3,
          3,
          3,
          3,
          3,
          3,
          3,
          3,
          3,
          3,
          3,
          3,
          3,
          3,
          3,
          3,
          3,
          3,
          3,
          3,
          3,
          3,
          3,
          3,
          3,
          3,
          3,
          3,
          3,
          3,
          3,
          3,
          3,
          3,
          3,
          3,
          3,
          3,
          3,
          3,
          3,
          3,
          3,
          3,
          3,
          3,
          3,
          3,
          3,
          3,
          3,
          3,
          3,
          3,
          3,
          3,
          3,
          3,
          3,
          3,
          3,
          3,
          3,
          3,
          3,
          3,
          3,
          3,
          3,
          3,
          3,
          3,
          3,
          3,
          3,
          3,
          3,
          3,
          3,
          3,
          3,
          3,
          3,
          3,
          3,
          3,
          3,
          3,
          3,
          3,
          3,
          3,
          3,
          3,
          2,
          2,
          2,
          2,
          2,
          2,
          2,
          2,
          2,
          2,
          2,
          2,
          2,
          2,
          2,
          2,
          2,
          2,
          2,
          2,
          2,
          2,
          2,
          2,
          2,
          2,
          2,
          2,
          2,
          2,
          2,
          2,
          2,
          2,
          2,
          2,
          2,
          2,
          2,
          2,
          2,
          2,
          2,
          2,
          2,
          2,
          2,
          2,
          2,
          2,
          2,
          2,
          2,
          2,
          2,
          2,
          2,
          2,
          2,
          2,
          2,
          2,
          2,
          2,
          2,
          2,
          2,
          2,
          2,
          2,
          2,
          2,
          2,
          2,
          2,
          2,
          2,
          2,
          2,
          2,
          2,
          2,
          2,
          2,
          2,
          2,
          2,
          2,
          2,
          2,
          2,
          2,
          2,
          2,
          2,
          2,
          2,
          2,
          2,
          2,
          2,
          2,
          2,
          2,
          2,
          2,
          2,
          2,
          2,
          2,
          2,
          2,
          2,
          2,
          2,
          2,
          2,
          2,
          2,
          2,
          2,
          2,
          2,
          2,
          2,
          2,
          2,
          2,
          2,
          2,
          2,
          2,
          2,
          2,
          2,
          2,
          2,
          2,
          2,
          2,
          2,
          2,
          2,
          2,
          2,
          2,
          2,
          2,
          2,
          2,
          2,
          2,
          2,
          2,
          2,
          2,
          2,
          2,
          2,
          2,
          2,
          2,
          2,
          2,
          2,
          2,
          2,
          2,
          2,
          2,
          2,
          2,
          2,
          2,
          2,
          2,
          2,
          2,
          2,
          2,
          2,
          2,
          2,
          2,
          2,
          2,
          2,
          2,
          2,
          2,
          2,
          2,
          2,
          2,
          2,
          2,
          2,
          2,
          2,
          2,
          2,
          2,
          2,
          2,
          2,
          2,
          2,
          2,
          2,
          2,
          2,
          2,
          2,
          2,
          2,
          2,
          2,
          2,
          2,
          2,
          2,
          2,
          2,
          2,
          2,
          2,
          2,
          2,
          2,
          2,
          2,
          2,
          2,
          2,
          2,
          2,
          2,
          2,
          2,
          2,
          2,
          2,
          2,
          2,
          2,
          2,
          2,
          2,
          2,
          2,
          2,
          2,
          2,
          2,
          2,
          2,
          2,
          2,
          2,
          2,
          2,
          2,
          2,
          2,
          2,
          2,
          2,
          2,
          2,
          2,
          2,
          2,
          2,
          2,
          2,
          2,
          2,
          2,
          2,
          2,
          2,
          2,
          2,
          2,
          2,
          2,
          2,
          2,
          2,
          2,
          2,
          2,
          2,
          2,
          2,
          2,
          2,
          2,
          2,
          2,
          2,
          2,
          2,
          2,
          2,
          2,
          2,
          2,
          2,
          2,
          2,
          2,
          2,
          2,
          2,
          2,
          2,
          2,
          2,
          2,
          2,
          2,
          2,
          2,
          2,
          2,
          2,
          2,
          2,
          2,
          2,
          2,
          2,
          2,
          2,
          2,
          2,
          2,
          2,
          2,
          2,
          2,
          2,
          2,
          2,
          2,
          2,
          2,
          2,
          2,
          2,
          2,
          2,
          2,
          2,
          2,
          2,
          2,
          2,
          2,
          2,
          2,
          2,
          2,
          2,
          2,
          2,
          2,
          2,
          2,
          2,
          2,
          2,
          2,
          2,
          2,
          2,
          2,
          2,
          2,
          2,
          2,
          2,
          2,
          2,
          2,
          2,
          2,
          2,
          2,
          2,
          2,
          2,
          2,
          2,
          2,
          2,
          2,
          2,
          2,
          2,
          2,
          2,
          2,
          2,
          2,
          2,
          2,
          2,
          2,
          2,
          2,
          2,
          2,
          2,
          2,
          2,
          2,
          2,
          2,
          2,
          2,
          2,
          2,
          2,
          2,
          2,
          2,
          2,
          2,
          2,
          2,
          2,
          2,
          2,
          2,
          2,
          2,
          2,
          2,
          2,
          2,
          2,
          2,
          2,
          2,
          2,
          2,
          2,
          2,
          2,
          2,
          2,
          1,
          1,
          1,
          1,
          1,
          1,
          1,
          1,
          1,
          1,
          1,
          1,
          1,
          1,
          1,
          1,
          1,
          1,
          1,
          1,
          1,
          1,
          1,
          1,
          1,
          1,
          1,
          1,
          1,
          1,
          1,
          1,
          1,
          1,
          1,
          1,
          1,
          1,
          1,
          1,
          1,
          1,
          1,
          1,
          1,
          1,
          1,
          1,
          1,
          1,
          1,
          1,
          1,
          1,
          1,
          1,
          1,
          1,
          1,
          1,
          1,
          1,
          1,
          1,
          1,
          1,
          1,
          1,
          1,
          1,
          1,
          1,
          1,
          1,
          1,
          1,
          1,
          1,
          1,
          1,
          1,
          1,
          1,
          1,
          1,
          1,
          1,
          1,
          1,
          1,
          1,
          1,
          1,
          1,
          1,
          1,
          1,
          1,
          1,
          1,
          1,
          1,
          1,
          1,
          1,
          1,
          1,
          1,
          1,
          1,
          1,
          1,
          1,
          1,
          1,
          1,
          1,
          1,
          1,
          1,
          1,
          1,
          1,
          1,
          1,
          1,
          1,
          1,
          1,
          1,
          1,
          1,
          1,
          1,
          1,
          1,
          1,
          1,
          1,
          1,
          1,
          1,
          1,
          1,
          1,
          1,
          1,
          1,
          1,
          1,
          1,
          1,
          1,
          1,
          1,
          1,
          1,
          1,
          1,
          1,
          1,
          1,
          1,
          1,
          1,
          1,
          1,
          1,
          1,
          1,
          1,
          1,
          1,
          1,
          1,
          1,
          1,
          1,
          1,
          1,
          1,
          1,
          1,
          1,
          1,
          1,
          1,
          1,
          1,
          1,
          1,
          1,
          1,
          1,
          1,
          1,
          1,
          1,
          1,
          1,
          1,
          1,
          1,
          1,
          1,
          1,
          1,
          1,
          1,
          1,
          1,
          1,
          1,
          1,
          1,
          1,
          1,
          1,
          1,
          1,
          1,
          1,
          1,
          1,
          1,
          1,
          1,
          1,
          1,
          1,
          1,
          1,
          1,
          1,
          1,
          1,
          1,
          1,
          1,
          1,
          1,
          1,
          1,
          1,
          1,
          1,
          1,
          1,
          1,
          1,
          1,
          1,
          1,
          1,
          1,
          1,
          1,
          1,
          1,
          1,
          1,
          1,
          1,
          1,
          1,
          1,
          1,
          1,
          1,
          1,
          1,
          1,
          1,
          1,
          1,
          1,
          1,
          1,
          1,
          1,
          1,
          1,
          1,
          1,
          1,
          1,
          1,
          1,
          1,
          1,
          1,
          1,
          1,
          1,
          1,
          1,
          1,
          1,
          1,
          1,
          1,
          1,
          1,
          1,
          1,
          1,
          1,
          1,
          1,
          1,
          1,
          1,
          1,
          1,
          1,
          1,
          1,
          1,
          1,
          1,
          1,
          1,
          1,
          1,
          1,
          1,
          1,
          1,
          1,
          1,
          1,
          1,
          1,
          1,
          1,
          1,
          1,
          1,
          1,
          1,
          1,
          1,
          1,
          1,
          1,
          1,
          1,
          1,
          1,
          1,
          1,
          1,
          1,
          1,
          1,
          1,
          1,
          1,
          1,
          1,
          1,
          1,
          1,
          1,
          1,
          1,
          1,
          1,
          1,
          1,
          1,
          1,
          1,
          1,
          1,
          1,
          1,
          1,
          1,
          1,
          1,
          1,
          1,
          1,
          1,
          1,
          1,
          1,
          1,
          1,
          1,
          1,
          1,
          1,
          1,
          1,
          1,
          1,
          1,
          1,
          1,
          1,
          1,
          1,
          1,
          1,
          1,
          1,
          1,
          1,
          1,
          1,
          1,
          1,
          1,
          1,
          1,
          1,
          1,
          1,
          1,
          1,
          1,
          1,
          1,
          1,
          1,
          1,
          1,
          1,
          1,
          1,
          1,
          1,
          1,
          1,
          1,
          1,
          1,
          1,
          1,
          1,
          1,
          1,
          1,
          1,
          1,
          1,
          1,
          1,
          1,
          1,
          1,
          1,
          1,
          1,
          1,
          1,
          1,
          1,
          1,
          1,
          1,
          1,
          1,
          1,
          1,
          1,
          1,
          1,
          1,
          1,
          1,
          1,
          1,
          1,
          1,
          1,
          1,
          1,
          1,
          1,
          1,
          1,
          1,
          1,
          1,
          1,
          1,
          1,
          1,
          1,
          1,
          1,
          1,
          1,
          1,
          1,
          1,
          1,
          1,
          1,
          1,
          1,
          1,
          1,
          1,
          1,
          1,
          1,
          1,
          1,
          1,
          1,
          1,
          1,
          1
         ],
         "xaxis": "x",
         "yaxis": "y"
        }
       ],
       "layout": {
        "barmode": "relative",
        "legend": {
         "title": {
          "text": "variable"
         },
         "tracegroupgap": 0
        },
        "showlegend": false,
        "template": {
         "data": {
          "bar": [
           {
            "error_x": {
             "color": "#2a3f5f"
            },
            "error_y": {
             "color": "#2a3f5f"
            },
            "marker": {
             "line": {
              "color": "#E5ECF6",
              "width": 0.5
             },
             "pattern": {
              "fillmode": "overlay",
              "size": 10,
              "solidity": 0.2
             }
            },
            "type": "bar"
           }
          ],
          "barpolar": [
           {
            "marker": {
             "line": {
              "color": "#E5ECF6",
              "width": 0.5
             },
             "pattern": {
              "fillmode": "overlay",
              "size": 10,
              "solidity": 0.2
             }
            },
            "type": "barpolar"
           }
          ],
          "carpet": [
           {
            "aaxis": {
             "endlinecolor": "#2a3f5f",
             "gridcolor": "white",
             "linecolor": "white",
             "minorgridcolor": "white",
             "startlinecolor": "#2a3f5f"
            },
            "baxis": {
             "endlinecolor": "#2a3f5f",
             "gridcolor": "white",
             "linecolor": "white",
             "minorgridcolor": "white",
             "startlinecolor": "#2a3f5f"
            },
            "type": "carpet"
           }
          ],
          "choropleth": [
           {
            "colorbar": {
             "outlinewidth": 0,
             "ticks": ""
            },
            "type": "choropleth"
           }
          ],
          "contour": [
           {
            "colorbar": {
             "outlinewidth": 0,
             "ticks": ""
            },
            "colorscale": [
             [
              0,
              "#0d0887"
             ],
             [
              0.1111111111111111,
              "#46039f"
             ],
             [
              0.2222222222222222,
              "#7201a8"
             ],
             [
              0.3333333333333333,
              "#9c179e"
             ],
             [
              0.4444444444444444,
              "#bd3786"
             ],
             [
              0.5555555555555556,
              "#d8576b"
             ],
             [
              0.6666666666666666,
              "#ed7953"
             ],
             [
              0.7777777777777778,
              "#fb9f3a"
             ],
             [
              0.8888888888888888,
              "#fdca26"
             ],
             [
              1,
              "#f0f921"
             ]
            ],
            "type": "contour"
           }
          ],
          "contourcarpet": [
           {
            "colorbar": {
             "outlinewidth": 0,
             "ticks": ""
            },
            "type": "contourcarpet"
           }
          ],
          "heatmap": [
           {
            "colorbar": {
             "outlinewidth": 0,
             "ticks": ""
            },
            "colorscale": [
             [
              0,
              "#0d0887"
             ],
             [
              0.1111111111111111,
              "#46039f"
             ],
             [
              0.2222222222222222,
              "#7201a8"
             ],
             [
              0.3333333333333333,
              "#9c179e"
             ],
             [
              0.4444444444444444,
              "#bd3786"
             ],
             [
              0.5555555555555556,
              "#d8576b"
             ],
             [
              0.6666666666666666,
              "#ed7953"
             ],
             [
              0.7777777777777778,
              "#fb9f3a"
             ],
             [
              0.8888888888888888,
              "#fdca26"
             ],
             [
              1,
              "#f0f921"
             ]
            ],
            "type": "heatmap"
           }
          ],
          "heatmapgl": [
           {
            "colorbar": {
             "outlinewidth": 0,
             "ticks": ""
            },
            "colorscale": [
             [
              0,
              "#0d0887"
             ],
             [
              0.1111111111111111,
              "#46039f"
             ],
             [
              0.2222222222222222,
              "#7201a8"
             ],
             [
              0.3333333333333333,
              "#9c179e"
             ],
             [
              0.4444444444444444,
              "#bd3786"
             ],
             [
              0.5555555555555556,
              "#d8576b"
             ],
             [
              0.6666666666666666,
              "#ed7953"
             ],
             [
              0.7777777777777778,
              "#fb9f3a"
             ],
             [
              0.8888888888888888,
              "#fdca26"
             ],
             [
              1,
              "#f0f921"
             ]
            ],
            "type": "heatmapgl"
           }
          ],
          "histogram": [
           {
            "marker": {
             "pattern": {
              "fillmode": "overlay",
              "size": 10,
              "solidity": 0.2
             }
            },
            "type": "histogram"
           }
          ],
          "histogram2d": [
           {
            "colorbar": {
             "outlinewidth": 0,
             "ticks": ""
            },
            "colorscale": [
             [
              0,
              "#0d0887"
             ],
             [
              0.1111111111111111,
              "#46039f"
             ],
             [
              0.2222222222222222,
              "#7201a8"
             ],
             [
              0.3333333333333333,
              "#9c179e"
             ],
             [
              0.4444444444444444,
              "#bd3786"
             ],
             [
              0.5555555555555556,
              "#d8576b"
             ],
             [
              0.6666666666666666,
              "#ed7953"
             ],
             [
              0.7777777777777778,
              "#fb9f3a"
             ],
             [
              0.8888888888888888,
              "#fdca26"
             ],
             [
              1,
              "#f0f921"
             ]
            ],
            "type": "histogram2d"
           }
          ],
          "histogram2dcontour": [
           {
            "colorbar": {
             "outlinewidth": 0,
             "ticks": ""
            },
            "colorscale": [
             [
              0,
              "#0d0887"
             ],
             [
              0.1111111111111111,
              "#46039f"
             ],
             [
              0.2222222222222222,
              "#7201a8"
             ],
             [
              0.3333333333333333,
              "#9c179e"
             ],
             [
              0.4444444444444444,
              "#bd3786"
             ],
             [
              0.5555555555555556,
              "#d8576b"
             ],
             [
              0.6666666666666666,
              "#ed7953"
             ],
             [
              0.7777777777777778,
              "#fb9f3a"
             ],
             [
              0.8888888888888888,
              "#fdca26"
             ],
             [
              1,
              "#f0f921"
             ]
            ],
            "type": "histogram2dcontour"
           }
          ],
          "mesh3d": [
           {
            "colorbar": {
             "outlinewidth": 0,
             "ticks": ""
            },
            "type": "mesh3d"
           }
          ],
          "parcoords": [
           {
            "line": {
             "colorbar": {
              "outlinewidth": 0,
              "ticks": ""
             }
            },
            "type": "parcoords"
           }
          ],
          "pie": [
           {
            "automargin": true,
            "type": "pie"
           }
          ],
          "scatter": [
           {
            "fillpattern": {
             "fillmode": "overlay",
             "size": 10,
             "solidity": 0.2
            },
            "type": "scatter"
           }
          ],
          "scatter3d": [
           {
            "line": {
             "colorbar": {
              "outlinewidth": 0,
              "ticks": ""
             }
            },
            "marker": {
             "colorbar": {
              "outlinewidth": 0,
              "ticks": ""
             }
            },
            "type": "scatter3d"
           }
          ],
          "scattercarpet": [
           {
            "marker": {
             "colorbar": {
              "outlinewidth": 0,
              "ticks": ""
             }
            },
            "type": "scattercarpet"
           }
          ],
          "scattergeo": [
           {
            "marker": {
             "colorbar": {
              "outlinewidth": 0,
              "ticks": ""
             }
            },
            "type": "scattergeo"
           }
          ],
          "scattergl": [
           {
            "marker": {
             "colorbar": {
              "outlinewidth": 0,
              "ticks": ""
             }
            },
            "type": "scattergl"
           }
          ],
          "scattermapbox": [
           {
            "marker": {
             "colorbar": {
              "outlinewidth": 0,
              "ticks": ""
             }
            },
            "type": "scattermapbox"
           }
          ],
          "scatterpolar": [
           {
            "marker": {
             "colorbar": {
              "outlinewidth": 0,
              "ticks": ""
             }
            },
            "type": "scatterpolar"
           }
          ],
          "scatterpolargl": [
           {
            "marker": {
             "colorbar": {
              "outlinewidth": 0,
              "ticks": ""
             }
            },
            "type": "scatterpolargl"
           }
          ],
          "scatterternary": [
           {
            "marker": {
             "colorbar": {
              "outlinewidth": 0,
              "ticks": ""
             }
            },
            "type": "scatterternary"
           }
          ],
          "surface": [
           {
            "colorbar": {
             "outlinewidth": 0,
             "ticks": ""
            },
            "colorscale": [
             [
              0,
              "#0d0887"
             ],
             [
              0.1111111111111111,
              "#46039f"
             ],
             [
              0.2222222222222222,
              "#7201a8"
             ],
             [
              0.3333333333333333,
              "#9c179e"
             ],
             [
              0.4444444444444444,
              "#bd3786"
             ],
             [
              0.5555555555555556,
              "#d8576b"
             ],
             [
              0.6666666666666666,
              "#ed7953"
             ],
             [
              0.7777777777777778,
              "#fb9f3a"
             ],
             [
              0.8888888888888888,
              "#fdca26"
             ],
             [
              1,
              "#f0f921"
             ]
            ],
            "type": "surface"
           }
          ],
          "table": [
           {
            "cells": {
             "fill": {
              "color": "#EBF0F8"
             },
             "line": {
              "color": "white"
             }
            },
            "header": {
             "fill": {
              "color": "#C8D4E3"
             },
             "line": {
              "color": "white"
             }
            },
            "type": "table"
           }
          ]
         },
         "layout": {
          "annotationdefaults": {
           "arrowcolor": "#2a3f5f",
           "arrowhead": 0,
           "arrowwidth": 1
          },
          "autotypenumbers": "strict",
          "coloraxis": {
           "colorbar": {
            "outlinewidth": 0,
            "ticks": ""
           }
          },
          "colorscale": {
           "diverging": [
            [
             0,
             "#8e0152"
            ],
            [
             0.1,
             "#c51b7d"
            ],
            [
             0.2,
             "#de77ae"
            ],
            [
             0.3,
             "#f1b6da"
            ],
            [
             0.4,
             "#fde0ef"
            ],
            [
             0.5,
             "#f7f7f7"
            ],
            [
             0.6,
             "#e6f5d0"
            ],
            [
             0.7,
             "#b8e186"
            ],
            [
             0.8,
             "#7fbc41"
            ],
            [
             0.9,
             "#4d9221"
            ],
            [
             1,
             "#276419"
            ]
           ],
           "sequential": [
            [
             0,
             "#0d0887"
            ],
            [
             0.1111111111111111,
             "#46039f"
            ],
            [
             0.2222222222222222,
             "#7201a8"
            ],
            [
             0.3333333333333333,
             "#9c179e"
            ],
            [
             0.4444444444444444,
             "#bd3786"
            ],
            [
             0.5555555555555556,
             "#d8576b"
            ],
            [
             0.6666666666666666,
             "#ed7953"
            ],
            [
             0.7777777777777778,
             "#fb9f3a"
            ],
            [
             0.8888888888888888,
             "#fdca26"
            ],
            [
             1,
             "#f0f921"
            ]
           ],
           "sequentialminus": [
            [
             0,
             "#0d0887"
            ],
            [
             0.1111111111111111,
             "#46039f"
            ],
            [
             0.2222222222222222,
             "#7201a8"
            ],
            [
             0.3333333333333333,
             "#9c179e"
            ],
            [
             0.4444444444444444,
             "#bd3786"
            ],
            [
             0.5555555555555556,
             "#d8576b"
            ],
            [
             0.6666666666666666,
             "#ed7953"
            ],
            [
             0.7777777777777778,
             "#fb9f3a"
            ],
            [
             0.8888888888888888,
             "#fdca26"
            ],
            [
             1,
             "#f0f921"
            ]
           ]
          },
          "colorway": [
           "#636efa",
           "#EF553B",
           "#00cc96",
           "#ab63fa",
           "#FFA15A",
           "#19d3f3",
           "#FF6692",
           "#B6E880",
           "#FF97FF",
           "#FECB52"
          ],
          "font": {
           "color": "#2a3f5f"
          },
          "geo": {
           "bgcolor": "white",
           "lakecolor": "white",
           "landcolor": "#E5ECF6",
           "showlakes": true,
           "showland": true,
           "subunitcolor": "white"
          },
          "hoverlabel": {
           "align": "left"
          },
          "hovermode": "closest",
          "mapbox": {
           "style": "light"
          },
          "paper_bgcolor": "white",
          "plot_bgcolor": "#E5ECF6",
          "polar": {
           "angularaxis": {
            "gridcolor": "white",
            "linecolor": "white",
            "ticks": ""
           },
           "bgcolor": "#E5ECF6",
           "radialaxis": {
            "gridcolor": "white",
            "linecolor": "white",
            "ticks": ""
           }
          },
          "scene": {
           "xaxis": {
            "backgroundcolor": "#E5ECF6",
            "gridcolor": "white",
            "gridwidth": 2,
            "linecolor": "white",
            "showbackground": true,
            "ticks": "",
            "zerolinecolor": "white"
           },
           "yaxis": {
            "backgroundcolor": "#E5ECF6",
            "gridcolor": "white",
            "gridwidth": 2,
            "linecolor": "white",
            "showbackground": true,
            "ticks": "",
            "zerolinecolor": "white"
           },
           "zaxis": {
            "backgroundcolor": "#E5ECF6",
            "gridcolor": "white",
            "gridwidth": 2,
            "linecolor": "white",
            "showbackground": true,
            "ticks": "",
            "zerolinecolor": "white"
           }
          },
          "shapedefaults": {
           "line": {
            "color": "#2a3f5f"
           }
          },
          "ternary": {
           "aaxis": {
            "gridcolor": "white",
            "linecolor": "white",
            "ticks": ""
           },
           "baxis": {
            "gridcolor": "white",
            "linecolor": "white",
            "ticks": ""
           },
           "bgcolor": "#E5ECF6",
           "caxis": {
            "gridcolor": "white",
            "linecolor": "white",
            "ticks": ""
           }
          },
          "title": {
           "x": 0.05
          },
          "xaxis": {
           "automargin": true,
           "gridcolor": "white",
           "linecolor": "white",
           "ticks": "",
           "title": {
            "standoff": 15
           },
           "zerolinecolor": "white",
           "zerolinewidth": 2
          },
          "yaxis": {
           "automargin": true,
           "gridcolor": "white",
           "linecolor": "white",
           "ticks": "",
           "title": {
            "standoff": 15
           },
           "zerolinecolor": "white",
           "zerolinewidth": 2
          }
         }
        },
        "title": {
         "text": " Histogram of the number of customer reviews per restaurant in Philadelphia"
        },
        "xaxis": {
         "anchor": "y",
         "domain": [
          0,
          1
         ],
         "title": {
          "text": "Number of customer reviews"
         }
        },
        "yaxis": {
         "anchor": "x",
         "domain": [
          0,
          1
         ],
         "title": {
          "text": "Count of restaurants"
         }
        }
       }
      }
     },
     "metadata": {},
     "output_type": "display_data"
    }
   ],
   "source": [
    "# Number of reviews per restaurant\n",
    "review_counts = resto_reviews_philly[\"name\"].value_counts()\n",
    "\n",
    "fig = px.histogram(review_counts, \n",
    "                   title = \" Histogram of the number of customer reviews per restaurant in Philadelphia\")\n",
    "\n",
    "fig.update_layout(xaxis_title = \"Number of customer reviews\", \n",
    "                  yaxis_title = \"Count of restaurants\", \n",
    "                  showlegend = False)\n",
    "\n",
    "fig.show()"
   ]
  },
  {
   "cell_type": "markdown",
   "metadata": {},
   "source": [
    "In particular, which are the most frequently reviews restaurants in the city? And what are their average ratings and types of restaurant? We can observe from below that the cuisine styles of the top 20 most reviewed restaurants are quite diverse, as there are cafes, Chinese restaurants and steakhouses among other types. Furthermore, most of the restaurants receive average ratings of at least 4. This could imply that customers in Philadelphia tend to give their reviews to restaurants which they like, albeit there is an exception of Geno's Steaks which only has an average rating of around 2.5."
   ]
  },
  {
   "cell_type": "code",
   "execution_count": 21,
   "metadata": {},
   "outputs": [
    {
     "data": {
      "text/html": [
       "<div>\n",
       "<style scoped>\n",
       "    .dataframe tbody tr th:only-of-type {\n",
       "        vertical-align: middle;\n",
       "    }\n",
       "\n",
       "    .dataframe tbody tr th {\n",
       "        vertical-align: top;\n",
       "    }\n",
       "\n",
       "    .dataframe thead th {\n",
       "        text-align: right;\n",
       "    }\n",
       "</style>\n",
       "<table border=\"1\" class=\"dataframe\">\n",
       "  <thead>\n",
       "    <tr style=\"text-align: right;\">\n",
       "      <th></th>\n",
       "      <th>reviews_received</th>\n",
       "      <th>average_rating</th>\n",
       "    </tr>\n",
       "    <tr>\n",
       "      <th>name</th>\n",
       "      <th></th>\n",
       "      <th></th>\n",
       "    </tr>\n",
       "  </thead>\n",
       "  <tbody>\n",
       "    <tr>\n",
       "      <th>Reading Terminal Market</th>\n",
       "      <td>888</td>\n",
       "      <td>4.603604</td>\n",
       "    </tr>\n",
       "    <tr>\n",
       "      <th>Pat's King of Steaks</th>\n",
       "      <td>624</td>\n",
       "      <td>3.205128</td>\n",
       "    </tr>\n",
       "    <tr>\n",
       "      <th>Green Eggs Café</th>\n",
       "      <td>560</td>\n",
       "      <td>3.882143</td>\n",
       "    </tr>\n",
       "    <tr>\n",
       "      <th>Sabrina's Café</th>\n",
       "      <td>530</td>\n",
       "      <td>4.173585</td>\n",
       "    </tr>\n",
       "    <tr>\n",
       "      <th>Dim Sum Garden</th>\n",
       "      <td>523</td>\n",
       "      <td>3.923518</td>\n",
       "    </tr>\n",
       "    <tr>\n",
       "      <th>El Vez</th>\n",
       "      <td>511</td>\n",
       "      <td>4.017613</td>\n",
       "    </tr>\n",
       "    <tr>\n",
       "      <th>Geno's Steaks</th>\n",
       "      <td>505</td>\n",
       "      <td>2.493069</td>\n",
       "    </tr>\n",
       "    <tr>\n",
       "      <th>Barbuzzo</th>\n",
       "      <td>440</td>\n",
       "      <td>4.279545</td>\n",
       "    </tr>\n",
       "    <tr>\n",
       "      <th>Zahav</th>\n",
       "      <td>439</td>\n",
       "      <td>4.526196</td>\n",
       "    </tr>\n",
       "    <tr>\n",
       "      <th>Parc</th>\n",
       "      <td>426</td>\n",
       "      <td>4.239437</td>\n",
       "    </tr>\n",
       "    <tr>\n",
       "      <th>Han Dynasty</th>\n",
       "      <td>417</td>\n",
       "      <td>4.127098</td>\n",
       "    </tr>\n",
       "    <tr>\n",
       "      <th>Federal Donuts</th>\n",
       "      <td>414</td>\n",
       "      <td>4.089372</td>\n",
       "    </tr>\n",
       "    <tr>\n",
       "      <th>Jim's South St</th>\n",
       "      <td>395</td>\n",
       "      <td>3.663291</td>\n",
       "    </tr>\n",
       "    <tr>\n",
       "      <th>Dalessandro’s Steaks &amp; Hoagies</th>\n",
       "      <td>389</td>\n",
       "      <td>4.267352</td>\n",
       "    </tr>\n",
       "    <tr>\n",
       "      <th>The Dandelion</th>\n",
       "      <td>384</td>\n",
       "      <td>4.263021</td>\n",
       "    </tr>\n",
       "    <tr>\n",
       "      <th>Monk's Cafe</th>\n",
       "      <td>351</td>\n",
       "      <td>3.968661</td>\n",
       "    </tr>\n",
       "    <tr>\n",
       "      <th>Nan Zhou Hand Drawn Noodle House</th>\n",
       "      <td>343</td>\n",
       "      <td>4.145773</td>\n",
       "    </tr>\n",
       "    <tr>\n",
       "      <th>Talula's Garden</th>\n",
       "      <td>324</td>\n",
       "      <td>4.453704</td>\n",
       "    </tr>\n",
       "    <tr>\n",
       "      <th>Tommy DiNic's</th>\n",
       "      <td>323</td>\n",
       "      <td>4.043344</td>\n",
       "    </tr>\n",
       "    <tr>\n",
       "      <th>Amada</th>\n",
       "      <td>305</td>\n",
       "      <td>4.222951</td>\n",
       "    </tr>\n",
       "  </tbody>\n",
       "</table>\n",
       "</div>"
      ],
      "text/plain": [
       "                                  reviews_received  average_rating\n",
       "name                                                              \n",
       "Reading Terminal Market                        888        4.603604\n",
       "Pat's King of Steaks                           624        3.205128\n",
       "Green Eggs Café                                560        3.882143\n",
       "Sabrina's Café                                 530        4.173585\n",
       "Dim Sum Garden                                 523        3.923518\n",
       "El Vez                                         511        4.017613\n",
       "Geno's Steaks                                  505        2.493069\n",
       "Barbuzzo                                       440        4.279545\n",
       "Zahav                                          439        4.526196\n",
       "Parc                                           426        4.239437\n",
       "Han Dynasty                                    417        4.127098\n",
       "Federal Donuts                                 414        4.089372\n",
       "Jim's South St                                 395        3.663291\n",
       "Dalessandro’s Steaks & Hoagies                 389        4.267352\n",
       "The Dandelion                                  384        4.263021\n",
       "Monk's Cafe                                    351        3.968661\n",
       "Nan Zhou Hand Drawn Noodle House               343        4.145773\n",
       "Talula's Garden                                324        4.453704\n",
       "Tommy DiNic's                                  323        4.043344\n",
       "Amada                                          305        4.222951"
      ]
     },
     "execution_count": 21,
     "metadata": {},
     "output_type": "execute_result"
    }
   ],
   "source": [
    "# Getting top 20 restaurants in terms of reviews received\n",
    "top_20_counts = review_counts[:20]\n",
    "\n",
    "# Getting average ratings of top 20 restos\n",
    "top_20_restos = top_20_counts.index\n",
    "top_20_avg_ratings = resto_reviews_philly.query(\"name in @top_20_restos\").groupby(\"name\")[\"rating\"].mean()\n",
    "\n",
    "top_20s = pd.DataFrame(data = {\"reviews_received\": top_20_counts, \n",
    "                               \"average_rating\": top_20_avg_ratings}, \n",
    "                       index = top_20_restos)\n",
    "top_20s"
   ]
  },
  {
   "cell_type": "markdown",
   "metadata": {},
   "source": [
    "Below we also look at the proportion of reviews about the top 20 most reviewed restaurants out of all the restaurants in the dataset. They altogether received about 9% of the reviews from customers in Philadelphia, which is not a small proportion."
   ]
  },
  {
   "cell_type": "code",
   "execution_count": 22,
   "metadata": {},
   "outputs": [
    {
     "name": "stdout",
     "output_type": "stream",
     "text": [
      "There are 4691 restaurants in Philadelphia under the current dataset, and the top 20 most reviewed restaurants received 8.82% of reviews.\n"
     ]
    }
   ],
   "source": [
    "unique_restos = resto_reviews_philly[\"name\"].unique()\n",
    "n_restos = len(unique_restos)\n",
    "print(f\"There are {n_restos} restaurants in Philadelphia under the current dataset, and the top 20 most reviewed restaurants received {sum(top_20s[\"reviews_received\"]) / resto_reviews_philly.shape[0] * 100:.2f}% of reviews.\")"
   ]
  },
  {
   "cell_type": "markdown",
   "metadata": {},
   "source": [
    "### A brief look on the evolution of ratings over time\n",
    "\n",
    "Apart from the distribution of the number of reviews among restaurants, we can also explore how the customer ratings evolved throughout the period covered by the data. The dates of the reviews are originally recorded on the second level which will be too fine grained for understanding the rating trends. Therefore, we will start by exploring time-related data on a monthly level. For starters, the restaurant reviews covered in this dataset were created from May 2005 to January 2022. "
   ]
  },
  {
   "cell_type": "code",
   "execution_count": 23,
   "metadata": {},
   "outputs": [
    {
     "data": {
      "text/plain": [
       "count                           103099\n",
       "mean     2015-11-21 03:49:47.260787968\n",
       "min                2005-05-01 00:00:00\n",
       "25%                2013-06-01 00:00:00\n",
       "50%                2016-03-01 00:00:00\n",
       "75%                2018-08-01 00:00:00\n",
       "max                2022-01-01 00:00:00\n",
       "Name: date, dtype: object"
      ]
     },
     "execution_count": 23,
     "metadata": {},
     "output_type": "execute_result"
    }
   ],
   "source": [
    "# Aggregating dates to monthly level\n",
    "resto_reviews_philly[\"date\"] = resto_reviews_philly[\"date\"].dt.to_period(\"M\").dt.to_timestamp()\n",
    "resto_reviews_philly[\"date\"].describe()"
   ]
  },
  {
   "cell_type": "markdown",
   "metadata": {},
   "source": [
    "It will also be useful to look at how the average ratings evolved throughout this period, and more importantly how many reviews (or observations) there are for each month in the dataset, since this will affect how certain we can say about the food preference of customers. \n",
    "\n",
    "In the line plot on the left below, the monthly average rating throughout the period fluctuated around 3.7, albeit there was some erratic movement up to the end of 2007. What could be the reasons? The line plot on the right showing the number of reviews per month might give us an answer, namely, there were very few (sometimes even only a single digit) reviews for each month until December 2007, and thus the variances of the average rating for these months will be higher than subsequent months starting from 2008 when there were substantively more observations. We shall bear this characteristic in mind as we analyse the evolution of food trends in later sections, and we will discuss how to handle this accordingly.\n",
    "\n",
    "Another interesting observations from the right line plot is that the number of reviews had a sharp drop since February 2020. Given how countries (including the US) responded to the COVID-19 outbreak by lockdowns (one of the measures being the prohibition of dine-in at restaurants), it is then not surprising that customers had fewer (or even no) chances to visit restaurants and thus not able to give as many reviews as before the COVID outbreak. "
   ]
  },
  {
   "cell_type": "code",
   "execution_count": 24,
   "metadata": {},
   "outputs": [
    {
     "data": {
      "application/vnd.plotly.v1+json": {
       "config": {
        "plotlyServerURL": "https://plot.ly"
       },
       "data": [
        {
         "mode": "lines",
         "showlegend": false,
         "type": "scatter",
         "x": [
          "2005-05-01T00:00:00",
          "2005-06-01T00:00:00",
          "2005-07-01T00:00:00",
          "2005-08-01T00:00:00",
          "2005-09-01T00:00:00",
          "2005-11-01T00:00:00",
          "2005-12-01T00:00:00",
          "2006-01-01T00:00:00",
          "2006-02-01T00:00:00",
          "2006-04-01T00:00:00",
          "2006-05-01T00:00:00",
          "2006-06-01T00:00:00",
          "2006-07-01T00:00:00",
          "2006-08-01T00:00:00",
          "2006-09-01T00:00:00",
          "2006-10-01T00:00:00",
          "2006-11-01T00:00:00",
          "2006-12-01T00:00:00",
          "2007-01-01T00:00:00",
          "2007-02-01T00:00:00",
          "2007-03-01T00:00:00",
          "2007-04-01T00:00:00",
          "2007-05-01T00:00:00",
          "2007-06-01T00:00:00",
          "2007-07-01T00:00:00",
          "2007-08-01T00:00:00",
          "2007-09-01T00:00:00",
          "2007-10-01T00:00:00",
          "2007-11-01T00:00:00",
          "2007-12-01T00:00:00",
          "2008-01-01T00:00:00",
          "2008-02-01T00:00:00",
          "2008-03-01T00:00:00",
          "2008-04-01T00:00:00",
          "2008-05-01T00:00:00",
          "2008-06-01T00:00:00",
          "2008-07-01T00:00:00",
          "2008-08-01T00:00:00",
          "2008-09-01T00:00:00",
          "2008-10-01T00:00:00",
          "2008-11-01T00:00:00",
          "2008-12-01T00:00:00",
          "2009-01-01T00:00:00",
          "2009-02-01T00:00:00",
          "2009-03-01T00:00:00",
          "2009-04-01T00:00:00",
          "2009-05-01T00:00:00",
          "2009-06-01T00:00:00",
          "2009-07-01T00:00:00",
          "2009-08-01T00:00:00",
          "2009-09-01T00:00:00",
          "2009-10-01T00:00:00",
          "2009-11-01T00:00:00",
          "2009-12-01T00:00:00",
          "2010-01-01T00:00:00",
          "2010-02-01T00:00:00",
          "2010-03-01T00:00:00",
          "2010-04-01T00:00:00",
          "2010-05-01T00:00:00",
          "2010-06-01T00:00:00",
          "2010-07-01T00:00:00",
          "2010-08-01T00:00:00",
          "2010-09-01T00:00:00",
          "2010-10-01T00:00:00",
          "2010-11-01T00:00:00",
          "2010-12-01T00:00:00",
          "2011-01-01T00:00:00",
          "2011-02-01T00:00:00",
          "2011-03-01T00:00:00",
          "2011-04-01T00:00:00",
          "2011-05-01T00:00:00",
          "2011-06-01T00:00:00",
          "2011-07-01T00:00:00",
          "2011-08-01T00:00:00",
          "2011-09-01T00:00:00",
          "2011-10-01T00:00:00",
          "2011-11-01T00:00:00",
          "2011-12-01T00:00:00",
          "2012-01-01T00:00:00",
          "2012-02-01T00:00:00",
          "2012-03-01T00:00:00",
          "2012-04-01T00:00:00",
          "2012-05-01T00:00:00",
          "2012-06-01T00:00:00",
          "2012-07-01T00:00:00",
          "2012-08-01T00:00:00",
          "2012-09-01T00:00:00",
          "2012-10-01T00:00:00",
          "2012-11-01T00:00:00",
          "2012-12-01T00:00:00",
          "2013-01-01T00:00:00",
          "2013-02-01T00:00:00",
          "2013-03-01T00:00:00",
          "2013-04-01T00:00:00",
          "2013-05-01T00:00:00",
          "2013-06-01T00:00:00",
          "2013-07-01T00:00:00",
          "2013-08-01T00:00:00",
          "2013-09-01T00:00:00",
          "2013-10-01T00:00:00",
          "2013-11-01T00:00:00",
          "2013-12-01T00:00:00",
          "2014-01-01T00:00:00",
          "2014-02-01T00:00:00",
          "2014-03-01T00:00:00",
          "2014-04-01T00:00:00",
          "2014-05-01T00:00:00",
          "2014-06-01T00:00:00",
          "2014-07-01T00:00:00",
          "2014-08-01T00:00:00",
          "2014-09-01T00:00:00",
          "2014-10-01T00:00:00",
          "2014-11-01T00:00:00",
          "2014-12-01T00:00:00",
          "2015-01-01T00:00:00",
          "2015-02-01T00:00:00",
          "2015-03-01T00:00:00",
          "2015-04-01T00:00:00",
          "2015-05-01T00:00:00",
          "2015-06-01T00:00:00",
          "2015-07-01T00:00:00",
          "2015-08-01T00:00:00",
          "2015-09-01T00:00:00",
          "2015-10-01T00:00:00",
          "2015-11-01T00:00:00",
          "2015-12-01T00:00:00",
          "2016-01-01T00:00:00",
          "2016-02-01T00:00:00",
          "2016-03-01T00:00:00",
          "2016-04-01T00:00:00",
          "2016-05-01T00:00:00",
          "2016-06-01T00:00:00",
          "2016-07-01T00:00:00",
          "2016-08-01T00:00:00",
          "2016-09-01T00:00:00",
          "2016-10-01T00:00:00",
          "2016-11-01T00:00:00",
          "2016-12-01T00:00:00",
          "2017-01-01T00:00:00",
          "2017-02-01T00:00:00",
          "2017-03-01T00:00:00",
          "2017-04-01T00:00:00",
          "2017-05-01T00:00:00",
          "2017-06-01T00:00:00",
          "2017-07-01T00:00:00",
          "2017-08-01T00:00:00",
          "2017-09-01T00:00:00",
          "2017-10-01T00:00:00",
          "2017-11-01T00:00:00",
          "2017-12-01T00:00:00",
          "2018-01-01T00:00:00",
          "2018-02-01T00:00:00",
          "2018-03-01T00:00:00",
          "2018-04-01T00:00:00",
          "2018-05-01T00:00:00",
          "2018-06-01T00:00:00",
          "2018-07-01T00:00:00",
          "2018-08-01T00:00:00",
          "2018-09-01T00:00:00",
          "2018-10-01T00:00:00",
          "2018-11-01T00:00:00",
          "2018-12-01T00:00:00",
          "2019-01-01T00:00:00",
          "2019-02-01T00:00:00",
          "2019-03-01T00:00:00",
          "2019-04-01T00:00:00",
          "2019-05-01T00:00:00",
          "2019-06-01T00:00:00",
          "2019-07-01T00:00:00",
          "2019-08-01T00:00:00",
          "2019-09-01T00:00:00",
          "2019-10-01T00:00:00",
          "2019-11-01T00:00:00",
          "2019-12-01T00:00:00",
          "2020-01-01T00:00:00",
          "2020-02-01T00:00:00",
          "2020-03-01T00:00:00",
          "2020-04-01T00:00:00",
          "2020-05-01T00:00:00",
          "2020-06-01T00:00:00",
          "2020-07-01T00:00:00",
          "2020-08-01T00:00:00",
          "2020-09-01T00:00:00",
          "2020-10-01T00:00:00",
          "2020-11-01T00:00:00",
          "2020-12-01T00:00:00",
          "2021-01-01T00:00:00",
          "2021-02-01T00:00:00",
          "2021-03-01T00:00:00",
          "2021-04-01T00:00:00",
          "2021-05-01T00:00:00",
          "2021-06-01T00:00:00",
          "2021-07-01T00:00:00",
          "2021-08-01T00:00:00",
          "2021-09-01T00:00:00",
          "2021-10-01T00:00:00",
          "2021-11-01T00:00:00",
          "2021-12-01T00:00:00",
          "2022-01-01T00:00:00"
         ],
         "xaxis": "x",
         "y": [
          5,
          1,
          1,
          4,
          3.8,
          5,
          4.333333333333333,
          4.5,
          4,
          3.3333333333333335,
          4.1,
          4.6,
          3.7916666666666665,
          4.25,
          3.782608695652174,
          3.933333333333333,
          3.4,
          4,
          3.8823529411764706,
          3.5180722891566263,
          3.739130434782609,
          3.7058823529411766,
          3.566666666666667,
          4.042553191489362,
          3.8271604938271606,
          4.048387096774194,
          3.8703703703703702,
          4.052631578947368,
          4.041666666666667,
          3.7586206896551726,
          3.9642857142857144,
          3.85,
          3.739130434782609,
          3.671875,
          3.743362831858407,
          3.683098591549296,
          3.710144927536232,
          3.7672955974842766,
          3.5689655172413794,
          3.617021276595745,
          3.6482758620689655,
          3.8689655172413793,
          3.7136563876651985,
          3.6872427983539096,
          3.732824427480916,
          3.5416666666666665,
          3.6135265700483092,
          3.7222222222222223,
          3.57429718875502,
          3.7306501547987616,
          3.6196581196581197,
          3.6740088105726874,
          3.6837606837606836,
          3.83710407239819,
          3.6765432098765434,
          3.6507462686567163,
          3.683923705722071,
          3.6809815950920246,
          3.629032258064516,
          3.669753086419753,
          3.7311557788944723,
          3.6525,
          3.5728155339805827,
          3.654135338345865,
          3.7598944591029024,
          3.7344632768361583,
          3.7489539748953975,
          3.691415313225058,
          3.8132854578096946,
          3.6247464503042597,
          3.666015625,
          3.7595959595959596,
          3.734251968503937,
          3.716504854368932,
          3.562647754137116,
          3.642696629213483,
          3.69937369519833,
          3.7952586206896552,
          3.659056316590563,
          3.668284789644013,
          3.589160839160839,
          3.8233151183970855,
          3.6370510396975426,
          3.7257769652650823,
          3.7175043327556327,
          3.6615646258503403,
          3.678119349005425,
          3.764168190127971,
          3.7211538461538463,
          3.6736842105263157,
          3.790951638065523,
          3.6519434628975267,
          3.6879756468797567,
          3.600297176820208,
          3.7031484257871066,
          3.7187017001545595,
          3.8057432432432434,
          3.7880512091038407,
          3.7667161961367013,
          3.6731707317073172,
          3.759768451519537,
          3.7316666666666665,
          3.88476821192053,
          3.843795620437956,
          3.9023136246786634,
          3.7573221757322175,
          3.844927536231884,
          3.844295302013423,
          3.8360248447204968,
          3.7977401129943504,
          3.7347994825355757,
          3.6897959183673468,
          3.836705202312139,
          3.848137535816619,
          3.8158168574401663,
          3.8266978922716626,
          3.805017103762828,
          3.879330943847073,
          3.7224719101123593,
          3.798773006134969,
          3.8826040554962646,
          3.8446215139442232,
          3.7857142857142856,
          3.74234693877551,
          3.75,
          3.810344827586207,
          3.84375,
          3.852880658436214,
          3.8623949579831933,
          3.8454773869346734,
          3.8792912513842746,
          3.8081321473951717,
          3.7783902976846746,
          3.764904386951631,
          3.688135593220339,
          3.759020618556701,
          3.8605898123324396,
          3.85519801980198,
          3.8970099667774085,
          3.8650887573964496,
          3.8648947951273533,
          3.9242738589211617,
          3.890191897654584,
          3.7826541274817136,
          3.8751289989680084,
          3.91036717062635,
          3.8536585365853657,
          3.889273356401384,
          3.9655963302752295,
          3.815365551425031,
          3.890928725701944,
          3.7888888888888888,
          3.8702928870292888,
          3.9529652351738243,
          3.8284823284823286,
          3.849473684210526,
          3.864864864864865,
          3.870625662778367,
          3.826285714285714,
          3.891025641025641,
          3.811494252873563,
          3.8235981308411215,
          3.9498464687819856,
          3.9157769869513643,
          3.8663157894736844,
          3.8727272727272726,
          3.92497320471597,
          3.8307045215562567,
          3.9041794087665647,
          3.9098621420996817,
          3.8287037037037037,
          3.8635851183765504,
          3.944372574385511,
          3.891041162227603,
          3.906748466257669,
          3.9281210592686002,
          3.956120092378753,
          3.96,
          3.9017094017094016,
          3.9068100358422937,
          3.7633802816901407,
          4.019002375296912,
          3.925553319919517,
          3.91025641025641,
          4.115089514066496,
          4.088397790055248,
          4.068870523415978,
          3.99406528189911,
          3.9065420560747666,
          3.899581589958159,
          3.9683544303797467,
          3.863905325443787,
          3.864912280701754,
          3.7984031936127742,
          3.778947368421053,
          3.931769722814499,
          3.9245283018867925,
          3.840670859538784,
          3.9858156028368796
         ],
         "yaxis": "y"
        },
        {
         "mode": "lines",
         "showlegend": false,
         "type": "scatter",
         "x": [
          "2005-05-01T00:00:00",
          "2005-06-01T00:00:00",
          "2005-07-01T00:00:00",
          "2005-08-01T00:00:00",
          "2005-09-01T00:00:00",
          "2005-11-01T00:00:00",
          "2005-12-01T00:00:00",
          "2006-01-01T00:00:00",
          "2006-02-01T00:00:00",
          "2006-04-01T00:00:00",
          "2006-05-01T00:00:00",
          "2006-06-01T00:00:00",
          "2006-07-01T00:00:00",
          "2006-08-01T00:00:00",
          "2006-09-01T00:00:00",
          "2006-10-01T00:00:00",
          "2006-11-01T00:00:00",
          "2006-12-01T00:00:00",
          "2007-01-01T00:00:00",
          "2007-02-01T00:00:00",
          "2007-03-01T00:00:00",
          "2007-04-01T00:00:00",
          "2007-05-01T00:00:00",
          "2007-06-01T00:00:00",
          "2007-07-01T00:00:00",
          "2007-08-01T00:00:00",
          "2007-09-01T00:00:00",
          "2007-10-01T00:00:00",
          "2007-11-01T00:00:00",
          "2007-12-01T00:00:00",
          "2008-01-01T00:00:00",
          "2008-02-01T00:00:00",
          "2008-03-01T00:00:00",
          "2008-04-01T00:00:00",
          "2008-05-01T00:00:00",
          "2008-06-01T00:00:00",
          "2008-07-01T00:00:00",
          "2008-08-01T00:00:00",
          "2008-09-01T00:00:00",
          "2008-10-01T00:00:00",
          "2008-11-01T00:00:00",
          "2008-12-01T00:00:00",
          "2009-01-01T00:00:00",
          "2009-02-01T00:00:00",
          "2009-03-01T00:00:00",
          "2009-04-01T00:00:00",
          "2009-05-01T00:00:00",
          "2009-06-01T00:00:00",
          "2009-07-01T00:00:00",
          "2009-08-01T00:00:00",
          "2009-09-01T00:00:00",
          "2009-10-01T00:00:00",
          "2009-11-01T00:00:00",
          "2009-12-01T00:00:00",
          "2010-01-01T00:00:00",
          "2010-02-01T00:00:00",
          "2010-03-01T00:00:00",
          "2010-04-01T00:00:00",
          "2010-05-01T00:00:00",
          "2010-06-01T00:00:00",
          "2010-07-01T00:00:00",
          "2010-08-01T00:00:00",
          "2010-09-01T00:00:00",
          "2010-10-01T00:00:00",
          "2010-11-01T00:00:00",
          "2010-12-01T00:00:00",
          "2011-01-01T00:00:00",
          "2011-02-01T00:00:00",
          "2011-03-01T00:00:00",
          "2011-04-01T00:00:00",
          "2011-05-01T00:00:00",
          "2011-06-01T00:00:00",
          "2011-07-01T00:00:00",
          "2011-08-01T00:00:00",
          "2011-09-01T00:00:00",
          "2011-10-01T00:00:00",
          "2011-11-01T00:00:00",
          "2011-12-01T00:00:00",
          "2012-01-01T00:00:00",
          "2012-02-01T00:00:00",
          "2012-03-01T00:00:00",
          "2012-04-01T00:00:00",
          "2012-05-01T00:00:00",
          "2012-06-01T00:00:00",
          "2012-07-01T00:00:00",
          "2012-08-01T00:00:00",
          "2012-09-01T00:00:00",
          "2012-10-01T00:00:00",
          "2012-11-01T00:00:00",
          "2012-12-01T00:00:00",
          "2013-01-01T00:00:00",
          "2013-02-01T00:00:00",
          "2013-03-01T00:00:00",
          "2013-04-01T00:00:00",
          "2013-05-01T00:00:00",
          "2013-06-01T00:00:00",
          "2013-07-01T00:00:00",
          "2013-08-01T00:00:00",
          "2013-09-01T00:00:00",
          "2013-10-01T00:00:00",
          "2013-11-01T00:00:00",
          "2013-12-01T00:00:00",
          "2014-01-01T00:00:00",
          "2014-02-01T00:00:00",
          "2014-03-01T00:00:00",
          "2014-04-01T00:00:00",
          "2014-05-01T00:00:00",
          "2014-06-01T00:00:00",
          "2014-07-01T00:00:00",
          "2014-08-01T00:00:00",
          "2014-09-01T00:00:00",
          "2014-10-01T00:00:00",
          "2014-11-01T00:00:00",
          "2014-12-01T00:00:00",
          "2015-01-01T00:00:00",
          "2015-02-01T00:00:00",
          "2015-03-01T00:00:00",
          "2015-04-01T00:00:00",
          "2015-05-01T00:00:00",
          "2015-06-01T00:00:00",
          "2015-07-01T00:00:00",
          "2015-08-01T00:00:00",
          "2015-09-01T00:00:00",
          "2015-10-01T00:00:00",
          "2015-11-01T00:00:00",
          "2015-12-01T00:00:00",
          "2016-01-01T00:00:00",
          "2016-02-01T00:00:00",
          "2016-03-01T00:00:00",
          "2016-04-01T00:00:00",
          "2016-05-01T00:00:00",
          "2016-06-01T00:00:00",
          "2016-07-01T00:00:00",
          "2016-08-01T00:00:00",
          "2016-09-01T00:00:00",
          "2016-10-01T00:00:00",
          "2016-11-01T00:00:00",
          "2016-12-01T00:00:00",
          "2017-01-01T00:00:00",
          "2017-02-01T00:00:00",
          "2017-03-01T00:00:00",
          "2017-04-01T00:00:00",
          "2017-05-01T00:00:00",
          "2017-06-01T00:00:00",
          "2017-07-01T00:00:00",
          "2017-08-01T00:00:00",
          "2017-09-01T00:00:00",
          "2017-10-01T00:00:00",
          "2017-11-01T00:00:00",
          "2017-12-01T00:00:00",
          "2018-01-01T00:00:00",
          "2018-02-01T00:00:00",
          "2018-03-01T00:00:00",
          "2018-04-01T00:00:00",
          "2018-05-01T00:00:00",
          "2018-06-01T00:00:00",
          "2018-07-01T00:00:00",
          "2018-08-01T00:00:00",
          "2018-09-01T00:00:00",
          "2018-10-01T00:00:00",
          "2018-11-01T00:00:00",
          "2018-12-01T00:00:00",
          "2019-01-01T00:00:00",
          "2019-02-01T00:00:00",
          "2019-03-01T00:00:00",
          "2019-04-01T00:00:00",
          "2019-05-01T00:00:00",
          "2019-06-01T00:00:00",
          "2019-07-01T00:00:00",
          "2019-08-01T00:00:00",
          "2019-09-01T00:00:00",
          "2019-10-01T00:00:00",
          "2019-11-01T00:00:00",
          "2019-12-01T00:00:00",
          "2020-01-01T00:00:00",
          "2020-02-01T00:00:00",
          "2020-03-01T00:00:00",
          "2020-04-01T00:00:00",
          "2020-05-01T00:00:00",
          "2020-06-01T00:00:00",
          "2020-07-01T00:00:00",
          "2020-08-01T00:00:00",
          "2020-09-01T00:00:00",
          "2020-10-01T00:00:00",
          "2020-11-01T00:00:00",
          "2020-12-01T00:00:00",
          "2021-01-01T00:00:00",
          "2021-02-01T00:00:00",
          "2021-03-01T00:00:00",
          "2021-04-01T00:00:00",
          "2021-05-01T00:00:00",
          "2021-06-01T00:00:00",
          "2021-07-01T00:00:00",
          "2021-08-01T00:00:00",
          "2021-09-01T00:00:00",
          "2021-10-01T00:00:00",
          "2021-11-01T00:00:00",
          "2021-12-01T00:00:00",
          "2022-01-01T00:00:00"
         ],
         "xaxis": "x2",
         "y": [
          1,
          1,
          1,
          1,
          5,
          2,
          3,
          4,
          5,
          6,
          10,
          5,
          24,
          16,
          23,
          15,
          10,
          5,
          34,
          83,
          46,
          34,
          30,
          47,
          81,
          62,
          54,
          38,
          48,
          29,
          84,
          80,
          92,
          128,
          113,
          142,
          207,
          159,
          174,
          141,
          145,
          145,
          227,
          243,
          262,
          192,
          207,
          234,
          249,
          323,
          234,
          227,
          234,
          221,
          405,
          335,
          367,
          326,
          372,
          324,
          398,
          400,
          412,
          399,
          379,
          354,
          478,
          431,
          557,
          493,
          512,
          495,
          508,
          515,
          423,
          445,
          479,
          464,
          657,
          618,
          572,
          549,
          529,
          547,
          577,
          588,
          553,
          547,
          520,
          475,
          641,
          566,
          657,
          673,
          667,
          647,
          592,
          703,
          673,
          615,
          691,
          600,
          755,
          685,
          778,
          717,
          690,
          745,
          805,
          885,
          773,
          735,
          692,
          698,
          961,
          854,
          877,
          837,
          890,
          815,
          937,
          1004,
          728,
          784,
          780,
          754,
          800,
          972,
          952,
          796,
          903,
          787,
          907,
          889,
          885,
          776,
          746,
          808,
          903,
          845,
          903,
          964,
          938,
          957,
          969,
          926,
          902,
          867,
          872,
          807,
          926,
          810,
          956,
          978,
          962,
          950,
          999,
          943,
          875,
          936,
          870,
          856,
          977,
          843,
          950,
          935,
          933,
          951,
          981,
          943,
          864,
          887,
          773,
          826,
          815,
          793,
          433,
          175,
          234,
          279,
          355,
          421,
          497,
          468,
          391,
          362,
          363,
          337,
          428,
          478,
          474,
          507,
          570,
          501,
          475,
          469,
          424,
          477,
          282
         ],
         "yaxis": "y2"
        }
       ],
       "layout": {
        "template": {
         "data": {
          "bar": [
           {
            "error_x": {
             "color": "#2a3f5f"
            },
            "error_y": {
             "color": "#2a3f5f"
            },
            "marker": {
             "line": {
              "color": "#E5ECF6",
              "width": 0.5
             },
             "pattern": {
              "fillmode": "overlay",
              "size": 10,
              "solidity": 0.2
             }
            },
            "type": "bar"
           }
          ],
          "barpolar": [
           {
            "marker": {
             "line": {
              "color": "#E5ECF6",
              "width": 0.5
             },
             "pattern": {
              "fillmode": "overlay",
              "size": 10,
              "solidity": 0.2
             }
            },
            "type": "barpolar"
           }
          ],
          "carpet": [
           {
            "aaxis": {
             "endlinecolor": "#2a3f5f",
             "gridcolor": "white",
             "linecolor": "white",
             "minorgridcolor": "white",
             "startlinecolor": "#2a3f5f"
            },
            "baxis": {
             "endlinecolor": "#2a3f5f",
             "gridcolor": "white",
             "linecolor": "white",
             "minorgridcolor": "white",
             "startlinecolor": "#2a3f5f"
            },
            "type": "carpet"
           }
          ],
          "choropleth": [
           {
            "colorbar": {
             "outlinewidth": 0,
             "ticks": ""
            },
            "type": "choropleth"
           }
          ],
          "contour": [
           {
            "colorbar": {
             "outlinewidth": 0,
             "ticks": ""
            },
            "colorscale": [
             [
              0,
              "#0d0887"
             ],
             [
              0.1111111111111111,
              "#46039f"
             ],
             [
              0.2222222222222222,
              "#7201a8"
             ],
             [
              0.3333333333333333,
              "#9c179e"
             ],
             [
              0.4444444444444444,
              "#bd3786"
             ],
             [
              0.5555555555555556,
              "#d8576b"
             ],
             [
              0.6666666666666666,
              "#ed7953"
             ],
             [
              0.7777777777777778,
              "#fb9f3a"
             ],
             [
              0.8888888888888888,
              "#fdca26"
             ],
             [
              1,
              "#f0f921"
             ]
            ],
            "type": "contour"
           }
          ],
          "contourcarpet": [
           {
            "colorbar": {
             "outlinewidth": 0,
             "ticks": ""
            },
            "type": "contourcarpet"
           }
          ],
          "heatmap": [
           {
            "colorbar": {
             "outlinewidth": 0,
             "ticks": ""
            },
            "colorscale": [
             [
              0,
              "#0d0887"
             ],
             [
              0.1111111111111111,
              "#46039f"
             ],
             [
              0.2222222222222222,
              "#7201a8"
             ],
             [
              0.3333333333333333,
              "#9c179e"
             ],
             [
              0.4444444444444444,
              "#bd3786"
             ],
             [
              0.5555555555555556,
              "#d8576b"
             ],
             [
              0.6666666666666666,
              "#ed7953"
             ],
             [
              0.7777777777777778,
              "#fb9f3a"
             ],
             [
              0.8888888888888888,
              "#fdca26"
             ],
             [
              1,
              "#f0f921"
             ]
            ],
            "type": "heatmap"
           }
          ],
          "heatmapgl": [
           {
            "colorbar": {
             "outlinewidth": 0,
             "ticks": ""
            },
            "colorscale": [
             [
              0,
              "#0d0887"
             ],
             [
              0.1111111111111111,
              "#46039f"
             ],
             [
              0.2222222222222222,
              "#7201a8"
             ],
             [
              0.3333333333333333,
              "#9c179e"
             ],
             [
              0.4444444444444444,
              "#bd3786"
             ],
             [
              0.5555555555555556,
              "#d8576b"
             ],
             [
              0.6666666666666666,
              "#ed7953"
             ],
             [
              0.7777777777777778,
              "#fb9f3a"
             ],
             [
              0.8888888888888888,
              "#fdca26"
             ],
             [
              1,
              "#f0f921"
             ]
            ],
            "type": "heatmapgl"
           }
          ],
          "histogram": [
           {
            "marker": {
             "pattern": {
              "fillmode": "overlay",
              "size": 10,
              "solidity": 0.2
             }
            },
            "type": "histogram"
           }
          ],
          "histogram2d": [
           {
            "colorbar": {
             "outlinewidth": 0,
             "ticks": ""
            },
            "colorscale": [
             [
              0,
              "#0d0887"
             ],
             [
              0.1111111111111111,
              "#46039f"
             ],
             [
              0.2222222222222222,
              "#7201a8"
             ],
             [
              0.3333333333333333,
              "#9c179e"
             ],
             [
              0.4444444444444444,
              "#bd3786"
             ],
             [
              0.5555555555555556,
              "#d8576b"
             ],
             [
              0.6666666666666666,
              "#ed7953"
             ],
             [
              0.7777777777777778,
              "#fb9f3a"
             ],
             [
              0.8888888888888888,
              "#fdca26"
             ],
             [
              1,
              "#f0f921"
             ]
            ],
            "type": "histogram2d"
           }
          ],
          "histogram2dcontour": [
           {
            "colorbar": {
             "outlinewidth": 0,
             "ticks": ""
            },
            "colorscale": [
             [
              0,
              "#0d0887"
             ],
             [
              0.1111111111111111,
              "#46039f"
             ],
             [
              0.2222222222222222,
              "#7201a8"
             ],
             [
              0.3333333333333333,
              "#9c179e"
             ],
             [
              0.4444444444444444,
              "#bd3786"
             ],
             [
              0.5555555555555556,
              "#d8576b"
             ],
             [
              0.6666666666666666,
              "#ed7953"
             ],
             [
              0.7777777777777778,
              "#fb9f3a"
             ],
             [
              0.8888888888888888,
              "#fdca26"
             ],
             [
              1,
              "#f0f921"
             ]
            ],
            "type": "histogram2dcontour"
           }
          ],
          "mesh3d": [
           {
            "colorbar": {
             "outlinewidth": 0,
             "ticks": ""
            },
            "type": "mesh3d"
           }
          ],
          "parcoords": [
           {
            "line": {
             "colorbar": {
              "outlinewidth": 0,
              "ticks": ""
             }
            },
            "type": "parcoords"
           }
          ],
          "pie": [
           {
            "automargin": true,
            "type": "pie"
           }
          ],
          "scatter": [
           {
            "fillpattern": {
             "fillmode": "overlay",
             "size": 10,
             "solidity": 0.2
            },
            "type": "scatter"
           }
          ],
          "scatter3d": [
           {
            "line": {
             "colorbar": {
              "outlinewidth": 0,
              "ticks": ""
             }
            },
            "marker": {
             "colorbar": {
              "outlinewidth": 0,
              "ticks": ""
             }
            },
            "type": "scatter3d"
           }
          ],
          "scattercarpet": [
           {
            "marker": {
             "colorbar": {
              "outlinewidth": 0,
              "ticks": ""
             }
            },
            "type": "scattercarpet"
           }
          ],
          "scattergeo": [
           {
            "marker": {
             "colorbar": {
              "outlinewidth": 0,
              "ticks": ""
             }
            },
            "type": "scattergeo"
           }
          ],
          "scattergl": [
           {
            "marker": {
             "colorbar": {
              "outlinewidth": 0,
              "ticks": ""
             }
            },
            "type": "scattergl"
           }
          ],
          "scattermapbox": [
           {
            "marker": {
             "colorbar": {
              "outlinewidth": 0,
              "ticks": ""
             }
            },
            "type": "scattermapbox"
           }
          ],
          "scatterpolar": [
           {
            "marker": {
             "colorbar": {
              "outlinewidth": 0,
              "ticks": ""
             }
            },
            "type": "scatterpolar"
           }
          ],
          "scatterpolargl": [
           {
            "marker": {
             "colorbar": {
              "outlinewidth": 0,
              "ticks": ""
             }
            },
            "type": "scatterpolargl"
           }
          ],
          "scatterternary": [
           {
            "marker": {
             "colorbar": {
              "outlinewidth": 0,
              "ticks": ""
             }
            },
            "type": "scatterternary"
           }
          ],
          "surface": [
           {
            "colorbar": {
             "outlinewidth": 0,
             "ticks": ""
            },
            "colorscale": [
             [
              0,
              "#0d0887"
             ],
             [
              0.1111111111111111,
              "#46039f"
             ],
             [
              0.2222222222222222,
              "#7201a8"
             ],
             [
              0.3333333333333333,
              "#9c179e"
             ],
             [
              0.4444444444444444,
              "#bd3786"
             ],
             [
              0.5555555555555556,
              "#d8576b"
             ],
             [
              0.6666666666666666,
              "#ed7953"
             ],
             [
              0.7777777777777778,
              "#fb9f3a"
             ],
             [
              0.8888888888888888,
              "#fdca26"
             ],
             [
              1,
              "#f0f921"
             ]
            ],
            "type": "surface"
           }
          ],
          "table": [
           {
            "cells": {
             "fill": {
              "color": "#EBF0F8"
             },
             "line": {
              "color": "white"
             }
            },
            "header": {
             "fill": {
              "color": "#C8D4E3"
             },
             "line": {
              "color": "white"
             }
            },
            "type": "table"
           }
          ]
         },
         "layout": {
          "annotationdefaults": {
           "arrowcolor": "#2a3f5f",
           "arrowhead": 0,
           "arrowwidth": 1
          },
          "autotypenumbers": "strict",
          "coloraxis": {
           "colorbar": {
            "outlinewidth": 0,
            "ticks": ""
           }
          },
          "colorscale": {
           "diverging": [
            [
             0,
             "#8e0152"
            ],
            [
             0.1,
             "#c51b7d"
            ],
            [
             0.2,
             "#de77ae"
            ],
            [
             0.3,
             "#f1b6da"
            ],
            [
             0.4,
             "#fde0ef"
            ],
            [
             0.5,
             "#f7f7f7"
            ],
            [
             0.6,
             "#e6f5d0"
            ],
            [
             0.7,
             "#b8e186"
            ],
            [
             0.8,
             "#7fbc41"
            ],
            [
             0.9,
             "#4d9221"
            ],
            [
             1,
             "#276419"
            ]
           ],
           "sequential": [
            [
             0,
             "#0d0887"
            ],
            [
             0.1111111111111111,
             "#46039f"
            ],
            [
             0.2222222222222222,
             "#7201a8"
            ],
            [
             0.3333333333333333,
             "#9c179e"
            ],
            [
             0.4444444444444444,
             "#bd3786"
            ],
            [
             0.5555555555555556,
             "#d8576b"
            ],
            [
             0.6666666666666666,
             "#ed7953"
            ],
            [
             0.7777777777777778,
             "#fb9f3a"
            ],
            [
             0.8888888888888888,
             "#fdca26"
            ],
            [
             1,
             "#f0f921"
            ]
           ],
           "sequentialminus": [
            [
             0,
             "#0d0887"
            ],
            [
             0.1111111111111111,
             "#46039f"
            ],
            [
             0.2222222222222222,
             "#7201a8"
            ],
            [
             0.3333333333333333,
             "#9c179e"
            ],
            [
             0.4444444444444444,
             "#bd3786"
            ],
            [
             0.5555555555555556,
             "#d8576b"
            ],
            [
             0.6666666666666666,
             "#ed7953"
            ],
            [
             0.7777777777777778,
             "#fb9f3a"
            ],
            [
             0.8888888888888888,
             "#fdca26"
            ],
            [
             1,
             "#f0f921"
            ]
           ]
          },
          "colorway": [
           "#636efa",
           "#EF553B",
           "#00cc96",
           "#ab63fa",
           "#FFA15A",
           "#19d3f3",
           "#FF6692",
           "#B6E880",
           "#FF97FF",
           "#FECB52"
          ],
          "font": {
           "color": "#2a3f5f"
          },
          "geo": {
           "bgcolor": "white",
           "lakecolor": "white",
           "landcolor": "#E5ECF6",
           "showlakes": true,
           "showland": true,
           "subunitcolor": "white"
          },
          "hoverlabel": {
           "align": "left"
          },
          "hovermode": "closest",
          "mapbox": {
           "style": "light"
          },
          "paper_bgcolor": "white",
          "plot_bgcolor": "#E5ECF6",
          "polar": {
           "angularaxis": {
            "gridcolor": "white",
            "linecolor": "white",
            "ticks": ""
           },
           "bgcolor": "#E5ECF6",
           "radialaxis": {
            "gridcolor": "white",
            "linecolor": "white",
            "ticks": ""
           }
          },
          "scene": {
           "xaxis": {
            "backgroundcolor": "#E5ECF6",
            "gridcolor": "white",
            "gridwidth": 2,
            "linecolor": "white",
            "showbackground": true,
            "ticks": "",
            "zerolinecolor": "white"
           },
           "yaxis": {
            "backgroundcolor": "#E5ECF6",
            "gridcolor": "white",
            "gridwidth": 2,
            "linecolor": "white",
            "showbackground": true,
            "ticks": "",
            "zerolinecolor": "white"
           },
           "zaxis": {
            "backgroundcolor": "#E5ECF6",
            "gridcolor": "white",
            "gridwidth": 2,
            "linecolor": "white",
            "showbackground": true,
            "ticks": "",
            "zerolinecolor": "white"
           }
          },
          "shapedefaults": {
           "line": {
            "color": "#2a3f5f"
           }
          },
          "ternary": {
           "aaxis": {
            "gridcolor": "white",
            "linecolor": "white",
            "ticks": ""
           },
           "baxis": {
            "gridcolor": "white",
            "linecolor": "white",
            "ticks": ""
           },
           "bgcolor": "#E5ECF6",
           "caxis": {
            "gridcolor": "white",
            "linecolor": "white",
            "ticks": ""
           }
          },
          "title": {
           "x": 0.05
          },
          "xaxis": {
           "automargin": true,
           "gridcolor": "white",
           "linecolor": "white",
           "ticks": "",
           "title": {
            "standoff": 15
           },
           "zerolinecolor": "white",
           "zerolinewidth": 2
          },
          "yaxis": {
           "automargin": true,
           "gridcolor": "white",
           "linecolor": "white",
           "ticks": "",
           "title": {
            "standoff": 15
           },
           "zerolinecolor": "white",
           "zerolinewidth": 2
          }
         }
        },
        "title": {
         "text": "Trends of customer reviews on restaurants from May 2005 to January 2022 in Philadelphia"
        },
        "xaxis": {
         "anchor": "y",
         "domain": [
          0,
          0.45
         ],
         "title": {
          "text": "Time"
         }
        },
        "xaxis2": {
         "anchor": "y2",
         "domain": [
          0.55,
          1
         ],
         "title": {
          "text": "Time"
         }
        },
        "yaxis": {
         "anchor": "x",
         "domain": [
          0,
          1
         ],
         "title": {
          "text": "Average rating"
         }
        },
        "yaxis2": {
         "anchor": "x2",
         "domain": [
          0,
          1
         ],
         "title": {
          "text": "Number of reviews"
         }
        }
       }
      }
     },
     "metadata": {},
     "output_type": "display_data"
    }
   ],
   "source": [
    "# Seeing how the average ratings evolved as a function of time\n",
    "from plotly.subplots import make_subplots\n",
    "\n",
    "monthly_avg_rating = resto_reviews_philly.groupby(\"date\")[\"rating\"].apply(np.mean)\n",
    "monthly_rating_no = resto_reviews_philly.groupby(\"date\")[\"rating\"].count()\n",
    "\n",
    "monthly_trend = pd.DataFrame({\"review_no\": monthly_rating_no, \n",
    "                              \"avg_rating\": monthly_avg_rating})\n",
    "\n",
    "fig = make_subplots(rows = 1, cols = 2)\n",
    "\n",
    "fig.add_trace(\n",
    "    go.Scatter(x = monthly_trend.index,\n",
    "               y = monthly_trend[\"avg_rating\"], \n",
    "               mode = \"lines\", showlegend = False), \n",
    "    row = 1, col = 1\n",
    ")\n",
    "\n",
    "fig.add_trace(\n",
    "    go.Scatter(x = monthly_trend.index,\n",
    "               y = monthly_trend[\"review_no\"], \n",
    "               mode = \"lines\", showlegend = False), \n",
    "    row = 1, col = 2\n",
    ")\n",
    "\n",
    "fig.update_layout(title_text = \"Trends of customer reviews on restaurants from May 2005 to January 2022 in Philadelphia\",\n",
    "                  xaxis1_title = \"Time\", yaxis1_title = \"Average rating\", \n",
    "                  xaxis2_title = \"Time\", yaxis2_title = \"Number of reviews\")\n",
    "\n",
    "fig.show()"
   ]
  },
  {
   "cell_type": "markdown",
   "metadata": {},
   "source": [
    "From the above line plots, however, it seems that there still exist quite a bit of fluctuations for the ratings on a monthly level which can make understanding a trend rather difficult. We may therefore need to adjust the time level while looking at the food trends per restaurant category later. Of course, there exist time series analysis techniques to obtain trends even from monthly data, but if there are only few observations for a restaurant category, then these techniques will still suffer from high variance and thus render the predictions (and any inferences) unreliable. In this case, analysing the data on a higher level (e.g. yearly) will be a better option."
   ]
  },
  {
   "cell_type": "markdown",
   "metadata": {},
   "source": [
    "## Understanding general restaurant customer preferences\n",
    "\n",
    "\n",
    "### Pre-processing the reviews\n",
    "The first important aspect will be to understand what restaurant customers in Philadelphia generally like in terms of food, service or place etc. To begin with, let us remove stopwords (such as prepositions or articles) which will be unlikely to help understand customer preferences in the dataset, lemmatise words so that they are reduced to their meaningful root forms (to avoid a tokeniser treating different forms of the same verb as separate tokens) and then tokenise the reviews."
   ]
  },
  {
   "cell_type": "code",
   "execution_count": 25,
   "metadata": {},
   "outputs": [],
   "source": [
    "# importing packages\n",
    "from nltk.corpus import stopwords\n",
    "from nltk.tokenize import word_tokenize\n",
    "from nltk.stem import WordNetLemmatizer\n",
    "from gensim import corpora\n",
    "from gensim.models.ldamodel import LdaModel\n",
    "stop_words = set(stopwords.words('english'))\n",
    "lemmatizer = WordNetLemmatizer()\n",
    "\n",
    "def remove_stopwords(text):\n",
    "    stop_words = set(stopwords.words('english'))\n",
    "    word_tokens = word_tokenize(text)\n",
    "    filtered_text = [word for word in word_tokens if word.lower() not in stop_words]\n",
    "    return ' '.join(filtered_text)\n",
    "\n",
    "def preprocess(text):\n",
    "    tokens = word_tokenize(text.lower())\n",
    "    tokens = [lemmatizer.lemmatize(word) for word in tokens if word.isalpha() and word not in stop_words]\n",
    "    return tokens"
   ]
  },
  {
   "cell_type": "code",
   "execution_count": 26,
   "metadata": {},
   "outputs": [
    {
     "data": {
      "text/plain": [
       "[['one',\n",
       "  'favorite',\n",
       "  'place',\n",
       "  'grab',\n",
       "  'quick',\n",
       "  'bit',\n",
       "  'eat',\n",
       "  'location',\n",
       "  'airport',\n",
       "  'stadium',\n",
       "  'crab',\n",
       "  'fry',\n",
       "  'one',\n",
       "  'amazing',\n",
       "  'thing',\n",
       "  'ever',\n",
       "  'try',\n",
       "  'wiz',\n",
       "  'litteraly',\n",
       "  'liquid',\n",
       "  'gold',\n",
       "  'sure',\n",
       "  'buy',\n",
       "  'extra',\n",
       "  'one',\n",
       "  'beware',\n",
       "  'food',\n",
       "  'menu',\n",
       "  'typically',\n",
       "  'greasy',\n",
       "  'bar',\n",
       "  'food',\n",
       "  'stick',\n",
       "  'crab',\n",
       "  'fry',\n",
       "  'golden'],\n",
       " ['love',\n",
       "  'place',\n",
       "  'nothing',\n",
       "  'like',\n",
       "  'authentic',\n",
       "  'mexican',\n",
       "  'food',\n",
       "  'place',\n",
       "  'placed',\n",
       "  'order',\n",
       "  'takeout',\n",
       "  'pleased',\n",
       "  'packaged',\n",
       "  'prepared',\n",
       "  'chicken',\n",
       "  'one',\n",
       "  'pork',\n",
       "  'meat',\n",
       "  'plentiful',\n",
       "  'juicy',\n",
       "  'loved',\n",
       "  'homemade',\n",
       "  'ca',\n",
       "  'wait',\n",
       "  'try',\n",
       "  'menu'],\n",
       " ['situated',\n",
       "  'race',\n",
       "  'street',\n",
       "  'away',\n",
       "  'main',\n",
       "  'street',\n",
       "  'chinatown',\n",
       "  'street',\n",
       "  'place',\n",
       "  'appears',\n",
       "  'nondescript',\n",
       "  'amongst',\n",
       "  'neighbor',\n",
       "  'quality',\n",
       "  'food',\n",
       "  'alone',\n",
       "  'distinguish',\n",
       "  'would',\n",
       "  'tread',\n",
       "  'upon',\n",
       "  'threshold',\n",
       "  'pho',\n",
       "  'xiet',\n",
       "  'luan',\n",
       "  'open',\n",
       "  'wednesday',\n",
       "  'glad',\n",
       "  'eaten',\n",
       "  'place',\n",
       "  'mark',\n",
       "  'authentic',\n",
       "  'chinese',\n",
       "  'frill',\n",
       "  'modest',\n",
       "  'table',\n",
       "  'service',\n",
       "  'meaning',\n",
       "  'one',\n",
       "  'going',\n",
       "  'actively',\n",
       "  'ask',\n",
       "  'meal',\n",
       "  'look',\n",
       "  'look',\n",
       "  'around',\n",
       "  'waitress',\n",
       "  'side',\n",
       "  'flash',\n",
       "  'got',\n",
       "  'seafood',\n",
       "  'bean',\n",
       "  'curd',\n",
       "  'hot',\n",
       "  'pot',\n",
       "  'chicken',\n",
       "  'eggplant',\n",
       "  'hotpot',\n",
       "  'third',\n",
       "  'dish',\n",
       "  'whose',\n",
       "  'name',\n",
       "  'ca',\n",
       "  'remember',\n",
       "  'fail',\n",
       "  'know',\n",
       "  'dish',\n",
       "  'piping',\n",
       "  'hot',\n",
       "  'flavorful',\n",
       "  'portion',\n",
       "  'size',\n",
       "  'moderate',\n",
       "  'definitely',\n",
       "  'fill',\n",
       "  'without',\n",
       "  'leftover',\n",
       "  'bring',\n",
       "  'home',\n",
       "  'three',\n",
       "  'u',\n",
       "  'paid',\n",
       "  'accept',\n",
       "  'credit',\n",
       "  'card',\n",
       "  'prefer',\n",
       "  'cash',\n",
       "  'definitely',\n",
       "  'back',\n",
       "  'try',\n",
       "  'dish',\n",
       "  'wish',\n",
       "  'opened',\n",
       "  'earlier',\n",
       "  'bc',\n",
       "  'open',\n",
       "  'pm',\n",
       "  'stay',\n",
       "  'open',\n",
       "  'probably',\n",
       "  'reason'],\n",
       " ['outstanding',\n",
       "  'venue',\n",
       "  'great',\n",
       "  'band',\n",
       "  'food',\n",
       "  'awesome',\n",
       "  'great',\n",
       "  'find',\n",
       "  'west',\n",
       "  'philadelphia',\n",
       "  'would',\n",
       "  'recommend',\n",
       "  'spot'],\n",
       " ['loved',\n",
       "  'experience',\n",
       "  'elwood',\n",
       "  'enter',\n",
       "  'frankford',\n",
       "  'ave',\n",
       "  'encounter',\n",
       "  'open',\n",
       "  'kitchen',\n",
       "  'setup',\n",
       "  'likely',\n",
       "  'meet',\n",
       "  'chef',\n",
       "  'owner',\n",
       "  'adam',\n",
       "  'diltz',\n",
       "  'adam',\n",
       "  'extremely',\n",
       "  'thoughtful',\n",
       "  'presence',\n",
       "  'throughout',\n",
       "  'meal',\n",
       "  'dined',\n",
       "  'visited',\n",
       "  'every',\n",
       "  'table',\n",
       "  'talk',\n",
       "  'history',\n",
       "  'dish',\n",
       "  'answer',\n",
       "  'question',\n",
       "  'elwood',\n",
       "  'restaurant',\n",
       "  'pennsylvania',\n",
       "  'dutch',\n",
       "  'root',\n",
       "  'family',\n",
       "  'cool',\n",
       "  'help',\n",
       "  'learn',\n",
       "  'restaurant',\n",
       "  'situated',\n",
       "  'small',\n",
       "  'rowhome',\n",
       "  'narrow',\n",
       "  'comfortable',\n",
       "  'decor',\n",
       "  'feel',\n",
       "  'like',\n",
       "  'modern',\n",
       "  'twist',\n",
       "  'rustic',\n",
       "  'feel',\n",
       "  'like',\n",
       "  'trying',\n",
       "  'hard',\n",
       "  'guest',\n",
       "  'also',\n",
       "  'encouraged',\n",
       "  'check',\n",
       "  'garden',\n",
       "  'rear',\n",
       "  'dined',\n",
       "  'door',\n",
       "  'open',\n",
       "  'allowing',\n",
       "  'cool',\n",
       "  'breeze',\n",
       "  'every',\n",
       "  'dish',\n",
       "  'high',\n",
       "  'quality',\n",
       "  'menu',\n",
       "  'includes',\n",
       "  'large',\n",
       "  'portion',\n",
       "  'starter',\n",
       "  'share',\n",
       "  'entree',\n",
       "  'selection',\n",
       "  'larger',\n",
       "  'signature',\n",
       "  'overall',\n",
       "  'cuisine',\n",
       "  'really',\n",
       "  'enjoyable',\n",
       "  'pa',\n",
       "  'dutch',\n",
       "  'dish',\n",
       "  'mixed',\n",
       "  'rich',\n",
       "  'flavor',\n",
       "  'sense',\n",
       "  'home',\n",
       "  'comforting',\n",
       "  'presentation',\n",
       "  'lovely',\n",
       "  'started',\n",
       "  'simpson',\n",
       "  'lettuce',\n",
       "  'deliciously',\n",
       "  'unhealthy',\n",
       "  'salad',\n",
       "  'next',\n",
       "  'catfish',\n",
       "  'waffle',\n",
       "  'chicken',\n",
       "  'waffle',\n",
       "  'like',\n",
       "  'flat',\n",
       "  'ice',\n",
       "  'cream',\n",
       "  'cone',\n",
       "  'waffle',\n",
       "  'assemble',\n",
       "  'flatbread',\n",
       "  'fish',\n",
       "  'mushroom',\n",
       "  'gravy',\n",
       "  'cabbage',\n",
       "  'choose',\n",
       "  'bit',\n",
       "  'small',\n",
       "  'enjoyable',\n",
       "  'entree',\n",
       "  'guinea',\n",
       "  'hen',\n",
       "  'beef',\n",
       "  'fantastic',\n",
       "  'guinea',\n",
       "  'hen',\n",
       "  'crispy',\n",
       "  'outside',\n",
       "  'tender',\n",
       "  'juicy',\n",
       "  'served',\n",
       "  'spelt',\n",
       "  'ramp',\n",
       "  'fabulous',\n",
       "  'alternative',\n",
       "  'traditional',\n",
       "  'chicken',\n",
       "  'dish',\n",
       "  'meanwhile',\n",
       "  'beef',\n",
       "  'felt',\n",
       "  'le',\n",
       "  'unique',\n",
       "  'theme',\n",
       "  'pa',\n",
       "  'dutch',\n",
       "  'tradition',\n",
       "  'robust',\n",
       "  'flavor',\n",
       "  'served',\n",
       "  'assorted',\n",
       "  'mixed',\n",
       "  'veggie',\n",
       "  'delicious',\n",
       "  'jus',\n",
       "  'dessert',\n",
       "  'selection',\n",
       "  'hold',\n",
       "  'true',\n",
       "  'pa',\n",
       "  'dutch',\n",
       "  'root',\n",
       "  'chocolate',\n",
       "  'dish',\n",
       "  'option',\n",
       "  'apple',\n",
       "  'schnitzel',\n",
       "  'funnel',\n",
       "  'cake',\n",
       "  'etc',\n",
       "  'elwood',\n",
       "  'true',\n",
       "  'gem',\n",
       "  'chef',\n",
       "  'clearly',\n",
       "  'care',\n",
       "  'craft',\n",
       "  'new',\n",
       "  'upscale',\n",
       "  'spin',\n",
       "  'pa',\n",
       "  'dutch',\n",
       "  'tradition',\n",
       "  'unique',\n",
       "  'feel',\n",
       "  'true',\n",
       "  'neighborhood',\n",
       "  'certainly',\n",
       "  'back']]"
      ]
     },
     "execution_count": 26,
     "metadata": {},
     "output_type": "execute_result"
    }
   ],
   "source": [
    "cleaned_data = [remove_stopwords(review) for review in resto_reviews_philly['text']]\n",
    "processed_data = [preprocess(review) for review in cleaned_data]\n",
    "processed_data[:5]"
   ]
  },
  {
   "cell_type": "markdown",
   "metadata": {},
   "source": [
    "### Finding topics with LDA\n",
    "\n",
    "The reviews themselves do not have pre-defined themes in the dataset, so we will need a way to identify them. Here, we choose Latent Dirichlet allocation (LDA) to find the topics of reviews. In essence, LDA is a Bayesian-type graphical model used for inferring a pre-defined number of topics in a corpus of documents. The intuition behind this model is that we suppose the documents in our corpus are generated from some latent topics, and each topic is essentially a distribution over the words present in our corpus' vocabulary. Given that we observe the documents as data, we can then reverse engineer the above process to extract the topics in our corpus. A more detailed mathematical discussion of LDA can be found [here](https://en.wikipedia.org/wiki/Latent_Dirichlet_allocation)."
   ]
  },
  {
   "cell_type": "code",
   "execution_count": 27,
   "metadata": {},
   "outputs": [],
   "source": [
    "#LDA topics model fitting\n",
    "dictionary = corpora.Dictionary(processed_data)\n",
    "corpus = [dictionary.doc2bow(text) for text in processed_data]\n",
    "lda_model = LdaModel(corpus=corpus, id2word=dictionary, num_topics=3, random_state=42, passes=15)"
   ]
  },
  {
   "cell_type": "markdown",
   "metadata": {},
   "source": [
    "After training an LDA model to identify 3 topics in the reviews, and below are the weights of the words in each topic. In short, food quality seems to matter a lot for restaurant customers in Philadelphia (which is not surprising) since words associated with food have their weights being listed below in each topic. Though there are also other elements that customers care about for a restaurant, such as the \"place\" in the second topic, and something related to the service like order in the third topic. But determining the name for each topic will require to look into some actual reviews. "
   ]
  },
  {
   "cell_type": "code",
   "execution_count": 28,
   "metadata": {},
   "outputs": [
    {
     "name": "stdout",
     "output_type": "stream",
     "text": [
      "(0, '0.011*\"good\" + 0.008*\"ordered\" + 0.008*\"dish\" + 0.008*\"chicken\" + 0.008*\"sauce\" + 0.007*\"delicious\" + 0.007*\"also\" + 0.006*\"cheese\" + 0.006*\"like\" + 0.006*\"got\"')\n",
      "(1, '0.024*\"place\" + 0.020*\"food\" + 0.018*\"good\" + 0.018*\"great\" + 0.009*\"get\" + 0.008*\"go\" + 0.008*\"best\" + 0.008*\"philly\" + 0.008*\"love\" + 0.007*\"sandwich\"')\n",
      "(2, '0.014*\"food\" + 0.011*\"time\" + 0.009*\"u\" + 0.008*\"order\" + 0.008*\"place\" + 0.008*\"would\" + 0.008*\"like\" + 0.008*\"one\" + 0.007*\"table\" + 0.007*\"get\"')\n"
     ]
    }
   ],
   "source": [
    "for topic in lda_model.print_topics():\n",
    "    print(topic)"
   ]
  },
  {
   "cell_type": "code",
   "execution_count": 29,
   "metadata": {},
   "outputs": [],
   "source": [
    "#fit the reviews and get the topics\n",
    "topics = lda_model.get_document_topics(corpus)"
   ]
  },
  {
   "cell_type": "code",
   "execution_count": 30,
   "metadata": {},
   "outputs": [],
   "source": [
    "# Getting the topics of each review\n",
    "def get_lda_topic(lda_list):\n",
    "    topic = 0\n",
    "    proba = 0\n",
    "    \n",
    "    for i in range(len(lda_list)):\n",
    "        if lda_list[i][1] > proba:\n",
    "            topic = i\n",
    "            proba = lda_list[i][1]\n",
    "    \n",
    "    return topic        \n",
    "\n",
    "# Adding topics to the review data\n",
    "resto_reviews_philly.insert(resto_reviews_philly.shape[1],'topics',topics)\n",
    "resto_reviews_philly[\"topics\"] = resto_reviews_philly['topics'].apply(get_lda_topic)"
   ]
  },
  {
   "cell_type": "markdown",
   "metadata": {},
   "source": [
    "### Looking at the reviews of each topic\n",
    "\n",
    "It will be useful to look at the actual reviews under each topic, especially for those with high ratings (say above 4 out of 5) in order to understand what customers generally like in addition to determining the name for each topic as mentioned above. Starting with the first topic on food, apart from describing how delicious the food was, customers often mention they like the food because the portions are copious or the prices are affordable."
   ]
  },
  {
   "cell_type": "code",
   "execution_count": 31,
   "metadata": {},
   "outputs": [
    {
     "name": "stdout",
     "output_type": "stream",
     "text": [
      "Really great gastropub with a tasty, curated beer list and some innovative cuisine.\n",
      "\n",
      "We opted for the Caesar salad with steak and some devilled eggs. The salad was very artfully prepared and came with cheesy/creamy croutons which were amazing. \n",
      "\n",
      "The eggs were also very good and were served with a small side of beet salad.\n",
      "\n",
      "The beers were all winners with plenty of options on tap or canned. I had a local saison that was amazing.\n",
      "\n",
      "Service was very friendly and accommodating.\n",
      "\n",
      "\n",
      "BEST Meal ....Superb! \n",
      "  Gnocchi reopened on June 17. Four of us went there five days later on a Sunday Evening. We were greeted while still on the sidewalk and ushered to a table.  What followed was a dialogue and great contact with the owner chef Sandro......just returned (I understand he opened the original Gnocchi in 1998) after many years in Italy....about 30 miles south of Rome.  He heard that my husband can not do a lot of dairy so he very earnestly said just tell me how you want it and I will make it for you....Sandro also added his thoughts about that day's specials and what he most recommended.  We were laughingly told by the greeter/overseer MISU that Sandro cooks better if you offer him one of your BYOB drinks. We quickly offered a beer and Sandro accepted\n",
      ".  Wow the results were beyond delicious.  We had a variety of starters including mussels, a special Caprese like salad, and Jewish artichokes (mine)  in each instance there was something special with the mix of seasonings....,you could catch a hint of this, and a little kick of that. You really enjoyed each forkful.  Then came the entrees.....linguine with clams and oil/garlic, rigatoni with calamari and pecorino, veal osso bucco, and whole fish of he day. We all oohed and ahhed as we worked our way through the platters and took a taste of each other's meals, simply superb and I  mean REALLY!  Sandro sent out a portion of Tiramisu for us to enjoy with his compliments....light and delicious.  Will we return?  You betcha! \n",
      " Note they are cash only and BYO. Very reasonable priced. \n",
      "  I took several photos but can't figure out how to post them?\n",
      "\n",
      "\n",
      "Excellent way to start the morning!! Great Sunday place to meet for breakfast. HUGE protions and very reasonable prices.\n",
      "\n",
      "Had the Spinach and Feta omlette with egg whites only, rye toast, big OJ. I left full and my wallet was satisfied too.\n",
      "\n",
      "I say go and have a good breakfast. Oh yah...the waiteress was really cute too ;-) This had no bearing on the tast of the food...honest.\n",
      "\n",
      "\n"
     ]
    }
   ],
   "source": [
    "type0 = resto_reviews_philly[(resto_reviews_philly['topics']==0)&(resto_reviews_philly['rating']>=4)]\n",
    "for review in type0['text'].sample(3, random_state=42):\n",
    "    print(review, end = \"\\n\\n\\n\")"
   ]
  },
  {
   "cell_type": "markdown",
   "metadata": {},
   "source": [
    "If we look at the reviews from the topic of food and place, then customers not only mention the food is of good quality, but also they compliment the ambiance of the restaurant (e.g., the restaurant prepares its environment elegantly, or the restaurant is a good place to hang out with loved ones). "
   ]
  },
  {
   "cell_type": "code",
   "execution_count": 32,
   "metadata": {},
   "outputs": [
    {
     "name": "stdout",
     "output_type": "stream",
     "text": [
      "Good food to try and trying a Spanish food.  It's not authentic but the facility is really trying to prepare elegantly.  Happy hour is good but nothing to be excited about. It's something close to Spanish food but not really but it's good.\n",
      "\n",
      "\n",
      "Food was INCREDIBLE. John the bartender was attentive and on point. Definitely will recommended to friends when coming to Philly :)\n",
      "\n",
      "\n",
      "I wish I remembered exactly what it is I always get here.. But I do know this is a necessary stop for my dad whenever he's in town. He gets kind of annoyed that it's a BYO, but there's a state store right down the street for out of towners  that don't come prepared. \n",
      "I believe the dish I usually get the fillet tips, which may or may not still be on the menu since I remember getting the enchilada last time I went which was definitely 5/5. \n",
      "The staff is extremely helpful and laid back, the perfect place to come with your date, a group of friends, or even your parents!\n",
      "\n",
      "\n"
     ]
    }
   ],
   "source": [
    "type1 = resto_reviews_philly[(resto_reviews_philly['topics']==1)&(resto_reviews_philly['rating']>=4)]\n",
    "for review in type1['text'].sample(3, random_state = 25):\n",
    "    print(review)\n",
    "    print(\"\\n\")"
   ]
  },
  {
   "cell_type": "markdown",
   "metadata": {},
   "source": [
    "Lastly, reviews from the third topic mainly revolves around both the food and hospitality of the restaurant. For high-rating reviews, customers not only express their satisfaction with the food but also timely delivery service or good attitudes of the waiters/waitress. "
   ]
  },
  {
   "cell_type": "code",
   "execution_count": 33,
   "metadata": {},
   "outputs": [
    {
     "name": "stdout",
     "output_type": "stream",
     "text": [
      "Forever tacos\n",
      "\n",
      "All the food I've had from here is amazing! I've only had food Togo, so I can't comment on the wait staff, but the food holds up well even for left overs the next day. So, they rule!\n",
      "\n",
      "\n",
      "We were in town for a conference and desperately needed late night sustenance after a lousy chicken dinner. I ordered through yelp and they were there in half the time it estimated. Delivery guy seemed nice, very polite. The pizza was fantastic. We were big fans of the crust! (There HAS to be something in east coast water!! I don't want to know what it is, but just know you all lead charmed pizza lives over here!!) I also ordered a vanilla shake. Here's where I would normally get picky. However, it was made with vanilla bean ice cream. Perfect. Nuff said. In short, they saved our poor grumbly bellies.\n",
      "\n",
      "\n",
      "Went out to eat with my cousins during restaurant week. Had no wait. The hostess took my jacket (free coat check) and i awaited in the lounge for my cousins to arrive. I chose to wait for the rest of my party which was fine with the hostess. We were greeted at our table after we were seated and he was a great server. He gave us great recommendations on drinks. the food was great and perfect portions and i am known to eat a lot.\n",
      "\n",
      "\n"
     ]
    }
   ],
   "source": [
    "type2 = resto_reviews_philly[(resto_reviews_philly['topics']==2)&(resto_reviews_philly['rating']>=4)]\n",
    "for review in type2['text'].sample(3, random_state=12):\n",
    "    print(review)\n",
    "    print(\"\\n\")"
   ]
  },
  {
   "cell_type": "markdown",
   "metadata": {},
   "source": [
    "Based on the above reviews, we have decided to name each topic as below:"
   ]
  },
  {
   "cell_type": "code",
   "execution_count": 34,
   "metadata": {},
   "outputs": [],
   "source": [
    "# Mapping each topic to a name\n",
    "topics_map = {0: \"food\", \n",
    "              1: \"food and environment\", \n",
    "              2: \"food and hospitality\"}"
   ]
  },
  {
   "cell_type": "markdown",
   "metadata": {},
   "source": [
    "### What are the reviews mostly about?\n",
    "\n",
    "Next, we look at how many reviews are in each topic extracted from LDA. This will be useful to see what might be the emphasis for customers when they review a restaurant. It seems that almost half of the reviews care about the location of the restaurant in addition to food quality. For nearly 20% of consumers, they care about service quality besides food quality. But in any case, all the reviews mention food quality explicitly."
   ]
  },
  {
   "cell_type": "code",
   "execution_count": 35,
   "metadata": {},
   "outputs": [
    {
     "data": {
      "text/html": [
       "<div>\n",
       "<style scoped>\n",
       "    .dataframe tbody tr th:only-of-type {\n",
       "        vertical-align: middle;\n",
       "    }\n",
       "\n",
       "    .dataframe tbody tr th {\n",
       "        vertical-align: top;\n",
       "    }\n",
       "\n",
       "    .dataframe thead th {\n",
       "        text-align: right;\n",
       "    }\n",
       "</style>\n",
       "<table border=\"1\" class=\"dataframe\">\n",
       "  <thead>\n",
       "    <tr style=\"text-align: right;\">\n",
       "      <th></th>\n",
       "      <th>topics</th>\n",
       "      <th>count</th>\n",
       "    </tr>\n",
       "  </thead>\n",
       "  <tbody>\n",
       "    <tr>\n",
       "      <th>0</th>\n",
       "      <td>food and environment</td>\n",
       "      <td>49489</td>\n",
       "    </tr>\n",
       "    <tr>\n",
       "      <th>1</th>\n",
       "      <td>food</td>\n",
       "      <td>35095</td>\n",
       "    </tr>\n",
       "    <tr>\n",
       "      <th>2</th>\n",
       "      <td>food and hospitality</td>\n",
       "      <td>18515</td>\n",
       "    </tr>\n",
       "  </tbody>\n",
       "</table>\n",
       "</div>"
      ],
      "text/plain": [
       "                 topics  count\n",
       "0  food and environment  49489\n",
       "1                  food  35095\n",
       "2  food and hospitality  18515"
      ]
     },
     "execution_count": 35,
     "metadata": {},
     "output_type": "execute_result"
    }
   ],
   "source": [
    "topic_counts = resto_reviews_philly.topics.value_counts().reset_index()\n",
    "topic_counts['topics'] = topic_counts['topics'].replace(topics_map)\n",
    "topic_counts"
   ]
  },
  {
   "cell_type": "code",
   "execution_count": 36,
   "metadata": {},
   "outputs": [
    {
     "data": {
      "image/png": "[encoded data removed]",
      "text/plain": [
       "<Figure size 640x480 with 1 Axes>"
      ]
     },
     "metadata": {},
     "output_type": "display_data"
    }
   ],
   "source": [
    "import matplotlib.pyplot as plt\n",
    "plt.pie(topic_counts[\"count\"], labels=topic_counts[\"topics\"], \n",
    "        autopct='%1.2f%%', colors=[\"#d5695d\", \"#5d8ca8\", \"#65a479\"],explode=(0, 0.2, 0))\n",
    "\n",
    "plt.title('Proportion of review topics', size = 20)\n",
    "plt.show()"
   ]
  },
  {
   "cell_type": "markdown",
   "metadata": {},
   "source": [
    "Now we also look at the review topics of the most frequently reviewed restaurants. We start with the Reading Terminal Market which is the most reviewed restaurant in Philadelphia throughout the period in the dataset."
   ]
  },
  {
   "cell_type": "code",
   "execution_count": 37,
   "metadata": {},
   "outputs": [
    {
     "data": {
      "text/html": [
       "<div>\n",
       "<style scoped>\n",
       "    .dataframe tbody tr th:only-of-type {\n",
       "        vertical-align: middle;\n",
       "    }\n",
       "\n",
       "    .dataframe tbody tr th {\n",
       "        vertical-align: top;\n",
       "    }\n",
       "\n",
       "    .dataframe thead th {\n",
       "        text-align: right;\n",
       "    }\n",
       "</style>\n",
       "<table border=\"1\" class=\"dataframe\">\n",
       "  <thead>\n",
       "    <tr style=\"text-align: right;\">\n",
       "      <th></th>\n",
       "      <th>topics</th>\n",
       "      <th>count</th>\n",
       "    </tr>\n",
       "  </thead>\n",
       "  <tbody>\n",
       "    <tr>\n",
       "      <th>0</th>\n",
       "      <td>food and environment</td>\n",
       "      <td>728</td>\n",
       "    </tr>\n",
       "    <tr>\n",
       "      <th>1</th>\n",
       "      <td>food</td>\n",
       "      <td>130</td>\n",
       "    </tr>\n",
       "    <tr>\n",
       "      <th>2</th>\n",
       "      <td>food and hospitality</td>\n",
       "      <td>30</td>\n",
       "    </tr>\n",
       "  </tbody>\n",
       "</table>\n",
       "</div>"
      ],
      "text/plain": [
       "                 topics  count\n",
       "0  food and environment    728\n",
       "1                  food    130\n",
       "2  food and hospitality     30"
      ]
     },
     "execution_count": 37,
     "metadata": {},
     "output_type": "execute_result"
    }
   ],
   "source": [
    "restaurant1 = resto_reviews_philly[resto_reviews_philly['name'] == top_20s.index[0]]\n",
    "top1_topic_counts = restaurant1.topics.value_counts().reset_index()\n",
    "top1_topic_counts['topics'] = top1_topic_counts['topics'].replace(topics_map)\n",
    "top1_topic_counts"
   ]
  },
  {
   "cell_type": "markdown",
   "metadata": {},
   "source": [
    "Most of the consumers who reviewed Reading Terminal Market talked about mainly the food and its environment. "
   ]
  },
  {
   "cell_type": "code",
   "execution_count": 38,
   "metadata": {},
   "outputs": [
    {
     "data": {
      "image/png": "[encoded data removed]",
      "text/plain": [
       "<Figure size 640x480 with 1 Axes>"
      ]
     },
     "metadata": {},
     "output_type": "display_data"
    }
   ],
   "source": [
    "plt.pie(top1_topic_counts['count'], labels=top1_topic_counts['topics'], \n",
    "        autopct='%1.2f%%',  colors=[\"#d5695d\", \"#5d8ca8\", \"#65a479\"],explode=(0, 0.2, 0))\n",
    "plt.title('Proportion of reviews for Reading Terminal Market',size=20)\n",
    "plt.show()"
   ]
  },
  {
   "cell_type": "markdown",
   "metadata": {},
   "source": [
    "The 2nd-most-reviewed restaurant, Pats King of Steaks, almost has most of its reviews being about its food and environment as Reading Terminal Market does."
   ]
  },
  {
   "cell_type": "code",
   "execution_count": 39,
   "metadata": {},
   "outputs": [
    {
     "data": {
      "text/html": [
       "<div>\n",
       "<style scoped>\n",
       "    .dataframe tbody tr th:only-of-type {\n",
       "        vertical-align: middle;\n",
       "    }\n",
       "\n",
       "    .dataframe tbody tr th {\n",
       "        vertical-align: top;\n",
       "    }\n",
       "\n",
       "    .dataframe thead th {\n",
       "        text-align: right;\n",
       "    }\n",
       "</style>\n",
       "<table border=\"1\" class=\"dataframe\">\n",
       "  <thead>\n",
       "    <tr style=\"text-align: right;\">\n",
       "      <th></th>\n",
       "      <th>topics</th>\n",
       "      <th>count</th>\n",
       "    </tr>\n",
       "  </thead>\n",
       "  <tbody>\n",
       "    <tr>\n",
       "      <th>0</th>\n",
       "      <td>food and environment</td>\n",
       "      <td>440</td>\n",
       "    </tr>\n",
       "    <tr>\n",
       "      <th>1</th>\n",
       "      <td>food</td>\n",
       "      <td>119</td>\n",
       "    </tr>\n",
       "    <tr>\n",
       "      <th>2</th>\n",
       "      <td>food and hospitality</td>\n",
       "      <td>65</td>\n",
       "    </tr>\n",
       "  </tbody>\n",
       "</table>\n",
       "</div>"
      ],
      "text/plain": [
       "                 topics  count\n",
       "0  food and environment    440\n",
       "1                  food    119\n",
       "2  food and hospitality     65"
      ]
     },
     "execution_count": 39,
     "metadata": {},
     "output_type": "execute_result"
    }
   ],
   "source": [
    "restaurant2 = resto_reviews_philly[resto_reviews_philly['name'] == top_20s.index[1]]\n",
    "top2_counts = restaurant2.topics.value_counts().reset_index()\n",
    "top2_counts[\"topics\"] = top2_counts[\"topics\"].replace(topics_map)\n",
    "top2_counts"
   ]
  },
  {
   "cell_type": "code",
   "execution_count": 40,
   "metadata": {},
   "outputs": [
    {
     "data": {
      "image/png": "[encoded data removed]",
      "text/plain": [
       "<Figure size 640x480 with 1 Axes>"
      ]
     },
     "metadata": {},
     "output_type": "display_data"
    }
   ],
   "source": [
    "plt.pie(top2_counts[\"count\"], labels=top2_counts[\"topics\"], autopct='%1.2f%%',  \n",
    "        colors=[\"#d5695d\", \"#5d8ca8\", \"#65a479\"],explode=(0, 0.2, 0))\n",
    "plt.title('Proportion of reviews for Pats King of Steaks', size = 20)\n",
    "plt.show()"
   ]
  },
  {
   "cell_type": "markdown",
   "metadata": {},
   "source": [
    "By contrast, the 3rd-most reviewed restaurant has its review topics being more evenly spread out among the three compared to the top 2 most-reviewed restaurants."
   ]
  },
  {
   "cell_type": "code",
   "execution_count": 41,
   "metadata": {},
   "outputs": [
    {
     "data": {
      "text/html": [
       "<div>\n",
       "<style scoped>\n",
       "    .dataframe tbody tr th:only-of-type {\n",
       "        vertical-align: middle;\n",
       "    }\n",
       "\n",
       "    .dataframe tbody tr th {\n",
       "        vertical-align: top;\n",
       "    }\n",
       "\n",
       "    .dataframe thead th {\n",
       "        text-align: right;\n",
       "    }\n",
       "</style>\n",
       "<table border=\"1\" class=\"dataframe\">\n",
       "  <thead>\n",
       "    <tr style=\"text-align: right;\">\n",
       "      <th></th>\n",
       "      <th>topics</th>\n",
       "      <th>count</th>\n",
       "    </tr>\n",
       "  </thead>\n",
       "  <tbody>\n",
       "    <tr>\n",
       "      <th>0</th>\n",
       "      <td>food</td>\n",
       "      <td>269</td>\n",
       "    </tr>\n",
       "    <tr>\n",
       "      <th>1</th>\n",
       "      <td>food and environment</td>\n",
       "      <td>188</td>\n",
       "    </tr>\n",
       "    <tr>\n",
       "      <th>2</th>\n",
       "      <td>food and hospitality</td>\n",
       "      <td>103</td>\n",
       "    </tr>\n",
       "  </tbody>\n",
       "</table>\n",
       "</div>"
      ],
      "text/plain": [
       "                 topics  count\n",
       "0                  food    269\n",
       "1  food and environment    188\n",
       "2  food and hospitality    103"
      ]
     },
     "execution_count": 41,
     "metadata": {},
     "output_type": "execute_result"
    }
   ],
   "source": [
    "restaurant3 = resto_reviews_philly[resto_reviews_philly['name']==top_20s.index[2]]\n",
    "top3_counts = restaurant3.topics.value_counts().reset_index()\n",
    "top3_counts['topics'] = top3_counts['topics'].replace(topics_map)\n",
    "top3_counts"
   ]
  },
  {
   "cell_type": "code",
   "execution_count": 42,
   "metadata": {},
   "outputs": [
    {
     "data": {
      "image/png": "[encoded data removed]",
      "text/plain": [
       "<Figure size 640x480 with 1 Axes>"
      ]
     },
     "metadata": {},
     "output_type": "display_data"
    }
   ],
   "source": [
    "plt.pie(top3_counts['count'], labels=top3_counts['topics'], autopct='%1.2f%%',  \n",
    "        colors=[\"#5d8ca8\", \"#d5695d\", \"#65a479\"],explode=(0, 0.2, 0))\n",
    "plt.title('Proportion of reviews for El Vez',size=20)\n",
    "plt.show()"
   ]
  },
  {
   "cell_type": "markdown",
   "metadata": {},
   "source": [
    "### So what should a good restaurant look like in Philadelphia?\n",
    "\n",
    "Based on the above findings, we suggest the business owner to focus on these areas of running his restaurants: \n",
    "\n",
    "1. The food must be of good quality, affordable and copious. This is because customers who review restaurants in Philly almost always mention the food they had.\n",
    "2. The environment of the restaurant should make customers feel welcomed to the point that they would like to spend quality time with their loved ones there. Also nice interior decoration will help attract customers.  \n",
    "3. The hospitality of the restaurant also needs to be good: either the waiters are welcoming to the customers and can make pertinent suggestions on the menu, or food should arrive on time if there is delivery service."
   ]
  },
  {
   "cell_type": "markdown",
   "metadata": {},
   "source": [
    "## The evolution of food trends over time\n",
    "\n",
    "Besides looking at what customers in general like about restaurants, it will be also beneficial to understand whether and how food preferences by customers might change over time. Having knowledge of food trends in Philadelphia can be useful for the business owner to decide which types of restaurant to open so that it is likely to be more profitable in the future.\n",
    "\n",
    "But how should we define \"food trends\" with the data we are using? Recall that the `categories` column, now that only restaurant-type businesses are included, contain information about the types of catering services or cuisines a restaurant offers. Accordingly, we will see how the average ratings for categories of restaurants changed over the period of time covered in the dataset. \n",
    "\n",
    "Continuing from where we left off about the number of reviews per month in the dataset in the EDA section, we will only analyse the food trends with data from 2008 because the earlier period in the dataset contains too few observations to draw any reliable conclusions about the food trends. "
   ]
  },
  {
   "cell_type": "markdown",
   "metadata": {},
   "source": [
    "### Summarising different types of restaurants\n",
    "Initially, one might just want to directly work on the categories of the restaurants to examine food trends. On a closer look, however, there are over 300 unique categories describing restaurant-related businesses in Philadelphia. Using the categories directly will then make presenting the food trends in a concise manner to the business owner difficult."
   ]
  },
  {
   "cell_type": "code",
   "execution_count": 43,
   "metadata": {},
   "outputs": [
    {
     "name": "stdout",
     "output_type": "stream",
     "text": [
      "There are a total of 368 categories related to restaurants in the dataset.\n"
     ]
    }
   ],
   "source": [
    "# Checking how many categories of restaurants there are in the dataset\n",
    "resto_reviews_philly[\"categories\"] = resto_reviews_philly[\"categories\"].str.split(r\",\\s+\", regex = True)\n",
    "resto_cat_list = resto_reviews_philly[\"categories\"].to_list()\n",
    "unique_resto_types = set(chain(*resto_cat_list))\n",
    "print(f\"There are a total of {len(unique_resto_types)} categories related to restaurants in the dataset.\")"
   ]
  },
  {
   "cell_type": "markdown",
   "metadata": {},
   "source": [
    "We would therefore need a way to summarise all the restaurants in Philadelphia as a few major types and then look at how the ratings have evolved for each type throughout the period. Using Cluster analysis, which is one of the unsupervised learning algorithms, to find similar groups (the number being pre-defined) in the data will be very helpful for this task. The first step is to convert the restaurants, whose categories are in texts in the dataset, into some representations that can be understood by clustering algorithms which usually requires numerical inputs. Word embeddings, then, will be very helpful for representing natural language as vectors.\n",
    "\n",
    "Specifically, below are the steps of using cluster analysis to summarise the restaurants into a few major types:\n",
    "1. Train word embeddings for the categories of restaurant-related businesses\n",
    "2. Use the above word embeddings to create an embedding vector of each restaurant\n",
    "3. Perform clustering of the restaurants and see how many groups fit the restaurants best"
   ]
  },
  {
   "cell_type": "markdown",
   "metadata": {},
   "source": [
    "#### Model choices\n",
    "For word embeddings, we will opt for the **Word2Vec** algorithm and train it on the restaurant categories in the dataset. A brief explanation of the above decision: we are training a Word2Vec model here because our task is quite specific, namely, understanding the food preferences of customers in Philadelphia on several major types of restaurants. If we use pre-trained embedding models, then we will likely risk not being able to understand how some categories, having multiple connotations in English, just mean for restaurant categories. For instance, \"Chinese\" is one category of restaurants included in the dataset, but it can also be used in other contexts such as politics and media, and it is very likely that pre-trained models (usually with a large corpus of diverse documents from the Internet) will not have embeddings for the word \"Chinese\" solely on its meaning in the catering industry.\n",
    "\n",
    "We opt for Word2Vec as our embedding model partly because it can be easily trained with personal computers via `gensim`, unlike GloVe which requires using the command line to train or Transformers architectures which are prohibitively expensive for individuals to train on their own computers. Moreover, Word2Vec can capture more nuances of the restaurant categories beyond their similarities than rudimentary embedding methods like the bag of words or TF-IDF which also suffer from sparsity issues that will be detrimental to the performance of clustering. \n",
    "\n",
    "Since Word2Vec is already discussed in detail during module 7 of this course, here we will just quickly mention its main characteristics. In essence, Word2Vec (with the skip-gram algorithm) obtains embeddings for each word $v_i$ in the vocabulary $V$ by training a classifier to predict the context words $c_i \\in V$ given a target word $w_i \\in V$ as the input. The embeddings of a word $v_i \\in \\mathbb{R}$ (apologies for the abuse of notation) is usually obtained as the sum of its embeddings as target ($w_i \\in \\mathbb{R}$) and context ($c_i \\in \\mathbb{R}$) word. The parameter matrices, $W \\in \\mathbb{R}^{|V| \\times d}$ and $C \\in \\mathbb{R}^{|V| \\times d}$, contain the embeddings of all words in $V$ as target and context words, and they are trained via minimising the negative log-likelihood of a multi-nomial distribution over all words as target words. \n",
    "\n",
    "As for the clustering algorithm, we will opt for K-Means which aims to minimise the within-cluster sum-of-square (WCSS) of all observations with respect to the centroid of their assigned clusters, where $K$ is the pre-defined number of clusters that the user would like the algorithm to find. The choice of using K-Means here is due to its scalability (even for large sample sizes), ease of interpretation (as we shall see later, we can compare to which tokens each cluster centroid is the most similar to) and its wide application (including [documents grouping](https://scikit-learn.org/stable/auto_examples/text/plot_document_clustering.html#sphx-glr-auto-examples-text-plot-document-clustering-py)). A detailed discussion of K-Means is beyond the scope of this report, but more information of the algorithm can be found [here](https://scikit-learn.org/stable/modules/clustering.html#k-means). Before implementing the clustering pipeline, we will briefly discuss the details of each step."
   ]
  },
  {
   "cell_type": "markdown",
   "metadata": {},
   "source": [
    "#### Training embeddings of restaurant categories\n",
    "\n",
    "In order to ensure the Word2Vec model has enough training data to adequately learn the semantic meanings of restaurant categories and not overfit, we will train it with observations from the original `business_df`. In other words, we will use all the businesses in `business_df` whose `categories` contain either `restaurants` or `pop-up restaurants` to train the embedding model. From the output below, this method yields over 50,000 training samples for the Word2Vec model (where each sample is the list of categories of a restaurant as a document), which should alleviate concerns about overfitting due to a lack of training data.\n",
    "\n",
    "An important assumption here is that restaurant categories contain more or less than same meanings across different states in the US, which should be reasonable since it is unlikely for the definitions of cuisine types (e.g. based on nationalities or names of certain food) to vary drastically in different states (or even countries)."
   ]
  },
  {
   "cell_type": "code",
   "execution_count": 44,
   "metadata": {},
   "outputs": [
    {
     "data": {
      "text/plain": [
       "50223"
      ]
     },
     "execution_count": 44,
     "metadata": {},
     "output_type": "execute_result"
    }
   ],
   "source": [
    "# Getting the corpus of the restaurant categories\n",
    "business_res_mask = business_df[\"categories\"].str.contains(\"restaurants\") | business_df[\"categories\"].str.contains(\"pop-up restaurants\")\n",
    "res_category_list = business_df.loc[business_res_mask, \"categories\"].str.split(r\",\\s+\", regex = True).to_list()\n",
    "\n",
    "# Removing \"stop-words\" categories since they don't tell us much about how categories differ for each restaurant\n",
    "stop_words = [\"restaurants\", \"pop-up restaurants\", \"food\"]\n",
    "res_category_list = [[cat for cat in cat_list if cat not in stop_words] for cat_list in res_category_list]\n",
    "len(res_category_list)"
   ]
  },
  {
   "cell_type": "markdown",
   "metadata": {},
   "source": [
    "#### Getting the embeddings for restaurants in Philadelphia\n",
    "We will also need to convert the restaurants as embedding vectors based on their tokens in `categories` so that we can apply K-means. For simplicity, we will just take the average of the embeddings of all tokens present in a restaurant's categories. "
   ]
  },
  {
   "cell_type": "code",
   "execution_count": 45,
   "metadata": {},
   "outputs": [],
   "source": [
    "# A function for converting restaurants into embedding vectors based on its categories\n",
    "def res2vec(tokens, w2v_model, normalize = True):\n",
    "    \"\"\"Returns the embedding of a restaurant-related business as the mean of the tokens/words embeddings of its categories.\"\"\"\n",
    "    \n",
    "    embeddings = []\n",
    "    \n",
    "    for token in tokens:\n",
    "        try:\n",
    "            embeddings.append(w2v_model.wv.get_vector(token, norm=normalize))\n",
    "        except KeyError:\n",
    "            continue\n",
    "    \n",
    "    return np.array(embeddings).mean(axis = 0) if len(embeddings) > 0 else np.zeros(shape = w2v_model.vector_size)"
   ]
  },
  {
   "cell_type": "markdown",
   "metadata": {},
   "source": [
    "Below we extract all the distinct restaurants and their associated categories from the data. However, it seems that there are restaurants which have more than one entry of their categories in the data. If we look at the case of Taco Bell, then we observe that some categories are only present in some review entries or ordered in a different way, causing certain restaurants to have multiple entries of categories. Even more weirdly, Taco Bell is categorised as \"italian\" in one instance even though it is a Mexican fast food chain."
   ]
  },
  {
   "cell_type": "code",
   "execution_count": 46,
   "metadata": {},
   "outputs": [
    {
     "data": {
      "text/plain": [
       "(5294, 2)"
      ]
     },
     "execution_count": 46,
     "metadata": {},
     "output_type": "execute_result"
    }
   ],
   "source": [
    "# Getting all the distinct restaurants and their respective categories\n",
    "resto_reviews_philly[\"categories\"] = resto_reviews_philly[\"categories\"].apply(tuple)  \n",
    "res_categories_df = resto_reviews_philly[[\"name\", \"categories\"]].drop_duplicates()\n",
    "res_categories_df.shape  # number of rows doesn't match with number of distinct restaurants..."
   ]
  },
  {
   "cell_type": "code",
   "execution_count": 47,
   "metadata": {},
   "outputs": [
    {
     "name": "stdout",
     "output_type": "stream",
     "text": [
      "name\n",
      "Wawa                         35\n",
      "McDonald's                   30\n",
      "Dunkin'                      20\n",
      "Popeyes Louisiana Kitchen    16\n",
      "Taco Bell                    14\n",
      "Name: count, dtype: int64\n"
     ]
    },
    {
     "data": {
      "text/html": [
       "<div>\n",
       "<style scoped>\n",
       "    .dataframe tbody tr th:only-of-type {\n",
       "        vertical-align: middle;\n",
       "    }\n",
       "\n",
       "    .dataframe tbody tr th {\n",
       "        vertical-align: top;\n",
       "    }\n",
       "\n",
       "    .dataframe thead th {\n",
       "        text-align: right;\n",
       "    }\n",
       "</style>\n",
       "<table border=\"1\" class=\"dataframe\">\n",
       "  <thead>\n",
       "    <tr style=\"text-align: right;\">\n",
       "      <th></th>\n",
       "      <th>name</th>\n",
       "      <th>categories</th>\n",
       "    </tr>\n",
       "  </thead>\n",
       "  <tbody>\n",
       "    <tr>\n",
       "      <th>6722</th>\n",
       "      <td>Taco Bell</td>\n",
       "      <td>(mexican, tacos, restaurants, tex-mex, breakfa...</td>\n",
       "    </tr>\n",
       "    <tr>\n",
       "      <th>10292</th>\n",
       "      <td>Taco Bell</td>\n",
       "      <td>(italian, restaurants, tex-mex, fast food, piz...</td>\n",
       "    </tr>\n",
       "    <tr>\n",
       "      <th>10791</th>\n",
       "      <td>Taco Bell</td>\n",
       "      <td>(restaurants, mexican, tacos, tex-mex, breakfa...</td>\n",
       "    </tr>\n",
       "    <tr>\n",
       "      <th>15087</th>\n",
       "      <td>Taco Bell</td>\n",
       "      <td>(mexican, breakfast &amp; brunch, tacos, fast food...</td>\n",
       "    </tr>\n",
       "    <tr>\n",
       "      <th>15761</th>\n",
       "      <td>Taco Bell</td>\n",
       "      <td>(restaurants, breakfast &amp; brunch, tacos, fast ...</td>\n",
       "    </tr>\n",
       "    <tr>\n",
       "      <th>16033</th>\n",
       "      <td>Taco Bell</td>\n",
       "      <td>(restaurants, breakfast &amp; brunch, tacos, mexic...</td>\n",
       "    </tr>\n",
       "    <tr>\n",
       "      <th>25522</th>\n",
       "      <td>Taco Bell</td>\n",
       "      <td>(restaurants, tex-mex, mexican, fast food, tacos)</td>\n",
       "    </tr>\n",
       "    <tr>\n",
       "      <th>28671</th>\n",
       "      <td>Taco Bell</td>\n",
       "      <td>(mexican, restaurants)</td>\n",
       "    </tr>\n",
       "    <tr>\n",
       "      <th>33631</th>\n",
       "      <td>Taco Bell</td>\n",
       "      <td>(restaurants, mexican)</td>\n",
       "    </tr>\n",
       "    <tr>\n",
       "      <th>36756</th>\n",
       "      <td>Taco Bell</td>\n",
       "      <td>(restaurants, fast food, mexican, tex-mex, tacos)</td>\n",
       "    </tr>\n",
       "    <tr>\n",
       "      <th>55512</th>\n",
       "      <td>Taco Bell</td>\n",
       "      <td>(mexican, fast food, tex-mex, restaurants)</td>\n",
       "    </tr>\n",
       "    <tr>\n",
       "      <th>64569</th>\n",
       "      <td>Taco Bell</td>\n",
       "      <td>(mexican, tacos, breakfast &amp; brunch, fast food...</td>\n",
       "    </tr>\n",
       "    <tr>\n",
       "      <th>67638</th>\n",
       "      <td>Taco Bell</td>\n",
       "      <td>(mexican, restaurants, fast food, tex-mex)</td>\n",
       "    </tr>\n",
       "    <tr>\n",
       "      <th>84899</th>\n",
       "      <td>Taco Bell</td>\n",
       "      <td>(fast food, tex-mex, tacos, restaurants, mexican)</td>\n",
       "    </tr>\n",
       "  </tbody>\n",
       "</table>\n",
       "</div>"
      ],
      "text/plain": [
       "            name                                         categories\n",
       "6722   Taco Bell  (mexican, tacos, restaurants, tex-mex, breakfa...\n",
       "10292  Taco Bell  (italian, restaurants, tex-mex, fast food, piz...\n",
       "10791  Taco Bell  (restaurants, mexican, tacos, tex-mex, breakfa...\n",
       "15087  Taco Bell  (mexican, breakfast & brunch, tacos, fast food...\n",
       "15761  Taco Bell  (restaurants, breakfast & brunch, tacos, fast ...\n",
       "16033  Taco Bell  (restaurants, breakfast & brunch, tacos, mexic...\n",
       "25522  Taco Bell  (restaurants, tex-mex, mexican, fast food, tacos)\n",
       "28671  Taco Bell                             (mexican, restaurants)\n",
       "33631  Taco Bell                             (restaurants, mexican)\n",
       "36756  Taco Bell  (restaurants, fast food, mexican, tex-mex, tacos)\n",
       "55512  Taco Bell         (mexican, fast food, tex-mex, restaurants)\n",
       "64569  Taco Bell  (mexican, tacos, breakfast & brunch, fast food...\n",
       "67638  Taco Bell         (mexican, restaurants, fast food, tex-mex)\n",
       "84899  Taco Bell  (fast food, tex-mex, tacos, restaurants, mexican)"
      ]
     },
     "execution_count": 47,
     "metadata": {},
     "output_type": "execute_result"
    }
   ],
   "source": [
    "# Restaurants having more than one entry for categories\n",
    "restaurant_counts = res_categories_df[\"name\"].value_counts()\n",
    "print(restaurant_counts.head()) \n",
    "\n",
    "# How Taco Bell has different entries for categories\n",
    "res_categories_df.query(\"name == 'Taco Bell'\")"
   ]
  },
  {
   "cell_type": "markdown",
   "metadata": {},
   "source": [
    "A possible reason might be that the categories of the restaurants are determined by user inputs, so there exist discrepancies about the categories of the restaurants in the original dataset. To remedy this, we can take the average of the embedding vectors of a restaurant if it has more than one list of categories. An advantage is that this can wash out the contribution of erroneous categories to the embeddings of a restaurant (in Taco Bell's case, this would be Italian).\n",
    "\n",
    "<!-- \n",
    "    # # Creating word embedding model for restaurant categories\n",
    "    # res_names = res_cats_df[\"name\"]\n",
    "    # res_categories = res_cats_df[\"categories\"].to_list()\n",
    "\n",
    "    # # Creating embedding for each restaurant\n",
    "    # embeddings_df = {}\n",
    "    \n",
    "    # for res, cat_list in zip(res_names, res_categories):\n",
    "        \n",
    "    #     res_embed = res2vec(cat_list, w2v_model)\n",
    "    #     embeddings_df[res] = res_embed\n",
    "        \n",
    "    #     # Removing restaurant-related businesses whose all categories appear too few times in the corpus\n",
    "    #     if all(embeddings_df[res] == np.zeros(shape = w2v_model.vector_size)):\n",
    "    #         del(embeddings_df[res])\n",
    "            \n",
    "    # embeddings_df = pd.DataFrame({\"name\": embeddings_df.keys(), \n",
    "    #                               \"embeddings\": embeddings_df.values()})\n",
    "    \n",
    "    # return embeddings_df\n",
    "    \n",
    "# def combine_cats(restaurants_df):\n",
    "    \n",
    "#     res_cats_df = {}\n",
    "    \n",
    "#     for res in restaurants_df[\"name\"]:\n",
    "#         res_df = restaurants_df.query(\"name == @res\")\n",
    "#         res_cats_df[res] = set(chain(*res_df[\"categories\"]))\n",
    "    \n",
    "#     res_cats_df = pd.DataFrame({\"name\": res_cats_df.keys(), \n",
    "#                                 \"categories\": res_cats_df.values()})\n",
    "    \n",
    "#     return res_cats_df\n",
    "    \n",
    "# res_categories_df = combine_cats(res_categories_df)\n",
    "# assert res_categories_df.shape[0] == n_restos-->"
   ]
  },
  {
   "cell_type": "code",
   "execution_count": 48,
   "metadata": {},
   "outputs": [],
   "source": [
    "# Getting the embeddings for every restaurant\n",
    "def get_resto_embeddings(res_cats_df, w2v_model):\n",
    "    \n",
    "    # Getting the embedding for each row of categories\n",
    "    embeddings_df = pd.DataFrame({\"name\": res_cats_df[\"name\"], \n",
    "                                  \"embeddings\": res_cats_df[\"categories\"].apply(res2vec, w2v_model = w2v_model)})\n",
    "    \n",
    "    # Getting the average embeddings by restaurant\n",
    "    embeddings_avg = embeddings_df.groupby(\"name\")['embeddings'].mean()\n",
    "    embeddings_avg = pd.DataFrame({\"name\": embeddings_avg.index, \n",
    "                                   \"embeddings\": embeddings_avg.values})\n",
    "    \n",
    "    return embeddings_avg"
   ]
  },
  {
   "cell_type": "markdown",
   "metadata": {},
   "source": [
    "#### Hyperparameter tuning\n",
    "We will now put all the above preliminary steps together and then train a clustering model on the restaurants in Philadelphia. The main hyperparameters in this clustering pipeline will be:\n",
    "\n",
    "* Number of clusters $k$ that K-means will form \n",
    "* The window size $l$ which determines the size of the context around a target word\n",
    "\n",
    "Admittedly, there also exist other hyperparameters to be tuned, such as the number of negative samples for each valid pair of center and context word as well as the embedding dimension for each token. Due to computational constraints, however, we will not tune them here. Instead, unless otherwise specified, we will use the default values in the `Word2Vec` class implemented in `gensim`. That being said, we changed some default parameters:\n",
    "\n",
    "* The initial learning rate $\\alpha$ for Stochastic Gradient Descent in training Word2Vec is changed to 0.01 to avoid diverging from the local optima during early iterations\n",
    "* We used skip-gram as the algorithm for Word2Vec\n",
    "* We increased the embedding dimensions of each token to 300. Overfitting should be unlikely given the relatively large amount of documents (i.e. list of categories) available for training\n",
    "  \n",
    "Below we will tune the two hyperparameters considered in our clustering pipeline. Specifically, we will use the [within-cluster sum-of-square (WCSS)](https://scikit-learn.org/stable/modules/clustering.html#k-means) as well as the [Silhouette Coefficient](https://scikit-learn.org/stable/modules/clustering.html#silhouette-coefficient) to quantitatively compare how well each pair of hyperparameters performs in grouping the restaurants as a start to see where the optimal range of hyperparameters might lie. \n",
    "\n",
    "In essence, both of these metrics aim to measure how close the observations are to the centroid of their assigned clusters. A smaller WCSS means observations are closely grouped within their clusters and far away from other clusters, whereas a Silhouette Coefficient close to 1 indicates that clusters are densely grouped together, 0 indicates clusters are overlapping, and -1 means the clusters are incorrectly assigned since the observations are actually closer to the centroid of another cluster than that of their assigned one."
   ]
  },
  {
   "cell_type": "code",
   "execution_count": 49,
   "metadata": {},
   "outputs": [],
   "source": [
    "from gensim.models import Word2Vec\n",
    "from sklearn.cluster import KMeans\n",
    "\n",
    "# Function for clustering restaurants\n",
    "def cluster_restaurants(embeddings_df, k, seed_clus = 1):\n",
    "        \n",
    "    # Fitting K-means\n",
    "    k_means = KMeans(n_clusters = k, random_state = seed_clus)\n",
    "    k_means.fit(np.vstack(embeddings_df[\"embeddings\"]))\n",
    "    \n",
    "    return k_means\n",
    "\n",
    "def cluster_pipeline(res_df, l, k, seed_w2v = 1, seed_clus = 1):\n",
    "    \n",
    "    # Training a word2vec model\n",
    "    w2v_model = Word2Vec(res_category_list, window = l, sg = 1, min_count = 5, vector_size = 300,\n",
    "                         alpha = 0.01, min_alpha = 0.0001, epochs = 30, workers = 1, seed = seed_w2v)\n",
    "        \n",
    "    # Getting the restaurant embeddings\n",
    "    embeddings = get_resto_embeddings(res_df, w2v_model)\n",
    "    \n",
    "    # Clustering    \n",
    "    k_means = cluster_restaurants(embeddings, k = k, seed_clus = seed_clus)\n",
    "    embeddings['cluster'] = k_means.labels_\n",
    "    \n",
    "    return w2v_model, embeddings, k_means"
   ]
  },
  {
   "cell_type": "markdown",
   "metadata": {},
   "source": [
    "We will consider the following ranges for the hyperparameters: \n",
    "\n",
    "* $l \\in \\{\\mathbb{Z} \\; : \\; 1 \\leq l \\leq 10\\}$\n",
    "* $k \\in \\{\\mathbb{Z} \\; : \\; 2 \\leq l \\leq 30\\}$"
   ]
  },
  {
   "cell_type": "code",
   "execution_count": 50,
   "metadata": {},
   "outputs": [],
   "source": [
    "# Tuning the clustering pipeline\n",
    "from sklearn.metrics import silhouette_score\n",
    "max_l = 10\n",
    "max_k = 30\n",
    "window_sizes = np.arange(1, max_l + 1)\n",
    "k_clusters = np.arange(2, max_k + 1)\n",
    "\n",
    "# Index 0 on the first axis refers to l = 1\n",
    "# Index 0 on the second axis refers to k = 2\n",
    "inertia_mat = np.zeros(shape = (len(window_sizes), len(k_clusters)))\n",
    "silhouette_mat = np.zeros(shape = (len(window_sizes), len(k_clusters)))\n",
    "\n",
    "# Grid search based on WCSS\n",
    "for l in window_sizes:\n",
    "    for k in k_clusters:\n",
    "        os.environ['PYTHONHASHSEED'] = '0'\n",
    "        _, embeddings, k_means = cluster_pipeline(res_categories_df, l, k)\n",
    "        inertia_mat[l - 1, k - 2] = k_means.inertia_\n",
    "        silhouette_mat[l - 1, k - 2] = silhouette_score(np.vstack(embeddings[\"embeddings\"]), k_means.labels_)"
   ]
  },
  {
   "cell_type": "markdown",
   "metadata": {},
   "source": [
    "From the line plot below, we can observe that for a given number of clusters $k$, the WCSS is usually the lowest when the window size $l = 1$ (i.e. restaurants in each cluster are more concentrated around their centroid). However, there does not seem to be a noticeable elbow in the WCSS for all the window sizes considered. Using the elbow method to pick the number of clusters might prove difficult in this case.\n",
    "\n",
    "Then let us also consider the Silhouette coefficient for different pairs of hyperparameters. Overall, the Silhouette scores are positive but not very far away from 0. This makes sense because some categories of food can indeed be shared by different types of restaurants (for example, think about pizza which can be both fast food and a dish in a quality Italian restaurant). From the right line plot below, we can notice that quite a bit of K-means models achieve similar silhouette scores. We therefore would need a way to pick a simpler model which will be easier to present to the business owner."
   ]
  },
  {
   "cell_type": "code",
   "execution_count": 51,
   "metadata": {},
   "outputs": [
    {
     "data": {
      "application/vnd.plotly.v1+json": {
       "config": {
        "plotlyServerURL": "https://plot.ly"
       },
       "data": [
        {
         "line": {
          "color": "rgb(31, 119, 180)"
         },
         "name": "l = 1",
         "type": "scatter",
         "x": [
          2,
          3,
          4,
          5,
          6,
          7,
          8,
          9,
          10,
          11,
          12,
          13,
          14,
          15,
          16,
          17,
          18,
          19,
          20,
          21,
          22,
          23,
          24,
          25,
          26,
          27,
          28,
          29,
          30
         ],
         "xaxis": "x",
         "y": [
          1474.3067909685174,
          1240.1757460723763,
          1088.3775308441518,
          1030.0972532580295,
          947.642241994921,
          906.9417085829084,
          854.0515174058899,
          815.8144920578271,
          786.5281266118984,
          749.4422512908561,
          731.7199890810056,
          716.0154152140868,
          684.4380388626107,
          678.189508358206,
          649.2615672323298,
          623.9477598430715,
          607.8750183961281,
          607.9624435250068,
          603.7701126898652,
          570.9020115578954,
          559.0418316772767,
          552.23351942882,
          541.5823503491537,
          535.0482371055616,
          522.3453113291771,
          509.4301664669832,
          506.47533941792307,
          502.02797707506875,
          493.8652086833757
         ],
         "yaxis": "y"
        },
        {
         "line": {
          "color": "rgb(31, 119, 180)"
         },
         "name": "l = 1",
         "showlegend": false,
         "type": "scatter",
         "x": [
          2,
          3,
          4,
          5,
          6,
          7,
          8,
          9,
          10,
          11,
          12,
          13,
          14,
          15,
          16,
          17,
          18,
          19,
          20,
          21,
          22,
          23,
          24,
          25,
          26,
          27,
          28,
          29,
          30
         ],
         "xaxis": "x2",
         "y": [
          0.11775467795827814,
          0.18929048910865975,
          0.20887814495176496,
          0.2003633339479913,
          0.22015549254088315,
          0.24555537780536343,
          0.24442568738979403,
          0.2430226522556838,
          0.2506516249106561,
          0.26006354440564283,
          0.2616976301499714,
          0.260892826431279,
          0.26396441904192297,
          0.26089017296075223,
          0.25857320343760265,
          0.26312931981809057,
          0.2637777352596599,
          0.25900240382416745,
          0.24891536775563658,
          0.27867421101168677,
          0.2789930590851265,
          0.23396102346995828,
          0.24004746584298142,
          0.24113920228782143,
          0.24667469485842425,
          0.2593751321577325,
          0.2430746276072323,
          0.24502114372673583,
          0.24741168223154617
         ],
         "yaxis": "y2"
        },
        {
         "line": {
          "color": "rgb(255, 127, 14)"
         },
         "name": "l = 2",
         "type": "scatter",
         "x": [
          2,
          3,
          4,
          5,
          6,
          7,
          8,
          9,
          10,
          11,
          12,
          13,
          14,
          15,
          16,
          17,
          18,
          19,
          20,
          21,
          22,
          23,
          24,
          25,
          26,
          27,
          28,
          29,
          30
         ],
         "xaxis": "x",
         "y": [
          1506.2986866759088,
          1278.0289295031573,
          1129.3111228764644,
          1055.6676599353664,
          986.4687298592129,
          944.2938562968386,
          888.3316223838021,
          855.730574773389,
          813.1411205292325,
          796.2279298114724,
          772.5068312692855,
          743.518241930621,
          738.7623493860056,
          728.5726523758874,
          700.9315698522387,
          678.2580771307507,
          668.0053103575258,
          639.0504850823124,
          627.2800113768243,
          617.1902983947392,
          603.9224885208605,
          587.8034390181356,
          572.1099314854852,
          557.2261296947053,
          550.2088491947623,
          540.1136012011707,
          531.1112134442393,
          526.9650972709264,
          513.492728010345
         ],
         "yaxis": "y"
        },
        {
         "line": {
          "color": "rgb(255, 127, 14)"
         },
         "name": "l = 2",
         "showlegend": false,
         "type": "scatter",
         "x": [
          2,
          3,
          4,
          5,
          6,
          7,
          8,
          9,
          10,
          11,
          12,
          13,
          14,
          15,
          16,
          17,
          18,
          19,
          20,
          21,
          22,
          23,
          24,
          25,
          26,
          27,
          28,
          29,
          30
         ],
         "xaxis": "x2",
         "y": [
          0.10679611486907871,
          0.16200882990108814,
          0.20150912872303894,
          0.21157018657299312,
          0.22390757325299307,
          0.21738850386114925,
          0.23884595034608389,
          0.22710841278537353,
          0.24038255686850382,
          0.2416826832438184,
          0.24686949772610126,
          0.24383926050335458,
          0.24257834553844168,
          0.24495301908232403,
          0.2457048087429946,
          0.25102819030113044,
          0.2569791197911709,
          0.2700717456268475,
          0.26754255378333747,
          0.216262527156436,
          0.21697823121938173,
          0.278206114713738,
          0.23987508761883616,
          0.28637458936868776,
          0.24550966330660096,
          0.24061162823218388,
          0.2528449261150491,
          0.2517818672763263,
          0.2565559956559731
         ],
         "yaxis": "y2"
        },
        {
         "line": {
          "color": "rgb(44, 160, 44)"
         },
         "name": "l = 3",
         "type": "scatter",
         "x": [
          2,
          3,
          4,
          5,
          6,
          7,
          8,
          9,
          10,
          11,
          12,
          13,
          14,
          15,
          16,
          17,
          18,
          19,
          20,
          21,
          22,
          23,
          24,
          25,
          26,
          27,
          28,
          29,
          30
         ],
         "xaxis": "x",
         "y": [
          1531.3783115314618,
          1378.6383070679462,
          1150.8120234044493,
          1079.668864931394,
          1016.5043011977041,
          968.29050064103,
          917.1795643399447,
          873.4862096523404,
          881.0272122052083,
          817.1869668848784,
          793.5887427726872,
          760.2762933739161,
          750.4540593064625,
          732.4194796184529,
          705.3185856485482,
          674.2685455623468,
          656.1904193122447,
          653.1353593771896,
          637.8733324589393,
          610.9529170118171,
          598.2562397474086,
          587.0116136689524,
          591.4736937324399,
          586.1092298990629,
          568.2540102269438,
          559.4636695042215,
          547.8078179702954,
          539.9262681545249,
          526.7093223757453
         ],
         "yaxis": "y"
        },
        {
         "line": {
          "color": "rgb(44, 160, 44)"
         },
         "name": "l = 3",
         "showlegend": false,
         "type": "scatter",
         "x": [
          2,
          3,
          4,
          5,
          6,
          7,
          8,
          9,
          10,
          11,
          12,
          13,
          14,
          15,
          16,
          17,
          18,
          19,
          20,
          21,
          22,
          23,
          24,
          25,
          26,
          27,
          28,
          29,
          30
         ],
         "xaxis": "x2",
         "y": [
          0.10307679142989061,
          0.14299746431662758,
          0.19664836044039663,
          0.2118853572435621,
          0.2201353275761229,
          0.21980711682197496,
          0.22084100526642034,
          0.2260788042949309,
          0.20276740585970285,
          0.22357896821331433,
          0.22911857430149368,
          0.242339387916166,
          0.23521250847610037,
          0.23729719389449444,
          0.24595756025849683,
          0.26381550482983274,
          0.26560951192284027,
          0.26730681536557305,
          0.25278946896487686,
          0.23411260073932116,
          0.23891509624172477,
          0.23387541293997366,
          0.2271820070796436,
          0.22444276081308248,
          0.22851524977603785,
          0.23017190087202116,
          0.23383833365410972,
          0.23581113342272184,
          0.2401144169336041
         ],
         "yaxis": "y2"
        },
        {
         "line": {
          "color": "rgb(214, 39, 40)"
         },
         "name": "l = 4",
         "type": "scatter",
         "x": [
          2,
          3,
          4,
          5,
          6,
          7,
          8,
          9,
          10,
          11,
          12,
          13,
          14,
          15,
          16,
          17,
          18,
          19,
          20,
          21,
          22,
          23,
          24,
          25,
          26,
          27,
          28,
          29,
          30
         ],
         "xaxis": "x",
         "y": [
          1539.7594060235103,
          1314.4376789058022,
          1162.5886969173075,
          1082.098590000154,
          1021.6308004715976,
          965.3019619000256,
          935.8526476964856,
          879.0448316505938,
          839.8203990552934,
          820.2082215960188,
          797.7328169734461,
          768.1778796466785,
          748.6839243010282,
          728.6205021026791,
          723.2378013939743,
          709.3966082552449,
          687.4121227502329,
          669.8582244074753,
          660.7926705188673,
          633.9124302865011,
          624.5637932856778,
          620.7585540794088,
          617.900740352906,
          605.2391110674528,
          593.4327734570029,
          586.752452115043,
          581.1236473157718,
          555.1280734667181,
          549.9027898268237
         ],
         "yaxis": "y"
        },
        {
         "line": {
          "color": "rgb(214, 39, 40)"
         },
         "name": "l = 4",
         "showlegend": false,
         "type": "scatter",
         "x": [
          2,
          3,
          4,
          5,
          6,
          7,
          8,
          9,
          10,
          11,
          12,
          13,
          14,
          15,
          16,
          17,
          18,
          19,
          20,
          21,
          22,
          23,
          24,
          25,
          26,
          27,
          28,
          29,
          30
         ],
         "xaxis": "x2",
         "y": [
          0.10300884853542296,
          0.15781722879171609,
          0.19657072364805983,
          0.20546159908323006,
          0.21334806702359188,
          0.2227321408170516,
          0.2170195349596676,
          0.22861629468941425,
          0.23822796195785717,
          0.23907589679973396,
          0.2340996161014251,
          0.2445469482740393,
          0.24633783440544013,
          0.25593893001254203,
          0.25557592410709684,
          0.25844758997951944,
          0.263378662457629,
          0.27001785076057855,
          0.23189114928027363,
          0.2710880343437987,
          0.26580382828701504,
          0.26125957597817956,
          0.2578086519677722,
          0.2594221222215081,
          0.2646284706814604,
          0.2222878412818724,
          0.22059467900492405,
          0.22902750268188857,
          0.23030527697265984
         ],
         "yaxis": "y2"
        },
        {
         "line": {
          "color": "rgb(148, 103, 189)"
         },
         "name": "l = 5",
         "type": "scatter",
         "x": [
          2,
          3,
          4,
          5,
          6,
          7,
          8,
          9,
          10,
          11,
          12,
          13,
          14,
          15,
          16,
          17,
          18,
          19,
          20,
          21,
          22,
          23,
          24,
          25,
          26,
          27,
          28,
          29,
          30
         ],
         "xaxis": "x",
         "y": [
          1549.7160934672247,
          1319.6594448525195,
          1241.5442795782462,
          1090.7256043596587,
          1038.9202850457066,
          976.8250059439802,
          929.1065213412767,
          888.2796615973793,
          858.9738231771238,
          836.7184476236889,
          799.7749967464094,
          777.5121548114058,
          749.2824380291195,
          730.3584582976328,
          695.5105639713479,
          686.1915557859493,
          668.8508658562235,
          659.4973279955349,
          643.2354680786118,
          651.1640387759763,
          632.2151100571123,
          609.7198851981459,
          594.5143314941178,
          588.5361667246758,
          576.3276981800636,
          568.2956503861585,
          558.1402963513963,
          552.0290459721872,
          546.2704445195038
         ],
         "yaxis": "y"
        },
        {
         "line": {
          "color": "rgb(148, 103, 189)"
         },
         "name": "l = 5",
         "showlegend": false,
         "type": "scatter",
         "x": [
          2,
          3,
          4,
          5,
          6,
          7,
          8,
          9,
          10,
          11,
          12,
          13,
          14,
          15,
          16,
          17,
          18,
          19,
          20,
          21,
          22,
          23,
          24,
          25,
          26,
          27,
          28,
          29,
          30
         ],
         "xaxis": "x2",
         "y": [
          0.10802089706507492,
          0.1582596033792042,
          0.16719903050643303,
          0.2058027716628256,
          0.21662828052580632,
          0.21390371172213712,
          0.22397533947311637,
          0.23404862353575118,
          0.2242338505812218,
          0.22873553926772378,
          0.238622476709304,
          0.2455728001858679,
          0.2518239444368296,
          0.2542010259230593,
          0.26117514834437844,
          0.26044973801764293,
          0.2631756550807561,
          0.2146621371867849,
          0.21912952567663674,
          0.21198876319431356,
          0.21904169265832302,
          0.2696869874345542,
          0.23330793862855298,
          0.2311715966319491,
          0.2476880058184623,
          0.25297388461026477,
          0.25487675824541756,
          0.24134215859168212,
          0.24221925263323368
         ],
         "yaxis": "y2"
        },
        {
         "line": {
          "color": "rgb(140, 86, 75)"
         },
         "name": "l = 6",
         "type": "scatter",
         "x": [
          2,
          3,
          4,
          5,
          6,
          7,
          8,
          9,
          10,
          11,
          12,
          13,
          14,
          15,
          16,
          17,
          18,
          19,
          20,
          21,
          22,
          23,
          24,
          25,
          26,
          27,
          28,
          29,
          30
         ],
         "xaxis": "x",
         "y": [
          1552.8967931370335,
          1387.6081855468026,
          1172.648732204098,
          1135.6177161952744,
          1063.3223457820084,
          1013.8947101418632,
          932.4630870259292,
          905.9166043430565,
          864.2934602000915,
          829.0429217329514,
          800.6029309499792,
          775.8524165079066,
          762.7616183774251,
          732.5558190539348,
          715.8098209408545,
          699.1932840771954,
          678.309468935865,
          663.8794262988745,
          648.7016521502096,
          635.792367233828,
          624.5027926042544,
          606.7976067891364,
          595.5474158082701,
          583.2971044144505,
          591.2366293317323,
          572.2916372291338,
          572.8782472757777,
          562.6898724060204,
          551.644605745717
         ],
         "yaxis": "y"
        },
        {
         "line": {
          "color": "rgb(140, 86, 75)"
         },
         "name": "l = 6",
         "showlegend": false,
         "type": "scatter",
         "x": [
          2,
          3,
          4,
          5,
          6,
          7,
          8,
          9,
          10,
          11,
          12,
          13,
          14,
          15,
          16,
          17,
          18,
          19,
          20,
          21,
          22,
          23,
          24,
          25,
          26,
          27,
          28,
          29,
          30
         ],
         "xaxis": "x2",
         "y": [
          0.10147459844521306,
          0.1356762043659047,
          0.19490762905047176,
          0.18139388089984257,
          0.1966017966910322,
          0.20834418279755126,
          0.23310834628194027,
          0.23261376923211616,
          0.2419583623245175,
          0.2379880881064192,
          0.23207285911761624,
          0.23974878721027293,
          0.23823422297987837,
          0.2477074495397766,
          0.25279862710392537,
          0.25472560683829065,
          0.2607266252619066,
          0.2624079431211567,
          0.2634117371786975,
          0.22737634302075466,
          0.22859188513895573,
          0.23448443293619758,
          0.23753037855835704,
          0.24166329750306006,
          0.2278532903706363,
          0.23858536395436644,
          0.22903678015470125,
          0.2255045988532104,
          0.2307719101986409
         ],
         "yaxis": "y2"
        },
        {
         "line": {
          "color": "rgb(227, 119, 194)"
         },
         "name": "l = 7",
         "type": "scatter",
         "x": [
          2,
          3,
          4,
          5,
          6,
          7,
          8,
          9,
          10,
          11,
          12,
          13,
          14,
          15,
          16,
          17,
          18,
          19,
          20,
          21,
          22,
          23,
          24,
          25,
          26,
          27,
          28,
          29,
          30
         ],
         "xaxis": "x",
         "y": [
          1554.097687768785,
          1328.6777635831031,
          1176.1330231900386,
          1098.4895803966417,
          1050.958231774379,
          1013.5052289194714,
          935.527925121829,
          894.5253186821121,
          860.6414042565937,
          824.7281388759972,
          802.6559989700614,
          778.7420797875506,
          759.2845919584403,
          736.1738035648863,
          719.1115547467667,
          710.6844728277725,
          689.1899212453798,
          658.0092346131883,
          646.2647889926161,
          638.8961869124731,
          616.9038472132437,
          610.7423205265593,
          597.8376661125249,
          590.5360102661193,
          579.2277351022558,
          567.7448012906843,
          563.3900362243457,
          559.100001577442,
          553.0832064762644
         ],
         "yaxis": "y"
        },
        {
         "line": {
          "color": "rgb(227, 119, 194)"
         },
         "name": "l = 7",
         "showlegend": false,
         "type": "scatter",
         "x": [
          2,
          3,
          4,
          5,
          6,
          7,
          8,
          9,
          10,
          11,
          12,
          13,
          14,
          15,
          16,
          17,
          18,
          19,
          20,
          21,
          22,
          23,
          24,
          25,
          26,
          27,
          28,
          29,
          30
         ],
         "xaxis": "x2",
         "y": [
          0.10132167164146672,
          0.15766593226817527,
          0.19520105394030443,
          0.20545970421680887,
          0.19156397384216634,
          0.19283323102551153,
          0.22281724526525779,
          0.23274609140001434,
          0.23334017169181753,
          0.22890605438309336,
          0.2289612690995267,
          0.23603410678571873,
          0.23954551704772437,
          0.24473942764661907,
          0.2489460344436339,
          0.2496006926157323,
          0.25444939941968986,
          0.26942486167016516,
          0.2664030268287987,
          0.2737417540951092,
          0.2766943821834916,
          0.2785990572910887,
          0.2795493462241754,
          0.2785448626231217,
          0.2295480905550115,
          0.2373069112497364,
          0.2368729308052928,
          0.22964851066285655,
          0.2347337226113703
         ],
         "yaxis": "y2"
        },
        {
         "line": {
          "color": "rgb(127, 127, 127)"
         },
         "name": "l = 8",
         "type": "scatter",
         "x": [
          2,
          3,
          4,
          5,
          6,
          7,
          8,
          9,
          10,
          11,
          12,
          13,
          14,
          15,
          16,
          17,
          18,
          19,
          20,
          21,
          22,
          23,
          24,
          25,
          26,
          27,
          28,
          29,
          30
         ],
         "xaxis": "x",
         "y": [
          1561.2569203968035,
          1325.9938081883743,
          1280.034661258866,
          1115.6054012613222,
          1042.3561987624014,
          983.934243554859,
          936.8295725504821,
          896.7165108826508,
          883.880471226414,
          841.3243992530929,
          835.8678965544536,
          793.2662669499744,
          768.7603304687268,
          739.1511909048895,
          741.9635012711478,
          716.6472127165886,
          692.9360515016018,
          681.567063078427,
          655.3750441607041,
          641.6445434526979,
          626.9934681587607,
          616.2477804848161,
          601.8960149082662,
          588.9413735359888,
          585.9409042603064,
          565.4756877808551,
          557.2840452870788,
          546.3873788311198,
          540.0394290745897
         ],
         "yaxis": "y"
        },
        {
         "line": {
          "color": "rgb(127, 127, 127)"
         },
         "name": "l = 8",
         "showlegend": false,
         "type": "scatter",
         "x": [
          2,
          3,
          4,
          5,
          6,
          7,
          8,
          9,
          10,
          11,
          12,
          13,
          14,
          15,
          16,
          17,
          18,
          19,
          20,
          21,
          22,
          23,
          24,
          25,
          26,
          27,
          28,
          29,
          30
         ],
         "xaxis": "x2",
         "y": [
          0.1064101636856112,
          0.19017382936594032,
          0.15104205787554478,
          0.2013377247855978,
          0.21648682857274731,
          0.22754677475413043,
          0.2306778567334552,
          0.23553216406101357,
          0.2168929756007771,
          0.2276839605082179,
          0.2235629094866386,
          0.22956680827036158,
          0.2365983268266328,
          0.24918198197562516,
          0.22858358286467498,
          0.2377013998042714,
          0.2456968864426469,
          0.2499264450120845,
          0.26461288212383255,
          0.22793334954935707,
          0.2317295005758327,
          0.23759095906928804,
          0.24207940539627704,
          0.24373398927712667,
          0.24724734751421157,
          0.2902527649493417,
          0.25887410424347096,
          0.25602320532383316,
          0.25660675260534305
         ],
         "yaxis": "y2"
        },
        {
         "line": {
          "color": "rgb(188, 189, 34)"
         },
         "name": "l = 9",
         "type": "scatter",
         "x": [
          2,
          3,
          4,
          5,
          6,
          7,
          8,
          9,
          10,
          11,
          12,
          13,
          14,
          15,
          16,
          17,
          18,
          19,
          20,
          21,
          22,
          23,
          24,
          25,
          26,
          27,
          28,
          29,
          30
         ],
         "xaxis": "x",
         "y": [
          1555.3556983031253,
          1336.2069452053686,
          1178.003521544379,
          1122.799714027151,
          1051.1881337381355,
          987.1290286156739,
          955.6837601992513,
          906.2490465813291,
          864.2661154666839,
          838.1496306207177,
          806.0808110200169,
          776.7452209712782,
          749.1100940778191,
          740.9131721290863,
          712.0717853119519,
          701.9970104176357,
          685.4645120286341,
          674.7133969068232,
          654.500823545022,
          645.6609895874005,
          640.1099387726522,
          628.9791301081425,
          618.3728706193956,
          601.9962871360085,
          577.6379456206107,
          563.8422062421935,
          558.49062541921,
          550.8493443763509,
          541.0787135643021
         ],
         "yaxis": "y"
        },
        {
         "line": {
          "color": "rgb(188, 189, 34)"
         },
         "name": "l = 9",
         "showlegend": false,
         "type": "scatter",
         "x": [
          2,
          3,
          4,
          5,
          6,
          7,
          8,
          9,
          10,
          11,
          12,
          13,
          14,
          15,
          16,
          17,
          18,
          19,
          20,
          21,
          22,
          23,
          24,
          25,
          26,
          27,
          28,
          29,
          30
         ],
         "xaxis": "x2",
         "y": [
          0.1008695155433345,
          0.1554718429610998,
          0.19403972293119703,
          0.20375272039318634,
          0.21759937457657214,
          0.22331229296648306,
          0.19978769044588815,
          0.2137697775035499,
          0.22232857422358127,
          0.22031359288769212,
          0.22850603366210234,
          0.24049074346959942,
          0.24946138808088197,
          0.24820654681608165,
          0.25751020273082204,
          0.25586387456531573,
          0.26061470672676995,
          0.2632272528742667,
          0.27306929575231437,
          0.22842789639906927,
          0.22790137195320528,
          0.23076003027710273,
          0.23597539116423805,
          0.24109646538761162,
          0.24661306187469054,
          0.24547235232967554,
          0.24607449303206064,
          0.247415440559211,
          0.2516174025941834
         ],
         "yaxis": "y2"
        },
        {
         "line": {
          "color": "rgb(23, 190, 207)"
         },
         "name": "l = 10",
         "type": "scatter",
         "x": [
          2,
          3,
          4,
          5,
          6,
          7,
          8,
          9,
          10,
          11,
          12,
          13,
          14,
          15,
          16,
          17,
          18,
          19,
          20,
          21,
          22,
          23,
          24,
          25,
          26,
          27,
          28,
          29,
          30
         ],
         "xaxis": "x",
         "y": [
          1559.7491934914615,
          1373.1027052037607,
          1183.5639338219803,
          1103.491721455859,
          1046.7327261764362,
          990.7494393978982,
          950.1455200763903,
          900.7280032536755,
          858.8681961457505,
          838.4414384226711,
          801.425804480674,
          778.3166350434539,
          760.5041788457601,
          736.6714035928254,
          712.8786563330164,
          696.6520457168608,
          681.6158563804938,
          667.6167959821512,
          659.3796584595345,
          647.3577220932443,
          635.7748407654351,
          621.2410559530176,
          612.5783588279419,
          607.172308844755,
          589.9177011353224,
          577.9671545092534,
          582.7326386434327,
          572.7160355267114,
          561.8463095813041
         ],
         "yaxis": "y"
        },
        {
         "line": {
          "color": "rgb(23, 190, 207)"
         },
         "name": "l = 10",
         "showlegend": false,
         "type": "scatter",
         "x": [
          2,
          3,
          4,
          5,
          6,
          7,
          8,
          9,
          10,
          11,
          12,
          13,
          14,
          15,
          16,
          17,
          18,
          19,
          20,
          21,
          22,
          23,
          24,
          25,
          26,
          27,
          28,
          29,
          30
         ],
         "xaxis": "x2",
         "y": [
          0.10184517373121318,
          0.1528798304334235,
          0.19211183514137228,
          0.20371054525791316,
          0.21349662524966823,
          0.21510866733823242,
          0.21902028082925698,
          0.22201370922564181,
          0.23277698005654085,
          0.23774873061418,
          0.2382793294904072,
          0.24633559606591895,
          0.24913154877156793,
          0.25204333018431013,
          0.25791558362225303,
          0.2609498651916691,
          0.26553407592660405,
          0.264265256630026,
          0.26604425572386003,
          0.2700634139276482,
          0.271036190762448,
          0.27865815305559705,
          0.2804350831598791,
          0.28216361533608486,
          0.285597690352589,
          0.28727459336715744,
          0.24338886330720477,
          0.23983550633671744,
          0.24056487801468335
         ],
         "yaxis": "y2"
        }
       ],
       "layout": {
        "annotations": [
         {
          "font": {
           "size": 16
          },
          "showarrow": false,
          "text": "WCSS",
          "x": 0.225,
          "xanchor": "center",
          "xref": "paper",
          "y": 1,
          "yanchor": "bottom",
          "yref": "paper"
         },
         {
          "font": {
           "size": 16
          },
          "showarrow": false,
          "text": "Silhouette Score",
          "x": 0.775,
          "xanchor": "center",
          "xref": "paper",
          "y": 1,
          "yanchor": "bottom",
          "yref": "paper"
         }
        ],
        "template": {
         "data": {
          "bar": [
           {
            "error_x": {
             "color": "#2a3f5f"
            },
            "error_y": {
             "color": "#2a3f5f"
            },
            "marker": {
             "line": {
              "color": "#E5ECF6",
              "width": 0.5
             },
             "pattern": {
              "fillmode": "overlay",
              "size": 10,
              "solidity": 0.2
             }
            },
            "type": "bar"
           }
          ],
          "barpolar": [
           {
            "marker": {
             "line": {
              "color": "#E5ECF6",
              "width": 0.5
             },
             "pattern": {
              "fillmode": "overlay",
              "size": 10,
              "solidity": 0.2
             }
            },
            "type": "barpolar"
           }
          ],
          "carpet": [
           {
            "aaxis": {
             "endlinecolor": "#2a3f5f",
             "gridcolor": "white",
             "linecolor": "white",
             "minorgridcolor": "white",
             "startlinecolor": "#2a3f5f"
            },
            "baxis": {
             "endlinecolor": "#2a3f5f",
             "gridcolor": "white",
             "linecolor": "white",
             "minorgridcolor": "white",
             "startlinecolor": "#2a3f5f"
            },
            "type": "carpet"
           }
          ],
          "choropleth": [
           {
            "colorbar": {
             "outlinewidth": 0,
             "ticks": ""
            },
            "type": "choropleth"
           }
          ],
          "contour": [
           {
            "colorbar": {
             "outlinewidth": 0,
             "ticks": ""
            },
            "colorscale": [
             [
              0,
              "#0d0887"
             ],
             [
              0.1111111111111111,
              "#46039f"
             ],
             [
              0.2222222222222222,
              "#7201a8"
             ],
             [
              0.3333333333333333,
              "#9c179e"
             ],
             [
              0.4444444444444444,
              "#bd3786"
             ],
             [
              0.5555555555555556,
              "#d8576b"
             ],
             [
              0.6666666666666666,
              "#ed7953"
             ],
             [
              0.7777777777777778,
              "#fb9f3a"
             ],
             [
              0.8888888888888888,
              "#fdca26"
             ],
             [
              1,
              "#f0f921"
             ]
            ],
            "type": "contour"
           }
          ],
          "contourcarpet": [
           {
            "colorbar": {
             "outlinewidth": 0,
             "ticks": ""
            },
            "type": "contourcarpet"
           }
          ],
          "heatmap": [
           {
            "colorbar": {
             "outlinewidth": 0,
             "ticks": ""
            },
            "colorscale": [
             [
              0,
              "#0d0887"
             ],
             [
              0.1111111111111111,
              "#46039f"
             ],
             [
              0.2222222222222222,
              "#7201a8"
             ],
             [
              0.3333333333333333,
              "#9c179e"
             ],
             [
              0.4444444444444444,
              "#bd3786"
             ],
             [
              0.5555555555555556,
              "#d8576b"
             ],
             [
              0.6666666666666666,
              "#ed7953"
             ],
             [
              0.7777777777777778,
              "#fb9f3a"
             ],
             [
              0.8888888888888888,
              "#fdca26"
             ],
             [
              1,
              "#f0f921"
             ]
            ],
            "type": "heatmap"
           }
          ],
          "heatmapgl": [
           {
            "colorbar": {
             "outlinewidth": 0,
             "ticks": ""
            },
            "colorscale": [
             [
              0,
              "#0d0887"
             ],
             [
              0.1111111111111111,
              "#46039f"
             ],
             [
              0.2222222222222222,
              "#7201a8"
             ],
             [
              0.3333333333333333,
              "#9c179e"
             ],
             [
              0.4444444444444444,
              "#bd3786"
             ],
             [
              0.5555555555555556,
              "#d8576b"
             ],
             [
              0.6666666666666666,
              "#ed7953"
             ],
             [
              0.7777777777777778,
              "#fb9f3a"
             ],
             [
              0.8888888888888888,
              "#fdca26"
             ],
             [
              1,
              "#f0f921"
             ]
            ],
            "type": "heatmapgl"
           }
          ],
          "histogram": [
           {
            "marker": {
             "pattern": {
              "fillmode": "overlay",
              "size": 10,
              "solidity": 0.2
             }
            },
            "type": "histogram"
           }
          ],
          "histogram2d": [
           {
            "colorbar": {
             "outlinewidth": 0,
             "ticks": ""
            },
            "colorscale": [
             [
              0,
              "#0d0887"
             ],
             [
              0.1111111111111111,
              "#46039f"
             ],
             [
              0.2222222222222222,
              "#7201a8"
             ],
             [
              0.3333333333333333,
              "#9c179e"
             ],
             [
              0.4444444444444444,
              "#bd3786"
             ],
             [
              0.5555555555555556,
              "#d8576b"
             ],
             [
              0.6666666666666666,
              "#ed7953"
             ],
             [
              0.7777777777777778,
              "#fb9f3a"
             ],
             [
              0.8888888888888888,
              "#fdca26"
             ],
             [
              1,
              "#f0f921"
             ]
            ],
            "type": "histogram2d"
           }
          ],
          "histogram2dcontour": [
           {
            "colorbar": {
             "outlinewidth": 0,
             "ticks": ""
            },
            "colorscale": [
             [
              0,
              "#0d0887"
             ],
             [
              0.1111111111111111,
              "#46039f"
             ],
             [
              0.2222222222222222,
              "#7201a8"
             ],
             [
              0.3333333333333333,
              "#9c179e"
             ],
             [
              0.4444444444444444,
              "#bd3786"
             ],
             [
              0.5555555555555556,
              "#d8576b"
             ],
             [
              0.6666666666666666,
              "#ed7953"
             ],
             [
              0.7777777777777778,
              "#fb9f3a"
             ],
             [
              0.8888888888888888,
              "#fdca26"
             ],
             [
              1,
              "#f0f921"
             ]
            ],
            "type": "histogram2dcontour"
           }
          ],
          "mesh3d": [
           {
            "colorbar": {
             "outlinewidth": 0,
             "ticks": ""
            },
            "type": "mesh3d"
           }
          ],
          "parcoords": [
           {
            "line": {
             "colorbar": {
              "outlinewidth": 0,
              "ticks": ""
             }
            },
            "type": "parcoords"
           }
          ],
          "pie": [
           {
            "automargin": true,
            "type": "pie"
           }
          ],
          "scatter": [
           {
            "fillpattern": {
             "fillmode": "overlay",
             "size": 10,
             "solidity": 0.2
            },
            "type": "scatter"
           }
          ],
          "scatter3d": [
           {
            "line": {
             "colorbar": {
              "outlinewidth": 0,
              "ticks": ""
             }
            },
            "marker": {
             "colorbar": {
              "outlinewidth": 0,
              "ticks": ""
             }
            },
            "type": "scatter3d"
           }
          ],
          "scattercarpet": [
           {
            "marker": {
             "colorbar": {
              "outlinewidth": 0,
              "ticks": ""
             }
            },
            "type": "scattercarpet"
           }
          ],
          "scattergeo": [
           {
            "marker": {
             "colorbar": {
              "outlinewidth": 0,
              "ticks": ""
             }
            },
            "type": "scattergeo"
           }
          ],
          "scattergl": [
           {
            "marker": {
             "colorbar": {
              "outlinewidth": 0,
              "ticks": ""
             }
            },
            "type": "scattergl"
           }
          ],
          "scattermapbox": [
           {
            "marker": {
             "colorbar": {
              "outlinewidth": 0,
              "ticks": ""
             }
            },
            "type": "scattermapbox"
           }
          ],
          "scatterpolar": [
           {
            "marker": {
             "colorbar": {
              "outlinewidth": 0,
              "ticks": ""
             }
            },
            "type": "scatterpolar"
           }
          ],
          "scatterpolargl": [
           {
            "marker": {
             "colorbar": {
              "outlinewidth": 0,
              "ticks": ""
             }
            },
            "type": "scatterpolargl"
           }
          ],
          "scatterternary": [
           {
            "marker": {
             "colorbar": {
              "outlinewidth": 0,
              "ticks": ""
             }
            },
            "type": "scatterternary"
           }
          ],
          "surface": [
           {
            "colorbar": {
             "outlinewidth": 0,
             "ticks": ""
            },
            "colorscale": [
             [
              0,
              "#0d0887"
             ],
             [
              0.1111111111111111,
              "#46039f"
             ],
             [
              0.2222222222222222,
              "#7201a8"
             ],
             [
              0.3333333333333333,
              "#9c179e"
             ],
             [
              0.4444444444444444,
              "#bd3786"
             ],
             [
              0.5555555555555556,
              "#d8576b"
             ],
             [
              0.6666666666666666,
              "#ed7953"
             ],
             [
              0.7777777777777778,
              "#fb9f3a"
             ],
             [
              0.8888888888888888,
              "#fdca26"
             ],
             [
              1,
              "#f0f921"
             ]
            ],
            "type": "surface"
           }
          ],
          "table": [
           {
            "cells": {
             "fill": {
              "color": "#EBF0F8"
             },
             "line": {
              "color": "white"
             }
            },
            "header": {
             "fill": {
              "color": "#C8D4E3"
             },
             "line": {
              "color": "white"
             }
            },
            "type": "table"
           }
          ]
         },
         "layout": {
          "annotationdefaults": {
           "arrowcolor": "#2a3f5f",
           "arrowhead": 0,
           "arrowwidth": 1
          },
          "autotypenumbers": "strict",
          "coloraxis": {
           "colorbar": {
            "outlinewidth": 0,
            "ticks": ""
           }
          },
          "colorscale": {
           "diverging": [
            [
             0,
             "#8e0152"
            ],
            [
             0.1,
             "#c51b7d"
            ],
            [
             0.2,
             "#de77ae"
            ],
            [
             0.3,
             "#f1b6da"
            ],
            [
             0.4,
             "#fde0ef"
            ],
            [
             0.5,
             "#f7f7f7"
            ],
            [
             0.6,
             "#e6f5d0"
            ],
            [
             0.7,
             "#b8e186"
            ],
            [
             0.8,
             "#7fbc41"
            ],
            [
             0.9,
             "#4d9221"
            ],
            [
             1,
             "#276419"
            ]
           ],
           "sequential": [
            [
             0,
             "#0d0887"
            ],
            [
             0.1111111111111111,
             "#46039f"
            ],
            [
             0.2222222222222222,
             "#7201a8"
            ],
            [
             0.3333333333333333,
             "#9c179e"
            ],
            [
             0.4444444444444444,
             "#bd3786"
            ],
            [
             0.5555555555555556,
             "#d8576b"
            ],
            [
             0.6666666666666666,
             "#ed7953"
            ],
            [
             0.7777777777777778,
             "#fb9f3a"
            ],
            [
             0.8888888888888888,
             "#fdca26"
            ],
            [
             1,
             "#f0f921"
            ]
           ],
           "sequentialminus": [
            [
             0,
             "#0d0887"
            ],
            [
             0.1111111111111111,
             "#46039f"
            ],
            [
             0.2222222222222222,
             "#7201a8"
            ],
            [
             0.3333333333333333,
             "#9c179e"
            ],
            [
             0.4444444444444444,
             "#bd3786"
            ],
            [
             0.5555555555555556,
             "#d8576b"
            ],
            [
             0.6666666666666666,
             "#ed7953"
            ],
            [
             0.7777777777777778,
             "#fb9f3a"
            ],
            [
             0.8888888888888888,
             "#fdca26"
            ],
            [
             1,
             "#f0f921"
            ]
           ]
          },
          "colorway": [
           "#636efa",
           "#EF553B",
           "#00cc96",
           "#ab63fa",
           "#FFA15A",
           "#19d3f3",
           "#FF6692",
           "#B6E880",
           "#FF97FF",
           "#FECB52"
          ],
          "font": {
           "color": "#2a3f5f"
          },
          "geo": {
           "bgcolor": "white",
           "lakecolor": "white",
           "landcolor": "#E5ECF6",
           "showlakes": true,
           "showland": true,
           "subunitcolor": "white"
          },
          "hoverlabel": {
           "align": "left"
          },
          "hovermode": "closest",
          "mapbox": {
           "style": "light"
          },
          "paper_bgcolor": "white",
          "plot_bgcolor": "#E5ECF6",
          "polar": {
           "angularaxis": {
            "gridcolor": "white",
            "linecolor": "white",
            "ticks": ""
           },
           "bgcolor": "#E5ECF6",
           "radialaxis": {
            "gridcolor": "white",
            "linecolor": "white",
            "ticks": ""
           }
          },
          "scene": {
           "xaxis": {
            "backgroundcolor": "#E5ECF6",
            "gridcolor": "white",
            "gridwidth": 2,
            "linecolor": "white",
            "showbackground": true,
            "ticks": "",
            "zerolinecolor": "white"
           },
           "yaxis": {
            "backgroundcolor": "#E5ECF6",
            "gridcolor": "white",
            "gridwidth": 2,
            "linecolor": "white",
            "showbackground": true,
            "ticks": "",
            "zerolinecolor": "white"
           },
           "zaxis": {
            "backgroundcolor": "#E5ECF6",
            "gridcolor": "white",
            "gridwidth": 2,
            "linecolor": "white",
            "showbackground": true,
            "ticks": "",
            "zerolinecolor": "white"
           }
          },
          "shapedefaults": {
           "line": {
            "color": "#2a3f5f"
           }
          },
          "ternary": {
           "aaxis": {
            "gridcolor": "white",
            "linecolor": "white",
            "ticks": ""
           },
           "baxis": {
            "gridcolor": "white",
            "linecolor": "white",
            "ticks": ""
           },
           "bgcolor": "#E5ECF6",
           "caxis": {
            "gridcolor": "white",
            "linecolor": "white",
            "ticks": ""
           }
          },
          "title": {
           "x": 0.05
          },
          "xaxis": {
           "automargin": true,
           "gridcolor": "white",
           "linecolor": "white",
           "ticks": "",
           "title": {
            "standoff": 15
           },
           "zerolinecolor": "white",
           "zerolinewidth": 2
          },
          "yaxis": {
           "automargin": true,
           "gridcolor": "white",
           "linecolor": "white",
           "ticks": "",
           "title": {
            "standoff": 15
           },
           "zerolinecolor": "white",
           "zerolinewidth": 2
          }
         }
        },
        "title": {
         "text": "Diagnostics of K-means clustering with Word2Vec embeddings for finding major restaurant types"
        },
        "xaxis": {
         "anchor": "y",
         "domain": [
          0,
          0.45
         ],
         "title": {
          "text": "Number of clusters"
         }
        },
        "xaxis2": {
         "anchor": "y2",
         "domain": [
          0.55,
          1
         ],
         "title": {
          "text": "Number of clusters"
         }
        },
        "yaxis": {
         "anchor": "x",
         "domain": [
          0,
          1
         ],
         "title": {
          "text": "WCSS"
         }
        },
        "yaxis2": {
         "anchor": "x2",
         "domain": [
          0,
          1
         ],
         "title": {
          "text": "Silhouette Score"
         }
        }
       }
      }
     },
     "metadata": {},
     "output_type": "display_data"
    }
   ],
   "source": [
    "from plotly.colors import DEFAULT_PLOTLY_COLORS\n",
    "cols = DEFAULT_PLOTLY_COLORS\n",
    "fig = make_subplots(rows = 1, cols = 2, \n",
    "                    subplot_titles = [\"WCSS\", \"Silhouette Score\"])\n",
    "\n",
    "for l in window_sizes:\n",
    "    fig.add_trace(go.Scatter(\n",
    "        x = k_clusters, y = inertia_mat[l - 1],\n",
    "        name = f\"l = {l}\", line = dict(color = cols[l - 1])), \n",
    "                  row = 1, col = 1)\n",
    "    \n",
    "    fig.add_trace(go.Scatter(\n",
    "        x = k_clusters, y = silhouette_mat[l - 1],\n",
    "        name = f\"l = {l}\", showlegend = False, line = dict(color = cols[l - 1])),\n",
    "        row = 1, col = 2)\n",
    "    \n",
    "fig.update_layout(title_text = \"Diagnostics of K-means clustering with Word2Vec embeddings for finding major restaurant types\", \n",
    "                  xaxis_title = \"Number of clusters\", yaxis_title = \"WCSS\", \n",
    "                  xaxis2_title = \"Number of clusters\", yaxis2_title = \"Silhouette Score\")"
   ]
  },
  {
   "cell_type": "markdown",
   "metadata": {},
   "source": [
    "Heuristically, we will choose a K-means model with the lowest number of clusters (which corresponds to a simpler K-Means model because we are able to group similar restaurants together with fewer clusters) whose Silhouette score is over the 90th percentile of all the models considered. Eventually, the lowest number of clusters which achieves the required Silhouette score is $ k = 19$ for window sizes of 2, 3, 4 and 7. We will therefore use the pipeline with the smallest window size in the Word2Vec model (which is 2 in our case), i.e. we will choose the set of hyperparameters as $l = 2$ and $k = 19$. \n",
    "\n",
    "The reason for which a Word2Vec model with a smaller window size can be considered as simpler is because it only captures the immediate context around a target word, whereas a larger window size is more complex since it also captures the broader context of a target word beyond its imminent context words and can introduce more noise to the final trained embeddings."
   ]
  },
  {
   "cell_type": "code",
   "execution_count": 52,
   "metadata": {},
   "outputs": [
    {
     "name": "stdout",
     "output_type": "stream",
     "text": [
      "The 90th percentile of Silhouette Scores of all the models is 0.2655.\n"
     ]
    },
    {
     "data": {
      "text/plain": [
       "(array([[0, 0, 0, 0, 0, 0, 0, 0, 0, 0, 0, 0, 0, 0, 0, 0, 0, 0, 0, 0, 0, 0,\n",
       "         0, 0, 0, 0, 0, 0, 0],\n",
       "        [0, 0, 0, 0, 0, 0, 0, 0, 0, 0, 0, 0, 0, 0, 0, 0, 0, 0, 0, 0, 0, 0,\n",
       "         0, 0, 0, 0, 0, 0, 0]], dtype=int64),\n",
       " array([[ 0,  0,  1,  1,  1,  1,  2,  2,  3,  3,  3,  4,  6,  6,  6,  6,\n",
       "          6,  6,  6,  7,  8,  9,  9,  9,  9,  9,  9,  9,  9],\n",
       "        [19, 20, 17, 18, 21, 23, 16, 17, 17, 19, 20, 21, 17, 18, 19, 20,\n",
       "         21, 22, 23, 25, 18, 18, 19, 20, 21, 22, 23, 24, 25]], dtype=int64))"
      ]
     },
     "execution_count": 52,
     "metadata": {},
     "output_type": "execute_result"
    }
   ],
   "source": [
    "# Checking which K-means model satisfies our criterion\n",
    "silhouette_90perc = np.percentile(silhouette_mat, 90)\n",
    "print(f\"The 90th percentile of Silhouette Scores of all the models is {silhouette_90perc:.4f}.\")\n",
    "\n",
    "# Which pairs of hyper-params satisfiy our criterion?\n",
    "np.unravel_index(np.where(silhouette_mat > silhouette_90perc), silhouette_mat.shape)"
   ]
  },
  {
   "cell_type": "code",
   "execution_count": 53,
   "metadata": {},
   "outputs": [],
   "source": [
    "# Setting the optimal hyper-params\n",
    "opt_l = 2\n",
    "opt_k = 19\n",
    "\n",
    "# Fitting the optimal Word2Vec and K-means models\n",
    "os.environ['PYTHONHASHSEED'] = '0'\n",
    "w2v_opt, embeddings_opt, kmeans_opt = cluster_pipeline(res_categories_df, l = opt_l, k = opt_k)"
   ]
  },
  {
   "cell_type": "markdown",
   "metadata": {},
   "source": [
    "Let us now examine the K-means pipeline with the selected set of hyper-parameters. Starting with the Word2Vec model with $l = 2$, given that we do not have the ground truth of the major types of restaurants in our dataset, doing qualitative (albeit heuristic) checks might inform us whether it can capture the semantic meanings of the categories. The tests below seem to suggest that the trained Word2Vec model can capture the semantic similarities and differences between categories of restaurants rather well."
   ]
  },
  {
   "cell_type": "code",
   "execution_count": 54,
   "metadata": {},
   "outputs": [
    {
     "name": "stdout",
     "output_type": "stream",
     "text": [
      "[('hot pot', 0.8225931525230408), ('pan asian', 0.8172761797904968), ('noodles', 0.7862551212310791), ('dim sum', 0.7793183326721191), ('singaporean', 0.7711607813835144), ('cantonese', 0.7710580825805664), ('mongolian', 0.7700840830802917), ('malaysian', 0.7687665820121765), ('shanghainese', 0.7581511735916138), ('szechuan', 0.7568654417991638)]\n",
      "[('pretzels', 0.7833551168441772), ('shaved ice', 0.7341762781143188), ('ice cream & frozen yogurt', 0.7066194415092468), ('beverage store', 0.6909295916557312), ('poutineries', 0.6840118169784546), ('pancakes', 0.6758134365081787), ('shaved snow', 0.6505566239356995), ('gelato', 0.6452885270118713), ('waffles', 0.6372516751289368), ('armenian', 0.6252309679985046)]\n",
      "[('cheesesteaks', 0.6558142304420471), ('pancakes', 0.5981360077857971), ('poutineries', 0.5878260731697083), ('gas stations', 0.5716492533683777), ('wraps', 0.5445719957351685), ('hot dogs', 0.5383703112602234), ('convenience stores', 0.5360121726989746), ('shaved ice', 0.5328590869903564), ('shaved snow', 0.5239177346229553), ('ice cream & frozen yogurt', 0.5177764296531677)]\n"
     ]
    }
   ],
   "source": [
    "# Similarity checks\n",
    "print(w2v_opt.wv.most_similar(\"chinese\"))  # Quite good since the most similar categories are either food from China or other Asian cuisine styles\n",
    "print(w2v_opt.wv.most_similar(\"hot dogs\"))  # Grouped with other comfort food which makes sense\n",
    "print(w2v_opt.wv.most_similar(\"fast food\"))  # cheesesteak is a local fast food in Philly"
   ]
  },
  {
   "cell_type": "code",
   "execution_count": 55,
   "metadata": {},
   "outputs": [
    {
     "name": "stdout",
     "output_type": "stream",
     "text": [
      "0.3480187\n",
      "0.77931845\n"
     ]
    }
   ],
   "source": [
    "# Similarity checks\n",
    "print(w2v_opt.wv.similarity(\"chinese\", \"italian\"))  # Not similar as expected\n",
    "print(w2v_opt.wv.similarity(\"chinese\", \"dim sum\"))  # Similar as expected "
   ]
  },
  {
   "cell_type": "code",
   "execution_count": 56,
   "metadata": {},
   "outputs": [
    {
     "name": "stdout",
     "output_type": "stream",
     "text": [
      "hot dogs\n",
      "chinese\n",
      "italian\n"
     ]
    }
   ],
   "source": [
    "# Odd-one-out identification\n",
    "print(w2v_opt.wv.doesnt_match([\"chinese\", \"dim sum\", \"hot dogs\"]))  # Makes sense\n",
    "print(w2v_opt.wv.doesnt_match([\"chinese\", \"pizza\", \"hot dogs\"]))  # Makes sense\n",
    "print(w2v_opt.wv.doesnt_match([\"chinese\", \"japanese\", \"italian\"]))  # Italian is an European cuisine style"
   ]
  },
  {
   "cell_type": "markdown",
   "metadata": {},
   "source": [
    "We now move onto examining the K-Means model with $k = 19$ clusters. Overall, each of the cluster centroids seem to resemble a major type of restaurants (e.g. Asian style for the 3rd centroid), even though there are some overlappings for some centroids, such as the 11th and 14th clusters have their centroids being the most similar to tokens about Japanese food at the same time. For easier interpretation, we will give names to each cluster based on the most similar tokens to the centroid. To deal with overlapping clusters, we will simply rename the labels of two clusters as the same if they share very similar tokens to their centroids. \n",
    "\n",
    "Finally, for clusters whose centroid is not similar to tokens which all point to a single type of cusine, we will name that cluster as \"Others.\" Admittedly, the fact that some centroids don't have a distinguished theme might be due to the limitations of K-Means in favouring spherical clusters. Future analysis should try using other clustering algorithms to see if more separated clusters can be obtained. But for now we will proceed with this model."
   ]
  },
  {
   "cell_type": "code",
   "execution_count": 57,
   "metadata": {},
   "outputs": [
    {
     "name": "stdout",
     "output_type": "stream",
     "text": [
      "[('caribbean', 0.9244996309280396), ('puerto rican', 0.912581741809845), ('dominican', 0.8724308013916016), ('argentine', 0.8557023406028748), ('colombian', 0.8476459383964539), ('haitian', 0.8425798416137695), ('peruvian', 0.8419398665428162), ('portuguese', 0.8338672518730164), ('honduran', 0.8336353302001953), ('empanadas', 0.8299190998077393)]\n",
      "[('patisserie/cake shop', 0.8425578474998474), ('pancakes', 0.8283005356788635), ('cafeteria', 0.8246520161628723), ('custom cakes', 0.8198431134223938), ('coffee roasteries', 0.8182864785194397), ('australian', 0.8132022619247437), ('internet cafes', 0.8125404715538025), ('bagels', 0.7925485372543335), ('macarons', 0.7875133156776428), ('coffee & tea', 0.7842460870742798)]\n",
      "[('chinese', 0.998726487159729), ('hot pot', 0.8455902338027954), ('pan asian', 0.8383983373641968), ('dim sum', 0.8081594705581665), ('noodles', 0.8038660883903503), ('cantonese', 0.7991191148757935), ('mongolian', 0.7967877984046936), ('singaporean', 0.7935535311698914), ('malaysian', 0.7929046750068665), ('szechuan', 0.7863425016403198)]\n",
      "[('pizza', 0.9970589876174927), ('sicilian', 0.6700681447982788), ('cheesesteaks', 0.6066872477531433), ('poutineries', 0.5937815308570862), ('bartenders', 0.5583126544952393), ('food delivery services', 0.5530967116355896), ('pool halls', 0.5493198037147522), ('pasta shops', 0.5449317693710327), ('tuscan', 0.5427776575088501), ('wraps', 0.5411025285720825)]\n",
      "[('cheesesteaks', 0.8269782662391663), ('wraps', 0.7953186631202698), ('burgers', 0.76654452085495), ('poutineries', 0.7641541957855225), ('tuscan', 0.7637881636619568), ('armenian', 0.750874936580658), ('sicilian', 0.7405136227607727), ('sandwiches', 0.7198503613471985), ('pancakes', 0.7180127501487732), ('american (traditional)', 0.7170089483261108)]\n",
      "[('indian', 0.9595988988876343), ('bangladeshi', 0.8654426336288452), ('pakistani', 0.8602139353752136), ('halal', 0.8223821520805359), ('afghan', 0.7929528951644897), ('himalayan/nepalese', 0.7767460346221924), ('senegalese', 0.7658446431159973), ('south african', 0.7533602714538574), ('ukrainian', 0.7522225379943848), ('persian/iranian', 0.7401714324951172)]\n",
      "[('italian', 0.9984068870544434), ('sicilian', 0.6932309865951538), ('pasta shops', 0.6732220649719238), ('tuscan', 0.6072610020637512), ('cheesesteaks', 0.6040456295013428), ('beverage store', 0.5700939893722534), ('bartenders', 0.5569247603416443), ('food delivery services', 0.5542090535163879), ('fondue', 0.5527486801147461), ('cheese shops', 0.5494458675384521)]\n",
      "[('whiskey bars', 0.8883351683616638), ('bar crawl', 0.8687406778335571), ('scottish', 0.8548443913459778), ('gay bars', 0.8464672565460205), ('gastropubs', 0.8372538089752197), ('dive bars', 0.826339840888977), ('armenian', 0.8252207040786743), ('adult entertainment', 0.8223272562026978), ('irish pub', 0.8208268284797668), ('nightlife', 0.8182562589645386)]\n",
      "[('pan asian', 0.9045462012290955), ('noodles', 0.8966960310935974), ('dim sum', 0.8834215402603149), ('hot pot', 0.8820616602897644), ('malaysian', 0.877578616142273), ('thai', 0.8772760033607483), ('mongolian', 0.8772166967391968), ('singaporean', 0.871996283531189), ('teppanyaki', 0.8705594539642334), ('chinese', 0.8648300170898438)]\n",
      "[('lebanese', 0.9539065957069397), ('falafel', 0.9427580237388611), ('turkish', 0.9396284818649292), ('arabic', 0.9305450320243835), ('kebab', 0.9235289096832275), ('middle eastern', 0.9175769686698914), ('syrian', 0.8980237245559692), ('egyptian', 0.8863858580589294), ('afghan', 0.8702641129493713), ('persian/iranian', 0.8691747784614563)]\n",
      "[('sushi bars', 0.9985847473144531), ('teppanyaki', 0.8389739990234375), ('japanese curry', 0.8125544786453247), ('ramen', 0.8014350533485413), ('pan asian', 0.7897075414657593), ('izakaya', 0.7772154211997986), ('dim sum', 0.7671619653701782), ('szechuan', 0.7628222107887268), ('malaysian', 0.7526049017906189), ('singaporean', 0.74480801820755)]\n",
      "[('seafood', 0.8839163184165955), ('barbeque', 0.7456041574478149), ('smokehouse', 0.7284531593322754), ('cajun/creole', 0.7196075320243835), ('chicken wings', 0.7059385776519775), ('southern', 0.6867432594299316), ('international', 0.666115939617157), ('tuscan', 0.6537597179412842), ('brazilian', 0.6495331525802612), ('jazz & blues', 0.6494238972663879)]\n",
      "[('delis', 0.9025726318359375), ('sandwiches', 0.786607563495636), ('delicatessen', 0.7624521255493164), ('beverage store', 0.7376982569694519), ('tuscan', 0.7308377027511597), ('cheese shops', 0.7224578261375427), ('gas stations', 0.7216894626617432), ('cafeteria', 0.71793133020401), ('meat shops', 0.7003558278083801), ('plumbing', 0.692865252494812)]\n",
      "[('japanese', 0.9316386580467224), ('teppanyaki', 0.9158809185028076), ('pan asian', 0.9004204869270325), ('japanese curry', 0.8964745402336121), ('ramen', 0.8733668923377991), ('hot pot', 0.8616829514503479), ('dim sum', 0.8613789081573486), ('izakaya', 0.8599603176116943), ('malaysian', 0.8509185910224915), ('szechuan', 0.8444463610649109)]\n",
      "[('mexican', 0.9930453896522522), ('new mexican cuisine', 0.7722659707069397), ('tex-mex', 0.7085898518562317), ('tacos', 0.703665018081665), ('salvadoran', 0.6699548959732056), ('colombian', 0.6695905327796936), ('empanadas', 0.6555994749069214), ('venezuelan', 0.6273713111877441), ('honduran', 0.609464168548584), ('argentine', 0.6033470630645752)]\n",
      "[('breakfast & brunch', 0.8546901345252991), ('pancakes', 0.8517335057258606), ('armenian', 0.7538776993751526), ('tuscan', 0.7378674745559692), ('american (new)', 0.727044939994812), ('diners', 0.722575843334198), ('waffles', 0.7205509543418884), ('czech', 0.7019190788269043), ('wraps', 0.7016475796699524), ('belgian', 0.6986978650093079)]\n",
      "[('australian', 0.8531944155693054), ('popcorn shops', 0.8307143449783325), ('cafeteria', 0.7968003749847412), ('tuscan', 0.7869086861610413), ('czech', 0.7868455648422241), ('international', 0.7790609002113342), ('pancakes', 0.7735314965248108), ('austrian', 0.7613853216171265), ('cannabis clinics', 0.7597159743309021), ('street vendors', 0.7578458189964294)]\n",
      "[('vietnamese', 0.9966982007026672), ('taiwanese', 0.8647637963294983), ('pan asian', 0.8272613286972046), ('dim sum', 0.8180667757987976), ('singaporean', 0.8133322596549988), ('indonesian', 0.8084595799446106), ('malaysian', 0.8073457479476929), ('hong kong style cafe', 0.8030319213867188), ('cambodian', 0.7991507649421692), ('hot pot', 0.7957953214645386)]\n",
      "[('american (new)', 0.9988671541213989), ('whiskey bars', 0.6652054786682129), ('beer bar', 0.6461864113807678), ('bar crawl', 0.6224033832550049), ('canadian (new)', 0.6223088502883911), ('american (traditional)', 0.6190763711929321), ('brewpubs', 0.613003671169281), ('belgian', 0.6107927560806274), ('brasseries', 0.6091139316558838), ('distilleries', 0.6056050658226013)]\n"
     ]
    }
   ],
   "source": [
    "# Inspecting the centroids of the K-means model \n",
    "for centroid in kmeans_opt.cluster_centers_:\n",
    "    print(w2v_opt.wv.most_similar(centroid))\n",
    "    \n",
    "# Renaming the cluster labels to be more informative\n",
    "cluster_name_map = {0: \"Americans\", # North and South Americas\n",
    "                    1: \"Pastry and cafe\", \n",
    "                    2: \"Chinese\", \n",
    "                    3: \"Fast food\",\n",
    "                    4: \"Fast food\", \n",
    "                    5: \"SE Asian or African\",  # SE for Southeast\n",
    "                    6: \"Italian\", \n",
    "                    7: \"Nightlife\", \n",
    "                    8: \"Asian\", \n",
    "                    9: \"Middle Eastern\", \n",
    "                    10: \"Japanese\", \n",
    "                    11: \"Grill and seafood\", \n",
    "                    12: \"Ready to eat\", \n",
    "                    13: \"Japanese\", \n",
    "                    14: \"Latin American\",\n",
    "                    15: \"Others\",\n",
    "                    16: \"Others\",\n",
    "                    17: \"Asian\",\n",
    "                    18: \"NA and bars\"}  # NA for North America"
   ]
  },
  {
   "cell_type": "code",
   "execution_count": 58,
   "metadata": {},
   "outputs": [
    {
     "data": {
      "text/html": [
       "<div>\n",
       "<style scoped>\n",
       "    .dataframe tbody tr th:only-of-type {\n",
       "        vertical-align: middle;\n",
       "    }\n",
       "\n",
       "    .dataframe tbody tr th {\n",
       "        vertical-align: top;\n",
       "    }\n",
       "\n",
       "    .dataframe thead th {\n",
       "        text-align: right;\n",
       "    }\n",
       "</style>\n",
       "<table border=\"1\" class=\"dataframe\">\n",
       "  <thead>\n",
       "    <tr style=\"text-align: right;\">\n",
       "      <th></th>\n",
       "      <th>name</th>\n",
       "      <th>embeddings</th>\n",
       "      <th>cluster</th>\n",
       "    </tr>\n",
       "  </thead>\n",
       "  <tbody>\n",
       "    <tr>\n",
       "      <th>0</th>\n",
       "      <td>&amp;pizza - UPenn</td>\n",
       "      <td>[0.014605579, -0.030275494, -0.007705603, 0.00...</td>\n",
       "      <td>Others</td>\n",
       "    </tr>\n",
       "    <tr>\n",
       "      <th>1</th>\n",
       "      <td>&amp;pizza - Walnut</td>\n",
       "      <td>[0.014605581, -0.030275494, -0.007705603, 0.00...</td>\n",
       "      <td>Others</td>\n",
       "    </tr>\n",
       "    <tr>\n",
       "      <th>2</th>\n",
       "      <td>10 Arts Bistro</td>\n",
       "      <td>[-0.017004436, 0.055651456, 0.016794669, 0.072...</td>\n",
       "      <td>Nightlife</td>\n",
       "    </tr>\n",
       "    <tr>\n",
       "      <th>3</th>\n",
       "      <td>1100 Social</td>\n",
       "      <td>[-0.022028863, 0.040284637, 0.02793406, 0.0793...</td>\n",
       "      <td>Nightlife</td>\n",
       "    </tr>\n",
       "    <tr>\n",
       "      <th>4</th>\n",
       "      <td>1201 Bar</td>\n",
       "      <td>[-0.025388308, 0.030156448, 0.0014370226, 0.06...</td>\n",
       "      <td>Nightlife</td>\n",
       "    </tr>\n",
       "  </tbody>\n",
       "</table>\n",
       "</div>"
      ],
      "text/plain": [
       "              name                                         embeddings  \\\n",
       "0   &pizza - UPenn  [0.014605579, -0.030275494, -0.007705603, 0.00...   \n",
       "1  &pizza - Walnut  [0.014605581, -0.030275494, -0.007705603, 0.00...   \n",
       "2   10 Arts Bistro  [-0.017004436, 0.055651456, 0.016794669, 0.072...   \n",
       "3      1100 Social  [-0.022028863, 0.040284637, 0.02793406, 0.0793...   \n",
       "4         1201 Bar  [-0.025388308, 0.030156448, 0.0014370226, 0.06...   \n",
       "\n",
       "     cluster  \n",
       "0     Others  \n",
       "1     Others  \n",
       "2  Nightlife  \n",
       "3  Nightlife  \n",
       "4  Nightlife  "
      ]
     },
     "execution_count": 58,
     "metadata": {},
     "output_type": "execute_result"
    }
   ],
   "source": [
    "# Replacing the integer cluster labels \n",
    "embeddings_opt[\"cluster\"] = embeddings_opt[\"cluster\"].replace(cluster_name_map)\n",
    "embeddings_opt.head()"
   ]
  },
  {
   "cell_type": "markdown",
   "metadata": {},
   "source": [
    "### Looking at the food trends over time\n",
    "With the major restaurant types being identified by cluster analysis, we can now look at the food trends in Philadelphia over time. As mentioned in the EDA section, we will not include data before 2008 due to the lack of enough observations to draw reliable conclusions about the trends during this period. \n",
    "\n",
    "Moreover, while we initially tried analysing the food trends on a monthly level, some types of restaurants lacked sufficient amounts of observations per month, such as `Chinese` only having 21 observations in 2008 as shown below (which on average there were only fewer than 2 reviews per month in that year). We therefore had to aggregate our analysis of food trends to the yearly level, and this implies we should not include 2022 since there is only one month of data (i.e. January) present in the dataset for this year."
   ]
  },
  {
   "cell_type": "code",
   "execution_count": 59,
   "metadata": {},
   "outputs": [
    {
     "data": {
      "text/html": [
       "<div>\n",
       "<style scoped>\n",
       "    .dataframe tbody tr th:only-of-type {\n",
       "        vertical-align: middle;\n",
       "    }\n",
       "\n",
       "    .dataframe tbody tr th {\n",
       "        vertical-align: top;\n",
       "    }\n",
       "\n",
       "    .dataframe thead th {\n",
       "        text-align: right;\n",
       "    }\n",
       "</style>\n",
       "<table border=\"1\" class=\"dataframe\">\n",
       "  <thead>\n",
       "    <tr style=\"text-align: right;\">\n",
       "      <th></th>\n",
       "      <th>user_id</th>\n",
       "      <th>business_id</th>\n",
       "      <th>rating</th>\n",
       "      <th>useful</th>\n",
       "      <th>funny</th>\n",
       "      <th>cool</th>\n",
       "      <th>text</th>\n",
       "      <th>date</th>\n",
       "      <th>name</th>\n",
       "      <th>address</th>\n",
       "      <th>city</th>\n",
       "      <th>postal_code</th>\n",
       "      <th>latitude</th>\n",
       "      <th>longitude</th>\n",
       "      <th>attributes</th>\n",
       "      <th>categories</th>\n",
       "      <th>topics</th>\n",
       "      <th>cluster</th>\n",
       "    </tr>\n",
       "  </thead>\n",
       "  <tbody>\n",
       "    <tr>\n",
       "      <th>0</th>\n",
       "      <td>AD2z6qhmVcRJkywa1KsEFG</td>\n",
       "      <td>ADWVkizi8gKjj07mn8NiMe</td>\n",
       "      <td>4</td>\n",
       "      <td>0</td>\n",
       "      <td>0</td>\n",
       "      <td>0</td>\n",
       "      <td>One of my favorite places to grab a quick bit ...</td>\n",
       "      <td>2014-01-01</td>\n",
       "      <td>Chickie's &amp; Pete's</td>\n",
       "      <td>1526 Packer Ave</td>\n",
       "      <td>Philadelphia</td>\n",
       "      <td>19145</td>\n",
       "      <td>39.911417</td>\n",
       "      <td>-75.174511</td>\n",
       "      <td>[GoodForKids: True, Corkage: False, HasTV: Tru...</td>\n",
       "      <td>(seafood, nightlife, sports bars, bars, restau...</td>\n",
       "      <td>1</td>\n",
       "      <td>Nightlife</td>\n",
       "    </tr>\n",
       "    <tr>\n",
       "      <th>1</th>\n",
       "      <td>AS4QOGiUvdbD-ad_SP9cz3</td>\n",
       "      <td>Q1YEMPTZ4GWqzgnMBuaDp1</td>\n",
       "      <td>5</td>\n",
       "      <td>0</td>\n",
       "      <td>0</td>\n",
       "      <td>0</td>\n",
       "      <td>I love this place! There's nothing like authen...</td>\n",
       "      <td>2013-01-01</td>\n",
       "      <td>Guacamole Mex-Grill</td>\n",
       "      <td>4612 Woodland Ave</td>\n",
       "      <td>Philadelphia</td>\n",
       "      <td>19143</td>\n",
       "      <td>39.943971</td>\n",
       "      <td>-75.209914</td>\n",
       "      <td>[Caters: False, RestaurantsAttire: casual, Noi...</td>\n",
       "      <td>(mexican, restaurants, specialty food, ethnic ...</td>\n",
       "      <td>1</td>\n",
       "      <td>Others</td>\n",
       "    </tr>\n",
       "    <tr>\n",
       "      <th>2</th>\n",
       "      <td>gtRX7g45kDNE6yB4edac7X</td>\n",
       "      <td>gvQz67eUW_EkC1yQC3n0qb</td>\n",
       "      <td>4</td>\n",
       "      <td>2</td>\n",
       "      <td>0</td>\n",
       "      <td>0</td>\n",
       "      <td>Situated on Race street away from the main str...</td>\n",
       "      <td>2014-01-01</td>\n",
       "      <td>Shiao Lan Kung</td>\n",
       "      <td>930 Race St</td>\n",
       "      <td>Philadelphia</td>\n",
       "      <td>19107</td>\n",
       "      <td>39.955247</td>\n",
       "      <td>-75.155409</td>\n",
       "      <td>[RestaurantsGoodForGroups: True, RestaurantsTa...</td>\n",
       "      <td>(noodles, seafood, restaurants, chinese)</td>\n",
       "      <td>2</td>\n",
       "      <td>Asian</td>\n",
       "    </tr>\n",
       "    <tr>\n",
       "      <th>3</th>\n",
       "      <td>gHupK3rVLqp_blY_NN9DDM</td>\n",
       "      <td>wbS9zhxRwOxyBd1fWJ5FRI</td>\n",
       "      <td>5</td>\n",
       "      <td>0</td>\n",
       "      <td>0</td>\n",
       "      <td>0</td>\n",
       "      <td>Outstanding venue, great band, and the food is...</td>\n",
       "      <td>2015-01-01</td>\n",
       "      <td>Amari's Restaurant</td>\n",
       "      <td>5037 Baltimore Ave</td>\n",
       "      <td>Philadelphia</td>\n",
       "      <td>19143</td>\n",
       "      <td>39.947985</td>\n",
       "      <td>-75.224744</td>\n",
       "      <td>[HasTV: True, RestaurantsAttire: casual, DogsA...</td>\n",
       "      <td>(soul food, american (new), breakfast &amp; brunch...</td>\n",
       "      <td>1</td>\n",
       "      <td>Others</td>\n",
       "    </tr>\n",
       "    <tr>\n",
       "      <th>4</th>\n",
       "      <td>QZONht3dlg7nCFi1wpoZeU</td>\n",
       "      <td>wRMfTwxM7aFS-MkUnaGQjA</td>\n",
       "      <td>5</td>\n",
       "      <td>4</td>\n",
       "      <td>0</td>\n",
       "      <td>2</td>\n",
       "      <td>We loved our experience at Elwood.\\n\\nWhen you...</td>\n",
       "      <td>2019-01-01</td>\n",
       "      <td>Elwood</td>\n",
       "      <td>1007 Frankford Ave</td>\n",
       "      <td>Philadelphia</td>\n",
       "      <td>19125</td>\n",
       "      <td>39.966404</td>\n",
       "      <td>-75.134227</td>\n",
       "      <td>[RestaurantsReservations: True, OutdoorSeating...</td>\n",
       "      <td>(american (traditional), american (new), food,...</td>\n",
       "      <td>0</td>\n",
       "      <td>Others</td>\n",
       "    </tr>\n",
       "  </tbody>\n",
       "</table>\n",
       "</div>"
      ],
      "text/plain": [
       "                  user_id             business_id  rating  useful  funny  \\\n",
       "0  AD2z6qhmVcRJkywa1KsEFG  ADWVkizi8gKjj07mn8NiMe       4       0      0   \n",
       "1  AS4QOGiUvdbD-ad_SP9cz3  Q1YEMPTZ4GWqzgnMBuaDp1       5       0      0   \n",
       "2  gtRX7g45kDNE6yB4edac7X  gvQz67eUW_EkC1yQC3n0qb       4       2      0   \n",
       "3  gHupK3rVLqp_blY_NN9DDM  wbS9zhxRwOxyBd1fWJ5FRI       5       0      0   \n",
       "4  QZONht3dlg7nCFi1wpoZeU  wRMfTwxM7aFS-MkUnaGQjA       5       4      0   \n",
       "\n",
       "   cool                                               text       date  \\\n",
       "0     0  One of my favorite places to grab a quick bit ... 2014-01-01   \n",
       "1     0  I love this place! There's nothing like authen... 2013-01-01   \n",
       "2     0  Situated on Race street away from the main str... 2014-01-01   \n",
       "3     0  Outstanding venue, great band, and the food is... 2015-01-01   \n",
       "4     2  We loved our experience at Elwood.\\n\\nWhen you... 2019-01-01   \n",
       "\n",
       "                  name             address          city postal_code  \\\n",
       "0   Chickie's & Pete's     1526 Packer Ave  Philadelphia       19145   \n",
       "1  Guacamole Mex-Grill   4612 Woodland Ave  Philadelphia       19143   \n",
       "2       Shiao Lan Kung         930 Race St  Philadelphia       19107   \n",
       "3   Amari's Restaurant  5037 Baltimore Ave  Philadelphia       19143   \n",
       "4               Elwood  1007 Frankford Ave  Philadelphia       19125   \n",
       "\n",
       "    latitude  longitude                                         attributes  \\\n",
       "0  39.911417 -75.174511  [GoodForKids: True, Corkage: False, HasTV: Tru...   \n",
       "1  39.943971 -75.209914  [Caters: False, RestaurantsAttire: casual, Noi...   \n",
       "2  39.955247 -75.155409  [RestaurantsGoodForGroups: True, RestaurantsTa...   \n",
       "3  39.947985 -75.224744  [HasTV: True, RestaurantsAttire: casual, DogsA...   \n",
       "4  39.966404 -75.134227  [RestaurantsReservations: True, OutdoorSeating...   \n",
       "\n",
       "                                          categories  topics    cluster  \n",
       "0  (seafood, nightlife, sports bars, bars, restau...       1  Nightlife  \n",
       "1  (mexican, restaurants, specialty food, ethnic ...       1     Others  \n",
       "2           (noodles, seafood, restaurants, chinese)       2      Asian  \n",
       "3  (soul food, american (new), breakfast & brunch...       1     Others  \n",
       "4  (american (traditional), american (new), food,...       0     Others  "
      ]
     },
     "execution_count": 59,
     "metadata": {},
     "output_type": "execute_result"
    }
   ],
   "source": [
    "# Mapping restaurants into their clusters\n",
    "res_cluster_map = dict(zip(embeddings_opt[\"name\"], embeddings_opt[\"cluster\"]))\n",
    "resto_reviews_philly[\"cluster\"] = resto_reviews_philly[\"name\"].replace(res_cluster_map)\n",
    "\n",
    "# Filtering out reviews before 2008\n",
    "resto_post_2008 = resto_reviews_philly.query(\"date >= '2008-01-01' and date < '2022-01-01'\")\n",
    "resto_post_2008[\"date\"] = resto_post_2008[\"date\"].dt.to_period(\"Y\").dt.to_timestamp()\n",
    "resto_post_2008.head()"
   ]
  },
  {
   "cell_type": "code",
   "execution_count": 60,
   "metadata": {},
   "outputs": [
    {
     "data": {
      "text/html": [
       "<div>\n",
       "<style scoped>\n",
       "    .dataframe tbody tr th:only-of-type {\n",
       "        vertical-align: middle;\n",
       "    }\n",
       "\n",
       "    .dataframe tbody tr th {\n",
       "        vertical-align: top;\n",
       "    }\n",
       "\n",
       "    .dataframe thead th {\n",
       "        text-align: right;\n",
       "    }\n",
       "</style>\n",
       "<table border=\"1\" class=\"dataframe\">\n",
       "  <thead>\n",
       "    <tr style=\"text-align: right;\">\n",
       "      <th></th>\n",
       "      <th>date</th>\n",
       "      <th>cluster</th>\n",
       "      <th>rating</th>\n",
       "    </tr>\n",
       "  </thead>\n",
       "  <tbody>\n",
       "    <tr>\n",
       "      <th>0</th>\n",
       "      <td>2008-01-01</td>\n",
       "      <td>Americans</td>\n",
       "      <td>38</td>\n",
       "    </tr>\n",
       "    <tr>\n",
       "      <th>1</th>\n",
       "      <td>2008-01-01</td>\n",
       "      <td>Asian</td>\n",
       "      <td>127</td>\n",
       "    </tr>\n",
       "    <tr>\n",
       "      <th>2</th>\n",
       "      <td>2008-01-01</td>\n",
       "      <td>Chinese</td>\n",
       "      <td>21</td>\n",
       "    </tr>\n",
       "    <tr>\n",
       "      <th>3</th>\n",
       "      <td>2008-01-01</td>\n",
       "      <td>Fast food</td>\n",
       "      <td>199</td>\n",
       "    </tr>\n",
       "    <tr>\n",
       "      <th>4</th>\n",
       "      <td>2008-01-01</td>\n",
       "      <td>Grill and seafood</td>\n",
       "      <td>35</td>\n",
       "    </tr>\n",
       "    <tr>\n",
       "      <th>...</th>\n",
       "      <td>...</td>\n",
       "      <td>...</td>\n",
       "      <td>...</td>\n",
       "    </tr>\n",
       "    <tr>\n",
       "      <th>205</th>\n",
       "      <td>2021-01-01</td>\n",
       "      <td>Nightlife</td>\n",
       "      <td>1485</td>\n",
       "    </tr>\n",
       "    <tr>\n",
       "      <th>206</th>\n",
       "      <td>2021-01-01</td>\n",
       "      <td>Others</td>\n",
       "      <td>766</td>\n",
       "    </tr>\n",
       "    <tr>\n",
       "      <th>207</th>\n",
       "      <td>2021-01-01</td>\n",
       "      <td>Pastry and cafe</td>\n",
       "      <td>447</td>\n",
       "    </tr>\n",
       "    <tr>\n",
       "      <th>208</th>\n",
       "      <td>2021-01-01</td>\n",
       "      <td>Ready to eat</td>\n",
       "      <td>191</td>\n",
       "    </tr>\n",
       "    <tr>\n",
       "      <th>209</th>\n",
       "      <td>2021-01-01</td>\n",
       "      <td>SE Asian or African</td>\n",
       "      <td>77</td>\n",
       "    </tr>\n",
       "  </tbody>\n",
       "</table>\n",
       "<p>210 rows × 3 columns</p>\n",
       "</div>"
      ],
      "text/plain": [
       "          date              cluster  rating\n",
       "0   2008-01-01            Americans      38\n",
       "1   2008-01-01                Asian     127\n",
       "2   2008-01-01              Chinese      21\n",
       "3   2008-01-01            Fast food     199\n",
       "4   2008-01-01    Grill and seafood      35\n",
       "..         ...                  ...     ...\n",
       "205 2021-01-01            Nightlife    1485\n",
       "206 2021-01-01               Others     766\n",
       "207 2021-01-01      Pastry and cafe     447\n",
       "208 2021-01-01         Ready to eat     191\n",
       "209 2021-01-01  SE Asian or African      77\n",
       "\n",
       "[210 rows x 3 columns]"
      ]
     },
     "execution_count": 60,
     "metadata": {},
     "output_type": "execute_result"
    }
   ],
   "source": [
    "# Scarcity of observations for some types of restaurants in certain years\n",
    "ratings_count_per_month = resto_post_2008.groupby([\"date\", \"cluster\"])[\"rating\"].count().reset_index()\n",
    "ratings_count_per_month"
   ]
  },
  {
   "cell_type": "markdown",
   "metadata": {},
   "source": [
    "We now look at the yearly average rating of each major type of restaurants from 2008 to 2021. Starting with the first half of the major restaurant types, here are a few observations:\n",
    "\n",
    "* Throughout this period, customers in Philadelphia seemed to become more favourable towards restaurants of types Nightlife, Others (though the types of restaurants included in this cluster are very diverse so it will be difficult to pinpoint exactly what customers like), Asian, Italian as well as Pastry and cafe. The increases in the ratings of these types of restaurants also seemed stable (except there was a drop in ratings for Italian restaurants in 2016, but it bounced back quickly a year later).\n",
    "\n",
    "* By contrast, the ratings for Chinese, Latin American and fast food types of restaurants seemed to have more fluctuations throughout this period. In particular, the average ratings by year for fast food are the lowest for all of the restaurant types identified by cluster analysis. Still, Chinese restaurants has become more favoured by customers in Philly since 2019."
   ]
  },
  {
   "cell_type": "code",
   "execution_count": 61,
   "metadata": {},
   "outputs": [
    {
     "data": {
      "application/vnd.plotly.v1+json": {
       "config": {
        "plotlyServerURL": "https://plot.ly"
       },
       "data": [
        {
         "mode": "lines",
         "name": "Nightlife",
         "showlegend": false,
         "type": "scatter",
         "x": [
          "2008-01-01T00:00:00",
          "2009-01-01T00:00:00",
          "2010-01-01T00:00:00",
          "2011-01-01T00:00:00",
          "2012-01-01T00:00:00",
          "2013-01-01T00:00:00",
          "2014-01-01T00:00:00",
          "2015-01-01T00:00:00",
          "2016-01-01T00:00:00",
          "2017-01-01T00:00:00",
          "2018-01-01T00:00:00",
          "2019-01-01T00:00:00",
          "2020-01-01T00:00:00",
          "2021-01-01T00:00:00"
         ],
         "xaxis": "x",
         "y": [
          3.589641434262948,
          3.5873192436040044,
          3.568,
          3.6142703862660945,
          3.591582974653276,
          3.64,
          3.7597078046905037,
          3.7871983914209117,
          3.772679509632224,
          3.817874692874693,
          3.7487194938234407,
          3.7987261146496816,
          3.91645988420182,
          3.8282828282828283
         ],
         "yaxis": "y"
        },
        {
         "mode": "lines",
         "name": "Others",
         "showlegend": false,
         "type": "scatter",
         "x": [
          "2008-01-01T00:00:00",
          "2009-01-01T00:00:00",
          "2010-01-01T00:00:00",
          "2011-01-01T00:00:00",
          "2012-01-01T00:00:00",
          "2013-01-01T00:00:00",
          "2014-01-01T00:00:00",
          "2015-01-01T00:00:00",
          "2016-01-01T00:00:00",
          "2017-01-01T00:00:00",
          "2018-01-01T00:00:00",
          "2019-01-01T00:00:00",
          "2020-01-01T00:00:00",
          "2021-01-01T00:00:00"
         ],
         "xaxis": "x2",
         "y": [
          3.7740384615384617,
          3.763440860215054,
          3.775127768313458,
          3.85,
          3.8449905482041586,
          3.8901639344262295,
          4.040028591851322,
          3.9567863664029215,
          4.043795620437956,
          4.061826432217811,
          4.049269085002707,
          4.08005082592122,
          4.084656084656085,
          4.110966057441253
         ],
         "yaxis": "y2"
        },
        {
         "mode": "lines",
         "name": "Asian",
         "showlegend": false,
         "type": "scatter",
         "x": [
          "2008-01-01T00:00:00",
          "2009-01-01T00:00:00",
          "2010-01-01T00:00:00",
          "2011-01-01T00:00:00",
          "2012-01-01T00:00:00",
          "2013-01-01T00:00:00",
          "2014-01-01T00:00:00",
          "2015-01-01T00:00:00",
          "2016-01-01T00:00:00",
          "2017-01-01T00:00:00",
          "2018-01-01T00:00:00",
          "2019-01-01T00:00:00",
          "2020-01-01T00:00:00",
          "2021-01-01T00:00:00"
         ],
         "xaxis": "x3",
         "y": [
          3.763779527559055,
          3.672268907563025,
          3.7138964577656677,
          3.716,
          3.791970802919708,
          3.7363112391930837,
          3.8341968911917097,
          3.876425855513308,
          3.8483685220729367,
          3.9772942289498583,
          3.9502392344497608,
          3.9792013311148087,
          4.036101083032491,
          4.05699481865285
         ],
         "yaxis": "y3"
        },
        {
         "mode": "lines",
         "name": "Fast food",
         "showlegend": false,
         "type": "scatter",
         "x": [
          "2008-01-01T00:00:00",
          "2009-01-01T00:00:00",
          "2010-01-01T00:00:00",
          "2011-01-01T00:00:00",
          "2012-01-01T00:00:00",
          "2013-01-01T00:00:00",
          "2014-01-01T00:00:00",
          "2015-01-01T00:00:00",
          "2016-01-01T00:00:00",
          "2017-01-01T00:00:00",
          "2018-01-01T00:00:00",
          "2019-01-01T00:00:00",
          "2020-01-01T00:00:00",
          "2021-01-01T00:00:00"
         ],
         "xaxis": "x4",
         "y": [
          3.4472361809045227,
          3.561679790026247,
          3.5648,
          3.5626598465473145,
          3.56,
          3.534763948497854,
          3.5144092219020173,
          3.505128205128205,
          3.558125,
          3.533204384268214,
          3.493843162670123,
          3.6112198303979124,
          3.6230200633579726,
          3.5353881278538815
         ],
         "yaxis": "y4"
        },
        {
         "mode": "lines",
         "name": "Pastry and cafe",
         "showlegend": false,
         "type": "scatter",
         "x": [
          "2008-01-01T00:00:00",
          "2009-01-01T00:00:00",
          "2010-01-01T00:00:00",
          "2011-01-01T00:00:00",
          "2012-01-01T00:00:00",
          "2013-01-01T00:00:00",
          "2014-01-01T00:00:00",
          "2015-01-01T00:00:00",
          "2016-01-01T00:00:00",
          "2017-01-01T00:00:00",
          "2018-01-01T00:00:00",
          "2019-01-01T00:00:00",
          "2020-01-01T00:00:00",
          "2021-01-01T00:00:00"
         ],
         "xaxis": "x5",
         "y": [
          4.022556390977444,
          3.78125,
          3.977777777777778,
          3.844611528822055,
          3.8587962962962963,
          3.8403193612774453,
          3.9580209895052474,
          3.965333333333333,
          3.930087390761548,
          4.090452261306533,
          4.033018867924528,
          4.044324324324324,
          4.038374717832957,
          4.093959731543624
         ],
         "yaxis": "y5"
        },
        {
         "mode": "lines",
         "name": "Latin American",
         "showlegend": false,
         "type": "scatter",
         "x": [
          "2008-01-01T00:00:00",
          "2009-01-01T00:00:00",
          "2010-01-01T00:00:00",
          "2011-01-01T00:00:00",
          "2012-01-01T00:00:00",
          "2013-01-01T00:00:00",
          "2014-01-01T00:00:00",
          "2015-01-01T00:00:00",
          "2016-01-01T00:00:00",
          "2017-01-01T00:00:00",
          "2018-01-01T00:00:00",
          "2019-01-01T00:00:00",
          "2020-01-01T00:00:00",
          "2021-01-01T00:00:00"
         ],
         "xaxis": "x6",
         "y": [
          3.641509433962264,
          3.5977011494252875,
          3.452991452991453,
          3.5923076923076924,
          3.4152542372881354,
          3.548611111111111,
          3.7486033519553073,
          3.768292682926829,
          3.548076923076923,
          3.756880733944954,
          3.7155963302752295,
          3.6732673267326734,
          3.85,
          3.696969696969697
         ],
         "yaxis": "y6"
        },
        {
         "mode": "lines",
         "name": "Chinese",
         "showlegend": false,
         "type": "scatter",
         "x": [
          "2008-01-01T00:00:00",
          "2009-01-01T00:00:00",
          "2010-01-01T00:00:00",
          "2011-01-01T00:00:00",
          "2012-01-01T00:00:00",
          "2013-01-01T00:00:00",
          "2014-01-01T00:00:00",
          "2015-01-01T00:00:00",
          "2016-01-01T00:00:00",
          "2017-01-01T00:00:00",
          "2018-01-01T00:00:00",
          "2019-01-01T00:00:00",
          "2020-01-01T00:00:00",
          "2021-01-01T00:00:00"
         ],
         "xaxis": "x7",
         "y": [
          3.4761904761904763,
          3.3714285714285714,
          3.541176470588235,
          3.7578947368421054,
          3.8095238095238093,
          3.748031496062992,
          3.6405228758169934,
          3.538011695906433,
          3.546666666666667,
          3.691358024691358,
          3.7705882352941176,
          3.5692307692307694,
          3.9186046511627906,
          3.9876543209876543
         ],
         "yaxis": "y7"
        },
        {
         "mode": "lines",
         "name": "Italian",
         "showlegend": false,
         "type": "scatter",
         "x": [
          "2008-01-01T00:00:00",
          "2009-01-01T00:00:00",
          "2010-01-01T00:00:00",
          "2011-01-01T00:00:00",
          "2012-01-01T00:00:00",
          "2013-01-01T00:00:00",
          "2014-01-01T00:00:00",
          "2015-01-01T00:00:00",
          "2016-01-01T00:00:00",
          "2017-01-01T00:00:00",
          "2018-01-01T00:00:00",
          "2019-01-01T00:00:00",
          "2020-01-01T00:00:00",
          "2021-01-01T00:00:00"
         ],
         "xaxis": "x8",
         "y": [
          3.784313725490196,
          3.6315789473684212,
          3.5491803278688523,
          3.673076923076923,
          3.5186721991701244,
          3.729591836734694,
          3.893048128342246,
          4.045454545454546,
          3.722488038277512,
          4.227979274611399,
          4.136363636363637,
          4.073394495412844,
          4.137254901960785,
          4.2
         ],
         "yaxis": "y8"
        }
       ],
       "layout": {
        "annotations": [
         {
          "font": {
           "size": 16
          },
          "showarrow": false,
          "text": "Nightlife",
          "x": 0.10625,
          "xanchor": "center",
          "xref": "paper",
          "y": 1,
          "yanchor": "bottom",
          "yref": "paper"
         },
         {
          "font": {
           "size": 16
          },
          "showarrow": false,
          "text": "Others",
          "x": 0.36875,
          "xanchor": "center",
          "xref": "paper",
          "y": 1,
          "yanchor": "bottom",
          "yref": "paper"
         },
         {
          "font": {
           "size": 16
          },
          "showarrow": false,
          "text": "Asian",
          "x": 0.6312500000000001,
          "xanchor": "center",
          "xref": "paper",
          "y": 1,
          "yanchor": "bottom",
          "yref": "paper"
         },
         {
          "font": {
           "size": 16
          },
          "showarrow": false,
          "text": "Fast food",
          "x": 0.89375,
          "xanchor": "center",
          "xref": "paper",
          "y": 1,
          "yanchor": "bottom",
          "yref": "paper"
         },
         {
          "font": {
           "size": 16
          },
          "showarrow": false,
          "text": "Pastry and cafe",
          "x": 0.10625,
          "xanchor": "center",
          "xref": "paper",
          "y": 0.375,
          "yanchor": "bottom",
          "yref": "paper"
         },
         {
          "font": {
           "size": 16
          },
          "showarrow": false,
          "text": "Latin American",
          "x": 0.36875,
          "xanchor": "center",
          "xref": "paper",
          "y": 0.375,
          "yanchor": "bottom",
          "yref": "paper"
         },
         {
          "font": {
           "size": 16
          },
          "showarrow": false,
          "text": "Chinese",
          "x": 0.6312500000000001,
          "xanchor": "center",
          "xref": "paper",
          "y": 0.375,
          "yanchor": "bottom",
          "yref": "paper"
         },
         {
          "font": {
           "size": 16
          },
          "showarrow": false,
          "text": "Italian",
          "x": 0.89375,
          "xanchor": "center",
          "xref": "paper",
          "y": 0.375,
          "yanchor": "bottom",
          "yref": "paper"
         },
         {
          "font": {
           "size": 16
          },
          "showarrow": false,
          "text": "Month",
          "x": 0.5,
          "xanchor": "center",
          "xref": "paper",
          "y": 0,
          "yanchor": "top",
          "yref": "paper",
          "yshift": -30
         },
         {
          "font": {
           "size": 16
          },
          "showarrow": false,
          "text": "Rating",
          "textangle": -90,
          "x": 0,
          "xanchor": "right",
          "xref": "paper",
          "xshift": -40,
          "y": 0.5,
          "yanchor": "middle",
          "yref": "paper"
         }
        ],
        "template": {
         "data": {
          "bar": [
           {
            "error_x": {
             "color": "#2a3f5f"
            },
            "error_y": {
             "color": "#2a3f5f"
            },
            "marker": {
             "line": {
              "color": "#E5ECF6",
              "width": 0.5
             },
             "pattern": {
              "fillmode": "overlay",
              "size": 10,
              "solidity": 0.2
             }
            },
            "type": "bar"
           }
          ],
          "barpolar": [
           {
            "marker": {
             "line": {
              "color": "#E5ECF6",
              "width": 0.5
             },
             "pattern": {
              "fillmode": "overlay",
              "size": 10,
              "solidity": 0.2
             }
            },
            "type": "barpolar"
           }
          ],
          "carpet": [
           {
            "aaxis": {
             "endlinecolor": "#2a3f5f",
             "gridcolor": "white",
             "linecolor": "white",
             "minorgridcolor": "white",
             "startlinecolor": "#2a3f5f"
            },
            "baxis": {
             "endlinecolor": "#2a3f5f",
             "gridcolor": "white",
             "linecolor": "white",
             "minorgridcolor": "white",
             "startlinecolor": "#2a3f5f"
            },
            "type": "carpet"
           }
          ],
          "choropleth": [
           {
            "colorbar": {
             "outlinewidth": 0,
             "ticks": ""
            },
            "type": "choropleth"
           }
          ],
          "contour": [
           {
            "colorbar": {
             "outlinewidth": 0,
             "ticks": ""
            },
            "colorscale": [
             [
              0,
              "#0d0887"
             ],
             [
              0.1111111111111111,
              "#46039f"
             ],
             [
              0.2222222222222222,
              "#7201a8"
             ],
             [
              0.3333333333333333,
              "#9c179e"
             ],
             [
              0.4444444444444444,
              "#bd3786"
             ],
             [
              0.5555555555555556,
              "#d8576b"
             ],
             [
              0.6666666666666666,
              "#ed7953"
             ],
             [
              0.7777777777777778,
              "#fb9f3a"
             ],
             [
              0.8888888888888888,
              "#fdca26"
             ],
             [
              1,
              "#f0f921"
             ]
            ],
            "type": "contour"
           }
          ],
          "contourcarpet": [
           {
            "colorbar": {
             "outlinewidth": 0,
             "ticks": ""
            },
            "type": "contourcarpet"
           }
          ],
          "heatmap": [
           {
            "colorbar": {
             "outlinewidth": 0,
             "ticks": ""
            },
            "colorscale": [
             [
              0,
              "#0d0887"
             ],
             [
              0.1111111111111111,
              "#46039f"
             ],
             [
              0.2222222222222222,
              "#7201a8"
             ],
             [
              0.3333333333333333,
              "#9c179e"
             ],
             [
              0.4444444444444444,
              "#bd3786"
             ],
             [
              0.5555555555555556,
              "#d8576b"
             ],
             [
              0.6666666666666666,
              "#ed7953"
             ],
             [
              0.7777777777777778,
              "#fb9f3a"
             ],
             [
              0.8888888888888888,
              "#fdca26"
             ],
             [
              1,
              "#f0f921"
             ]
            ],
            "type": "heatmap"
           }
          ],
          "heatmapgl": [
           {
            "colorbar": {
             "outlinewidth": 0,
             "ticks": ""
            },
            "colorscale": [
             [
              0,
              "#0d0887"
             ],
             [
              0.1111111111111111,
              "#46039f"
             ],
             [
              0.2222222222222222,
              "#7201a8"
             ],
             [
              0.3333333333333333,
              "#9c179e"
             ],
             [
              0.4444444444444444,
              "#bd3786"
             ],
             [
              0.5555555555555556,
              "#d8576b"
             ],
             [
              0.6666666666666666,
              "#ed7953"
             ],
             [
              0.7777777777777778,
              "#fb9f3a"
             ],
             [
              0.8888888888888888,
              "#fdca26"
             ],
             [
              1,
              "#f0f921"
             ]
            ],
            "type": "heatmapgl"
           }
          ],
          "histogram": [
           {
            "marker": {
             "pattern": {
              "fillmode": "overlay",
              "size": 10,
              "solidity": 0.2
             }
            },
            "type": "histogram"
           }
          ],
          "histogram2d": [
           {
            "colorbar": {
             "outlinewidth": 0,
             "ticks": ""
            },
            "colorscale": [
             [
              0,
              "#0d0887"
             ],
             [
              0.1111111111111111,
              "#46039f"
             ],
             [
              0.2222222222222222,
              "#7201a8"
             ],
             [
              0.3333333333333333,
              "#9c179e"
             ],
             [
              0.4444444444444444,
              "#bd3786"
             ],
             [
              0.5555555555555556,
              "#d8576b"
             ],
             [
              0.6666666666666666,
              "#ed7953"
             ],
             [
              0.7777777777777778,
              "#fb9f3a"
             ],
             [
              0.8888888888888888,
              "#fdca26"
             ],
             [
              1,
              "#f0f921"
             ]
            ],
            "type": "histogram2d"
           }
          ],
          "histogram2dcontour": [
           {
            "colorbar": {
             "outlinewidth": 0,
             "ticks": ""
            },
            "colorscale": [
             [
              0,
              "#0d0887"
             ],
             [
              0.1111111111111111,
              "#46039f"
             ],
             [
              0.2222222222222222,
              "#7201a8"
             ],
             [
              0.3333333333333333,
              "#9c179e"
             ],
             [
              0.4444444444444444,
              "#bd3786"
             ],
             [
              0.5555555555555556,
              "#d8576b"
             ],
             [
              0.6666666666666666,
              "#ed7953"
             ],
             [
              0.7777777777777778,
              "#fb9f3a"
             ],
             [
              0.8888888888888888,
              "#fdca26"
             ],
             [
              1,
              "#f0f921"
             ]
            ],
            "type": "histogram2dcontour"
           }
          ],
          "mesh3d": [
           {
            "colorbar": {
             "outlinewidth": 0,
             "ticks": ""
            },
            "type": "mesh3d"
           }
          ],
          "parcoords": [
           {
            "line": {
             "colorbar": {
              "outlinewidth": 0,
              "ticks": ""
             }
            },
            "type": "parcoords"
           }
          ],
          "pie": [
           {
            "automargin": true,
            "type": "pie"
           }
          ],
          "scatter": [
           {
            "fillpattern": {
             "fillmode": "overlay",
             "size": 10,
             "solidity": 0.2
            },
            "type": "scatter"
           }
          ],
          "scatter3d": [
           {
            "line": {
             "colorbar": {
              "outlinewidth": 0,
              "ticks": ""
             }
            },
            "marker": {
             "colorbar": {
              "outlinewidth": 0,
              "ticks": ""
             }
            },
            "type": "scatter3d"
           }
          ],
          "scattercarpet": [
           {
            "marker": {
             "colorbar": {
              "outlinewidth": 0,
              "ticks": ""
             }
            },
            "type": "scattercarpet"
           }
          ],
          "scattergeo": [
           {
            "marker": {
             "colorbar": {
              "outlinewidth": 0,
              "ticks": ""
             }
            },
            "type": "scattergeo"
           }
          ],
          "scattergl": [
           {
            "marker": {
             "colorbar": {
              "outlinewidth": 0,
              "ticks": ""
             }
            },
            "type": "scattergl"
           }
          ],
          "scattermapbox": [
           {
            "marker": {
             "colorbar": {
              "outlinewidth": 0,
              "ticks": ""
             }
            },
            "type": "scattermapbox"
           }
          ],
          "scatterpolar": [
           {
            "marker": {
             "colorbar": {
              "outlinewidth": 0,
              "ticks": ""
             }
            },
            "type": "scatterpolar"
           }
          ],
          "scatterpolargl": [
           {
            "marker": {
             "colorbar": {
              "outlinewidth": 0,
              "ticks": ""
             }
            },
            "type": "scatterpolargl"
           }
          ],
          "scatterternary": [
           {
            "marker": {
             "colorbar": {
              "outlinewidth": 0,
              "ticks": ""
             }
            },
            "type": "scatterternary"
           }
          ],
          "surface": [
           {
            "colorbar": {
             "outlinewidth": 0,
             "ticks": ""
            },
            "colorscale": [
             [
              0,
              "#0d0887"
             ],
             [
              0.1111111111111111,
              "#46039f"
             ],
             [
              0.2222222222222222,
              "#7201a8"
             ],
             [
              0.3333333333333333,
              "#9c179e"
             ],
             [
              0.4444444444444444,
              "#bd3786"
             ],
             [
              0.5555555555555556,
              "#d8576b"
             ],
             [
              0.6666666666666666,
              "#ed7953"
             ],
             [
              0.7777777777777778,
              "#fb9f3a"
             ],
             [
              0.8888888888888888,
              "#fdca26"
             ],
             [
              1,
              "#f0f921"
             ]
            ],
            "type": "surface"
           }
          ],
          "table": [
           {
            "cells": {
             "fill": {
              "color": "#EBF0F8"
             },
             "line": {
              "color": "white"
             }
            },
            "header": {
             "fill": {
              "color": "#C8D4E3"
             },
             "line": {
              "color": "white"
             }
            },
            "type": "table"
           }
          ]
         },
         "layout": {
          "annotationdefaults": {
           "arrowcolor": "#2a3f5f",
           "arrowhead": 0,
           "arrowwidth": 1
          },
          "autotypenumbers": "strict",
          "coloraxis": {
           "colorbar": {
            "outlinewidth": 0,
            "ticks": ""
           }
          },
          "colorscale": {
           "diverging": [
            [
             0,
             "#8e0152"
            ],
            [
             0.1,
             "#c51b7d"
            ],
            [
             0.2,
             "#de77ae"
            ],
            [
             0.3,
             "#f1b6da"
            ],
            [
             0.4,
             "#fde0ef"
            ],
            [
             0.5,
             "#f7f7f7"
            ],
            [
             0.6,
             "#e6f5d0"
            ],
            [
             0.7,
             "#b8e186"
            ],
            [
             0.8,
             "#7fbc41"
            ],
            [
             0.9,
             "#4d9221"
            ],
            [
             1,
             "#276419"
            ]
           ],
           "sequential": [
            [
             0,
             "#0d0887"
            ],
            [
             0.1111111111111111,
             "#46039f"
            ],
            [
             0.2222222222222222,
             "#7201a8"
            ],
            [
             0.3333333333333333,
             "#9c179e"
            ],
            [
             0.4444444444444444,
             "#bd3786"
            ],
            [
             0.5555555555555556,
             "#d8576b"
            ],
            [
             0.6666666666666666,
             "#ed7953"
            ],
            [
             0.7777777777777778,
             "#fb9f3a"
            ],
            [
             0.8888888888888888,
             "#fdca26"
            ],
            [
             1,
             "#f0f921"
            ]
           ],
           "sequentialminus": [
            [
             0,
             "#0d0887"
            ],
            [
             0.1111111111111111,
             "#46039f"
            ],
            [
             0.2222222222222222,
             "#7201a8"
            ],
            [
             0.3333333333333333,
             "#9c179e"
            ],
            [
             0.4444444444444444,
             "#bd3786"
            ],
            [
             0.5555555555555556,
             "#d8576b"
            ],
            [
             0.6666666666666666,
             "#ed7953"
            ],
            [
             0.7777777777777778,
             "#fb9f3a"
            ],
            [
             0.8888888888888888,
             "#fdca26"
            ],
            [
             1,
             "#f0f921"
            ]
           ]
          },
          "colorway": [
           "#636efa",
           "#EF553B",
           "#00cc96",
           "#ab63fa",
           "#FFA15A",
           "#19d3f3",
           "#FF6692",
           "#B6E880",
           "#FF97FF",
           "#FECB52"
          ],
          "font": {
           "color": "#2a3f5f"
          },
          "geo": {
           "bgcolor": "white",
           "lakecolor": "white",
           "landcolor": "#E5ECF6",
           "showlakes": true,
           "showland": true,
           "subunitcolor": "white"
          },
          "hoverlabel": {
           "align": "left"
          },
          "hovermode": "closest",
          "mapbox": {
           "style": "light"
          },
          "paper_bgcolor": "white",
          "plot_bgcolor": "#E5ECF6",
          "polar": {
           "angularaxis": {
            "gridcolor": "white",
            "linecolor": "white",
            "ticks": ""
           },
           "bgcolor": "#E5ECF6",
           "radialaxis": {
            "gridcolor": "white",
            "linecolor": "white",
            "ticks": ""
           }
          },
          "scene": {
           "xaxis": {
            "backgroundcolor": "#E5ECF6",
            "gridcolor": "white",
            "gridwidth": 2,
            "linecolor": "white",
            "showbackground": true,
            "ticks": "",
            "zerolinecolor": "white"
           },
           "yaxis": {
            "backgroundcolor": "#E5ECF6",
            "gridcolor": "white",
            "gridwidth": 2,
            "linecolor": "white",
            "showbackground": true,
            "ticks": "",
            "zerolinecolor": "white"
           },
           "zaxis": {
            "backgroundcolor": "#E5ECF6",
            "gridcolor": "white",
            "gridwidth": 2,
            "linecolor": "white",
            "showbackground": true,
            "ticks": "",
            "zerolinecolor": "white"
           }
          },
          "shapedefaults": {
           "line": {
            "color": "#2a3f5f"
           }
          },
          "ternary": {
           "aaxis": {
            "gridcolor": "white",
            "linecolor": "white",
            "ticks": ""
           },
           "baxis": {
            "gridcolor": "white",
            "linecolor": "white",
            "ticks": ""
           },
           "bgcolor": "#E5ECF6",
           "caxis": {
            "gridcolor": "white",
            "linecolor": "white",
            "ticks": ""
           }
          },
          "title": {
           "x": 0.05
          },
          "xaxis": {
           "automargin": true,
           "gridcolor": "white",
           "linecolor": "white",
           "ticks": "",
           "title": {
            "standoff": 15
           },
           "zerolinecolor": "white",
           "zerolinewidth": 2
          },
          "yaxis": {
           "automargin": true,
           "gridcolor": "white",
           "linecolor": "white",
           "ticks": "",
           "title": {
            "standoff": 15
           },
           "zerolinecolor": "white",
           "zerolinewidth": 2
          }
         }
        },
        "title": {
         "text": "Average ratings of each major type of restaurant by month from 2008 to 2021 (part 1)"
        },
        "xaxis": {
         "anchor": "y",
         "domain": [
          0,
          0.2125
         ]
        },
        "xaxis2": {
         "anchor": "y2",
         "domain": [
          0.2625,
          0.475
         ]
        },
        "xaxis3": {
         "anchor": "y3",
         "domain": [
          0.525,
          0.7375
         ]
        },
        "xaxis4": {
         "anchor": "y4",
         "domain": [
          0.7875,
          1
         ]
        },
        "xaxis5": {
         "anchor": "y5",
         "domain": [
          0,
          0.2125
         ]
        },
        "xaxis6": {
         "anchor": "y6",
         "domain": [
          0.2625,
          0.475
         ]
        },
        "xaxis7": {
         "anchor": "y7",
         "domain": [
          0.525,
          0.7375
         ]
        },
        "xaxis8": {
         "anchor": "y8",
         "domain": [
          0.7875,
          1
         ]
        },
        "yaxis": {
         "anchor": "x",
         "domain": [
          0.625,
          1
         ]
        },
        "yaxis2": {
         "anchor": "x2",
         "domain": [
          0.625,
          1
         ]
        },
        "yaxis3": {
         "anchor": "x3",
         "domain": [
          0.625,
          1
         ]
        },
        "yaxis4": {
         "anchor": "x4",
         "domain": [
          0.625,
          1
         ]
        },
        "yaxis5": {
         "anchor": "x5",
         "domain": [
          0,
          0.375
         ]
        },
        "yaxis6": {
         "anchor": "x6",
         "domain": [
          0,
          0.375
         ]
        },
        "yaxis7": {
         "anchor": "x7",
         "domain": [
          0,
          0.375
         ]
        },
        "yaxis8": {
         "anchor": "x8",
         "domain": [
          0,
          0.375
         ]
        }
       }
      }
     },
     "metadata": {},
     "output_type": "display_data"
    }
   ],
   "source": [
    "# Plotting average ratings by cluster per month\n",
    "ratings_per_cat_month = resto_post_2008.groupby([\"date\", \"cluster\"])[\"rating\"].mean().reset_index()\n",
    "unique_clus_name = resto_post_2008.cluster.unique()\n",
    "\n",
    "# Indices for plotting purpose\n",
    "half_n = len(unique_clus_name) // 2 + 1\n",
    "row_idx = 1\n",
    "\n",
    "fig = make_subplots(rows = 2, cols = 4, \n",
    "                    x_title=\"Month\", y_title=\"Rating\", \n",
    "                    subplot_titles = unique_clus_name[:half_n])\n",
    "\n",
    "for i, clus in enumerate(unique_clus_name[:half_n]):\n",
    "    \n",
    "    col_idx = (i + 1) - 4 * (row_idx - 1)\n",
    "    \n",
    "    clus_ratings = ratings_per_cat_month.query('cluster == @clus')\n",
    "    \n",
    "    fig.add_trace(\n",
    "        go.Scatter(x = clus_ratings.date,\n",
    "                   y = clus_ratings.rating,\n",
    "                   mode = \"lines\", \n",
    "                   name = clus, \n",
    "                   showlegend = False), \n",
    "        row = row_idx, col = col_idx\n",
    "    )\n",
    "    \n",
    "    if col_idx % 4 == 0:\n",
    "        row_idx += 1\n",
    "\n",
    "fig.update_layout(title_text = \"Average ratings of each major type of restaurant by month from 2008 to 2021 (part 1)\")\n",
    "fig.show()"
   ]
  },
  {
   "cell_type": "markdown",
   "metadata": {},
   "source": [
    "We now look at the average yearly ratings of the other half of the restaurant types and observe the followings:\n",
    "\n",
    "* On one hand, we can observe a steady increase of average ratings for Middle Eastern, Japanese, Southeast Asian or African as well as North American restaurants and bars. An interesting observation is that the average ratings of North-American style restaurants and bars have been increasing since 2010 despite their initial setbacks on ratings from 2008.\n",
    "\n",
    "* On the other hand, grill and seafood type of restaurants became less favoured by customers before 2010, and its average ratings have remained at a low level afterwards without any bounce backs. \n",
    "  \n",
    "* Meanwhile, Ready to eat and Americas restaurants had their average ratings dropping considerably from 2020 to 2021, despite their rather stable average ratings in the years before."
   ]
  },
  {
   "cell_type": "code",
   "execution_count": 62,
   "metadata": {},
   "outputs": [
    {
     "data": {
      "application/vnd.plotly.v1+json": {
       "config": {
        "plotlyServerURL": "https://plot.ly"
       },
       "data": [
        {
         "mode": "lines",
         "name": "NA and bars",
         "showlegend": false,
         "type": "scatter",
         "x": [
          "2008-01-01T00:00:00",
          "2009-01-01T00:00:00",
          "2010-01-01T00:00:00",
          "2011-01-01T00:00:00",
          "2012-01-01T00:00:00",
          "2013-01-01T00:00:00",
          "2014-01-01T00:00:00",
          "2015-01-01T00:00:00",
          "2016-01-01T00:00:00",
          "2017-01-01T00:00:00",
          "2018-01-01T00:00:00",
          "2019-01-01T00:00:00",
          "2020-01-01T00:00:00",
          "2021-01-01T00:00:00"
         ],
         "xaxis": "x",
         "y": [
          4.190476190476191,
          3.642857142857143,
          3.507042253521127,
          3.8541666666666665,
          3.6982758620689653,
          3.9124087591240877,
          4.102857142857143,
          4.0675675675675675,
          4.2781456953642385,
          4.233766233766234,
          4.070921985815603,
          4.077922077922078,
          4.169811320754717,
          4.189655172413793
         ],
         "yaxis": "y"
        },
        {
         "mode": "lines",
         "name": "Middle Eastern",
         "showlegend": false,
         "type": "scatter",
         "x": [
          "2008-01-01T00:00:00",
          "2009-01-01T00:00:00",
          "2010-01-01T00:00:00",
          "2011-01-01T00:00:00",
          "2012-01-01T00:00:00",
          "2013-01-01T00:00:00",
          "2014-01-01T00:00:00",
          "2015-01-01T00:00:00",
          "2016-01-01T00:00:00",
          "2017-01-01T00:00:00",
          "2018-01-01T00:00:00",
          "2019-01-01T00:00:00",
          "2020-01-01T00:00:00",
          "2021-01-01T00:00:00"
         ],
         "xaxis": "x2",
         "y": [
          3.7586206896551726,
          4.031914893617022,
          3.789473684210526,
          3.9716981132075473,
          3.981042654028436,
          4.035555555555556,
          4.061475409836065,
          3.888,
          4.138888888888889,
          4.002785515320334,
          4.179710144927537,
          4.05448717948718,
          4.314606741573034,
          4.146496815286624
         ],
         "yaxis": "y2"
        },
        {
         "mode": "lines",
         "name": "Ready to eat",
         "showlegend": false,
         "type": "scatter",
         "x": [
          "2008-01-01T00:00:00",
          "2009-01-01T00:00:00",
          "2010-01-01T00:00:00",
          "2011-01-01T00:00:00",
          "2012-01-01T00:00:00",
          "2013-01-01T00:00:00",
          "2014-01-01T00:00:00",
          "2015-01-01T00:00:00",
          "2016-01-01T00:00:00",
          "2017-01-01T00:00:00",
          "2018-01-01T00:00:00",
          "2019-01-01T00:00:00",
          "2020-01-01T00:00:00",
          "2021-01-01T00:00:00"
         ],
         "xaxis": "x3",
         "y": [
          4.121212121212121,
          3.8222222222222224,
          3.97972972972973,
          3.8506493506493507,
          3.8509316770186337,
          3.9489795918367347,
          4.122362869198312,
          3.954198473282443,
          3.9814126394052045,
          3.9759036144578315,
          3.9583333333333335,
          4.007042253521127,
          4.005681818181818,
          3.680628272251309
         ],
         "yaxis": "y3"
        },
        {
         "mode": "lines",
         "name": "Americans",
         "showlegend": false,
         "type": "scatter",
         "x": [
          "2008-01-01T00:00:00",
          "2009-01-01T00:00:00",
          "2010-01-01T00:00:00",
          "2011-01-01T00:00:00",
          "2012-01-01T00:00:00",
          "2013-01-01T00:00:00",
          "2014-01-01T00:00:00",
          "2015-01-01T00:00:00",
          "2016-01-01T00:00:00",
          "2017-01-01T00:00:00",
          "2018-01-01T00:00:00",
          "2019-01-01T00:00:00",
          "2020-01-01T00:00:00",
          "2021-01-01T00:00:00"
         ],
         "xaxis": "x4",
         "y": [
          3.9473684210526314,
          4.125,
          3.9655172413793105,
          4.044444444444444,
          3.9711538461538463,
          3.959016393442623,
          3.893617021276596,
          3.8598130841121496,
          4.015037593984962,
          3.816901408450704,
          4.033333333333333,
          4.09375,
          3.9846153846153847,
          3.707317073170732
         ],
         "yaxis": "y4"
        },
        {
         "mode": "lines",
         "name": "SE Asian or African",
         "showlegend": false,
         "type": "scatter",
         "x": [
          "2008-01-01T00:00:00",
          "2009-01-01T00:00:00",
          "2010-01-01T00:00:00",
          "2011-01-01T00:00:00",
          "2012-01-01T00:00:00",
          "2013-01-01T00:00:00",
          "2014-01-01T00:00:00",
          "2015-01-01T00:00:00",
          "2016-01-01T00:00:00",
          "2017-01-01T00:00:00",
          "2018-01-01T00:00:00",
          "2019-01-01T00:00:00",
          "2020-01-01T00:00:00",
          "2021-01-01T00:00:00"
         ],
         "xaxis": "x5",
         "y": [
          3.782608695652174,
          3.8076923076923075,
          3.567901234567901,
          3.7254901960784315,
          3.5875,
          3.627450980392157,
          3.8034188034188032,
          3.7028985507246377,
          3.462686567164179,
          3.7716535433070866,
          3.8869565217391306,
          4,
          4.213592233009709,
          4.1558441558441555
         ],
         "yaxis": "y5"
        },
        {
         "mode": "lines",
         "name": "Japanese",
         "showlegend": false,
         "type": "scatter",
         "x": [
          "2008-01-01T00:00:00",
          "2009-01-01T00:00:00",
          "2010-01-01T00:00:00",
          "2011-01-01T00:00:00",
          "2012-01-01T00:00:00",
          "2013-01-01T00:00:00",
          "2014-01-01T00:00:00",
          "2015-01-01T00:00:00",
          "2016-01-01T00:00:00",
          "2017-01-01T00:00:00",
          "2018-01-01T00:00:00",
          "2019-01-01T00:00:00",
          "2020-01-01T00:00:00",
          "2021-01-01T00:00:00"
         ],
         "xaxis": "x6",
         "y": [
          3.7866666666666666,
          3.7142857142857144,
          3.7905138339920947,
          3.6954732510288064,
          3.745387453874539,
          3.7244582043343653,
          3.8595641646489103,
          3.8622448979591835,
          3.817582417582418,
          4.001945525291829,
          4.129144851657941,
          4.119349005424954,
          4.159663865546219,
          4.204081632653061
         ],
         "yaxis": "y6"
        },
        {
         "mode": "lines",
         "name": "Grill and seafood",
         "showlegend": false,
         "type": "scatter",
         "x": [
          "2008-01-01T00:00:00",
          "2009-01-01T00:00:00",
          "2010-01-01T00:00:00",
          "2011-01-01T00:00:00",
          "2012-01-01T00:00:00",
          "2013-01-01T00:00:00",
          "2014-01-01T00:00:00",
          "2015-01-01T00:00:00",
          "2016-01-01T00:00:00",
          "2017-01-01T00:00:00",
          "2018-01-01T00:00:00",
          "2019-01-01T00:00:00",
          "2020-01-01T00:00:00",
          "2021-01-01T00:00:00"
         ],
         "xaxis": "x7",
         "y": [
          4.142857142857143,
          3.9518072289156625,
          3.7733333333333334,
          3.7570621468926553,
          3.6422764227642275,
          3.73992673992674,
          3.729824561403509,
          3.784375,
          3.757861635220126,
          3.7371794871794872,
          3.757188498402556,
          3.7640845070422535,
          3.77720207253886,
          3.725225225225225
         ],
         "yaxis": "y7"
        }
       ],
       "layout": {
        "annotations": [
         {
          "font": {
           "size": 16
          },
          "showarrow": false,
          "text": "NA and bars",
          "x": 0.10625,
          "xanchor": "center",
          "xref": "paper",
          "y": 1,
          "yanchor": "bottom",
          "yref": "paper"
         },
         {
          "font": {
           "size": 16
          },
          "showarrow": false,
          "text": "Middle Eastern",
          "x": 0.36875,
          "xanchor": "center",
          "xref": "paper",
          "y": 1,
          "yanchor": "bottom",
          "yref": "paper"
         },
         {
          "font": {
           "size": 16
          },
          "showarrow": false,
          "text": "Ready to eat",
          "x": 0.6312500000000001,
          "xanchor": "center",
          "xref": "paper",
          "y": 1,
          "yanchor": "bottom",
          "yref": "paper"
         },
         {
          "font": {
           "size": 16
          },
          "showarrow": false,
          "text": "Americans",
          "x": 0.89375,
          "xanchor": "center",
          "xref": "paper",
          "y": 1,
          "yanchor": "bottom",
          "yref": "paper"
         },
         {
          "font": {
           "size": 16
          },
          "showarrow": false,
          "text": "SE Asian or African",
          "x": 0.10625,
          "xanchor": "center",
          "xref": "paper",
          "y": 0.375,
          "yanchor": "bottom",
          "yref": "paper"
         },
         {
          "font": {
           "size": 16
          },
          "showarrow": false,
          "text": "Japanese",
          "x": 0.36875,
          "xanchor": "center",
          "xref": "paper",
          "y": 0.375,
          "yanchor": "bottom",
          "yref": "paper"
         },
         {
          "font": {
           "size": 16
          },
          "showarrow": false,
          "text": "Grill and seafood",
          "x": 0.6312500000000001,
          "xanchor": "center",
          "xref": "paper",
          "y": 0.375,
          "yanchor": "bottom",
          "yref": "paper"
         },
         {
          "font": {
           "size": 16
          },
          "showarrow": false,
          "text": "Year",
          "x": 0.5,
          "xanchor": "center",
          "xref": "paper",
          "y": 0,
          "yanchor": "top",
          "yref": "paper",
          "yshift": -30
         },
         {
          "font": {
           "size": 16
          },
          "showarrow": false,
          "text": "Rating",
          "textangle": -90,
          "x": 0,
          "xanchor": "right",
          "xref": "paper",
          "xshift": -40,
          "y": 0.5,
          "yanchor": "middle",
          "yref": "paper"
         }
        ],
        "template": {
         "data": {
          "bar": [
           {
            "error_x": {
             "color": "#2a3f5f"
            },
            "error_y": {
             "color": "#2a3f5f"
            },
            "marker": {
             "line": {
              "color": "#E5ECF6",
              "width": 0.5
             },
             "pattern": {
              "fillmode": "overlay",
              "size": 10,
              "solidity": 0.2
             }
            },
            "type": "bar"
           }
          ],
          "barpolar": [
           {
            "marker": {
             "line": {
              "color": "#E5ECF6",
              "width": 0.5
             },
             "pattern": {
              "fillmode": "overlay",
              "size": 10,
              "solidity": 0.2
             }
            },
            "type": "barpolar"
           }
          ],
          "carpet": [
           {
            "aaxis": {
             "endlinecolor": "#2a3f5f",
             "gridcolor": "white",
             "linecolor": "white",
             "minorgridcolor": "white",
             "startlinecolor": "#2a3f5f"
            },
            "baxis": {
             "endlinecolor": "#2a3f5f",
             "gridcolor": "white",
             "linecolor": "white",
             "minorgridcolor": "white",
             "startlinecolor": "#2a3f5f"
            },
            "type": "carpet"
           }
          ],
          "choropleth": [
           {
            "colorbar": {
             "outlinewidth": 0,
             "ticks": ""
            },
            "type": "choropleth"
           }
          ],
          "contour": [
           {
            "colorbar": {
             "outlinewidth": 0,
             "ticks": ""
            },
            "colorscale": [
             [
              0,
              "#0d0887"
             ],
             [
              0.1111111111111111,
              "#46039f"
             ],
             [
              0.2222222222222222,
              "#7201a8"
             ],
             [
              0.3333333333333333,
              "#9c179e"
             ],
             [
              0.4444444444444444,
              "#bd3786"
             ],
             [
              0.5555555555555556,
              "#d8576b"
             ],
             [
              0.6666666666666666,
              "#ed7953"
             ],
             [
              0.7777777777777778,
              "#fb9f3a"
             ],
             [
              0.8888888888888888,
              "#fdca26"
             ],
             [
              1,
              "#f0f921"
             ]
            ],
            "type": "contour"
           }
          ],
          "contourcarpet": [
           {
            "colorbar": {
             "outlinewidth": 0,
             "ticks": ""
            },
            "type": "contourcarpet"
           }
          ],
          "heatmap": [
           {
            "colorbar": {
             "outlinewidth": 0,
             "ticks": ""
            },
            "colorscale": [
             [
              0,
              "#0d0887"
             ],
             [
              0.1111111111111111,
              "#46039f"
             ],
             [
              0.2222222222222222,
              "#7201a8"
             ],
             [
              0.3333333333333333,
              "#9c179e"
             ],
             [
              0.4444444444444444,
              "#bd3786"
             ],
             [
              0.5555555555555556,
              "#d8576b"
             ],
             [
              0.6666666666666666,
              "#ed7953"
             ],
             [
              0.7777777777777778,
              "#fb9f3a"
             ],
             [
              0.8888888888888888,
              "#fdca26"
             ],
             [
              1,
              "#f0f921"
             ]
            ],
            "type": "heatmap"
           }
          ],
          "heatmapgl": [
           {
            "colorbar": {
             "outlinewidth": 0,
             "ticks": ""
            },
            "colorscale": [
             [
              0,
              "#0d0887"
             ],
             [
              0.1111111111111111,
              "#46039f"
             ],
             [
              0.2222222222222222,
              "#7201a8"
             ],
             [
              0.3333333333333333,
              "#9c179e"
             ],
             [
              0.4444444444444444,
              "#bd3786"
             ],
             [
              0.5555555555555556,
              "#d8576b"
             ],
             [
              0.6666666666666666,
              "#ed7953"
             ],
             [
              0.7777777777777778,
              "#fb9f3a"
             ],
             [
              0.8888888888888888,
              "#fdca26"
             ],
             [
              1,
              "#f0f921"
             ]
            ],
            "type": "heatmapgl"
           }
          ],
          "histogram": [
           {
            "marker": {
             "pattern": {
              "fillmode": "overlay",
              "size": 10,
              "solidity": 0.2
             }
            },
            "type": "histogram"
           }
          ],
          "histogram2d": [
           {
            "colorbar": {
             "outlinewidth": 0,
             "ticks": ""
            },
            "colorscale": [
             [
              0,
              "#0d0887"
             ],
             [
              0.1111111111111111,
              "#46039f"
             ],
             [
              0.2222222222222222,
              "#7201a8"
             ],
             [
              0.3333333333333333,
              "#9c179e"
             ],
             [
              0.4444444444444444,
              "#bd3786"
             ],
             [
              0.5555555555555556,
              "#d8576b"
             ],
             [
              0.6666666666666666,
              "#ed7953"
             ],
             [
              0.7777777777777778,
              "#fb9f3a"
             ],
             [
              0.8888888888888888,
              "#fdca26"
             ],
             [
              1,
              "#f0f921"
             ]
            ],
            "type": "histogram2d"
           }
          ],
          "histogram2dcontour": [
           {
            "colorbar": {
             "outlinewidth": 0,
             "ticks": ""
            },
            "colorscale": [
             [
              0,
              "#0d0887"
             ],
             [
              0.1111111111111111,
              "#46039f"
             ],
             [
              0.2222222222222222,
              "#7201a8"
             ],
             [
              0.3333333333333333,
              "#9c179e"
             ],
             [
              0.4444444444444444,
              "#bd3786"
             ],
             [
              0.5555555555555556,
              "#d8576b"
             ],
             [
              0.6666666666666666,
              "#ed7953"
             ],
             [
              0.7777777777777778,
              "#fb9f3a"
             ],
             [
              0.8888888888888888,
              "#fdca26"
             ],
             [
              1,
              "#f0f921"
             ]
            ],
            "type": "histogram2dcontour"
           }
          ],
          "mesh3d": [
           {
            "colorbar": {
             "outlinewidth": 0,
             "ticks": ""
            },
            "type": "mesh3d"
           }
          ],
          "parcoords": [
           {
            "line": {
             "colorbar": {
              "outlinewidth": 0,
              "ticks": ""
             }
            },
            "type": "parcoords"
           }
          ],
          "pie": [
           {
            "automargin": true,
            "type": "pie"
           }
          ],
          "scatter": [
           {
            "fillpattern": {
             "fillmode": "overlay",
             "size": 10,
             "solidity": 0.2
            },
            "type": "scatter"
           }
          ],
          "scatter3d": [
           {
            "line": {
             "colorbar": {
              "outlinewidth": 0,
              "ticks": ""
             }
            },
            "marker": {
             "colorbar": {
              "outlinewidth": 0,
              "ticks": ""
             }
            },
            "type": "scatter3d"
           }
          ],
          "scattercarpet": [
           {
            "marker": {
             "colorbar": {
              "outlinewidth": 0,
              "ticks": ""
             }
            },
            "type": "scattercarpet"
           }
          ],
          "scattergeo": [
           {
            "marker": {
             "colorbar": {
              "outlinewidth": 0,
              "ticks": ""
             }
            },
            "type": "scattergeo"
           }
          ],
          "scattergl": [
           {
            "marker": {
             "colorbar": {
              "outlinewidth": 0,
              "ticks": ""
             }
            },
            "type": "scattergl"
           }
          ],
          "scattermapbox": [
           {
            "marker": {
             "colorbar": {
              "outlinewidth": 0,
              "ticks": ""
             }
            },
            "type": "scattermapbox"
           }
          ],
          "scatterpolar": [
           {
            "marker": {
             "colorbar": {
              "outlinewidth": 0,
              "ticks": ""
             }
            },
            "type": "scatterpolar"
           }
          ],
          "scatterpolargl": [
           {
            "marker": {
             "colorbar": {
              "outlinewidth": 0,
              "ticks": ""
             }
            },
            "type": "scatterpolargl"
           }
          ],
          "scatterternary": [
           {
            "marker": {
             "colorbar": {
              "outlinewidth": 0,
              "ticks": ""
             }
            },
            "type": "scatterternary"
           }
          ],
          "surface": [
           {
            "colorbar": {
             "outlinewidth": 0,
             "ticks": ""
            },
            "colorscale": [
             [
              0,
              "#0d0887"
             ],
             [
              0.1111111111111111,
              "#46039f"
             ],
             [
              0.2222222222222222,
              "#7201a8"
             ],
             [
              0.3333333333333333,
              "#9c179e"
             ],
             [
              0.4444444444444444,
              "#bd3786"
             ],
             [
              0.5555555555555556,
              "#d8576b"
             ],
             [
              0.6666666666666666,
              "#ed7953"
             ],
             [
              0.7777777777777778,
              "#fb9f3a"
             ],
             [
              0.8888888888888888,
              "#fdca26"
             ],
             [
              1,
              "#f0f921"
             ]
            ],
            "type": "surface"
           }
          ],
          "table": [
           {
            "cells": {
             "fill": {
              "color": "#EBF0F8"
             },
             "line": {
              "color": "white"
             }
            },
            "header": {
             "fill": {
              "color": "#C8D4E3"
             },
             "line": {
              "color": "white"
             }
            },
            "type": "table"
           }
          ]
         },
         "layout": {
          "annotationdefaults": {
           "arrowcolor": "#2a3f5f",
           "arrowhead": 0,
           "arrowwidth": 1
          },
          "autotypenumbers": "strict",
          "coloraxis": {
           "colorbar": {
            "outlinewidth": 0,
            "ticks": ""
           }
          },
          "colorscale": {
           "diverging": [
            [
             0,
             "#8e0152"
            ],
            [
             0.1,
             "#c51b7d"
            ],
            [
             0.2,
             "#de77ae"
            ],
            [
             0.3,
             "#f1b6da"
            ],
            [
             0.4,
             "#fde0ef"
            ],
            [
             0.5,
             "#f7f7f7"
            ],
            [
             0.6,
             "#e6f5d0"
            ],
            [
             0.7,
             "#b8e186"
            ],
            [
             0.8,
             "#7fbc41"
            ],
            [
             0.9,
             "#4d9221"
            ],
            [
             1,
             "#276419"
            ]
           ],
           "sequential": [
            [
             0,
             "#0d0887"
            ],
            [
             0.1111111111111111,
             "#46039f"
            ],
            [
             0.2222222222222222,
             "#7201a8"
            ],
            [
             0.3333333333333333,
             "#9c179e"
            ],
            [
             0.4444444444444444,
             "#bd3786"
            ],
            [
             0.5555555555555556,
             "#d8576b"
            ],
            [
             0.6666666666666666,
             "#ed7953"
            ],
            [
             0.7777777777777778,
             "#fb9f3a"
            ],
            [
             0.8888888888888888,
             "#fdca26"
            ],
            [
             1,
             "#f0f921"
            ]
           ],
           "sequentialminus": [
            [
             0,
             "#0d0887"
            ],
            [
             0.1111111111111111,
             "#46039f"
            ],
            [
             0.2222222222222222,
             "#7201a8"
            ],
            [
             0.3333333333333333,
             "#9c179e"
            ],
            [
             0.4444444444444444,
             "#bd3786"
            ],
            [
             0.5555555555555556,
             "#d8576b"
            ],
            [
             0.6666666666666666,
             "#ed7953"
            ],
            [
             0.7777777777777778,
             "#fb9f3a"
            ],
            [
             0.8888888888888888,
             "#fdca26"
            ],
            [
             1,
             "#f0f921"
            ]
           ]
          },
          "colorway": [
           "#636efa",
           "#EF553B",
           "#00cc96",
           "#ab63fa",
           "#FFA15A",
           "#19d3f3",
           "#FF6692",
           "#B6E880",
           "#FF97FF",
           "#FECB52"
          ],
          "font": {
           "color": "#2a3f5f"
          },
          "geo": {
           "bgcolor": "white",
           "lakecolor": "white",
           "landcolor": "#E5ECF6",
           "showlakes": true,
           "showland": true,
           "subunitcolor": "white"
          },
          "hoverlabel": {
           "align": "left"
          },
          "hovermode": "closest",
          "mapbox": {
           "style": "light"
          },
          "paper_bgcolor": "white",
          "plot_bgcolor": "#E5ECF6",
          "polar": {
           "angularaxis": {
            "gridcolor": "white",
            "linecolor": "white",
            "ticks": ""
           },
           "bgcolor": "#E5ECF6",
           "radialaxis": {
            "gridcolor": "white",
            "linecolor": "white",
            "ticks": ""
           }
          },
          "scene": {
           "xaxis": {
            "backgroundcolor": "#E5ECF6",
            "gridcolor": "white",
            "gridwidth": 2,
            "linecolor": "white",
            "showbackground": true,
            "ticks": "",
            "zerolinecolor": "white"
           },
           "yaxis": {
            "backgroundcolor": "#E5ECF6",
            "gridcolor": "white",
            "gridwidth": 2,
            "linecolor": "white",
            "showbackground": true,
            "ticks": "",
            "zerolinecolor": "white"
           },
           "zaxis": {
            "backgroundcolor": "#E5ECF6",
            "gridcolor": "white",
            "gridwidth": 2,
            "linecolor": "white",
            "showbackground": true,
            "ticks": "",
            "zerolinecolor": "white"
           }
          },
          "shapedefaults": {
           "line": {
            "color": "#2a3f5f"
           }
          },
          "ternary": {
           "aaxis": {
            "gridcolor": "white",
            "linecolor": "white",
            "ticks": ""
           },
           "baxis": {
            "gridcolor": "white",
            "linecolor": "white",
            "ticks": ""
           },
           "bgcolor": "#E5ECF6",
           "caxis": {
            "gridcolor": "white",
            "linecolor": "white",
            "ticks": ""
           }
          },
          "title": {
           "x": 0.05
          },
          "xaxis": {
           "automargin": true,
           "gridcolor": "white",
           "linecolor": "white",
           "ticks": "",
           "title": {
            "standoff": 15
           },
           "zerolinecolor": "white",
           "zerolinewidth": 2
          },
          "yaxis": {
           "automargin": true,
           "gridcolor": "white",
           "linecolor": "white",
           "ticks": "",
           "title": {
            "standoff": 15
           },
           "zerolinecolor": "white",
           "zerolinewidth": 2
          }
         }
        },
        "title": {
         "text": "Average ratings of each major type of restaurant by month from 2008 to 2021 (part 2)"
        },
        "xaxis": {
         "anchor": "y",
         "domain": [
          0,
          0.2125
         ]
        },
        "xaxis2": {
         "anchor": "y2",
         "domain": [
          0.2625,
          0.475
         ]
        },
        "xaxis3": {
         "anchor": "y3",
         "domain": [
          0.525,
          0.7375
         ]
        },
        "xaxis4": {
         "anchor": "y4",
         "domain": [
          0.7875,
          1
         ]
        },
        "xaxis5": {
         "anchor": "y5",
         "domain": [
          0,
          0.2125
         ]
        },
        "xaxis6": {
         "anchor": "y6",
         "domain": [
          0.2625,
          0.475
         ]
        },
        "xaxis7": {
         "anchor": "y7",
         "domain": [
          0.525,
          0.7375
         ]
        },
        "xaxis8": {
         "anchor": "y8",
         "domain": [
          0.7875,
          1
         ]
        },
        "yaxis": {
         "anchor": "x",
         "domain": [
          0.625,
          1
         ]
        },
        "yaxis2": {
         "anchor": "x2",
         "domain": [
          0.625,
          1
         ]
        },
        "yaxis3": {
         "anchor": "x3",
         "domain": [
          0.625,
          1
         ]
        },
        "yaxis4": {
         "anchor": "x4",
         "domain": [
          0.625,
          1
         ]
        },
        "yaxis5": {
         "anchor": "x5",
         "domain": [
          0,
          0.375
         ]
        },
        "yaxis6": {
         "anchor": "x6",
         "domain": [
          0,
          0.375
         ]
        },
        "yaxis7": {
         "anchor": "x7",
         "domain": [
          0,
          0.375
         ]
        },
        "yaxis8": {
         "anchor": "x8",
         "domain": [
          0,
          0.375
         ]
        }
       }
      }
     },
     "metadata": {},
     "output_type": "display_data"
    }
   ],
   "source": [
    "# Plotting the other half of the clusters\n",
    "row_idx = 1\n",
    "\n",
    "fig = make_subplots(rows = 2, cols = 4,\n",
    "                    x_title=\"Year\", y_title=\"Rating\",\n",
    "                    subplot_titles=unique_clus_name[half_n:])\n",
    "\n",
    "for i, clus in enumerate(unique_clus_name[half_n:]):\n",
    "    \n",
    "    col_idx = (i + 1) - 4 * (row_idx - 1)\n",
    "    \n",
    "    clus_ratings = ratings_per_cat_month.query('cluster == @clus')\n",
    "    \n",
    "    fig.add_trace(\n",
    "        go.Scatter(x = clus_ratings.date,\n",
    "                   y = clus_ratings.rating,\n",
    "                   mode = \"lines\", \n",
    "                   name = clus, \n",
    "                   showlegend = False), \n",
    "        row = row_idx, col = col_idx\n",
    "    )\n",
    "    \n",
    "    if col_idx % 4 == 0:\n",
    "        row_idx += 1\n",
    "\n",
    "fig.update_layout(title_text = \"Average ratings of each major type of restaurant by month from 2008 to 2021 (part 2)\")\n",
    "fig.show()"
   ]
  },
  {
   "cell_type": "markdown",
   "metadata": {},
   "source": [
    "Based on the above observations on the food trends, here are several recommendations to the business owner in choosing which type(s) of restaurants to open in Philadelphia:\n",
    "\n",
    "1. Ideal investment options will be restaurant types which are viewed more and more positively by customers and received high average ratings (such as being above 4 out of 5) throughout 2008 to 2021 as mentioned above. \n",
    "   * When choosing among these restaurants types, other major considerations might include:\n",
    "       * Operation costs (as running a restaurant with nightlife or bar elements will require more expenditure on security to deal with drunk customers)\n",
    "       * Difficulty in recruiting chefs (such as hiring an experience sushi chef might be hard and expensive), and also \n",
    "       * Whether the price range of the type of restaurants matches with the purchasing power of the usual customers in a given region in the city (a high-end Japanese restaurant, for example, will be unlikely to have a sustainable source of customers if opened in suburb areas).  \n",
    "   \n",
    "2. Investing in ready to eat or Americans restaurants is likely to be risky since their average ratings have dropped considerably in recent years. The reason behind these sharp drops are not clear for now, but it is advised to not invest into these restaurant types for now, especially if these drops would actually be the onset of customer preference shifting away from these restaurant types in the long run.\n",
    "\n",
    "3. The average ratings for fast food as well as grill and seafood restaurants were generally lower than other types of restaurants in the period under analysis, and these lower-than-average trends seemed stable. Therefore, it is not advised to invest into these restaurant types since customers in Philadelphia seem to not like them in the first place.\n",
    "   * For fast food type of restaurants, it will be even more delicate given the presence of major fast food chains (e.g. Taco Bell) which have considerable advantages over small fast food restaurants in terms of economies of scale, to name a few\n",
    "\n",
    "Lastly, a limitation in our analysis is that the two clusters under the label \"Others\" were not well separated by K-Means, and thus the tokens similar to their centroids do not indicate a clear type of restaurants altogether. Future room for improvement will surely involve playing with other clustering or embedding algorithms to see if better clustering results can be obtained."
   ]
  },
  {
   "cell_type": "markdown",
   "metadata": {},
   "source": [
    "## Conclusion\n",
    "\n",
    "In this report, we analysed the regional market of restaurants in Philadelphia for the purpose of informing a business owner and his investors to open a restaurant in the city which is more likely to be profitable in the future. Specifically, our analysis focused on two major aspects:\n",
    "\n",
    "1. The general preferences of restaurant customers\n",
    "2. The evolution of food trends over time in terms of the ratings of different types of restaurants\n",
    "\n",
    "For analysing the first aspect, we used LDA to extract 3 latent topics in the restaurant reviews. The topics altogether suggest that consumers always care about the food quality, but the environment and hospitality of a restaurant also matter to some. In order to be an appealing restaurant to customers, then it is important to have good food with copious portions and affordable prices, an environment which is nicely decorated and has a welcoming ambiance, and the service must be professional (which means competent and agreable waiters or timely delivery services).\n",
    "\n",
    "As for the second aspect, we made use of Word2Vec to convert a restaurant into numerical embeddings based on its categories and then adopted K-means to cluster the restaurants into different major types. Although there is certainly room for improvement in terms of the clustering performance, we were still able to extract some major types of restaurants in Philadelphia and then examined how their average ratings evolved yearly from 2008 to 2021. Hopefully, this analysis can lead to a choice of restaurant to open by the investors which will be favoured by customers in the city in the long run.\n",
    "\n",
    "Even though analysing customer preferences is a crucial part for deciding any business strategies, more research should also be done on the supply side. For instance, it is imperative that the business owner find a reliable and cost-effective restaurant supplier for the operating resources of the restaurant. Indeed, the `restaurant supplies` category in the `business_df` might be of use. "
   ]
  }
 ],
 "metadata": {
  "kernelspec": {
   "display_name": "base",
   "language": "python",
   "name": "python3"
  },
  "language_info": {
   "codemirror_mode": {
    "name": "ipython",
    "version": 3
   },
   "file_extension": ".py",
   "mimetype": "text/x-python",
   "name": "python",
   "nbconvert_exporter": "python",
   "pygments_lexer": "ipython3",
   "version": "3.12.3"
  }
 },
 "nbformat": 4,
 "nbformat_minor": 2
}
